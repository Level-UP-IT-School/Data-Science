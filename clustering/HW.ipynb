{
  "cells": [
    {
      "cell_type": "markdown",
      "metadata": {
        "id": "CPL4cL7tShti"
      },
      "source": [
        "## Customers Segmentation based on their Credit Card usage bhaviour\n",
        "\n",
        "Dataset for this notebook consists of credit card usage behavior of customers with 18 behavioral features. Segmentation of customers can be used to define marketing strategies.\n",
        "\n",
        "\n",
        "**Content of this Kernel:**\n",
        "* Data Preprocessing\n",
        "* Clustering using KMeans\n",
        "* Interpretation of Clusters\n",
        "* Visualization of Clusters using PCA"
      ]
    },
    {
      "cell_type": "code",
      "execution_count": null,
      "metadata": {
        "_cell_guid": "b1076dfc-b9ad-4769-8c92-a6c4dae69d19",
        "_uuid": "8f2839f25d086af736a60e9eeb907d3b93b6e0e5",
        "id": "8LIoUCzKShtl",
        "outputId": "b15c07cc-1ad7-4892-dc00-d8b1b1b6ca6d"
      },
      "outputs": [
        {
          "name": "stdout",
          "output_type": "stream",
          "text": [
            "['CC GENERAL.csv']\n"
          ]
        }
      ],
      "source": [
        "\n",
        "import numpy as np # linear algebra\n",
        "import pandas as pd # data processing, CSV file I/O (e.g. pd.read_csv)\n",
        "import matplotlib.pyplot as plt\n",
        "import seaborn as sns\n",
        "\n"
      ]
    },
    {
      "cell_type": "code",
      "execution_count": null,
      "metadata": {
        "id": "UJxBUBqiShtn",
        "outputId": "64f3ce47-52bc-4eb0-ce19-265d6b9cd8b5"
      },
      "outputs": [
        {
          "name": "stdout",
          "output_type": "stream",
          "text": [
            "(8950, 18)\n"
          ]
        },
        {
          "data": {
            "text/html": [
              "<div>\n",
              "<style scoped>\n",
              "    .dataframe tbody tr th:only-of-type {\n",
              "        vertical-align: middle;\n",
              "    }\n",
              "\n",
              "    .dataframe tbody tr th {\n",
              "        vertical-align: top;\n",
              "    }\n",
              "\n",
              "    .dataframe thead th {\n",
              "        text-align: right;\n",
              "    }\n",
              "</style>\n",
              "<table border=\"1\" class=\"dataframe\">\n",
              "  <thead>\n",
              "    <tr style=\"text-align: right;\">\n",
              "      <th></th>\n",
              "      <th>CUST_ID</th>\n",
              "      <th>BALANCE</th>\n",
              "      <th>BALANCE_FREQUENCY</th>\n",
              "      <th>PURCHASES</th>\n",
              "      <th>ONEOFF_PURCHASES</th>\n",
              "      <th>INSTALLMENTS_PURCHASES</th>\n",
              "      <th>CASH_ADVANCE</th>\n",
              "      <th>PURCHASES_FREQUENCY</th>\n",
              "      <th>ONEOFF_PURCHASES_FREQUENCY</th>\n",
              "      <th>PURCHASES_INSTALLMENTS_FREQUENCY</th>\n",
              "      <th>CASH_ADVANCE_FREQUENCY</th>\n",
              "      <th>CASH_ADVANCE_TRX</th>\n",
              "      <th>PURCHASES_TRX</th>\n",
              "      <th>CREDIT_LIMIT</th>\n",
              "      <th>PAYMENTS</th>\n",
              "      <th>MINIMUM_PAYMENTS</th>\n",
              "      <th>PRC_FULL_PAYMENT</th>\n",
              "      <th>TENURE</th>\n",
              "    </tr>\n",
              "  </thead>\n",
              "  <tbody>\n",
              "    <tr>\n",
              "      <th>0</th>\n",
              "      <td>C10001</td>\n",
              "      <td>40.900749</td>\n",
              "      <td>0.818182</td>\n",
              "      <td>95.40</td>\n",
              "      <td>0.00</td>\n",
              "      <td>95.4</td>\n",
              "      <td>0.000000</td>\n",
              "      <td>0.166667</td>\n",
              "      <td>0.000000</td>\n",
              "      <td>0.083333</td>\n",
              "      <td>0.000000</td>\n",
              "      <td>0</td>\n",
              "      <td>2</td>\n",
              "      <td>1000.0</td>\n",
              "      <td>201.802084</td>\n",
              "      <td>139.509787</td>\n",
              "      <td>0.000000</td>\n",
              "      <td>12</td>\n",
              "    </tr>\n",
              "    <tr>\n",
              "      <th>1</th>\n",
              "      <td>C10002</td>\n",
              "      <td>3202.467416</td>\n",
              "      <td>0.909091</td>\n",
              "      <td>0.00</td>\n",
              "      <td>0.00</td>\n",
              "      <td>0.0</td>\n",
              "      <td>6442.945483</td>\n",
              "      <td>0.000000</td>\n",
              "      <td>0.000000</td>\n",
              "      <td>0.000000</td>\n",
              "      <td>0.250000</td>\n",
              "      <td>4</td>\n",
              "      <td>0</td>\n",
              "      <td>7000.0</td>\n",
              "      <td>4103.032597</td>\n",
              "      <td>1072.340217</td>\n",
              "      <td>0.222222</td>\n",
              "      <td>12</td>\n",
              "    </tr>\n",
              "    <tr>\n",
              "      <th>2</th>\n",
              "      <td>C10003</td>\n",
              "      <td>2495.148862</td>\n",
              "      <td>1.000000</td>\n",
              "      <td>773.17</td>\n",
              "      <td>773.17</td>\n",
              "      <td>0.0</td>\n",
              "      <td>0.000000</td>\n",
              "      <td>1.000000</td>\n",
              "      <td>1.000000</td>\n",
              "      <td>0.000000</td>\n",
              "      <td>0.000000</td>\n",
              "      <td>0</td>\n",
              "      <td>12</td>\n",
              "      <td>7500.0</td>\n",
              "      <td>622.066742</td>\n",
              "      <td>627.284787</td>\n",
              "      <td>0.000000</td>\n",
              "      <td>12</td>\n",
              "    </tr>\n",
              "    <tr>\n",
              "      <th>3</th>\n",
              "      <td>C10004</td>\n",
              "      <td>1666.670542</td>\n",
              "      <td>0.636364</td>\n",
              "      <td>1499.00</td>\n",
              "      <td>1499.00</td>\n",
              "      <td>0.0</td>\n",
              "      <td>205.788017</td>\n",
              "      <td>0.083333</td>\n",
              "      <td>0.083333</td>\n",
              "      <td>0.000000</td>\n",
              "      <td>0.083333</td>\n",
              "      <td>1</td>\n",
              "      <td>1</td>\n",
              "      <td>7500.0</td>\n",
              "      <td>0.000000</td>\n",
              "      <td>NaN</td>\n",
              "      <td>0.000000</td>\n",
              "      <td>12</td>\n",
              "    </tr>\n",
              "    <tr>\n",
              "      <th>4</th>\n",
              "      <td>C10005</td>\n",
              "      <td>817.714335</td>\n",
              "      <td>1.000000</td>\n",
              "      <td>16.00</td>\n",
              "      <td>16.00</td>\n",
              "      <td>0.0</td>\n",
              "      <td>0.000000</td>\n",
              "      <td>0.083333</td>\n",
              "      <td>0.083333</td>\n",
              "      <td>0.000000</td>\n",
              "      <td>0.000000</td>\n",
              "      <td>0</td>\n",
              "      <td>1</td>\n",
              "      <td>1200.0</td>\n",
              "      <td>678.334763</td>\n",
              "      <td>244.791237</td>\n",
              "      <td>0.000000</td>\n",
              "      <td>12</td>\n",
              "    </tr>\n",
              "  </tbody>\n",
              "</table>\n",
              "</div>"
            ],
            "text/plain": [
              "  CUST_ID      BALANCE   ...    PRC_FULL_PAYMENT  TENURE\n",
              "0  C10001    40.900749   ...            0.000000      12\n",
              "1  C10002  3202.467416   ...            0.222222      12\n",
              "2  C10003  2495.148862   ...            0.000000      12\n",
              "3  C10004  1666.670542   ...            0.000000      12\n",
              "4  C10005   817.714335   ...            0.000000      12\n",
              "\n",
              "[5 rows x 18 columns]"
            ]
          },
          "execution_count": 2,
          "metadata": {},
          "output_type": "execute_result"
        }
      ],
      "source": [
        "data= pd.read_csv(\"\")"
      ]
    },
    {
      "cell_type": "code",
      "execution_count": null,
      "metadata": {
        "id": "-Y6XWeGkShtr"
      },
      "outputs": [],
      "source": [
        "columns=['BALANCE', 'PURCHASES', 'ONEOFF_PURCHASES', 'INSTALLMENTS_PURCHASES', 'CASH_ADVANCE', 'CREDIT_LIMIT',\n",
        "        'PAYMENTS', 'MINIMUM_PAYMENTS']\n",
        "\n",
        "for c in columns:\n",
        "    \n",
        "    Range=c+'_RANGE'\n",
        "    data[Range]=0        \n",
        "    data.loc[((data[c]>0)&(data[c]<=500)),Range]=1\n",
        "    data.loc[((data[c]>500)&(data[c]<=1000)),Range]=2\n",
        "    data.loc[((data[c]>1000)&(data[c]<=3000)),Range]=3\n",
        "    data.loc[((data[c]>3000)&(data[c]<=5000)),Range]=4\n",
        "    data.loc[((data[c]>5000)&(data[c]<=10000)),Range]=5\n",
        "    data.loc[((data[c]>10000)),Range]=6\n",
        " "
      ]
    },
    {
      "cell_type": "code",
      "execution_count": null,
      "metadata": {
        "id": "qflSaFJpShtr"
      },
      "outputs": [],
      "source": [
        "columns=['BALANCE_FREQUENCY', 'PURCHASES_FREQUENCY', 'ONEOFF_PURCHASES_FREQUENCY', 'PURCHASES_INSTALLMENTS_FREQUENCY', \n",
        "         'CASH_ADVANCE_FREQUENCY', 'PRC_FULL_PAYMENT']\n",
        "\n",
        "for c in columns:\n",
        "    \n",
        "    Range=c+'_RANGE'\n",
        "    data[Range]=0\n",
        "    data.loc[((data[c]>0)&(data[c]<=0.1)),Range]=1\n",
        "    data.loc[((data[c]>0.1)&(data[c]<=0.2)),Range]=2\n",
        "    data.loc[((data[c]>0.2)&(data[c]<=0.3)),Range]=3\n",
        "    data.loc[((data[c]>0.3)&(data[c]<=0.4)),Range]=4\n",
        "    data.loc[((data[c]>0.4)&(data[c]<=0.5)),Range]=5\n",
        "    data.loc[((data[c]>0.5)&(data[c]<=0.6)),Range]=6\n",
        "    data.loc[((data[c]>0.6)&(data[c]<=0.7)),Range]=7\n",
        "    data.loc[((data[c]>0.7)&(data[c]<=0.8)),Range]=8\n",
        "    data.loc[((data[c]>0.8)&(data[c]<=0.9)),Range]=9\n",
        "    data.loc[((data[c]>0.9)&(data[c]<=1.0)),Range]=10\n",
        "    "
      ]
    },
    {
      "cell_type": "code",
      "execution_count": null,
      "metadata": {
        "id": "abc_cSP3Shts"
      },
      "outputs": [],
      "source": [
        "columns=['PURCHASES_TRX', 'CASH_ADVANCE_TRX']  \n",
        "\n",
        "for c in columns:\n",
        "    \n",
        "    Range=c+'_RANGE'\n",
        "    data[Range]=0\n",
        "    data.loc[((data[c]>0)&(data[c]<=5)),Range]=1\n",
        "    data.loc[((data[c]>5)&(data[c]<=10)),Range]=2\n",
        "    data.loc[((data[c]>10)&(data[c]<=15)),Range]=3\n",
        "    data.loc[((data[c]>15)&(data[c]<=20)),Range]=4\n",
        "    data.loc[((data[c]>20)&(data[c]<=30)),Range]=5\n",
        "    data.loc[((data[c]>30)&(data[c]<=50)),Range]=6\n",
        "    data.loc[((data[c]>50)&(data[c]<=100)),Range]=7\n",
        "    data.loc[((data[c]>100)),Range]=8"
      ]
    },
    {
      "cell_type": "code",
      "execution_count": null,
      "metadata": {
        "id": "FWE0FRrMShts"
      },
      "outputs": [],
      "source": [
        "data.drop(['CUST_ID', 'BALANCE', 'BALANCE_FREQUENCY', 'PURCHASES',\n",
        "       'ONEOFF_PURCHASES', 'INSTALLMENTS_PURCHASES', 'CASH_ADVANCE',\n",
        "       'PURCHASES_FREQUENCY',  'ONEOFF_PURCHASES_FREQUENCY',\n",
        "       'PURCHASES_INSTALLMENTS_FREQUENCY', 'CASH_ADVANCE_FREQUENCY',\n",
        "       'CASH_ADVANCE_TRX', 'PURCHASES_TRX', 'CREDIT_LIMIT', 'PAYMENTS',\n",
        "       'MINIMUM_PAYMENTS', 'PRC_FULL_PAYMENT' ], axis=1, inplace=True)\n",
        "\n",
        "X= np.asarray(data)"
      ]
    },
    {
      "cell_type": "markdown",
      "metadata": {
        "id": "0odyH6x2Shts"
      },
      "source": [
        "Normalizing input values."
      ]
    },
    {
      "cell_type": "code",
      "execution_count": null,
      "metadata": {
        "id": "I8I4X-rOShts",
        "outputId": "45e8c555-96bb-4157-c2a0-f59d67e57555"
      },
      "outputs": [
        {
          "data": {
            "text/plain": [
              "(8950, 17)"
            ]
          },
          "execution_count": 11,
          "metadata": {},
          "output_type": "execute_result"
        }
      ],
      "source": [
        "scale = StandardScaler()\n",
        "X = "
      ]
    }
  ],
  "metadata": {
    "kernelspec": {
      "display_name": "Python 3",
      "language": "python",
      "name": "python3"
    },
    "language_info": {
      "codemirror_mode": {
        "name": "ipython",
        "version": 3
      },
      "file_extension": ".py",
      "mimetype": "text/x-python",
      "name": "python",
      "nbconvert_exporter": "python",
      "pygments_lexer": "ipython3",
      "version": "3.6.4"
    },
    "colab": {
      "provenance": []
    }
  },
  "nbformat": 4,
  "nbformat_minor": 0
}