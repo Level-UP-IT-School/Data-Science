{
 "cells": [
  {
   "cell_type": "markdown",
   "id": "XrN3nFr49MqE",
   "metadata": {
    "id": "XrN3nFr49MqE"
   },
   "source": [
    "# Линейная регрессия"
   ]
  },
  {
   "cell_type": "markdown",
   "id": "663ef6ad",
   "metadata": {
    "id": "663ef6ad"
   },
   "source": [
    "В этом ноутбуке мы научимся применять модель линейной регрессии для решения задачи регрессии. Мы будем использовать датасет с информацией о пингвинах. \n",
    "\n",
    "В первой части ноутбука мы применим линейную регрессию для предсказания длины плавника пингвина по массе его тела. Мы построим линейную регрессию, визуализируем ее решающую поверхность и ошибки модели на элементах датасета.\n",
    "\n",
    "Во второй части ноутбука мы применим линейную регрессию для предсказания массы тела пингвина по всем его другим характеристикам. "
   ]
  },
  {
   "cell_type": "markdown",
   "id": "62539353",
   "metadata": {
    "id": "62539353"
   },
   "source": [
    "Начнем с импорта библиотек:"
   ]
  },
  {
   "cell_type": "code",
   "execution_count": 1,
   "id": "e07e5b3b",
   "metadata": {
    "executionInfo": {
     "elapsed": 873,
     "status": "ok",
     "timestamp": 1656338324987,
     "user": {
      "displayName": "Татьяна Андреевна Гайнцева",
      "userId": "17554479887788199937"
     },
     "user_tz": -180
    },
    "id": "e07e5b3b"
   },
   "outputs": [],
   "source": [
    "import numpy as np\n",
    "import pandas as pd\n",
    "import matplotlib.pyplot as plt"
   ]
  },
  {
   "cell_type": "markdown",
   "id": "7b73286a",
   "metadata": {
    "id": "7b73286a"
   },
   "source": [
    "## Загрузка датасета"
   ]
  },
  {
   "cell_type": "markdown",
   "id": "Hrcp7Jid9WjN",
   "metadata": {
    "id": "Hrcp7Jid9WjN"
   },
   "source": [
    "<img src=\"https://imgur.com/orZWHly.png\" alt=\"Drawing\" style=\"width: 800px;\"/>"
   ]
  },
  {
   "cell_type": "markdown",
   "id": "kP2ZUkKU7pNK",
   "metadata": {
    "id": "kP2ZUkKU7pNK"
   },
   "source": [
    "### Загрузка и визуализация данных"
   ]
  },
  {
   "cell_type": "code",
   "execution_count": 2,
   "id": "8ed371f2",
   "metadata": {
    "colab": {
     "base_uri": "https://localhost:8080/",
     "height": 201
    },
    "executionInfo": {
     "elapsed": 255,
     "status": "ok",
     "timestamp": 1656338355041,
     "user": {
      "displayName": "Татьяна Андреевна Гайнцева",
      "userId": "17554479887788199937"
     },
     "user_tz": -180
    },
    "id": "8ed371f2",
    "outputId": "616d9d53-8aba-4f79-bd4b-2c7264a0d412"
   },
   "outputs": [
    {
     "data": {
      "text/html": [
       "<div>\n",
       "<style scoped>\n",
       "    .dataframe tbody tr th:only-of-type {\n",
       "        vertical-align: middle;\n",
       "    }\n",
       "\n",
       "    .dataframe tbody tr th {\n",
       "        vertical-align: top;\n",
       "    }\n",
       "\n",
       "    .dataframe thead th {\n",
       "        text-align: right;\n",
       "    }\n",
       "</style>\n",
       "<table border=\"1\" class=\"dataframe\">\n",
       "  <thead>\n",
       "    <tr style=\"text-align: right;\">\n",
       "      <th></th>\n",
       "      <th>вид</th>\n",
       "      <th>остров</th>\n",
       "      <th>длина клюва</th>\n",
       "      <th>ширина клюва</th>\n",
       "      <th>длина плавника</th>\n",
       "      <th>масса тела</th>\n",
       "      <th>пол</th>\n",
       "    </tr>\n",
       "  </thead>\n",
       "  <tbody>\n",
       "    <tr>\n",
       "      <th>0</th>\n",
       "      <td>0</td>\n",
       "      <td>2</td>\n",
       "      <td>39.1</td>\n",
       "      <td>18.7</td>\n",
       "      <td>181.0</td>\n",
       "      <td>3750.0</td>\n",
       "      <td>1</td>\n",
       "    </tr>\n",
       "    <tr>\n",
       "      <th>1</th>\n",
       "      <td>0</td>\n",
       "      <td>2</td>\n",
       "      <td>39.5</td>\n",
       "      <td>17.4</td>\n",
       "      <td>186.0</td>\n",
       "      <td>3800.0</td>\n",
       "      <td>0</td>\n",
       "    </tr>\n",
       "    <tr>\n",
       "      <th>2</th>\n",
       "      <td>0</td>\n",
       "      <td>2</td>\n",
       "      <td>40.3</td>\n",
       "      <td>18.0</td>\n",
       "      <td>195.0</td>\n",
       "      <td>3250.0</td>\n",
       "      <td>0</td>\n",
       "    </tr>\n",
       "    <tr>\n",
       "      <th>3</th>\n",
       "      <td>0</td>\n",
       "      <td>2</td>\n",
       "      <td>36.7</td>\n",
       "      <td>19.3</td>\n",
       "      <td>193.0</td>\n",
       "      <td>3450.0</td>\n",
       "      <td>0</td>\n",
       "    </tr>\n",
       "    <tr>\n",
       "      <th>4</th>\n",
       "      <td>0</td>\n",
       "      <td>2</td>\n",
       "      <td>39.3</td>\n",
       "      <td>20.6</td>\n",
       "      <td>190.0</td>\n",
       "      <td>3650.0</td>\n",
       "      <td>1</td>\n",
       "    </tr>\n",
       "  </tbody>\n",
       "</table>\n",
       "</div>"
      ],
      "text/plain": [
       "   вид  остров  длина клюва  ширина клюва  длина плавника  масса тела  пол\n",
       "0    0       2         39.1          18.7           181.0      3750.0    1\n",
       "1    0       2         39.5          17.4           186.0      3800.0    0\n",
       "2    0       2         40.3          18.0           195.0      3250.0    0\n",
       "3    0       2         36.7          19.3           193.0      3450.0    0\n",
       "4    0       2         39.3          20.6           190.0      3650.0    1"
      ]
     },
     "execution_count": 2,
     "metadata": {},
     "output_type": "execute_result"
    }
   ],
   "source": [
    "data = pd.read_csv('penguins.csv')\n",
    "data.head()"
   ]
  },
  {
   "cell_type": "markdown",
   "id": "85a0008f",
   "metadata": {
    "id": "85a0008f"
   },
   "source": [
    "Датасет содержит 7 признаков:\n",
    "\n",
    "- **вид**: вид пингвина. Всего их три разных:\t\n",
    "  - 0: Adelie\n",
    "  - 1: Chinstrap\n",
    "  - 2: Gento\n",
    "- **остров**: oстров, на котором обитает пингвин. Всего их три разных:\n",
    "  - 0: Biscoe  \n",
    "  - 1: Dream\n",
    "  - 2: Torgersen\n",
    "- **длина клюва**: длина клюва пингвина в миллиметрах;\n",
    "- **ширина клюва**: ширина клюва пингвина в миллиметрах;\n",
    "- **длина плавника**: длина плавника пингвина в миллиметрах;\n",
    "- **масса тела**:\tмасса тела пингвина в граммах;\n",
    "- **пол**: пол пингвина. Всго их два:\n",
    "  - 0: самка\n",
    "  - 1: самец\n",
    "\n",
    "\n",
    "\n"
   ]
  },
  {
   "cell_type": "markdown",
   "id": "38a0dcd6",
   "metadata": {
    "id": "38a0dcd6"
   },
   "source": [
    "## Задача 1. Предсказание длины плавника по массе тела"
   ]
  },
  {
   "cell_type": "markdown",
   "id": "e59c0df9",
   "metadata": {
    "id": "e59c0df9"
   },
   "source": [
    "Создадим новый датафрейм, в котором будет две колонки из данных: масса тела и длина плавника. Разобьем его на две переменные X и y. Мы будем решать задачу предсказания длины плавника пингвина по массе его тела, поэтому признаком Х будет масса тела, а признаком y — длина плавника."
   ]
  },
  {
   "cell_type": "code",
   "execution_count": 3,
   "id": "3b2cf6e1",
   "metadata": {
    "executionInfo": {
     "elapsed": 737,
     "status": "ok",
     "timestamp": 1656338444621,
     "user": {
      "displayName": "Татьяна Андреевна Гайнцева",
      "userId": "17554479887788199937"
     },
     "user_tz": -180
    },
    "id": "3b2cf6e1"
   },
   "outputs": [],
   "source": [
    "X = data[['масса тела']]\n",
    "y = data['длина плавника']"
   ]
  },
  {
   "cell_type": "markdown",
   "id": "6c71093b",
   "metadata": {
    "id": "6c71093b"
   },
   "source": [
    "Разобьем выборку на тренировочную и тестовую:"
   ]
  },
  {
   "cell_type": "code",
   "execution_count": 4,
   "id": "0cdde55d",
   "metadata": {
    "executionInfo": {
     "elapsed": 786,
     "status": "ok",
     "timestamp": 1656338517321,
     "user": {
      "displayName": "Татьяна Андреевна Гайнцева",
      "userId": "17554479887788199937"
     },
     "user_tz": -180
    },
    "id": "0cdde55d"
   },
   "outputs": [],
   "source": [
    "from sklearn.model_selection import train_test_split\n",
    "\n",
    "X_train, X_test, y_train, y_test = train_test_split(X, y, test_size=0.15)"
   ]
  },
  {
   "cell_type": "markdown",
   "id": "46c5f1e6",
   "metadata": {
    "id": "46c5f1e6"
   },
   "source": [
    "Визуализируем данные на плоскости:"
   ]
  },
  {
   "cell_type": "code",
   "execution_count": 5,
   "id": "ef974906",
   "metadata": {
    "colab": {
     "base_uri": "https://localhost:8080/",
     "height": 278
    },
    "executionInfo": {
     "elapsed": 328,
     "status": "ok",
     "timestamp": 1656338535469,
     "user": {
      "displayName": "Татьяна Андреевна Гайнцева",
      "userId": "17554479887788199937"
     },
     "user_tz": -180
    },
    "id": "ef974906",
    "outputId": "21737095-a4c1-4a79-b860-c8951ce49cd0"
   },
   "outputs": [
    {
     "data": {
      "image/png": "[encoded data removed]",
      "text/plain": [
       "<Figure size 432x288 with 1 Axes>"
      ]
     },
     "metadata": {
      "needs_background": "light"
     },
     "output_type": "display_data"
    }
   ],
   "source": [
    "# визуализируем точки обучающей выборки\n",
    "plt.scatter(X_train, y_train)\n",
    "\n",
    "# подпишем оси\n",
    "plt.xlabel('масса тела (мм)');\n",
    "plt.ylabel('длина плавника (мм)');\n",
    "\n",
    "plt.show()"
   ]
  },
  {
   "cell_type": "markdown",
   "id": "48244af1",
   "metadata": {
    "id": "48244af1"
   },
   "source": [
    "Обучим модель линейной регрессии. Модель будет учиться предсказывать величину y (длину плавника) по величине X (массе тела).\n",
    "\n",
    "Мы будем использовать линейную регрессию из библиотеки sklearn. Вот ссылка на ее докумнтацию: https://scikit-learn.org/stable/modules/generated/sklearn.linear_model.LinearRegression.html"
   ]
  },
  {
   "cell_type": "code",
   "execution_count": 6,
   "id": "y5O4RslUrSl_",
   "metadata": {
    "executionInfo": {
     "elapsed": 5,
     "status": "ok",
     "timestamp": 1656338653105,
     "user": {
      "displayName": "Татьяна Андреевна Гайнцева",
      "userId": "17554479887788199937"
     },
     "user_tz": -180
    },
    "id": "y5O4RslUrSl_"
   },
   "outputs": [],
   "source": [
    "from sklearn.linear_model import LinearRegression"
   ]
  },
  {
   "cell_type": "code",
   "execution_count": 7,
   "id": "69fdf176",
   "metadata": {
    "colab": {
     "base_uri": "https://localhost:8080/"
    },
    "executionInfo": {
     "elapsed": 411,
     "status": "ok",
     "timestamp": 1656338689967,
     "user": {
      "displayName": "Татьяна Андреевна Гайнцева",
      "userId": "17554479887788199937"
     },
     "user_tz": -180
    },
    "id": "69fdf176",
    "outputId": "bd44d1da-af87-42e9-8b12-68503b7e31ae"
   },
   "outputs": [
    {
     "data": {
      "text/plain": [
       "LinearRegression()"
      ]
     },
     "execution_count": 7,
     "metadata": {},
     "output_type": "execute_result"
    }
   ],
   "source": [
    "# заводим модель линейной регрессии\n",
    "lr = LinearRegression()\n",
    "\n",
    "# обучим линейную регрессию\n",
    "lr.fit(X_train, y_train)"
   ]
  },
  {
   "cell_type": "markdown",
   "id": "0b4ce450",
   "metadata": {
    "id": "0b4ce450"
   },
   "source": [
    "Выведем значения коэффициентов линейной регрессии. \n",
    "- lr.coef_ — коэффициент, соответствующий признаку X ($k_1$), \n",
    "- lr.intercept_ — свободный член ($k_0$)."
   ]
  },
  {
   "cell_type": "code",
   "execution_count": 8,
   "id": "c77ea952",
   "metadata": {
    "colab": {
     "base_uri": "https://localhost:8080/"
    },
    "executionInfo": {
     "elapsed": 317,
     "status": "ok",
     "timestamp": 1656338730930,
     "user": {
      "displayName": "Татьяна Андреевна Гайнцева",
      "userId": "17554479887788199937"
     },
     "user_tz": -180
    },
    "id": "c77ea952",
    "outputId": "a1cea3fb-bbf9-4dcf-eaae-5efdacde1e4a"
   },
   "outputs": [
    {
     "data": {
      "text/plain": [
       "(array([0.01508072]), 137.39767634457831)"
      ]
     },
     "execution_count": 8,
     "metadata": {},
     "output_type": "execute_result"
    }
   ],
   "source": [
    "lr.coef_, lr.intercept_"
   ]
  },
  {
   "cell_type": "markdown",
   "id": "6a59f07b",
   "metadata": {
    "id": "6a59f07b"
   },
   "source": [
    "Визуализируем данные и прямую, которую выражает модель. "
   ]
  },
  {
   "cell_type": "code",
   "execution_count": 17,
   "id": "c59f47c5",
   "metadata": {
    "colab": {
     "base_uri": "https://localhost:8080/",
     "height": 278
    },
    "executionInfo": {
     "elapsed": 307,
     "status": "ok",
     "timestamp": 1656338846989,
     "user": {
      "displayName": "Татьяна Андреевна Гайнцева",
      "userId": "17554479887788199937"
     },
     "user_tz": -180
    },
    "id": "c59f47c5",
    "outputId": "d7db6cea-593e-4d91-f4de-f85993146352"
   },
   "outputs": [
    {
     "data": {
      "image/png": "[encoded data removed]",
      "text/plain": [
       "<Figure size 432x288 with 1 Axes>"
      ]
     },
     "metadata": {
      "needs_background": "light"
     },
     "output_type": "display_data"
    }
   ],
   "source": [
    "# визуализируем точки обучающей выборки\n",
    "plt.scatter(X_train, y_train)\n",
    "\n",
    "# визуализируем прямую, которую выражает линейная регрессия\n",
    "# y = k_1*x_1 + k_0\n",
    "def f_line(x):\n",
    "    return  lr.coef_*x + lr.intercept_\n",
    "\n",
    "x = [2500, 6000]\n",
    "y = f_line(x)\n",
    "plt.plot(x, y)\n",
    "\n",
    "plt.xlabel('масса тела (мм)')\n",
    "plt.ylabel('длина плавника (мм)')\n",
    "\n",
    "plt.show()"
   ]
  },
  {
   "cell_type": "markdown",
   "id": "24e4dc18",
   "metadata": {
    "id": "24e4dc18"
   },
   "source": [
    "Теперь визуализируем точки тестовой выборки и прямую, которую выражает модель:"
   ]
  },
  {
   "cell_type": "code",
   "execution_count": 18,
   "id": "bd1cf3e2",
   "metadata": {
    "colab": {
     "base_uri": "https://localhost:8080/",
     "height": 278
    },
    "executionInfo": {
     "elapsed": 417,
     "status": "ok",
     "timestamp": 1656338881052,
     "user": {
      "displayName": "Татьяна Андреевна Гайнцева",
      "userId": "17554479887788199937"
     },
     "user_tz": -180
    },
    "id": "bd1cf3e2",
    "outputId": "8f7b70d6-638b-42ae-83cc-829fb285b6fc"
   },
   "outputs": [
    {
     "data": {
      "image/png": "[encoded data removed]",
      "text/plain": [
       "<Figure size 432x288 with 1 Axes>"
      ]
     },
     "metadata": {
      "needs_background": "light"
     },
     "output_type": "display_data"
    }
   ],
   "source": [
    "# визуализируем точки тестовой выборки\n",
    "plt.scatter(X_test, y_test)\n",
    "\n",
    "# визуализируем прямую, которую выражает линейная регрессия\n",
    "def f_line(x):\n",
    "    return  lr.coef_*x + lr.intercept_\n",
    "\n",
    "x_line = np.linspace(2500, 6000, 100)\n",
    "y_line = f_line(x_line)\n",
    "plt.plot(x_line, y_line)\n",
    "\n",
    "plt.xlabel('масса тела (мм)')\n",
    "plt.ylabel('длина плавника (мм)')\n",
    "\n",
    "plt.show()"
   ]
  },
  {
   "cell_type": "markdown",
   "id": "92233e1c",
   "metadata": {
    "id": "92233e1c"
   },
   "source": [
    "Получим предсказания линейной регрессии на тренировочной и тестовой выборках:"
   ]
  },
  {
   "cell_type": "code",
   "execution_count": 19,
   "id": "b6963a27",
   "metadata": {
    "executionInfo": {
     "elapsed": 411,
     "status": "ok",
     "timestamp": 1656338936342,
     "user": {
      "displayName": "Татьяна Андреевна Гайнцева",
      "userId": "17554479887788199937"
     },
     "user_tz": -180
    },
    "id": "b6963a27"
   },
   "outputs": [],
   "source": [
    "# предсказание линейной регрессии для элементов тренировочной выборки\n",
    "y_train_predicted = lr.predict(X_train)\n",
    "# предсказание линейной регрессии для элементов тестовой выборки\n",
    "y_test_predicted = lr.predict(X_test)"
   ]
  },
  {
   "cell_type": "code",
   "execution_count": 20,
   "id": "U8KzSTKezjQR",
   "metadata": {
    "colab": {
     "base_uri": "https://localhost:8080/"
    },
    "executionInfo": {
     "elapsed": 255,
     "status": "ok",
     "timestamp": 1656338956643,
     "user": {
      "displayName": "Татьяна Андреевна Гайнцева",
      "userId": "17554479887788199937"
     },
     "user_tz": -180
    },
    "id": "U8KzSTKezjQR",
    "outputId": "3d232236-eb28-4734-b77a-3706705657b7"
   },
   "outputs": [
    {
     "data": {
      "text/plain": [
       "array([219., 187., 198., 191., 215., 178., 187., 185., 210., 193., 187.,\n",
       "       193., 185., 195., 188., 224., 182., 178., 180., 231., 195., 230.,\n",
       "       199., 188., 216., 195., 191., 193., 201., 220., 211., 229., 210.,\n",
       "       197., 178., 190., 189., 199., 195., 229., 212., 225., 200., 217.,\n",
       "       220., 202., 191., 208., 190., 191.])"
      ]
     },
     "execution_count": 20,
     "metadata": {},
     "output_type": "execute_result"
    }
   ],
   "source": [
    "np.array(y_test)"
   ]
  },
  {
   "cell_type": "code",
   "execution_count": 21,
   "id": "fj4-MKDfzlyk",
   "metadata": {
    "colab": {
     "base_uri": "https://localhost:8080/"
    },
    "executionInfo": {
     "elapsed": 5,
     "status": "ok",
     "timestamp": 1656338957028,
     "user": {
      "displayName": "Татьяна Андреевна Гайнцева",
      "userId": "17554479887788199937"
     },
     "user_tz": -180
    },
    "id": "fj4-MKDfzlyk",
    "outputId": "606944fb-bdff-49b5-daa2-d85e7dd0c627"
   },
   "outputs": [
    {
     "data": {
      "text/plain": [
       "array([216.57144402, 190.93422401, 190.18018813, 196.21247519,\n",
       "       222.60373108, 186.41000871, 187.1640446 , 182.6398293 ,\n",
       "       197.72054695, 194.70440342, 192.44229578, 191.68825989,\n",
       "       193.19633166, 192.44229578, 187.1640446 , 221.09565931,\n",
       "       185.65597283, 196.21247519, 190.93422401, 222.60373108,\n",
       "       207.90003137, 224.86583873, 194.32738548, 202.24476225,\n",
       "       209.03108519, 202.24476225, 185.27895489, 194.32738548,\n",
       "       197.72054695, 215.06337225, 209.78512108, 224.86583873,\n",
       "       203.75283401, 187.1640446 , 181.13175754, 188.67211636,\n",
       "       187.54106254, 187.54106254, 189.42615224, 227.12794638,\n",
       "       207.14599549, 212.80126461, 194.70440342, 203.37581607,\n",
       "       212.80126461, 188.67211636, 193.19633166, 200.73669048,\n",
       "       196.96651107, 206.76897755])"
      ]
     },
     "execution_count": 21,
     "metadata": {},
     "output_type": "execute_result"
    }
   ],
   "source": [
    "np.array(y_test_predicted)"
   ]
  },
  {
   "cell_type": "code",
   "execution_count": 24,
   "id": "N9d5haervRJs",
   "metadata": {
    "colab": {
     "base_uri": "https://localhost:8080/",
     "height": 278
    },
    "executionInfo": {
     "elapsed": 456,
     "status": "ok",
     "timestamp": 1656339008847,
     "user": {
      "displayName": "Татьяна Андреевна Гайнцева",
      "userId": "17554479887788199937"
     },
     "user_tz": -180
    },
    "id": "N9d5haervRJs",
    "outputId": "8cbd6622-2d54-4e1b-905b-4cd081070b48"
   },
   "outputs": [
    {
     "data": {
      "image/png": "[encoded data removed]",
      "text/plain": [
       "<Figure size 432x288 with 1 Axes>"
      ]
     },
     "metadata": {
      "needs_background": "light"
     },
     "output_type": "display_data"
    }
   ],
   "source": [
    "# визуализируем точки тестовой выборки\n",
    "plt.scatter(X_test[:15], y_test[:15])\n",
    "\n",
    "# визуализируем предсказания линейной регрессии\n",
    "plt.scatter(X_test[:5], y_test_predicted[:5])\n",
    "\n",
    "# визуализируем прямую, которую выражает линейная регрессия\n",
    "def f_line(x):\n",
    "    return  lr.coef_*x + lr.intercept_\n",
    "\n",
    "x_line = np.linspace(2500, 6000, 100)\n",
    "y_line = f_line(x_line)\n",
    "plt.plot(x_line, y_line)\n",
    "\n",
    "plt.xlabel('масса тела (мм)')\n",
    "plt.ylabel('длина плавника (мм)')\n",
    "\n",
    "plt.show()"
   ]
  },
  {
   "cell_type": "markdown",
   "id": "RGd8Vns5zzO2",
   "metadata": {
    "id": "RGd8Vns5zzO2"
   },
   "source": [
    "Посчитаем метрики качества MAE и MSE для тренировочной и тестовой выборок. Мы будем использовать для этого функции из sklearn."
   ]
  },
  {
   "cell_type": "code",
   "execution_count": 25,
   "id": "pbd44ESH0ACU",
   "metadata": {
    "executionInfo": {
     "elapsed": 7,
     "status": "ok",
     "timestamp": 1656339069672,
     "user": {
      "displayName": "Татьяна Андреевна Гайнцева",
      "userId": "17554479887788199937"
     },
     "user_tz": -180
    },
    "id": "pbd44ESH0ACU"
   },
   "outputs": [],
   "source": [
    "from sklearn.metrics import mean_absolute_error, mean_squared_error"
   ]
  },
  {
   "cell_type": "code",
   "execution_count": 26,
   "id": "954ac700",
   "metadata": {
    "colab": {
     "base_uri": "https://localhost:8080/"
    },
    "executionInfo": {
     "elapsed": 6,
     "status": "ok",
     "timestamp": 1656339089851,
     "user": {
      "displayName": "Татьяна Андреевна Гайнцева",
      "userId": "17554479887788199937"
     },
     "user_tz": -180
    },
    "id": "954ac700",
    "outputId": "e3353ad3-81a2-4f58-d1a5-dd49a698db55"
   },
   "outputs": [
    {
     "data": {
      "text/plain": [
       "(5.456787595952175, 6.314875871167212)"
      ]
     },
     "execution_count": 26,
     "metadata": {},
     "output_type": "execute_result"
    }
   ],
   "source": [
    "mean_absolute_error(y_train_predicted, y_train), mean_absolute_error(y_test_predicted, y_test)"
   ]
  },
  {
   "cell_type": "code",
   "execution_count": 27,
   "id": "TUUf9pw40CT8",
   "metadata": {
    "colab": {
     "base_uri": "https://localhost:8080/"
    },
    "executionInfo": {
     "elapsed": 412,
     "status": "ok",
     "timestamp": 1656339128449,
     "user": {
      "displayName": "Татьяна Андреевна Гайнцева",
      "userId": "17554479887788199937"
     },
     "user_tz": -180
    },
    "id": "TUUf9pw40CT8",
    "outputId": "c42dd7e6-7ad9-43a5-e4da-ab333c754e85"
   },
   "outputs": [
    {
     "data": {
      "text/plain": [
       "5.4567875959521785"
      ]
     },
     "execution_count": 27,
     "metadata": {},
     "output_type": "execute_result"
    }
   ],
   "source": [
    "np.mean(np.abs(y_train_predicted - y_train))"
   ]
  },
  {
   "cell_type": "code",
   "execution_count": 28,
   "id": "dd98287b",
   "metadata": {
    "colab": {
     "base_uri": "https://localhost:8080/"
    },
    "executionInfo": {
     "elapsed": 7,
     "status": "ok",
     "timestamp": 1656339146064,
     "user": {
      "displayName": "Татьяна Андреевна Гайнцева",
      "userId": "17554479887788199937"
     },
     "user_tz": -180
    },
    "id": "dd98287b",
    "outputId": "9e045050-4323-4388-a181-88e2fc02cc10"
   },
   "outputs": [
    {
     "data": {
      "text/plain": [
       "(44.469097468657644, 58.784058067547875)"
      ]
     },
     "execution_count": 28,
     "metadata": {},
     "output_type": "execute_result"
    }
   ],
   "source": [
    "mean_squared_error(y_train_predicted, y_train), mean_squared_error(y_test_predicted, y_test)"
   ]
  },
  {
   "cell_type": "code",
   "execution_count": 29,
   "id": "ftODhw5d0J7e",
   "metadata": {
    "colab": {
     "base_uri": "https://localhost:8080/"
    },
    "executionInfo": {
     "elapsed": 387,
     "status": "ok",
     "timestamp": 1656339175451,
     "user": {
      "displayName": "Татьяна Андреевна Гайнцева",
      "userId": "17554479887788199937"
     },
     "user_tz": -180
    },
    "id": "ftODhw5d0J7e",
    "outputId": "65b0d20e-feb0-4de9-869e-9484860e2530"
   },
   "outputs": [
    {
     "data": {
      "text/plain": [
       "44.46909746865763"
      ]
     },
     "execution_count": 29,
     "metadata": {},
     "output_type": "execute_result"
    }
   ],
   "source": [
    "np.mean((y_train_predicted - y_train)**2)"
   ]
  },
  {
   "cell_type": "markdown",
   "id": "N_YVoGsQ2ee8",
   "metadata": {
    "id": "N_YVoGsQ2ee8"
   },
   "source": [
    "## Задача 2. Предсказание длины плавника по массе тела и длине клюва"
   ]
  },
  {
   "cell_type": "markdown",
   "id": "_zuqS5F_2smo",
   "metadata": {
    "id": "_zuqS5F_2smo"
   },
   "source": [
    "Посмотрим снова на наши данные:"
   ]
  },
  {
   "cell_type": "code",
   "execution_count": 30,
   "id": "a22PD4OD2vqU",
   "metadata": {
    "id": "a22PD4OD2vqU"
   },
   "outputs": [
    {
     "data": {
      "text/html": [
       "<div>\n",
       "<style scoped>\n",
       "    .dataframe tbody tr th:only-of-type {\n",
       "        vertical-align: middle;\n",
       "    }\n",
       "\n",
       "    .dataframe tbody tr th {\n",
       "        vertical-align: top;\n",
       "    }\n",
       "\n",
       "    .dataframe thead th {\n",
       "        text-align: right;\n",
       "    }\n",
       "</style>\n",
       "<table border=\"1\" class=\"dataframe\">\n",
       "  <thead>\n",
       "    <tr style=\"text-align: right;\">\n",
       "      <th></th>\n",
       "      <th>вид</th>\n",
       "      <th>остров</th>\n",
       "      <th>длина клюва</th>\n",
       "      <th>ширина клюва</th>\n",
       "      <th>длина плавника</th>\n",
       "      <th>масса тела</th>\n",
       "      <th>пол</th>\n",
       "    </tr>\n",
       "  </thead>\n",
       "  <tbody>\n",
       "    <tr>\n",
       "      <th>0</th>\n",
       "      <td>0</td>\n",
       "      <td>2</td>\n",
       "      <td>39.1</td>\n",
       "      <td>18.7</td>\n",
       "      <td>181.0</td>\n",
       "      <td>3750.0</td>\n",
       "      <td>1</td>\n",
       "    </tr>\n",
       "    <tr>\n",
       "      <th>1</th>\n",
       "      <td>0</td>\n",
       "      <td>2</td>\n",
       "      <td>39.5</td>\n",
       "      <td>17.4</td>\n",
       "      <td>186.0</td>\n",
       "      <td>3800.0</td>\n",
       "      <td>0</td>\n",
       "    </tr>\n",
       "    <tr>\n",
       "      <th>2</th>\n",
       "      <td>0</td>\n",
       "      <td>2</td>\n",
       "      <td>40.3</td>\n",
       "      <td>18.0</td>\n",
       "      <td>195.0</td>\n",
       "      <td>3250.0</td>\n",
       "      <td>0</td>\n",
       "    </tr>\n",
       "    <tr>\n",
       "      <th>3</th>\n",
       "      <td>0</td>\n",
       "      <td>2</td>\n",
       "      <td>36.7</td>\n",
       "      <td>19.3</td>\n",
       "      <td>193.0</td>\n",
       "      <td>3450.0</td>\n",
       "      <td>0</td>\n",
       "    </tr>\n",
       "    <tr>\n",
       "      <th>4</th>\n",
       "      <td>0</td>\n",
       "      <td>2</td>\n",
       "      <td>39.3</td>\n",
       "      <td>20.6</td>\n",
       "      <td>190.0</td>\n",
       "      <td>3650.0</td>\n",
       "      <td>1</td>\n",
       "    </tr>\n",
       "  </tbody>\n",
       "</table>\n",
       "</div>"
      ],
      "text/plain": [
       "   вид  остров  длина клюва  ширина клюва  длина плавника  масса тела  пол\n",
       "0    0       2         39.1          18.7           181.0      3750.0    1\n",
       "1    0       2         39.5          17.4           186.0      3800.0    0\n",
       "2    0       2         40.3          18.0           195.0      3250.0    0\n",
       "3    0       2         36.7          19.3           193.0      3450.0    0\n",
       "4    0       2         39.3          20.6           190.0      3650.0    1"
      ]
     },
     "execution_count": 30,
     "metadata": {},
     "output_type": "execute_result"
    }
   ],
   "source": [
    "data.head()"
   ]
  },
  {
   "cell_type": "markdown",
   "id": "4hokArfx2wdp",
   "metadata": {
    "id": "4hokArfx2wdp"
   },
   "source": [
    "Запишем в переменную Х признаки, по которым мы будем предсказывать ответ ('масса тела', 'длина клюва'), а в переменную y — целевую переменную ('длина плавника'):"
   ]
  },
  {
   "cell_type": "code",
   "execution_count": 31,
   "id": "WAKmRLkM22Tr",
   "metadata": {
    "id": "WAKmRLkM22Tr"
   },
   "outputs": [],
   "source": [
    "X = data[['масса тела', 'длина клюва']]\n",
    "y = data['длина плавника']"
   ]
  },
  {
   "cell_type": "markdown",
   "id": "_lqnAYrp3pqn",
   "metadata": {
    "id": "_lqnAYrp3pqn"
   },
   "source": [
    "Также поделим данные на тренировочную и тестовую выборки:"
   ]
  },
  {
   "cell_type": "code",
   "execution_count": 32,
   "id": "BlbmKf2S3s9H",
   "metadata": {
    "id": "BlbmKf2S3s9H"
   },
   "outputs": [],
   "source": [
    "from sklearn.model_selection import train_test_split\n",
    "\n",
    "X_train, X_test, y_train, y_test = train_test_split(X, y, test_size=0.15)"
   ]
  },
  {
   "cell_type": "markdown",
   "id": "7zDeZf-n3Qvd",
   "metadata": {
    "id": "7zDeZf-n3Qvd"
   },
   "source": [
    "Визуализируем данные в виде точек в трехмерном пространстве. По оси ОХ отложим значение признака \"масса тела\", по оси OY — значение признака \"длина клюва\", по оси OZ — ответ, т.е. значение переменной \"длина плавника\"."
   ]
  },
  {
   "cell_type": "code",
   "execution_count": 35,
   "id": "wuru7ivF3Mpv",
   "metadata": {
    "id": "wuru7ivF3Mpv"
   },
   "outputs": [
    {
     "data": {
      "application/javascript": [
       "/* Put everything inside the global mpl namespace */\n",
       "/* global mpl */\n",
       "window.mpl = {};\n",
       "\n",
       "mpl.get_websocket_type = function () {\n",
       "    if (typeof WebSocket !== 'undefined') {\n",
       "        return WebSocket;\n",
       "    } else if (typeof MozWebSocket !== 'undefined') {\n",
       "        return MozWebSocket;\n",
       "    } else {\n",
       "        alert(\n",
       "            'Your browser does not have WebSocket support. ' +\n",
       "                'Please try Chrome, Safari or Firefox ≥ 6. ' +\n",
       "                'Firefox 4 and 5 are also supported but you ' +\n",
       "                'have to enable WebSockets in about:config.'\n",
       "        );\n",
       "    }\n",
       "};\n",
       "\n",
       "mpl.figure = function (figure_id, websocket, ondownload, parent_element) {\n",
       "    this.id = figure_id;\n",
       "\n",
       "    this.ws = websocket;\n",
       "\n",
       "    this.supports_binary = this.ws.binaryType !== undefined;\n",
       "\n",
       "    if (!this.supports_binary) {\n",
       "        var warnings = document.getElementById('mpl-warnings');\n",
       "        if (warnings) {\n",
       "            warnings.style.display = 'block';\n",
       "            warnings.textContent =\n",
       "                'This browser does not support binary websocket messages. ' +\n",
       "                'Performance may be slow.';\n",
       "        }\n",
       "    }\n",
       "\n",
       "    this.imageObj = new Image();\n",
       "\n",
       "    this.context = undefined;\n",
       "    this.message = undefined;\n",
       "    this.canvas = undefined;\n",
       "    this.rubberband_canvas = undefined;\n",
       "    this.rubberband_context = undefined;\n",
       "    this.format_dropdown = undefined;\n",
       "\n",
       "    this.image_mode = 'full';\n",
       "\n",
       "    this.root = document.createElement('div');\n",
       "    this.root.setAttribute('style', 'display: inline-block');\n",
       "    this._root_extra_style(this.root);\n",
       "\n",
       "    parent_element.appendChild(this.root);\n",
       "\n",
       "    this._init_header(this);\n",
       "    this._init_canvas(this);\n",
       "    this._init_toolbar(this);\n",
       "\n",
       "    var fig = this;\n",
       "\n",
       "    this.waiting = false;\n",
       "\n",
       "    this.ws.onopen = function () {\n",
       "        fig.send_message('supports_binary', { value: fig.supports_binary });\n",
       "        fig.send_message('send_image_mode', {});\n",
       "        if (fig.ratio !== 1) {\n",
       "            fig.send_message('set_device_pixel_ratio', {\n",
       "                device_pixel_ratio: fig.ratio,\n",
       "            });\n",
       "        }\n",
       "        fig.send_message('refresh', {});\n",
       "    };\n",
       "\n",
       "    this.imageObj.onload = function () {\n",
       "        if (fig.image_mode === 'full') {\n",
       "            // Full images could contain transparency (where diff images\n",
       "            // almost always do), so we need to clear the canvas so that\n",
       "            // there is no ghosting.\n",
       "            fig.context.clearRect(0, 0, fig.canvas.width, fig.canvas.height);\n",
       "        }\n",
       "        fig.context.drawImage(fig.imageObj, 0, 0);\n",
       "    };\n",
       "\n",
       "    this.imageObj.onunload = function () {\n",
       "        fig.ws.close();\n",
       "    };\n",
       "\n",
       "    this.ws.onmessage = this._make_on_message_function(this);\n",
       "\n",
       "    this.ondownload = ondownload;\n",
       "};\n",
       "\n",
       "mpl.figure.prototype._init_header = function () {\n",
       "    var titlebar = document.createElement('div');\n",
       "    titlebar.classList =\n",
       "        'ui-dialog-titlebar ui-widget-header ui-corner-all ui-helper-clearfix';\n",
       "    var titletext = document.createElement('div');\n",
       "    titletext.classList = 'ui-dialog-title';\n",
       "    titletext.setAttribute(\n",
       "        'style',\n",
       "        'width: 100%; text-align: center; padding: 3px;'\n",
       "    );\n",
       "    titlebar.appendChild(titletext);\n",
       "    this.root.appendChild(titlebar);\n",
       "    this.header = titletext;\n",
       "};\n",
       "\n",
       "mpl.figure.prototype._canvas_extra_style = function (_canvas_div) {};\n",
       "\n",
       "mpl.figure.prototype._root_extra_style = function (_canvas_div) {};\n",
       "\n",
       "mpl.figure.prototype._init_canvas = function () {\n",
       "    var fig = this;\n",
       "\n",
       "    var canvas_div = (this.canvas_div = document.createElement('div'));\n",
       "    canvas_div.setAttribute(\n",
       "        'style',\n",
       "        'border: 1px solid #ddd;' +\n",
       "            'box-sizing: content-box;' +\n",
       "            'clear: both;' +\n",
       "            'min-height: 1px;' +\n",
       "            'min-width: 1px;' +\n",
       "            'outline: 0;' +\n",
       "            'overflow: hidden;' +\n",
       "            'position: relative;' +\n",
       "            'resize: both;'\n",
       "    );\n",
       "\n",
       "    function on_keyboard_event_closure(name) {\n",
       "        return function (event) {\n",
       "            return fig.key_event(event, name);\n",
       "        };\n",
       "    }\n",
       "\n",
       "    canvas_div.addEventListener(\n",
       "        'keydown',\n",
       "        on_keyboard_event_closure('key_press')\n",
       "    );\n",
       "    canvas_div.addEventListener(\n",
       "        'keyup',\n",
       "        on_keyboard_event_closure('key_release')\n",
       "    );\n",
       "\n",
       "    this._canvas_extra_style(canvas_div);\n",
       "    this.root.appendChild(canvas_div);\n",
       "\n",
       "    var canvas = (this.canvas = document.createElement('canvas'));\n",
       "    canvas.classList.add('mpl-canvas');\n",
       "    canvas.setAttribute('style', 'box-sizing: content-box;');\n",
       "\n",
       "    this.context = canvas.getContext('2d');\n",
       "\n",
       "    var backingStore =\n",
       "        this.context.backingStorePixelRatio ||\n",
       "        this.context.webkitBackingStorePixelRatio ||\n",
       "        this.context.mozBackingStorePixelRatio ||\n",
       "        this.context.msBackingStorePixelRatio ||\n",
       "        this.context.oBackingStorePixelRatio ||\n",
       "        this.context.backingStorePixelRatio ||\n",
       "        1;\n",
       "\n",
       "    this.ratio = (window.devicePixelRatio || 1) / backingStore;\n",
       "\n",
       "    var rubberband_canvas = (this.rubberband_canvas = document.createElement(\n",
       "        'canvas'\n",
       "    ));\n",
       "    rubberband_canvas.setAttribute(\n",
       "        'style',\n",
       "        'box-sizing: content-box; position: absolute; left: 0; top: 0; z-index: 1;'\n",
       "    );\n",
       "\n",
       "    // Apply a ponyfill if ResizeObserver is not implemented by browser.\n",
       "    if (this.ResizeObserver === undefined) {\n",
       "        if (window.ResizeObserver !== undefined) {\n",
       "            this.ResizeObserver = window.ResizeObserver;\n",
       "        } else {\n",
       "            var obs = _JSXTOOLS_RESIZE_OBSERVER({});\n",
       "            this.ResizeObserver = obs.ResizeObserver;\n",
       "        }\n",
       "    }\n",
       "\n",
       "    this.resizeObserverInstance = new this.ResizeObserver(function (entries) {\n",
       "        var nentries = entries.length;\n",
       "        for (var i = 0; i < nentries; i++) {\n",
       "            var entry = entries[i];\n",
       "            var width, height;\n",
       "            if (entry.contentBoxSize) {\n",
       "                if (entry.contentBoxSize instanceof Array) {\n",
       "                    // Chrome 84 implements new version of spec.\n",
       "                    width = entry.contentBoxSize[0].inlineSize;\n",
       "                    height = entry.contentBoxSize[0].blockSize;\n",
       "                } else {\n",
       "                    // Firefox implements old version of spec.\n",
       "                    width = entry.contentBoxSize.inlineSize;\n",
       "                    height = entry.contentBoxSize.blockSize;\n",
       "                }\n",
       "            } else {\n",
       "                // Chrome <84 implements even older version of spec.\n",
       "                width = entry.contentRect.width;\n",
       "                height = entry.contentRect.height;\n",
       "            }\n",
       "\n",
       "            // Keep the size of the canvas and rubber band canvas in sync with\n",
       "            // the canvas container.\n",
       "            if (entry.devicePixelContentBoxSize) {\n",
       "                // Chrome 84 implements new version of spec.\n",
       "                canvas.setAttribute(\n",
       "                    'width',\n",
       "                    entry.devicePixelContentBoxSize[0].inlineSize\n",
       "                );\n",
       "                canvas.setAttribute(\n",
       "                    'height',\n",
       "                    entry.devicePixelContentBoxSize[0].blockSize\n",
       "                );\n",
       "            } else {\n",
       "                canvas.setAttribute('width', width * fig.ratio);\n",
       "                canvas.setAttribute('height', height * fig.ratio);\n",
       "            }\n",
       "            canvas.setAttribute(\n",
       "                'style',\n",
       "                'width: ' + width + 'px; height: ' + height + 'px;'\n",
       "            );\n",
       "\n",
       "            rubberband_canvas.setAttribute('width', width);\n",
       "            rubberband_canvas.setAttribute('height', height);\n",
       "\n",
       "            // And update the size in Python. We ignore the initial 0/0 size\n",
       "            // that occurs as the element is placed into the DOM, which should\n",
       "            // otherwise not happen due to the minimum size styling.\n",
       "            if (fig.ws.readyState == 1 && width != 0 && height != 0) {\n",
       "                fig.request_resize(width, height);\n",
       "            }\n",
       "        }\n",
       "    });\n",
       "    this.resizeObserverInstance.observe(canvas_div);\n",
       "\n",
       "    function on_mouse_event_closure(name) {\n",
       "        return function (event) {\n",
       "            return fig.mouse_event(event, name);\n",
       "        };\n",
       "    }\n",
       "\n",
       "    rubberband_canvas.addEventListener(\n",
       "        'mousedown',\n",
       "        on_mouse_event_closure('button_press')\n",
       "    );\n",
       "    rubberband_canvas.addEventListener(\n",
       "        'mouseup',\n",
       "        on_mouse_event_closure('button_release')\n",
       "    );\n",
       "    rubberband_canvas.addEventListener(\n",
       "        'dblclick',\n",
       "        on_mouse_event_closure('dblclick')\n",
       "    );\n",
       "    // Throttle sequential mouse events to 1 every 20ms.\n",
       "    rubberband_canvas.addEventListener(\n",
       "        'mousemove',\n",
       "        on_mouse_event_closure('motion_notify')\n",
       "    );\n",
       "\n",
       "    rubberband_canvas.addEventListener(\n",
       "        'mouseenter',\n",
       "        on_mouse_event_closure('figure_enter')\n",
       "    );\n",
       "    rubberband_canvas.addEventListener(\n",
       "        'mouseleave',\n",
       "        on_mouse_event_closure('figure_leave')\n",
       "    );\n",
       "\n",
       "    canvas_div.addEventListener('wheel', function (event) {\n",
       "        if (event.deltaY < 0) {\n",
       "            event.step = 1;\n",
       "        } else {\n",
       "            event.step = -1;\n",
       "        }\n",
       "        on_mouse_event_closure('scroll')(event);\n",
       "    });\n",
       "\n",
       "    canvas_div.appendChild(canvas);\n",
       "    canvas_div.appendChild(rubberband_canvas);\n",
       "\n",
       "    this.rubberband_context = rubberband_canvas.getContext('2d');\n",
       "    this.rubberband_context.strokeStyle = '#000000';\n",
       "\n",
       "    this._resize_canvas = function (width, height, forward) {\n",
       "        if (forward) {\n",
       "            canvas_div.style.width = width + 'px';\n",
       "            canvas_div.style.height = height + 'px';\n",
       "        }\n",
       "    };\n",
       "\n",
       "    // Disable right mouse context menu.\n",
       "    this.rubberband_canvas.addEventListener('contextmenu', function (_e) {\n",
       "        event.preventDefault();\n",
       "        return false;\n",
       "    });\n",
       "\n",
       "    function set_focus() {\n",
       "        canvas.focus();\n",
       "        canvas_div.focus();\n",
       "    }\n",
       "\n",
       "    window.setTimeout(set_focus, 100);\n",
       "};\n",
       "\n",
       "mpl.figure.prototype._init_toolbar = function () {\n",
       "    var fig = this;\n",
       "\n",
       "    var toolbar = document.createElement('div');\n",
       "    toolbar.classList = 'mpl-toolbar';\n",
       "    this.root.appendChild(toolbar);\n",
       "\n",
       "    function on_click_closure(name) {\n",
       "        return function (_event) {\n",
       "            return fig.toolbar_button_onclick(name);\n",
       "        };\n",
       "    }\n",
       "\n",
       "    function on_mouseover_closure(tooltip) {\n",
       "        return function (event) {\n",
       "            if (!event.currentTarget.disabled) {\n",
       "                return fig.toolbar_button_onmouseover(tooltip);\n",
       "            }\n",
       "        };\n",
       "    }\n",
       "\n",
       "    fig.buttons = {};\n",
       "    var buttonGroup = document.createElement('div');\n",
       "    buttonGroup.classList = 'mpl-button-group';\n",
       "    for (var toolbar_ind in mpl.toolbar_items) {\n",
       "        var name = mpl.toolbar_items[toolbar_ind][0];\n",
       "        var tooltip = mpl.toolbar_items[toolbar_ind][1];\n",
       "        var image = mpl.toolbar_items[toolbar_ind][2];\n",
       "        var method_name = mpl.toolbar_items[toolbar_ind][3];\n",
       "\n",
       "        if (!name) {\n",
       "            /* Instead of a spacer, we start a new button group. */\n",
       "            if (buttonGroup.hasChildNodes()) {\n",
       "                toolbar.appendChild(buttonGroup);\n",
       "            }\n",
       "            buttonGroup = document.createElement('div');\n",
       "            buttonGroup.classList = 'mpl-button-group';\n",
       "            continue;\n",
       "        }\n",
       "\n",
       "        var button = (fig.buttons[name] = document.createElement('button'));\n",
       "        button.classList = 'mpl-widget';\n",
       "        button.setAttribute('role', 'button');\n",
       "        button.setAttribute('aria-disabled', 'false');\n",
       "        button.addEventListener('click', on_click_closure(method_name));\n",
       "        button.addEventListener('mouseover', on_mouseover_closure(tooltip));\n",
       "\n",
       "        var icon_img = document.createElement('img');\n",
       "        icon_img.src = '_images/' + image + '.png';\n",
       "        icon_img.srcset = '_images/' + image + '_large.png 2x';\n",
       "        icon_img.alt = tooltip;\n",
       "        button.appendChild(icon_img);\n",
       "\n",
       "        buttonGroup.appendChild(button);\n",
       "    }\n",
       "\n",
       "    if (buttonGroup.hasChildNodes()) {\n",
       "        toolbar.appendChild(buttonGroup);\n",
       "    }\n",
       "\n",
       "    var fmt_picker = document.createElement('select');\n",
       "    fmt_picker.classList = 'mpl-widget';\n",
       "    toolbar.appendChild(fmt_picker);\n",
       "    this.format_dropdown = fmt_picker;\n",
       "\n",
       "    for (var ind in mpl.extensions) {\n",
       "        var fmt = mpl.extensions[ind];\n",
       "        var option = document.createElement('option');\n",
       "        option.selected = fmt === mpl.default_extension;\n",
       "        option.innerHTML = fmt;\n",
       "        fmt_picker.appendChild(option);\n",
       "    }\n",
       "\n",
       "    var status_bar = document.createElement('span');\n",
       "    status_bar.classList = 'mpl-message';\n",
       "    toolbar.appendChild(status_bar);\n",
       "    this.message = status_bar;\n",
       "};\n",
       "\n",
       "mpl.figure.prototype.request_resize = function (x_pixels, y_pixels) {\n",
       "    // Request matplotlib to resize the figure. Matplotlib will then trigger a resize in the client,\n",
       "    // which will in turn request a refresh of the image.\n",
       "    this.send_message('resize', { width: x_pixels, height: y_pixels });\n",
       "};\n",
       "\n",
       "mpl.figure.prototype.send_message = function (type, properties) {\n",
       "    properties['type'] = type;\n",
       "    properties['figure_id'] = this.id;\n",
       "    this.ws.send(JSON.stringify(properties));\n",
       "};\n",
       "\n",
       "mpl.figure.prototype.send_draw_message = function () {\n",
       "    if (!this.waiting) {\n",
       "        this.waiting = true;\n",
       "        this.ws.send(JSON.stringify({ type: 'draw', figure_id: this.id }));\n",
       "    }\n",
       "};\n",
       "\n",
       "mpl.figure.prototype.handle_save = function (fig, _msg) {\n",
       "    var format_dropdown = fig.format_dropdown;\n",
       "    var format = format_dropdown.options[format_dropdown.selectedIndex].value;\n",
       "    fig.ondownload(fig, format);\n",
       "};\n",
       "\n",
       "mpl.figure.prototype.handle_resize = function (fig, msg) {\n",
       "    var size = msg['size'];\n",
       "    if (size[0] !== fig.canvas.width || size[1] !== fig.canvas.height) {\n",
       "        fig._resize_canvas(size[0], size[1], msg['forward']);\n",
       "        fig.send_message('refresh', {});\n",
       "    }\n",
       "};\n",
       "\n",
       "mpl.figure.prototype.handle_rubberband = function (fig, msg) {\n",
       "    var x0 = msg['x0'] / fig.ratio;\n",
       "    var y0 = (fig.canvas.height - msg['y0']) / fig.ratio;\n",
       "    var x1 = msg['x1'] / fig.ratio;\n",
       "    var y1 = (fig.canvas.height - msg['y1']) / fig.ratio;\n",
       "    x0 = Math.floor(x0) + 0.5;\n",
       "    y0 = Math.floor(y0) + 0.5;\n",
       "    x1 = Math.floor(x1) + 0.5;\n",
       "    y1 = Math.floor(y1) + 0.5;\n",
       "    var min_x = Math.min(x0, x1);\n",
       "    var min_y = Math.min(y0, y1);\n",
       "    var width = Math.abs(x1 - x0);\n",
       "    var height = Math.abs(y1 - y0);\n",
       "\n",
       "    fig.rubberband_context.clearRect(\n",
       "        0,\n",
       "        0,\n",
       "        fig.canvas.width / fig.ratio,\n",
       "        fig.canvas.height / fig.ratio\n",
       "    );\n",
       "\n",
       "    fig.rubberband_context.strokeRect(min_x, min_y, width, height);\n",
       "};\n",
       "\n",
       "mpl.figure.prototype.handle_figure_label = function (fig, msg) {\n",
       "    // Updates the figure title.\n",
       "    fig.header.textContent = msg['label'];\n",
       "};\n",
       "\n",
       "mpl.figure.prototype.handle_cursor = function (fig, msg) {\n",
       "    fig.rubberband_canvas.style.cursor = msg['cursor'];\n",
       "};\n",
       "\n",
       "mpl.figure.prototype.handle_message = function (fig, msg) {\n",
       "    fig.message.textContent = msg['message'];\n",
       "};\n",
       "\n",
       "mpl.figure.prototype.handle_draw = function (fig, _msg) {\n",
       "    // Request the server to send over a new figure.\n",
       "    fig.send_draw_message();\n",
       "};\n",
       "\n",
       "mpl.figure.prototype.handle_image_mode = function (fig, msg) {\n",
       "    fig.image_mode = msg['mode'];\n",
       "};\n",
       "\n",
       "mpl.figure.prototype.handle_history_buttons = function (fig, msg) {\n",
       "    for (var key in msg) {\n",
       "        if (!(key in fig.buttons)) {\n",
       "            continue;\n",
       "        }\n",
       "        fig.buttons[key].disabled = !msg[key];\n",
       "        fig.buttons[key].setAttribute('aria-disabled', !msg[key]);\n",
       "    }\n",
       "};\n",
       "\n",
       "mpl.figure.prototype.handle_navigate_mode = function (fig, msg) {\n",
       "    if (msg['mode'] === 'PAN') {\n",
       "        fig.buttons['Pan'].classList.add('active');\n",
       "        fig.buttons['Zoom'].classList.remove('active');\n",
       "    } else if (msg['mode'] === 'ZOOM') {\n",
       "        fig.buttons['Pan'].classList.remove('active');\n",
       "        fig.buttons['Zoom'].classList.add('active');\n",
       "    } else {\n",
       "        fig.buttons['Pan'].classList.remove('active');\n",
       "        fig.buttons['Zoom'].classList.remove('active');\n",
       "    }\n",
       "};\n",
       "\n",
       "mpl.figure.prototype.updated_canvas_event = function () {\n",
       "    // Called whenever the canvas gets updated.\n",
       "    this.send_message('ack', {});\n",
       "};\n",
       "\n",
       "// A function to construct a web socket function for onmessage handling.\n",
       "// Called in the figure constructor.\n",
       "mpl.figure.prototype._make_on_message_function = function (fig) {\n",
       "    return function socket_on_message(evt) {\n",
       "        if (evt.data instanceof Blob) {\n",
       "            var img = evt.data;\n",
       "            if (img.type !== 'image/png') {\n",
       "                /* FIXME: We get \"Resource interpreted as Image but\n",
       "                 * transferred with MIME type text/plain:\" errors on\n",
       "                 * Chrome.  But how to set the MIME type?  It doesn't seem\n",
       "                 * to be part of the websocket stream */\n",
       "                img.type = 'image/png';\n",
       "            }\n",
       "\n",
       "            /* Free the memory for the previous frames */\n",
       "            if (fig.imageObj.src) {\n",
       "                (window.URL || window.webkitURL).revokeObjectURL(\n",
       "                    fig.imageObj.src\n",
       "                );\n",
       "            }\n",
       "\n",
       "            fig.imageObj.src = (window.URL || window.webkitURL).createObjectURL(\n",
       "                img\n",
       "            );\n",
       "            fig.updated_canvas_event();\n",
       "            fig.waiting = false;\n",
       "            return;\n",
       "        } else if (\n",
       "            typeof evt.data === 'string' &&\n",
       "            evt.data.slice(0, 21) === 'data:image/png;base64'\n",
       "        ) {\n",
       "            fig.imageObj.src = evt.data;\n",
       "            fig.updated_canvas_event();\n",
       "            fig.waiting = false;\n",
       "            return;\n",
       "        }\n",
       "\n",
       "        var msg = JSON.parse(evt.data);\n",
       "        var msg_type = msg['type'];\n",
       "\n",
       "        // Call the  \"handle_{type}\" callback, which takes\n",
       "        // the figure and JSON message as its only arguments.\n",
       "        try {\n",
       "            var callback = fig['handle_' + msg_type];\n",
       "        } catch (e) {\n",
       "            console.log(\n",
       "                \"No handler for the '\" + msg_type + \"' message type: \",\n",
       "                msg\n",
       "            );\n",
       "            return;\n",
       "        }\n",
       "\n",
       "        if (callback) {\n",
       "            try {\n",
       "                // console.log(\"Handling '\" + msg_type + \"' message: \", msg);\n",
       "                callback(fig, msg);\n",
       "            } catch (e) {\n",
       "                console.log(\n",
       "                    \"Exception inside the 'handler_\" + msg_type + \"' callback:\",\n",
       "                    e,\n",
       "                    e.stack,\n",
       "                    msg\n",
       "                );\n",
       "            }\n",
       "        }\n",
       "    };\n",
       "};\n",
       "\n",
       "// from https://stackoverflow.com/questions/1114465/getting-mouse-location-in-canvas\n",
       "mpl.findpos = function (e) {\n",
       "    //this section is from http://www.quirksmode.org/js/events_properties.html\n",
       "    var targ;\n",
       "    if (!e) {\n",
       "        e = window.event;\n",
       "    }\n",
       "    if (e.target) {\n",
       "        targ = e.target;\n",
       "    } else if (e.srcElement) {\n",
       "        targ = e.srcElement;\n",
       "    }\n",
       "    if (targ.nodeType === 3) {\n",
       "        // defeat Safari bug\n",
       "        targ = targ.parentNode;\n",
       "    }\n",
       "\n",
       "    // pageX,Y are the mouse positions relative to the document\n",
       "    var boundingRect = targ.getBoundingClientRect();\n",
       "    var x = e.pageX - (boundingRect.left + document.body.scrollLeft);\n",
       "    var y = e.pageY - (boundingRect.top + document.body.scrollTop);\n",
       "\n",
       "    return { x: x, y: y };\n",
       "};\n",
       "\n",
       "/*\n",
       " * return a copy of an object with only non-object keys\n",
       " * we need this to avoid circular references\n",
       " * https://stackoverflow.com/a/24161582/3208463\n",
       " */\n",
       "function simpleKeys(original) {\n",
       "    return Object.keys(original).reduce(function (obj, key) {\n",
       "        if (typeof original[key] !== 'object') {\n",
       "            obj[key] = original[key];\n",
       "        }\n",
       "        return obj;\n",
       "    }, {});\n",
       "}\n",
       "\n",
       "mpl.figure.prototype.mouse_event = function (event, name) {\n",
       "    var canvas_pos = mpl.findpos(event);\n",
       "\n",
       "    if (name === 'button_press') {\n",
       "        this.canvas.focus();\n",
       "        this.canvas_div.focus();\n",
       "    }\n",
       "\n",
       "    var x = canvas_pos.x * this.ratio;\n",
       "    var y = canvas_pos.y * this.ratio;\n",
       "\n",
       "    this.send_message(name, {\n",
       "        x: x,\n",
       "        y: y,\n",
       "        button: event.button,\n",
       "        step: event.step,\n",
       "        guiEvent: simpleKeys(event),\n",
       "    });\n",
       "\n",
       "    /* This prevents the web browser from automatically changing to\n",
       "     * the text insertion cursor when the button is pressed.  We want\n",
       "     * to control all of the cursor setting manually through the\n",
       "     * 'cursor' event from matplotlib */\n",
       "    event.preventDefault();\n",
       "    return false;\n",
       "};\n",
       "\n",
       "mpl.figure.prototype._key_event_extra = function (_event, _name) {\n",
       "    // Handle any extra behaviour associated with a key event\n",
       "};\n",
       "\n",
       "mpl.figure.prototype.key_event = function (event, name) {\n",
       "    // Prevent repeat events\n",
       "    if (name === 'key_press') {\n",
       "        if (event.key === this._key) {\n",
       "            return;\n",
       "        } else {\n",
       "            this._key = event.key;\n",
       "        }\n",
       "    }\n",
       "    if (name === 'key_release') {\n",
       "        this._key = null;\n",
       "    }\n",
       "\n",
       "    var value = '';\n",
       "    if (event.ctrlKey && event.key !== 'Control') {\n",
       "        value += 'ctrl+';\n",
       "    }\n",
       "    else if (event.altKey && event.key !== 'Alt') {\n",
       "        value += 'alt+';\n",
       "    }\n",
       "    else if (event.shiftKey && event.key !== 'Shift') {\n",
       "        value += 'shift+';\n",
       "    }\n",
       "\n",
       "    value += 'k' + event.key;\n",
       "\n",
       "    this._key_event_extra(event, name);\n",
       "\n",
       "    this.send_message(name, { key: value, guiEvent: simpleKeys(event) });\n",
       "    return false;\n",
       "};\n",
       "\n",
       "mpl.figure.prototype.toolbar_button_onclick = function (name) {\n",
       "    if (name === 'download') {\n",
       "        this.handle_save(this, null);\n",
       "    } else {\n",
       "        this.send_message('toolbar_button', { name: name });\n",
       "    }\n",
       "};\n",
       "\n",
       "mpl.figure.prototype.toolbar_button_onmouseover = function (tooltip) {\n",
       "    this.message.textContent = tooltip;\n",
       "};\n",
       "\n",
       "///////////////// REMAINING CONTENT GENERATED BY embed_js.py /////////////////\n",
       "// prettier-ignore\n",
       "var _JSXTOOLS_RESIZE_OBSERVER=function(A){var t,i=new WeakMap,n=new WeakMap,a=new WeakMap,r=new WeakMap,o=new Set;function s(e){if(!(this instanceof s))throw new TypeError(\"Constructor requires 'new' operator\");i.set(this,e)}function h(){throw new TypeError(\"Function is not a constructor\")}function c(e,t,i,n){e=0 in arguments?Number(arguments[0]):0,t=1 in arguments?Number(arguments[1]):0,i=2 in arguments?Number(arguments[2]):0,n=3 in arguments?Number(arguments[3]):0,this.right=(this.x=this.left=e)+(this.width=i),this.bottom=(this.y=this.top=t)+(this.height=n),Object.freeze(this)}function d(){t=requestAnimationFrame(d);var s=new WeakMap,p=new Set;o.forEach((function(t){r.get(t).forEach((function(i){var r=t instanceof window.SVGElement,o=a.get(t),d=r?0:parseFloat(o.paddingTop),f=r?0:parseFloat(o.paddingRight),l=r?0:parseFloat(o.paddingBottom),u=r?0:parseFloat(o.paddingLeft),g=r?0:parseFloat(o.borderTopWidth),m=r?0:parseFloat(o.borderRightWidth),w=r?0:parseFloat(o.borderBottomWidth),b=u+f,F=d+l,v=(r?0:parseFloat(o.borderLeftWidth))+m,W=g+w,y=r?0:t.offsetHeight-W-t.clientHeight,E=r?0:t.offsetWidth-v-t.clientWidth,R=b+v,z=F+W,M=r?t.width:parseFloat(o.width)-R-E,O=r?t.height:parseFloat(o.height)-z-y;if(n.has(t)){var k=n.get(t);if(k[0]===M&&k[1]===O)return}n.set(t,[M,O]);var S=Object.create(h.prototype);S.target=t,S.contentRect=new c(u,d,M,O),s.has(i)||(s.set(i,[]),p.add(i)),s.get(i).push(S)}))})),p.forEach((function(e){i.get(e).call(e,s.get(e),e)}))}return s.prototype.observe=function(i){if(i instanceof window.Element){r.has(i)||(r.set(i,new Set),o.add(i),a.set(i,window.getComputedStyle(i)));var n=r.get(i);n.has(this)||n.add(this),cancelAnimationFrame(t),t=requestAnimationFrame(d)}},s.prototype.unobserve=function(i){if(i instanceof window.Element&&r.has(i)){var n=r.get(i);n.has(this)&&(n.delete(this),n.size||(r.delete(i),o.delete(i))),n.size||r.delete(i),o.size||cancelAnimationFrame(t)}},A.DOMRectReadOnly=c,A.ResizeObserver=s,A.ResizeObserverEntry=h,A}; // eslint-disable-line\n",
       "mpl.toolbar_items = [[\"Home\", \"Reset original view\", \"fa fa-home icon-home\", \"home\"], [\"Back\", \"Back to previous view\", \"fa fa-arrow-left icon-arrow-left\", \"back\"], [\"Forward\", \"Forward to next view\", \"fa fa-arrow-right icon-arrow-right\", \"forward\"], [\"\", \"\", \"\", \"\"], [\"Pan\", \"Left button pans, Right button zooms\\nx/y fixes axis, CTRL fixes aspect\", \"fa fa-arrows icon-move\", \"pan\"], [\"Zoom\", \"Zoom to rectangle\\nx/y fixes axis\", \"fa fa-square-o icon-check-empty\", \"zoom\"], [\"\", \"\", \"\", \"\"], [\"Download\", \"Download plot\", \"fa fa-floppy-o icon-save\", \"download\"]];\n",
       "\n",
       "mpl.extensions = [\"eps\", \"jpeg\", \"pgf\", \"pdf\", \"png\", \"ps\", \"raw\", \"svg\", \"tif\"];\n",
       "\n",
       "mpl.default_extension = \"png\";/* global mpl */\n",
       "\n",
       "var comm_websocket_adapter = function (comm) {\n",
       "    // Create a \"websocket\"-like object which calls the given IPython comm\n",
       "    // object with the appropriate methods. Currently this is a non binary\n",
       "    // socket, so there is still some room for performance tuning.\n",
       "    var ws = {};\n",
       "\n",
       "    ws.binaryType = comm.kernel.ws.binaryType;\n",
       "    ws.readyState = comm.kernel.ws.readyState;\n",
       "    function updateReadyState(_event) {\n",
       "        if (comm.kernel.ws) {\n",
       "            ws.readyState = comm.kernel.ws.readyState;\n",
       "        } else {\n",
       "            ws.readyState = 3; // Closed state.\n",
       "        }\n",
       "    }\n",
       "    comm.kernel.ws.addEventListener('open', updateReadyState);\n",
       "    comm.kernel.ws.addEventListener('close', updateReadyState);\n",
       "    comm.kernel.ws.addEventListener('error', updateReadyState);\n",
       "\n",
       "    ws.close = function () {\n",
       "        comm.close();\n",
       "    };\n",
       "    ws.send = function (m) {\n",
       "        //console.log('sending', m);\n",
       "        comm.send(m);\n",
       "    };\n",
       "    // Register the callback with on_msg.\n",
       "    comm.on_msg(function (msg) {\n",
       "        //console.log('receiving', msg['content']['data'], msg);\n",
       "        var data = msg['content']['data'];\n",
       "        if (data['blob'] !== undefined) {\n",
       "            data = {\n",
       "                data: new Blob(msg['buffers'], { type: data['blob'] }),\n",
       "            };\n",
       "        }\n",
       "        // Pass the mpl event to the overridden (by mpl) onmessage function.\n",
       "        ws.onmessage(data);\n",
       "    });\n",
       "    return ws;\n",
       "};\n",
       "\n",
       "mpl.mpl_figure_comm = function (comm, msg) {\n",
       "    // This is the function which gets called when the mpl process\n",
       "    // starts-up an IPython Comm through the \"matplotlib\" channel.\n",
       "\n",
       "    var id = msg.content.data.id;\n",
       "    // Get hold of the div created by the display call when the Comm\n",
       "    // socket was opened in Python.\n",
       "    var element = document.getElementById(id);\n",
       "    var ws_proxy = comm_websocket_adapter(comm);\n",
       "\n",
       "    function ondownload(figure, _format) {\n",
       "        window.open(figure.canvas.toDataURL());\n",
       "    }\n",
       "\n",
       "    var fig = new mpl.figure(id, ws_proxy, ondownload, element);\n",
       "\n",
       "    // Call onopen now - mpl needs it, as it is assuming we've passed it a real\n",
       "    // web socket which is closed, not our websocket->open comm proxy.\n",
       "    ws_proxy.onopen();\n",
       "\n",
       "    fig.parent_element = element;\n",
       "    fig.cell_info = mpl.find_output_cell(\"<div id='\" + id + \"'></div>\");\n",
       "    if (!fig.cell_info) {\n",
       "        console.error('Failed to find cell for figure', id, fig);\n",
       "        return;\n",
       "    }\n",
       "    fig.cell_info[0].output_area.element.on(\n",
       "        'cleared',\n",
       "        { fig: fig },\n",
       "        fig._remove_fig_handler\n",
       "    );\n",
       "};\n",
       "\n",
       "mpl.figure.prototype.handle_close = function (fig, msg) {\n",
       "    var width = fig.canvas.width / fig.ratio;\n",
       "    fig.cell_info[0].output_area.element.off(\n",
       "        'cleared',\n",
       "        fig._remove_fig_handler\n",
       "    );\n",
       "    fig.resizeObserverInstance.unobserve(fig.canvas_div);\n",
       "\n",
       "    // Update the output cell to use the data from the current canvas.\n",
       "    fig.push_to_output();\n",
       "    var dataURL = fig.canvas.toDataURL();\n",
       "    // Re-enable the keyboard manager in IPython - without this line, in FF,\n",
       "    // the notebook keyboard shortcuts fail.\n",
       "    IPython.keyboard_manager.enable();\n",
       "    fig.parent_element.innerHTML =\n",
       "        '<img src=\"' + dataURL + '\" width=\"' + width + '\">';\n",
       "    fig.close_ws(fig, msg);\n",
       "};\n",
       "\n",
       "mpl.figure.prototype.close_ws = function (fig, msg) {\n",
       "    fig.send_message('closing', msg);\n",
       "    // fig.ws.close()\n",
       "};\n",
       "\n",
       "mpl.figure.prototype.push_to_output = function (_remove_interactive) {\n",
       "    // Turn the data on the canvas into data in the output cell.\n",
       "    var width = this.canvas.width / this.ratio;\n",
       "    var dataURL = this.canvas.toDataURL();\n",
       "    this.cell_info[1]['text/html'] =\n",
       "        '<img src=\"' + dataURL + '\" width=\"' + width + '\">';\n",
       "};\n",
       "\n",
       "mpl.figure.prototype.updated_canvas_event = function () {\n",
       "    // Tell IPython that the notebook contents must change.\n",
       "    IPython.notebook.set_dirty(true);\n",
       "    this.send_message('ack', {});\n",
       "    var fig = this;\n",
       "    // Wait a second, then push the new image to the DOM so\n",
       "    // that it is saved nicely (might be nice to debounce this).\n",
       "    setTimeout(function () {\n",
       "        fig.push_to_output();\n",
       "    }, 1000);\n",
       "};\n",
       "\n",
       "mpl.figure.prototype._init_toolbar = function () {\n",
       "    var fig = this;\n",
       "\n",
       "    var toolbar = document.createElement('div');\n",
       "    toolbar.classList = 'btn-toolbar';\n",
       "    this.root.appendChild(toolbar);\n",
       "\n",
       "    function on_click_closure(name) {\n",
       "        return function (_event) {\n",
       "            return fig.toolbar_button_onclick(name);\n",
       "        };\n",
       "    }\n",
       "\n",
       "    function on_mouseover_closure(tooltip) {\n",
       "        return function (event) {\n",
       "            if (!event.currentTarget.disabled) {\n",
       "                return fig.toolbar_button_onmouseover(tooltip);\n",
       "            }\n",
       "        };\n",
       "    }\n",
       "\n",
       "    fig.buttons = {};\n",
       "    var buttonGroup = document.createElement('div');\n",
       "    buttonGroup.classList = 'btn-group';\n",
       "    var button;\n",
       "    for (var toolbar_ind in mpl.toolbar_items) {\n",
       "        var name = mpl.toolbar_items[toolbar_ind][0];\n",
       "        var tooltip = mpl.toolbar_items[toolbar_ind][1];\n",
       "        var image = mpl.toolbar_items[toolbar_ind][2];\n",
       "        var method_name = mpl.toolbar_items[toolbar_ind][3];\n",
       "\n",
       "        if (!name) {\n",
       "            /* Instead of a spacer, we start a new button group. */\n",
       "            if (buttonGroup.hasChildNodes()) {\n",
       "                toolbar.appendChild(buttonGroup);\n",
       "            }\n",
       "            buttonGroup = document.createElement('div');\n",
       "            buttonGroup.classList = 'btn-group';\n",
       "            continue;\n",
       "        }\n",
       "\n",
       "        button = fig.buttons[name] = document.createElement('button');\n",
       "        button.classList = 'btn btn-default';\n",
       "        button.href = '#';\n",
       "        button.title = name;\n",
       "        button.innerHTML = '<i class=\"fa ' + image + ' fa-lg\"></i>';\n",
       "        button.addEventListener('click', on_click_closure(method_name));\n",
       "        button.addEventListener('mouseover', on_mouseover_closure(tooltip));\n",
       "        buttonGroup.appendChild(button);\n",
       "    }\n",
       "\n",
       "    if (buttonGroup.hasChildNodes()) {\n",
       "        toolbar.appendChild(buttonGroup);\n",
       "    }\n",
       "\n",
       "    // Add the status bar.\n",
       "    var status_bar = document.createElement('span');\n",
       "    status_bar.classList = 'mpl-message pull-right';\n",
       "    toolbar.appendChild(status_bar);\n",
       "    this.message = status_bar;\n",
       "\n",
       "    // Add the close button to the window.\n",
       "    var buttongrp = document.createElement('div');\n",
       "    buttongrp.classList = 'btn-group inline pull-right';\n",
       "    button = document.createElement('button');\n",
       "    button.classList = 'btn btn-mini btn-primary';\n",
       "    button.href = '#';\n",
       "    button.title = 'Stop Interaction';\n",
       "    button.innerHTML = '<i class=\"fa fa-power-off icon-remove icon-large\"></i>';\n",
       "    button.addEventListener('click', function (_evt) {\n",
       "        fig.handle_close(fig, {});\n",
       "    });\n",
       "    button.addEventListener(\n",
       "        'mouseover',\n",
       "        on_mouseover_closure('Stop Interaction')\n",
       "    );\n",
       "    buttongrp.appendChild(button);\n",
       "    var titlebar = this.root.querySelector('.ui-dialog-titlebar');\n",
       "    titlebar.insertBefore(buttongrp, titlebar.firstChild);\n",
       "};\n",
       "\n",
       "mpl.figure.prototype._remove_fig_handler = function (event) {\n",
       "    var fig = event.data.fig;\n",
       "    if (event.target !== this) {\n",
       "        // Ignore bubbled events from children.\n",
       "        return;\n",
       "    }\n",
       "    fig.close_ws(fig, {});\n",
       "};\n",
       "\n",
       "mpl.figure.prototype._root_extra_style = function (el) {\n",
       "    el.style.boxSizing = 'content-box'; // override notebook setting of border-box.\n",
       "};\n",
       "\n",
       "mpl.figure.prototype._canvas_extra_style = function (el) {\n",
       "    // this is important to make the div 'focusable\n",
       "    el.setAttribute('tabindex', 0);\n",
       "    // reach out to IPython and tell the keyboard manager to turn it's self\n",
       "    // off when our div gets focus\n",
       "\n",
       "    // location in version 3\n",
       "    if (IPython.notebook.keyboard_manager) {\n",
       "        IPython.notebook.keyboard_manager.register_events(el);\n",
       "    } else {\n",
       "        // location in version 2\n",
       "        IPython.keyboard_manager.register_events(el);\n",
       "    }\n",
       "};\n",
       "\n",
       "mpl.figure.prototype._key_event_extra = function (event, _name) {\n",
       "    // Check for shift+enter\n",
       "    if (event.shiftKey && event.which === 13) {\n",
       "        this.canvas_div.blur();\n",
       "        // select the cell after this one\n",
       "        var index = IPython.notebook.find_cell_index(this.cell_info[0]);\n",
       "        IPython.notebook.select(index + 1);\n",
       "    }\n",
       "};\n",
       "\n",
       "mpl.figure.prototype.handle_save = function (fig, _msg) {\n",
       "    fig.ondownload(fig, null);\n",
       "};\n",
       "\n",
       "mpl.find_output_cell = function (html_output) {\n",
       "    // Return the cell and output element which can be found *uniquely* in the notebook.\n",
       "    // Note - this is a bit hacky, but it is done because the \"notebook_saving.Notebook\"\n",
       "    // IPython event is triggered only after the cells have been serialised, which for\n",
       "    // our purposes (turning an active figure into a static one), is too late.\n",
       "    var cells = IPython.notebook.get_cells();\n",
       "    var ncells = cells.length;\n",
       "    for (var i = 0; i < ncells; i++) {\n",
       "        var cell = cells[i];\n",
       "        if (cell.cell_type === 'code') {\n",
       "            for (var j = 0; j < cell.output_area.outputs.length; j++) {\n",
       "                var data = cell.output_area.outputs[j];\n",
       "                if (data.data) {\n",
       "                    // IPython >= 3 moved mimebundle to data attribute of output\n",
       "                    data = data.data;\n",
       "                }\n",
       "                if (data['text/html'] === html_output) {\n",
       "                    return [cell, data, j];\n",
       "                }\n",
       "            }\n",
       "        }\n",
       "    }\n",
       "};\n",
       "\n",
       "// Register the function which deals with the matplotlib target/channel.\n",
       "// The kernel may be null if the page has been refreshed.\n",
       "if (IPython.notebook.kernel !== null) {\n",
       "    IPython.notebook.kernel.comm_manager.register_target(\n",
       "        'matplotlib',\n",
       "        mpl.mpl_figure_comm\n",
       "    );\n",
       "}\n"
      ],
      "text/plain": [
       "<IPython.core.display.Javascript object>"
      ]
     },
     "metadata": {},
     "output_type": "display_data"
    },
    {
     "data": {
      "text/html": [
       "<img src=\"data:image/png;base64,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\" width=\"700\">"
      ],
      "text/plain": [
       "<IPython.core.display.HTML object>"
      ]
     },
     "metadata": {},
     "output_type": "display_data"
    }
   ],
   "source": [
    "%matplotlib notebook\n",
    "\n",
    "# если вы работаете не в google colab, а в jupyter notebook локально,\n",
    "# замените строчку выше на эту:\n",
    "# %matplotlib notebook\n",
    "# тогда можно будет 3D-график поворачивать и рассматривать с разных сторон\n",
    "\n",
    "fig = plt.figure(figsize=(7, 7))\n",
    "ax = fig.add_subplot(projection='3d')\n",
    "\n",
    "# визуализируем точки обучающей выборки\n",
    "x_points = X_train['масса тела']\n",
    "y_points = X_train['длина клюва']\n",
    "z_points = y_train\n",
    "\n",
    "ax.scatter(x_points, y_points, z_points)\n",
    "\n",
    "ax.set_xlabel('масса тела');\n",
    "ax.set_ylabel('длина клюва');\n",
    "ax.set_zlabel('длина плавника');\n",
    "\n",
    "plt.show()"
   ]
  },
  {
   "cell_type": "markdown",
   "id": "iWxDwraT4ZCz",
   "metadata": {
    "id": "iWxDwraT4ZCz"
   },
   "source": [
    "Обучим модель линейной регрессии.\n",
    "\n",
    "Каждый элемент — это массив значений двух признаков."
   ]
  },
  {
   "cell_type": "code",
   "execution_count": 36,
   "id": "E6v39Yci4Yj5",
   "metadata": {
    "id": "E6v39Yci4Yj5"
   },
   "outputs": [
    {
     "data": {
      "text/plain": [
       "LinearRegression()"
      ]
     },
     "execution_count": 36,
     "metadata": {},
     "output_type": "execute_result"
    }
   ],
   "source": [
    "lr = LinearRegression()\n",
    "lr.fit(X_train, y_train)"
   ]
  },
  {
   "cell_type": "markdown",
   "id": "UaUehP4G4c-J",
   "metadata": {
    "id": "UaUehP4G4c-J"
   },
   "source": [
    "Получим предсказания:"
   ]
  },
  {
   "cell_type": "code",
   "execution_count": 37,
   "id": "EplaXK6G4rHN",
   "metadata": {
    "id": "EplaXK6G4rHN"
   },
   "outputs": [
    {
     "data": {
      "text/plain": [
       "array([209.84839098, 205.69579499, 188.80443225, 224.62097701,\n",
       "       190.98255289, 207.88178606, 204.77239863, 192.73651775,\n",
       "       190.76991283, 192.56860509, 200.77534747, 218.49390567,\n",
       "       182.9493449 , 202.37489185, 212.58846917, 192.51825594,\n",
       "       200.33432648, 193.66553584, 186.50312637, 203.01730943,\n",
       "       216.03705495, 190.10950568, 191.26353167, 185.95915838,\n",
       "       206.73338182, 219.75537603, 208.32393141, 198.03302059,\n",
       "       214.88752636, 201.55669117, 211.87546418, 203.30503429,\n",
       "       189.83752169, 199.02700436, 192.41755765, 180.86517647,\n",
       "       187.70075541, 223.74568111, 201.10892409, 203.89035664,\n",
       "       200.71825224, 190.75866935, 197.21931731, 208.65076194,\n",
       "       181.36104401, 199.31810226, 195.09829191, 192.96602303,\n",
       "       221.94474015, 207.94450303, 192.42880113, 197.67495483,\n",
       "       209.92347578, 189.02044536, 212.69928659, 216.36163679,\n",
       "       180.7062586 , 201.83092386, 185.73977223, 210.66884035,\n",
       "       222.1618776 , 201.60029423, 199.18929527, 219.15431281,\n",
       "       211.77251719, 211.33149619, 198.42481679, 209.15000251,\n",
       "       181.95985853, 203.61837265, 187.97273941, 214.77558459,\n",
       "       187.20826092, 233.60231701, 191.10124075, 198.76176645,\n",
       "       210.84012605, 184.09550045, 200.49886609, 208.81530155,\n",
       "       188.03208334, 193.62080844, 214.55394974, 193.84806502,\n",
       "       199.02475566, 194.64602743, 228.51058379, 197.5663861 ,\n",
       "       194.48373652, 189.8307756 , 204.00454711, 198.16070323,\n",
       "       209.85513707, 204.62584859, 187.69850672, 215.26695473,\n",
       "       197.87522707, 221.22948646, 193.83907024, 196.28917487,\n",
       "       218.44130783, 211.06400959, 189.45134723, 178.95454244,\n",
       "       224.78326793, 212.53137393, 217.67570499, 189.40212243,\n",
       "       193.62867887, 200.24037427, 206.7401279 , 201.21861717,\n",
       "       207.68376252, 185.0748677 , 195.14189497, 204.27990414,\n",
       "       190.43746056, 198.22229586, 184.03390783, 195.43636592,\n",
       "       198.80087212, 205.864832  , 220.08445526, 186.44378244,\n",
       "       204.98054131, 201.97972261, 207.06246104, 209.52943089,\n",
       "       192.69066599, 190.38598706, 231.17782588, 189.6102651 ,\n",
       "       209.41636477, 208.48622232, 190.82026197, 206.07522336,\n",
       "       222.98682436, 200.77422313, 187.37504923, 189.89236822,\n",
       "       225.44817247, 189.39650069, 189.4670881 , 211.22292747,\n",
       "       213.73574907, 223.74568111, 201.76483385, 196.78279371,\n",
       "       192.18692802, 201.89701388, 197.48905261, 192.79248863,\n",
       "       208.3284288 , 197.07164291, 199.07510481, 198.60284858,\n",
       "       187.70862585, 224.83586577, 192.0291345 , 218.93267797,\n",
       "       201.92037868, 211.55200669, 191.08774857, 225.66980731,\n",
       "       216.41423463, 195.25158804, 196.03293174, 218.44580522,\n",
       "       198.24566066, 214.83717721, 187.14779265, 186.55122682,\n",
       "       223.52629496, 188.8547814 , 222.05218453, 189.50844246,\n",
       "       221.83729577, 198.20880368, 206.40655129, 182.69085308,\n",
       "       221.0168464 , 222.8726339 , 194.31694821, 204.37722939,\n",
       "       215.3766478 , 178.8996959 , 200.71600355, 199.15018961,\n",
       "       212.4765274 , 206.90241882, 182.45122867, 201.87452692,\n",
       "       197.71293615, 190.98480159, 196.9563281 , 191.30713472,\n",
       "       227.02298119, 224.28964909, 208.65301063, 189.18161193,\n",
       "       191.54788348, 198.15620584, 185.30099993, 184.96517462,\n",
       "       198.87820561, 194.49497999, 213.07759062, 189.55654291,\n",
       "       191.52652088, 199.95040071, 220.62842324, 213.03623625,\n",
       "       177.74566991, 190.45207708, 191.36422996, 196.7850424 ,\n",
       "       188.97346926, 210.73043298, 185.13083858, 204.33362633,\n",
       "       201.64389729, 222.81553866, 204.50940942, 192.62232728,\n",
       "       184.79838631, 212.04337684, 203.19758991, 192.67829817,\n",
       "       178.51352144, 221.99733799, 206.67853528, 188.19887164,\n",
       "       184.69319063, 198.54687769, 214.61779106, 210.02192538,\n",
       "       192.42655243, 193.11257308, 219.36695288, 206.63493222,\n",
       "       228.28445156, 205.31299358, 202.85052112, 203.61162656,\n",
       "       181.24910223, 225.32948461, 182.89000097, 181.19650439,\n",
       "       196.18173049, 186.55122682, 190.15985483, 194.37179475,\n",
       "       195.86389474, 222.92972913, 194.42888998, 201.7167334 ,\n",
       "       200.82007488, 219.21140805, 188.80443225, 182.72433701,\n",
       "       186.00276144, 220.07995787, 208.76607675, 223.63598803,\n",
       "       214.7710872 , 201.49060116, 200.13292989, 226.91553681,\n",
       "       206.01925248, 199.42554664, 196.03518044, 207.50348204,\n",
       "       180.76222948, 182.56429479, 203.19534122, 185.46104215,\n",
       "       192.25526673, 182.50382651, 195.53481551, 185.84721661,\n",
       "       206.25325515, 197.11187293, 185.9524123 ])"
      ]
     },
     "execution_count": 37,
     "metadata": {},
     "output_type": "execute_result"
    }
   ],
   "source": [
    "y_train_predicted = lr.predict(X_train)\n",
    "\n",
    "y_train_predicted"
   ]
  },
  {
   "cell_type": "markdown",
   "id": "AbEJ_sct4uWK",
   "metadata": {
    "id": "AbEJ_sct4uWK"
   },
   "source": [
    "Теперь визуализируем плоскость, которую задает регрессия. \n",
    "\n",
    "Выведем коэффициенты, которые модель поставила в соответствие признакам. \n",
    "- coef_ — это коэффициенты $k_1$ и $k_2$, соответствующие двум признакам в нашем датасете (\"масса тела\" и \"длины клюва\")\n",
    "- intercept_ — это ксвободный член, коэффициент $k_0$"
   ]
  },
  {
   "cell_type": "code",
   "execution_count": 38,
   "id": "85GjyWUo5Fv1",
   "metadata": {
    "id": "85GjyWUo5Fv1"
   },
   "outputs": [
    {
     "data": {
      "text/plain": [
       "(array([0.0131182 , 0.54846538]), 121.54870011318171)"
      ]
     },
     "execution_count": 38,
     "metadata": {},
     "output_type": "execute_result"
    }
   ],
   "source": [
    "lr.coef_, lr.intercept_"
   ]
  },
  {
   "cell_type": "markdown",
   "id": "9BIQnIoV5O2d",
   "metadata": {
    "id": "9BIQnIoV5O2d"
   },
   "source": [
    "Зададим уравнение плоскости, которую задает линейная регрессия:\n",
    "$$y = k_1 \\cdot (масса \\ тела) + k_2 \\cdot (длина \\ клюва) + k_0$$"
   ]
  },
  {
   "cell_type": "code",
   "execution_count": 39,
   "id": "RR5S8JW_5H4s",
   "metadata": {
    "id": "RR5S8JW_5H4s"
   },
   "outputs": [],
   "source": [
    "def f_plane(x1, x2):\n",
    "    return lr.coef_[0]*x1 + lr.coef_[1]*x2 + lr.intercept_\n",
    "\n",
    "# то же самое можно было записать в виде lambda-функции:\n",
    "# f_plane = lambda x1, x2: lr.coef_[0]*x1 + lr.coef_[1]*x2 + lr.intercept_"
   ]
  },
  {
   "cell_type": "markdown",
   "id": "Q1_NSOGv5kLD",
   "metadata": {
    "id": "Q1_NSOGv5kLD"
   },
   "source": [
    "Визуализируем плоскость, точки выборки и ответы линейной регрессии на точки выборки:"
   ]
  },
  {
   "cell_type": "code",
   "execution_count": 40,
   "id": "Jv4SU7Pn55CV",
   "metadata": {
    "id": "Jv4SU7Pn55CV"
   },
   "outputs": [
    {
     "data": {
      "text/plain": [
       "(33.1, 59.6)"
      ]
     },
     "execution_count": 40,
     "metadata": {},
     "output_type": "execute_result"
    }
   ],
   "source": [
    "X_train['длина клюва'].min(), X_train['длина клюва'].max()"
   ]
  },
  {
   "cell_type": "code",
   "execution_count": 43,
   "id": "mP3xYfR-5hUq",
   "metadata": {
    "id": "mP3xYfR-5hUq"
   },
   "outputs": [
    {
     "data": {
      "application/javascript": [
       "/* Put everything inside the global mpl namespace */\n",
       "/* global mpl */\n",
       "window.mpl = {};\n",
       "\n",
       "mpl.get_websocket_type = function () {\n",
       "    if (typeof WebSocket !== 'undefined') {\n",
       "        return WebSocket;\n",
       "    } else if (typeof MozWebSocket !== 'undefined') {\n",
       "        return MozWebSocket;\n",
       "    } else {\n",
       "        alert(\n",
       "            'Your browser does not have WebSocket support. ' +\n",
       "                'Please try Chrome, Safari or Firefox ≥ 6. ' +\n",
       "                'Firefox 4 and 5 are also supported but you ' +\n",
       "                'have to enable WebSockets in about:config.'\n",
       "        );\n",
       "    }\n",
       "};\n",
       "\n",
       "mpl.figure = function (figure_id, websocket, ondownload, parent_element) {\n",
       "    this.id = figure_id;\n",
       "\n",
       "    this.ws = websocket;\n",
       "\n",
       "    this.supports_binary = this.ws.binaryType !== undefined;\n",
       "\n",
       "    if (!this.supports_binary) {\n",
       "        var warnings = document.getElementById('mpl-warnings');\n",
       "        if (warnings) {\n",
       "            warnings.style.display = 'block';\n",
       "            warnings.textContent =\n",
       "                'This browser does not support binary websocket messages. ' +\n",
       "                'Performance may be slow.';\n",
       "        }\n",
       "    }\n",
       "\n",
       "    this.imageObj = new Image();\n",
       "\n",
       "    this.context = undefined;\n",
       "    this.message = undefined;\n",
       "    this.canvas = undefined;\n",
       "    this.rubberband_canvas = undefined;\n",
       "    this.rubberband_context = undefined;\n",
       "    this.format_dropdown = undefined;\n",
       "\n",
       "    this.image_mode = 'full';\n",
       "\n",
       "    this.root = document.createElement('div');\n",
       "    this.root.setAttribute('style', 'display: inline-block');\n",
       "    this._root_extra_style(this.root);\n",
       "\n",
       "    parent_element.appendChild(this.root);\n",
       "\n",
       "    this._init_header(this);\n",
       "    this._init_canvas(this);\n",
       "    this._init_toolbar(this);\n",
       "\n",
       "    var fig = this;\n",
       "\n",
       "    this.waiting = false;\n",
       "\n",
       "    this.ws.onopen = function () {\n",
       "        fig.send_message('supports_binary', { value: fig.supports_binary });\n",
       "        fig.send_message('send_image_mode', {});\n",
       "        if (fig.ratio !== 1) {\n",
       "            fig.send_message('set_device_pixel_ratio', {\n",
       "                device_pixel_ratio: fig.ratio,\n",
       "            });\n",
       "        }\n",
       "        fig.send_message('refresh', {});\n",
       "    };\n",
       "\n",
       "    this.imageObj.onload = function () {\n",
       "        if (fig.image_mode === 'full') {\n",
       "            // Full images could contain transparency (where diff images\n",
       "            // almost always do), so we need to clear the canvas so that\n",
       "            // there is no ghosting.\n",
       "            fig.context.clearRect(0, 0, fig.canvas.width, fig.canvas.height);\n",
       "        }\n",
       "        fig.context.drawImage(fig.imageObj, 0, 0);\n",
       "    };\n",
       "\n",
       "    this.imageObj.onunload = function () {\n",
       "        fig.ws.close();\n",
       "    };\n",
       "\n",
       "    this.ws.onmessage = this._make_on_message_function(this);\n",
       "\n",
       "    this.ondownload = ondownload;\n",
       "};\n",
       "\n",
       "mpl.figure.prototype._init_header = function () {\n",
       "    var titlebar = document.createElement('div');\n",
       "    titlebar.classList =\n",
       "        'ui-dialog-titlebar ui-widget-header ui-corner-all ui-helper-clearfix';\n",
       "    var titletext = document.createElement('div');\n",
       "    titletext.classList = 'ui-dialog-title';\n",
       "    titletext.setAttribute(\n",
       "        'style',\n",
       "        'width: 100%; text-align: center; padding: 3px;'\n",
       "    );\n",
       "    titlebar.appendChild(titletext);\n",
       "    this.root.appendChild(titlebar);\n",
       "    this.header = titletext;\n",
       "};\n",
       "\n",
       "mpl.figure.prototype._canvas_extra_style = function (_canvas_div) {};\n",
       "\n",
       "mpl.figure.prototype._root_extra_style = function (_canvas_div) {};\n",
       "\n",
       "mpl.figure.prototype._init_canvas = function () {\n",
       "    var fig = this;\n",
       "\n",
       "    var canvas_div = (this.canvas_div = document.createElement('div'));\n",
       "    canvas_div.setAttribute(\n",
       "        'style',\n",
       "        'border: 1px solid #ddd;' +\n",
       "            'box-sizing: content-box;' +\n",
       "            'clear: both;' +\n",
       "            'min-height: 1px;' +\n",
       "            'min-width: 1px;' +\n",
       "            'outline: 0;' +\n",
       "            'overflow: hidden;' +\n",
       "            'position: relative;' +\n",
       "            'resize: both;'\n",
       "    );\n",
       "\n",
       "    function on_keyboard_event_closure(name) {\n",
       "        return function (event) {\n",
       "            return fig.key_event(event, name);\n",
       "        };\n",
       "    }\n",
       "\n",
       "    canvas_div.addEventListener(\n",
       "        'keydown',\n",
       "        on_keyboard_event_closure('key_press')\n",
       "    );\n",
       "    canvas_div.addEventListener(\n",
       "        'keyup',\n",
       "        on_keyboard_event_closure('key_release')\n",
       "    );\n",
       "\n",
       "    this._canvas_extra_style(canvas_div);\n",
       "    this.root.appendChild(canvas_div);\n",
       "\n",
       "    var canvas = (this.canvas = document.createElement('canvas'));\n",
       "    canvas.classList.add('mpl-canvas');\n",
       "    canvas.setAttribute('style', 'box-sizing: content-box;');\n",
       "\n",
       "    this.context = canvas.getContext('2d');\n",
       "\n",
       "    var backingStore =\n",
       "        this.context.backingStorePixelRatio ||\n",
       "        this.context.webkitBackingStorePixelRatio ||\n",
       "        this.context.mozBackingStorePixelRatio ||\n",
       "        this.context.msBackingStorePixelRatio ||\n",
       "        this.context.oBackingStorePixelRatio ||\n",
       "        this.context.backingStorePixelRatio ||\n",
       "        1;\n",
       "\n",
       "    this.ratio = (window.devicePixelRatio || 1) / backingStore;\n",
       "\n",
       "    var rubberband_canvas = (this.rubberband_canvas = document.createElement(\n",
       "        'canvas'\n",
       "    ));\n",
       "    rubberband_canvas.setAttribute(\n",
       "        'style',\n",
       "        'box-sizing: content-box; position: absolute; left: 0; top: 0; z-index: 1;'\n",
       "    );\n",
       "\n",
       "    // Apply a ponyfill if ResizeObserver is not implemented by browser.\n",
       "    if (this.ResizeObserver === undefined) {\n",
       "        if (window.ResizeObserver !== undefined) {\n",
       "            this.ResizeObserver = window.ResizeObserver;\n",
       "        } else {\n",
       "            var obs = _JSXTOOLS_RESIZE_OBSERVER({});\n",
       "            this.ResizeObserver = obs.ResizeObserver;\n",
       "        }\n",
       "    }\n",
       "\n",
       "    this.resizeObserverInstance = new this.ResizeObserver(function (entries) {\n",
       "        var nentries = entries.length;\n",
       "        for (var i = 0; i < nentries; i++) {\n",
       "            var entry = entries[i];\n",
       "            var width, height;\n",
       "            if (entry.contentBoxSize) {\n",
       "                if (entry.contentBoxSize instanceof Array) {\n",
       "                    // Chrome 84 implements new version of spec.\n",
       "                    width = entry.contentBoxSize[0].inlineSize;\n",
       "                    height = entry.contentBoxSize[0].blockSize;\n",
       "                } else {\n",
       "                    // Firefox implements old version of spec.\n",
       "                    width = entry.contentBoxSize.inlineSize;\n",
       "                    height = entry.contentBoxSize.blockSize;\n",
       "                }\n",
       "            } else {\n",
       "                // Chrome <84 implements even older version of spec.\n",
       "                width = entry.contentRect.width;\n",
       "                height = entry.contentRect.height;\n",
       "            }\n",
       "\n",
       "            // Keep the size of the canvas and rubber band canvas in sync with\n",
       "            // the canvas container.\n",
       "            if (entry.devicePixelContentBoxSize) {\n",
       "                // Chrome 84 implements new version of spec.\n",
       "                canvas.setAttribute(\n",
       "                    'width',\n",
       "                    entry.devicePixelContentBoxSize[0].inlineSize\n",
       "                );\n",
       "                canvas.setAttribute(\n",
       "                    'height',\n",
       "                    entry.devicePixelContentBoxSize[0].blockSize\n",
       "                );\n",
       "            } else {\n",
       "                canvas.setAttribute('width', width * fig.ratio);\n",
       "                canvas.setAttribute('height', height * fig.ratio);\n",
       "            }\n",
       "            canvas.setAttribute(\n",
       "                'style',\n",
       "                'width: ' + width + 'px; height: ' + height + 'px;'\n",
       "            );\n",
       "\n",
       "            rubberband_canvas.setAttribute('width', width);\n",
       "            rubberband_canvas.setAttribute('height', height);\n",
       "\n",
       "            // And update the size in Python. We ignore the initial 0/0 size\n",
       "            // that occurs as the element is placed into the DOM, which should\n",
       "            // otherwise not happen due to the minimum size styling.\n",
       "            if (fig.ws.readyState == 1 && width != 0 && height != 0) {\n",
       "                fig.request_resize(width, height);\n",
       "            }\n",
       "        }\n",
       "    });\n",
       "    this.resizeObserverInstance.observe(canvas_div);\n",
       "\n",
       "    function on_mouse_event_closure(name) {\n",
       "        return function (event) {\n",
       "            return fig.mouse_event(event, name);\n",
       "        };\n",
       "    }\n",
       "\n",
       "    rubberband_canvas.addEventListener(\n",
       "        'mousedown',\n",
       "        on_mouse_event_closure('button_press')\n",
       "    );\n",
       "    rubberband_canvas.addEventListener(\n",
       "        'mouseup',\n",
       "        on_mouse_event_closure('button_release')\n",
       "    );\n",
       "    rubberband_canvas.addEventListener(\n",
       "        'dblclick',\n",
       "        on_mouse_event_closure('dblclick')\n",
       "    );\n",
       "    // Throttle sequential mouse events to 1 every 20ms.\n",
       "    rubberband_canvas.addEventListener(\n",
       "        'mousemove',\n",
       "        on_mouse_event_closure('motion_notify')\n",
       "    );\n",
       "\n",
       "    rubberband_canvas.addEventListener(\n",
       "        'mouseenter',\n",
       "        on_mouse_event_closure('figure_enter')\n",
       "    );\n",
       "    rubberband_canvas.addEventListener(\n",
       "        'mouseleave',\n",
       "        on_mouse_event_closure('figure_leave')\n",
       "    );\n",
       "\n",
       "    canvas_div.addEventListener('wheel', function (event) {\n",
       "        if (event.deltaY < 0) {\n",
       "            event.step = 1;\n",
       "        } else {\n",
       "            event.step = -1;\n",
       "        }\n",
       "        on_mouse_event_closure('scroll')(event);\n",
       "    });\n",
       "\n",
       "    canvas_div.appendChild(canvas);\n",
       "    canvas_div.appendChild(rubberband_canvas);\n",
       "\n",
       "    this.rubberband_context = rubberband_canvas.getContext('2d');\n",
       "    this.rubberband_context.strokeStyle = '#000000';\n",
       "\n",
       "    this._resize_canvas = function (width, height, forward) {\n",
       "        if (forward) {\n",
       "            canvas_div.style.width = width + 'px';\n",
       "            canvas_div.style.height = height + 'px';\n",
       "        }\n",
       "    };\n",
       "\n",
       "    // Disable right mouse context menu.\n",
       "    this.rubberband_canvas.addEventListener('contextmenu', function (_e) {\n",
       "        event.preventDefault();\n",
       "        return false;\n",
       "    });\n",
       "\n",
       "    function set_focus() {\n",
       "        canvas.focus();\n",
       "        canvas_div.focus();\n",
       "    }\n",
       "\n",
       "    window.setTimeout(set_focus, 100);\n",
       "};\n",
       "\n",
       "mpl.figure.prototype._init_toolbar = function () {\n",
       "    var fig = this;\n",
       "\n",
       "    var toolbar = document.createElement('div');\n",
       "    toolbar.classList = 'mpl-toolbar';\n",
       "    this.root.appendChild(toolbar);\n",
       "\n",
       "    function on_click_closure(name) {\n",
       "        return function (_event) {\n",
       "            return fig.toolbar_button_onclick(name);\n",
       "        };\n",
       "    }\n",
       "\n",
       "    function on_mouseover_closure(tooltip) {\n",
       "        return function (event) {\n",
       "            if (!event.currentTarget.disabled) {\n",
       "                return fig.toolbar_button_onmouseover(tooltip);\n",
       "            }\n",
       "        };\n",
       "    }\n",
       "\n",
       "    fig.buttons = {};\n",
       "    var buttonGroup = document.createElement('div');\n",
       "    buttonGroup.classList = 'mpl-button-group';\n",
       "    for (var toolbar_ind in mpl.toolbar_items) {\n",
       "        var name = mpl.toolbar_items[toolbar_ind][0];\n",
       "        var tooltip = mpl.toolbar_items[toolbar_ind][1];\n",
       "        var image = mpl.toolbar_items[toolbar_ind][2];\n",
       "        var method_name = mpl.toolbar_items[toolbar_ind][3];\n",
       "\n",
       "        if (!name) {\n",
       "            /* Instead of a spacer, we start a new button group. */\n",
       "            if (buttonGroup.hasChildNodes()) {\n",
       "                toolbar.appendChild(buttonGroup);\n",
       "            }\n",
       "            buttonGroup = document.createElement('div');\n",
       "            buttonGroup.classList = 'mpl-button-group';\n",
       "            continue;\n",
       "        }\n",
       "\n",
       "        var button = (fig.buttons[name] = document.createElement('button'));\n",
       "        button.classList = 'mpl-widget';\n",
       "        button.setAttribute('role', 'button');\n",
       "        button.setAttribute('aria-disabled', 'false');\n",
       "        button.addEventListener('click', on_click_closure(method_name));\n",
       "        button.addEventListener('mouseover', on_mouseover_closure(tooltip));\n",
       "\n",
       "        var icon_img = document.createElement('img');\n",
       "        icon_img.src = '_images/' + image + '.png';\n",
       "        icon_img.srcset = '_images/' + image + '_large.png 2x';\n",
       "        icon_img.alt = tooltip;\n",
       "        button.appendChild(icon_img);\n",
       "\n",
       "        buttonGroup.appendChild(button);\n",
       "    }\n",
       "\n",
       "    if (buttonGroup.hasChildNodes()) {\n",
       "        toolbar.appendChild(buttonGroup);\n",
       "    }\n",
       "\n",
       "    var fmt_picker = document.createElement('select');\n",
       "    fmt_picker.classList = 'mpl-widget';\n",
       "    toolbar.appendChild(fmt_picker);\n",
       "    this.format_dropdown = fmt_picker;\n",
       "\n",
       "    for (var ind in mpl.extensions) {\n",
       "        var fmt = mpl.extensions[ind];\n",
       "        var option = document.createElement('option');\n",
       "        option.selected = fmt === mpl.default_extension;\n",
       "        option.innerHTML = fmt;\n",
       "        fmt_picker.appendChild(option);\n",
       "    }\n",
       "\n",
       "    var status_bar = document.createElement('span');\n",
       "    status_bar.classList = 'mpl-message';\n",
       "    toolbar.appendChild(status_bar);\n",
       "    this.message = status_bar;\n",
       "};\n",
       "\n",
       "mpl.figure.prototype.request_resize = function (x_pixels, y_pixels) {\n",
       "    // Request matplotlib to resize the figure. Matplotlib will then trigger a resize in the client,\n",
       "    // which will in turn request a refresh of the image.\n",
       "    this.send_message('resize', { width: x_pixels, height: y_pixels });\n",
       "};\n",
       "\n",
       "mpl.figure.prototype.send_message = function (type, properties) {\n",
       "    properties['type'] = type;\n",
       "    properties['figure_id'] = this.id;\n",
       "    this.ws.send(JSON.stringify(properties));\n",
       "};\n",
       "\n",
       "mpl.figure.prototype.send_draw_message = function () {\n",
       "    if (!this.waiting) {\n",
       "        this.waiting = true;\n",
       "        this.ws.send(JSON.stringify({ type: 'draw', figure_id: this.id }));\n",
       "    }\n",
       "};\n",
       "\n",
       "mpl.figure.prototype.handle_save = function (fig, _msg) {\n",
       "    var format_dropdown = fig.format_dropdown;\n",
       "    var format = format_dropdown.options[format_dropdown.selectedIndex].value;\n",
       "    fig.ondownload(fig, format);\n",
       "};\n",
       "\n",
       "mpl.figure.prototype.handle_resize = function (fig, msg) {\n",
       "    var size = msg['size'];\n",
       "    if (size[0] !== fig.canvas.width || size[1] !== fig.canvas.height) {\n",
       "        fig._resize_canvas(size[0], size[1], msg['forward']);\n",
       "        fig.send_message('refresh', {});\n",
       "    }\n",
       "};\n",
       "\n",
       "mpl.figure.prototype.handle_rubberband = function (fig, msg) {\n",
       "    var x0 = msg['x0'] / fig.ratio;\n",
       "    var y0 = (fig.canvas.height - msg['y0']) / fig.ratio;\n",
       "    var x1 = msg['x1'] / fig.ratio;\n",
       "    var y1 = (fig.canvas.height - msg['y1']) / fig.ratio;\n",
       "    x0 = Math.floor(x0) + 0.5;\n",
       "    y0 = Math.floor(y0) + 0.5;\n",
       "    x1 = Math.floor(x1) + 0.5;\n",
       "    y1 = Math.floor(y1) + 0.5;\n",
       "    var min_x = Math.min(x0, x1);\n",
       "    var min_y = Math.min(y0, y1);\n",
       "    var width = Math.abs(x1 - x0);\n",
       "    var height = Math.abs(y1 - y0);\n",
       "\n",
       "    fig.rubberband_context.clearRect(\n",
       "        0,\n",
       "        0,\n",
       "        fig.canvas.width / fig.ratio,\n",
       "        fig.canvas.height / fig.ratio\n",
       "    );\n",
       "\n",
       "    fig.rubberband_context.strokeRect(min_x, min_y, width, height);\n",
       "};\n",
       "\n",
       "mpl.figure.prototype.handle_figure_label = function (fig, msg) {\n",
       "    // Updates the figure title.\n",
       "    fig.header.textContent = msg['label'];\n",
       "};\n",
       "\n",
       "mpl.figure.prototype.handle_cursor = function (fig, msg) {\n",
       "    fig.rubberband_canvas.style.cursor = msg['cursor'];\n",
       "};\n",
       "\n",
       "mpl.figure.prototype.handle_message = function (fig, msg) {\n",
       "    fig.message.textContent = msg['message'];\n",
       "};\n",
       "\n",
       "mpl.figure.prototype.handle_draw = function (fig, _msg) {\n",
       "    // Request the server to send over a new figure.\n",
       "    fig.send_draw_message();\n",
       "};\n",
       "\n",
       "mpl.figure.prototype.handle_image_mode = function (fig, msg) {\n",
       "    fig.image_mode = msg['mode'];\n",
       "};\n",
       "\n",
       "mpl.figure.prototype.handle_history_buttons = function (fig, msg) {\n",
       "    for (var key in msg) {\n",
       "        if (!(key in fig.buttons)) {\n",
       "            continue;\n",
       "        }\n",
       "        fig.buttons[key].disabled = !msg[key];\n",
       "        fig.buttons[key].setAttribute('aria-disabled', !msg[key]);\n",
       "    }\n",
       "};\n",
       "\n",
       "mpl.figure.prototype.handle_navigate_mode = function (fig, msg) {\n",
       "    if (msg['mode'] === 'PAN') {\n",
       "        fig.buttons['Pan'].classList.add('active');\n",
       "        fig.buttons['Zoom'].classList.remove('active');\n",
       "    } else if (msg['mode'] === 'ZOOM') {\n",
       "        fig.buttons['Pan'].classList.remove('active');\n",
       "        fig.buttons['Zoom'].classList.add('active');\n",
       "    } else {\n",
       "        fig.buttons['Pan'].classList.remove('active');\n",
       "        fig.buttons['Zoom'].classList.remove('active');\n",
       "    }\n",
       "};\n",
       "\n",
       "mpl.figure.prototype.updated_canvas_event = function () {\n",
       "    // Called whenever the canvas gets updated.\n",
       "    this.send_message('ack', {});\n",
       "};\n",
       "\n",
       "// A function to construct a web socket function for onmessage handling.\n",
       "// Called in the figure constructor.\n",
       "mpl.figure.prototype._make_on_message_function = function (fig) {\n",
       "    return function socket_on_message(evt) {\n",
       "        if (evt.data instanceof Blob) {\n",
       "            var img = evt.data;\n",
       "            if (img.type !== 'image/png') {\n",
       "                /* FIXME: We get \"Resource interpreted as Image but\n",
       "                 * transferred with MIME type text/plain:\" errors on\n",
       "                 * Chrome.  But how to set the MIME type?  It doesn't seem\n",
       "                 * to be part of the websocket stream */\n",
       "                img.type = 'image/png';\n",
       "            }\n",
       "\n",
       "            /* Free the memory for the previous frames */\n",
       "            if (fig.imageObj.src) {\n",
       "                (window.URL || window.webkitURL).revokeObjectURL(\n",
       "                    fig.imageObj.src\n",
       "                );\n",
       "            }\n",
       "\n",
       "            fig.imageObj.src = (window.URL || window.webkitURL).createObjectURL(\n",
       "                img\n",
       "            );\n",
       "            fig.updated_canvas_event();\n",
       "            fig.waiting = false;\n",
       "            return;\n",
       "        } else if (\n",
       "            typeof evt.data === 'string' &&\n",
       "            evt.data.slice(0, 21) === 'data:image/png;base64'\n",
       "        ) {\n",
       "            fig.imageObj.src = evt.data;\n",
       "            fig.updated_canvas_event();\n",
       "            fig.waiting = false;\n",
       "            return;\n",
       "        }\n",
       "\n",
       "        var msg = JSON.parse(evt.data);\n",
       "        var msg_type = msg['type'];\n",
       "\n",
       "        // Call the  \"handle_{type}\" callback, which takes\n",
       "        // the figure and JSON message as its only arguments.\n",
       "        try {\n",
       "            var callback = fig['handle_' + msg_type];\n",
       "        } catch (e) {\n",
       "            console.log(\n",
       "                \"No handler for the '\" + msg_type + \"' message type: \",\n",
       "                msg\n",
       "            );\n",
       "            return;\n",
       "        }\n",
       "\n",
       "        if (callback) {\n",
       "            try {\n",
       "                // console.log(\"Handling '\" + msg_type + \"' message: \", msg);\n",
       "                callback(fig, msg);\n",
       "            } catch (e) {\n",
       "                console.log(\n",
       "                    \"Exception inside the 'handler_\" + msg_type + \"' callback:\",\n",
       "                    e,\n",
       "                    e.stack,\n",
       "                    msg\n",
       "                );\n",
       "            }\n",
       "        }\n",
       "    };\n",
       "};\n",
       "\n",
       "// from https://stackoverflow.com/questions/1114465/getting-mouse-location-in-canvas\n",
       "mpl.findpos = function (e) {\n",
       "    //this section is from http://www.quirksmode.org/js/events_properties.html\n",
       "    var targ;\n",
       "    if (!e) {\n",
       "        e = window.event;\n",
       "    }\n",
       "    if (e.target) {\n",
       "        targ = e.target;\n",
       "    } else if (e.srcElement) {\n",
       "        targ = e.srcElement;\n",
       "    }\n",
       "    if (targ.nodeType === 3) {\n",
       "        // defeat Safari bug\n",
       "        targ = targ.parentNode;\n",
       "    }\n",
       "\n",
       "    // pageX,Y are the mouse positions relative to the document\n",
       "    var boundingRect = targ.getBoundingClientRect();\n",
       "    var x = e.pageX - (boundingRect.left + document.body.scrollLeft);\n",
       "    var y = e.pageY - (boundingRect.top + document.body.scrollTop);\n",
       "\n",
       "    return { x: x, y: y };\n",
       "};\n",
       "\n",
       "/*\n",
       " * return a copy of an object with only non-object keys\n",
       " * we need this to avoid circular references\n",
       " * https://stackoverflow.com/a/24161582/3208463\n",
       " */\n",
       "function simpleKeys(original) {\n",
       "    return Object.keys(original).reduce(function (obj, key) {\n",
       "        if (typeof original[key] !== 'object') {\n",
       "            obj[key] = original[key];\n",
       "        }\n",
       "        return obj;\n",
       "    }, {});\n",
       "}\n",
       "\n",
       "mpl.figure.prototype.mouse_event = function (event, name) {\n",
       "    var canvas_pos = mpl.findpos(event);\n",
       "\n",
       "    if (name === 'button_press') {\n",
       "        this.canvas.focus();\n",
       "        this.canvas_div.focus();\n",
       "    }\n",
       "\n",
       "    var x = canvas_pos.x * this.ratio;\n",
       "    var y = canvas_pos.y * this.ratio;\n",
       "\n",
       "    this.send_message(name, {\n",
       "        x: x,\n",
       "        y: y,\n",
       "        button: event.button,\n",
       "        step: event.step,\n",
       "        guiEvent: simpleKeys(event),\n",
       "    });\n",
       "\n",
       "    /* This prevents the web browser from automatically changing to\n",
       "     * the text insertion cursor when the button is pressed.  We want\n",
       "     * to control all of the cursor setting manually through the\n",
       "     * 'cursor' event from matplotlib */\n",
       "    event.preventDefault();\n",
       "    return false;\n",
       "};\n",
       "\n",
       "mpl.figure.prototype._key_event_extra = function (_event, _name) {\n",
       "    // Handle any extra behaviour associated with a key event\n",
       "};\n",
       "\n",
       "mpl.figure.prototype.key_event = function (event, name) {\n",
       "    // Prevent repeat events\n",
       "    if (name === 'key_press') {\n",
       "        if (event.key === this._key) {\n",
       "            return;\n",
       "        } else {\n",
       "            this._key = event.key;\n",
       "        }\n",
       "    }\n",
       "    if (name === 'key_release') {\n",
       "        this._key = null;\n",
       "    }\n",
       "\n",
       "    var value = '';\n",
       "    if (event.ctrlKey && event.key !== 'Control') {\n",
       "        value += 'ctrl+';\n",
       "    }\n",
       "    else if (event.altKey && event.key !== 'Alt') {\n",
       "        value += 'alt+';\n",
       "    }\n",
       "    else if (event.shiftKey && event.key !== 'Shift') {\n",
       "        value += 'shift+';\n",
       "    }\n",
       "\n",
       "    value += 'k' + event.key;\n",
       "\n",
       "    this._key_event_extra(event, name);\n",
       "\n",
       "    this.send_message(name, { key: value, guiEvent: simpleKeys(event) });\n",
       "    return false;\n",
       "};\n",
       "\n",
       "mpl.figure.prototype.toolbar_button_onclick = function (name) {\n",
       "    if (name === 'download') {\n",
       "        this.handle_save(this, null);\n",
       "    } else {\n",
       "        this.send_message('toolbar_button', { name: name });\n",
       "    }\n",
       "};\n",
       "\n",
       "mpl.figure.prototype.toolbar_button_onmouseover = function (tooltip) {\n",
       "    this.message.textContent = tooltip;\n",
       "};\n",
       "\n",
       "///////////////// REMAINING CONTENT GENERATED BY embed_js.py /////////////////\n",
       "// prettier-ignore\n",
       "var _JSXTOOLS_RESIZE_OBSERVER=function(A){var t,i=new WeakMap,n=new WeakMap,a=new WeakMap,r=new WeakMap,o=new Set;function s(e){if(!(this instanceof s))throw new TypeError(\"Constructor requires 'new' operator\");i.set(this,e)}function h(){throw new TypeError(\"Function is not a constructor\")}function c(e,t,i,n){e=0 in arguments?Number(arguments[0]):0,t=1 in arguments?Number(arguments[1]):0,i=2 in arguments?Number(arguments[2]):0,n=3 in arguments?Number(arguments[3]):0,this.right=(this.x=this.left=e)+(this.width=i),this.bottom=(this.y=this.top=t)+(this.height=n),Object.freeze(this)}function d(){t=requestAnimationFrame(d);var s=new WeakMap,p=new Set;o.forEach((function(t){r.get(t).forEach((function(i){var r=t instanceof window.SVGElement,o=a.get(t),d=r?0:parseFloat(o.paddingTop),f=r?0:parseFloat(o.paddingRight),l=r?0:parseFloat(o.paddingBottom),u=r?0:parseFloat(o.paddingLeft),g=r?0:parseFloat(o.borderTopWidth),m=r?0:parseFloat(o.borderRightWidth),w=r?0:parseFloat(o.borderBottomWidth),b=u+f,F=d+l,v=(r?0:parseFloat(o.borderLeftWidth))+m,W=g+w,y=r?0:t.offsetHeight-W-t.clientHeight,E=r?0:t.offsetWidth-v-t.clientWidth,R=b+v,z=F+W,M=r?t.width:parseFloat(o.width)-R-E,O=r?t.height:parseFloat(o.height)-z-y;if(n.has(t)){var k=n.get(t);if(k[0]===M&&k[1]===O)return}n.set(t,[M,O]);var S=Object.create(h.prototype);S.target=t,S.contentRect=new c(u,d,M,O),s.has(i)||(s.set(i,[]),p.add(i)),s.get(i).push(S)}))})),p.forEach((function(e){i.get(e).call(e,s.get(e),e)}))}return s.prototype.observe=function(i){if(i instanceof window.Element){r.has(i)||(r.set(i,new Set),o.add(i),a.set(i,window.getComputedStyle(i)));var n=r.get(i);n.has(this)||n.add(this),cancelAnimationFrame(t),t=requestAnimationFrame(d)}},s.prototype.unobserve=function(i){if(i instanceof window.Element&&r.has(i)){var n=r.get(i);n.has(this)&&(n.delete(this),n.size||(r.delete(i),o.delete(i))),n.size||r.delete(i),o.size||cancelAnimationFrame(t)}},A.DOMRectReadOnly=c,A.ResizeObserver=s,A.ResizeObserverEntry=h,A}; // eslint-disable-line\n",
       "mpl.toolbar_items = [[\"Home\", \"Reset original view\", \"fa fa-home icon-home\", \"home\"], [\"Back\", \"Back to previous view\", \"fa fa-arrow-left icon-arrow-left\", \"back\"], [\"Forward\", \"Forward to next view\", \"fa fa-arrow-right icon-arrow-right\", \"forward\"], [\"\", \"\", \"\", \"\"], [\"Pan\", \"Left button pans, Right button zooms\\nx/y fixes axis, CTRL fixes aspect\", \"fa fa-arrows icon-move\", \"pan\"], [\"Zoom\", \"Zoom to rectangle\\nx/y fixes axis\", \"fa fa-square-o icon-check-empty\", \"zoom\"], [\"\", \"\", \"\", \"\"], [\"Download\", \"Download plot\", \"fa fa-floppy-o icon-save\", \"download\"]];\n",
       "\n",
       "mpl.extensions = [\"eps\", \"jpeg\", \"pgf\", \"pdf\", \"png\", \"ps\", \"raw\", \"svg\", \"tif\"];\n",
       "\n",
       "mpl.default_extension = \"png\";/* global mpl */\n",
       "\n",
       "var comm_websocket_adapter = function (comm) {\n",
       "    // Create a \"websocket\"-like object which calls the given IPython comm\n",
       "    // object with the appropriate methods. Currently this is a non binary\n",
       "    // socket, so there is still some room for performance tuning.\n",
       "    var ws = {};\n",
       "\n",
       "    ws.binaryType = comm.kernel.ws.binaryType;\n",
       "    ws.readyState = comm.kernel.ws.readyState;\n",
       "    function updateReadyState(_event) {\n",
       "        if (comm.kernel.ws) {\n",
       "            ws.readyState = comm.kernel.ws.readyState;\n",
       "        } else {\n",
       "            ws.readyState = 3; // Closed state.\n",
       "        }\n",
       "    }\n",
       "    comm.kernel.ws.addEventListener('open', updateReadyState);\n",
       "    comm.kernel.ws.addEventListener('close', updateReadyState);\n",
       "    comm.kernel.ws.addEventListener('error', updateReadyState);\n",
       "\n",
       "    ws.close = function () {\n",
       "        comm.close();\n",
       "    };\n",
       "    ws.send = function (m) {\n",
       "        //console.log('sending', m);\n",
       "        comm.send(m);\n",
       "    };\n",
       "    // Register the callback with on_msg.\n",
       "    comm.on_msg(function (msg) {\n",
       "        //console.log('receiving', msg['content']['data'], msg);\n",
       "        var data = msg['content']['data'];\n",
       "        if (data['blob'] !== undefined) {\n",
       "            data = {\n",
       "                data: new Blob(msg['buffers'], { type: data['blob'] }),\n",
       "            };\n",
       "        }\n",
       "        // Pass the mpl event to the overridden (by mpl) onmessage function.\n",
       "        ws.onmessage(data);\n",
       "    });\n",
       "    return ws;\n",
       "};\n",
       "\n",
       "mpl.mpl_figure_comm = function (comm, msg) {\n",
       "    // This is the function which gets called when the mpl process\n",
       "    // starts-up an IPython Comm through the \"matplotlib\" channel.\n",
       "\n",
       "    var id = msg.content.data.id;\n",
       "    // Get hold of the div created by the display call when the Comm\n",
       "    // socket was opened in Python.\n",
       "    var element = document.getElementById(id);\n",
       "    var ws_proxy = comm_websocket_adapter(comm);\n",
       "\n",
       "    function ondownload(figure, _format) {\n",
       "        window.open(figure.canvas.toDataURL());\n",
       "    }\n",
       "\n",
       "    var fig = new mpl.figure(id, ws_proxy, ondownload, element);\n",
       "\n",
       "    // Call onopen now - mpl needs it, as it is assuming we've passed it a real\n",
       "    // web socket which is closed, not our websocket->open comm proxy.\n",
       "    ws_proxy.onopen();\n",
       "\n",
       "    fig.parent_element = element;\n",
       "    fig.cell_info = mpl.find_output_cell(\"<div id='\" + id + \"'></div>\");\n",
       "    if (!fig.cell_info) {\n",
       "        console.error('Failed to find cell for figure', id, fig);\n",
       "        return;\n",
       "    }\n",
       "    fig.cell_info[0].output_area.element.on(\n",
       "        'cleared',\n",
       "        { fig: fig },\n",
       "        fig._remove_fig_handler\n",
       "    );\n",
       "};\n",
       "\n",
       "mpl.figure.prototype.handle_close = function (fig, msg) {\n",
       "    var width = fig.canvas.width / fig.ratio;\n",
       "    fig.cell_info[0].output_area.element.off(\n",
       "        'cleared',\n",
       "        fig._remove_fig_handler\n",
       "    );\n",
       "    fig.resizeObserverInstance.unobserve(fig.canvas_div);\n",
       "\n",
       "    // Update the output cell to use the data from the current canvas.\n",
       "    fig.push_to_output();\n",
       "    var dataURL = fig.canvas.toDataURL();\n",
       "    // Re-enable the keyboard manager in IPython - without this line, in FF,\n",
       "    // the notebook keyboard shortcuts fail.\n",
       "    IPython.keyboard_manager.enable();\n",
       "    fig.parent_element.innerHTML =\n",
       "        '<img src=\"' + dataURL + '\" width=\"' + width + '\">';\n",
       "    fig.close_ws(fig, msg);\n",
       "};\n",
       "\n",
       "mpl.figure.prototype.close_ws = function (fig, msg) {\n",
       "    fig.send_message('closing', msg);\n",
       "    // fig.ws.close()\n",
       "};\n",
       "\n",
       "mpl.figure.prototype.push_to_output = function (_remove_interactive) {\n",
       "    // Turn the data on the canvas into data in the output cell.\n",
       "    var width = this.canvas.width / this.ratio;\n",
       "    var dataURL = this.canvas.toDataURL();\n",
       "    this.cell_info[1]['text/html'] =\n",
       "        '<img src=\"' + dataURL + '\" width=\"' + width + '\">';\n",
       "};\n",
       "\n",
       "mpl.figure.prototype.updated_canvas_event = function () {\n",
       "    // Tell IPython that the notebook contents must change.\n",
       "    IPython.notebook.set_dirty(true);\n",
       "    this.send_message('ack', {});\n",
       "    var fig = this;\n",
       "    // Wait a second, then push the new image to the DOM so\n",
       "    // that it is saved nicely (might be nice to debounce this).\n",
       "    setTimeout(function () {\n",
       "        fig.push_to_output();\n",
       "    }, 1000);\n",
       "};\n",
       "\n",
       "mpl.figure.prototype._init_toolbar = function () {\n",
       "    var fig = this;\n",
       "\n",
       "    var toolbar = document.createElement('div');\n",
       "    toolbar.classList = 'btn-toolbar';\n",
       "    this.root.appendChild(toolbar);\n",
       "\n",
       "    function on_click_closure(name) {\n",
       "        return function (_event) {\n",
       "            return fig.toolbar_button_onclick(name);\n",
       "        };\n",
       "    }\n",
       "\n",
       "    function on_mouseover_closure(tooltip) {\n",
       "        return function (event) {\n",
       "            if (!event.currentTarget.disabled) {\n",
       "                return fig.toolbar_button_onmouseover(tooltip);\n",
       "            }\n",
       "        };\n",
       "    }\n",
       "\n",
       "    fig.buttons = {};\n",
       "    var buttonGroup = document.createElement('div');\n",
       "    buttonGroup.classList = 'btn-group';\n",
       "    var button;\n",
       "    for (var toolbar_ind in mpl.toolbar_items) {\n",
       "        var name = mpl.toolbar_items[toolbar_ind][0];\n",
       "        var tooltip = mpl.toolbar_items[toolbar_ind][1];\n",
       "        var image = mpl.toolbar_items[toolbar_ind][2];\n",
       "        var method_name = mpl.toolbar_items[toolbar_ind][3];\n",
       "\n",
       "        if (!name) {\n",
       "            /* Instead of a spacer, we start a new button group. */\n",
       "            if (buttonGroup.hasChildNodes()) {\n",
       "                toolbar.appendChild(buttonGroup);\n",
       "            }\n",
       "            buttonGroup = document.createElement('div');\n",
       "            buttonGroup.classList = 'btn-group';\n",
       "            continue;\n",
       "        }\n",
       "\n",
       "        button = fig.buttons[name] = document.createElement('button');\n",
       "        button.classList = 'btn btn-default';\n",
       "        button.href = '#';\n",
       "        button.title = name;\n",
       "        button.innerHTML = '<i class=\"fa ' + image + ' fa-lg\"></i>';\n",
       "        button.addEventListener('click', on_click_closure(method_name));\n",
       "        button.addEventListener('mouseover', on_mouseover_closure(tooltip));\n",
       "        buttonGroup.appendChild(button);\n",
       "    }\n",
       "\n",
       "    if (buttonGroup.hasChildNodes()) {\n",
       "        toolbar.appendChild(buttonGroup);\n",
       "    }\n",
       "\n",
       "    // Add the status bar.\n",
       "    var status_bar = document.createElement('span');\n",
       "    status_bar.classList = 'mpl-message pull-right';\n",
       "    toolbar.appendChild(status_bar);\n",
       "    this.message = status_bar;\n",
       "\n",
       "    // Add the close button to the window.\n",
       "    var buttongrp = document.createElement('div');\n",
       "    buttongrp.classList = 'btn-group inline pull-right';\n",
       "    button = document.createElement('button');\n",
       "    button.classList = 'btn btn-mini btn-primary';\n",
       "    button.href = '#';\n",
       "    button.title = 'Stop Interaction';\n",
       "    button.innerHTML = '<i class=\"fa fa-power-off icon-remove icon-large\"></i>';\n",
       "    button.addEventListener('click', function (_evt) {\n",
       "        fig.handle_close(fig, {});\n",
       "    });\n",
       "    button.addEventListener(\n",
       "        'mouseover',\n",
       "        on_mouseover_closure('Stop Interaction')\n",
       "    );\n",
       "    buttongrp.appendChild(button);\n",
       "    var titlebar = this.root.querySelector('.ui-dialog-titlebar');\n",
       "    titlebar.insertBefore(buttongrp, titlebar.firstChild);\n",
       "};\n",
       "\n",
       "mpl.figure.prototype._remove_fig_handler = function (event) {\n",
       "    var fig = event.data.fig;\n",
       "    if (event.target !== this) {\n",
       "        // Ignore bubbled events from children.\n",
       "        return;\n",
       "    }\n",
       "    fig.close_ws(fig, {});\n",
       "};\n",
       "\n",
       "mpl.figure.prototype._root_extra_style = function (el) {\n",
       "    el.style.boxSizing = 'content-box'; // override notebook setting of border-box.\n",
       "};\n",
       "\n",
       "mpl.figure.prototype._canvas_extra_style = function (el) {\n",
       "    // this is important to make the div 'focusable\n",
       "    el.setAttribute('tabindex', 0);\n",
       "    // reach out to IPython and tell the keyboard manager to turn it's self\n",
       "    // off when our div gets focus\n",
       "\n",
       "    // location in version 3\n",
       "    if (IPython.notebook.keyboard_manager) {\n",
       "        IPython.notebook.keyboard_manager.register_events(el);\n",
       "    } else {\n",
       "        // location in version 2\n",
       "        IPython.keyboard_manager.register_events(el);\n",
       "    }\n",
       "};\n",
       "\n",
       "mpl.figure.prototype._key_event_extra = function (event, _name) {\n",
       "    // Check for shift+enter\n",
       "    if (event.shiftKey && event.which === 13) {\n",
       "        this.canvas_div.blur();\n",
       "        // select the cell after this one\n",
       "        var index = IPython.notebook.find_cell_index(this.cell_info[0]);\n",
       "        IPython.notebook.select(index + 1);\n",
       "    }\n",
       "};\n",
       "\n",
       "mpl.figure.prototype.handle_save = function (fig, _msg) {\n",
       "    fig.ondownload(fig, null);\n",
       "};\n",
       "\n",
       "mpl.find_output_cell = function (html_output) {\n",
       "    // Return the cell and output element which can be found *uniquely* in the notebook.\n",
       "    // Note - this is a bit hacky, but it is done because the \"notebook_saving.Notebook\"\n",
       "    // IPython event is triggered only after the cells have been serialised, which for\n",
       "    // our purposes (turning an active figure into a static one), is too late.\n",
       "    var cells = IPython.notebook.get_cells();\n",
       "    var ncells = cells.length;\n",
       "    for (var i = 0; i < ncells; i++) {\n",
       "        var cell = cells[i];\n",
       "        if (cell.cell_type === 'code') {\n",
       "            for (var j = 0; j < cell.output_area.outputs.length; j++) {\n",
       "                var data = cell.output_area.outputs[j];\n",
       "                if (data.data) {\n",
       "                    // IPython >= 3 moved mimebundle to data attribute of output\n",
       "                    data = data.data;\n",
       "                }\n",
       "                if (data['text/html'] === html_output) {\n",
       "                    return [cell, data, j];\n",
       "                }\n",
       "            }\n",
       "        }\n",
       "    }\n",
       "};\n",
       "\n",
       "// Register the function which deals with the matplotlib target/channel.\n",
       "// The kernel may be null if the page has been refreshed.\n",
       "if (IPython.notebook.kernel !== null) {\n",
       "    IPython.notebook.kernel.comm_manager.register_target(\n",
       "        'matplotlib',\n",
       "        mpl.mpl_figure_comm\n",
       "    );\n",
       "}\n"
      ],
      "text/plain": [
       "<IPython.core.display.Javascript object>"
      ]
     },
     "metadata": {},
     "output_type": "display_data"
    },
    {
     "data": {
      "text/html": [
       "<img src=\"data:image/png;base64,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\" width=\"700\">"
      ],
      "text/plain": [
       "<IPython.core.display.HTML object>"
      ]
     },
     "metadata": {},
     "output_type": "display_data"
    }
   ],
   "source": [
    "%matplotlib notebook\n",
    "\n",
    "# если вы работаете не в google colab, а в jupyter notebook локально,\n",
    "# замените строчку выше на эту:\n",
    "# %matplotlib notebook\n",
    "# тогда можно будет 3D-график поворачивать и рассматривать с разных сторон\n",
    "\n",
    "fig = plt.figure(figsize=(7, 7))\n",
    "ax = fig.add_subplot(projection='3d')\n",
    "\n",
    "# визуализируем точки обучающей выборки\n",
    "x_points = X_train['масса тела']\n",
    "y_points = X_train['длина клюва']\n",
    "z_points = y_train\n",
    "\n",
    "ax.scatter(x_points, y_points, z_points)\n",
    "\n",
    "# визуализируем плоскость\n",
    "x, y = np.meshgrid(range(2800, 6350), range(30, 61));\n",
    "z = np.array([f_plane(point_x, point_y) for point_x, point_y in zip(x, y)]);\n",
    "ax.plot_surface(x, y, z, alpha=0.2);\n",
    "\n",
    "# раскомментируйте строчку ниже, чтобы визуализировать\n",
    "# ответы линейной регрессии на плоскости\n",
    "# ax.scatter(x_points, y_points, y_train_predicted, c='r');\n",
    "\n",
    "\n",
    "ax.set_xlabel('масса тела');\n",
    "ax.set_ylabel('длина клюва');\n",
    "ax.set_zlabel('длина плавника');\n",
    "\n",
    "plt.show()"
   ]
  },
  {
   "cell_type": "markdown",
   "id": "Lo1rsrkl6KC_",
   "metadata": {
    "id": "Lo1rsrkl6KC_"
   },
   "source": [
    "Видим, что линейная регрессия неплохо описывает наши точки!"
   ]
  },
  {
   "cell_type": "markdown",
   "id": "9519cd72",
   "metadata": {
    "id": "9519cd72"
   },
   "source": [
    "## Задача 3. Предсказание массы тела по всем остальным признакам"
   ]
  },
  {
   "cell_type": "markdown",
   "id": "33a59ff0",
   "metadata": {
    "id": "33a59ff0"
   },
   "source": [
    "Наконец, давайте решим более сложную задачу: предсказние массы тела пингвина по остальным пяти его признакам из датасета."
   ]
  },
  {
   "cell_type": "code",
   "execution_count": 44,
   "id": "1757d6ef",
   "metadata": {
    "colab": {
     "base_uri": "https://localhost:8080/",
     "height": 201
    },
    "executionInfo": {
     "elapsed": 429,
     "status": "ok",
     "timestamp": 1656339600325,
     "user": {
      "displayName": "Татьяна Андреевна Гайнцева",
      "userId": "17554479887788199937"
     },
     "user_tz": -180
    },
    "id": "1757d6ef",
    "outputId": "af629389-a609-45b1-befe-4c4d06171c94"
   },
   "outputs": [
    {
     "data": {
      "text/html": [
       "<div>\n",
       "<style scoped>\n",
       "    .dataframe tbody tr th:only-of-type {\n",
       "        vertical-align: middle;\n",
       "    }\n",
       "\n",
       "    .dataframe tbody tr th {\n",
       "        vertical-align: top;\n",
       "    }\n",
       "\n",
       "    .dataframe thead th {\n",
       "        text-align: right;\n",
       "    }\n",
       "</style>\n",
       "<table border=\"1\" class=\"dataframe\">\n",
       "  <thead>\n",
       "    <tr style=\"text-align: right;\">\n",
       "      <th></th>\n",
       "      <th>вид</th>\n",
       "      <th>остров</th>\n",
       "      <th>длина клюва</th>\n",
       "      <th>ширина клюва</th>\n",
       "      <th>длина плавника</th>\n",
       "      <th>масса тела</th>\n",
       "      <th>пол</th>\n",
       "    </tr>\n",
       "  </thead>\n",
       "  <tbody>\n",
       "    <tr>\n",
       "      <th>0</th>\n",
       "      <td>0</td>\n",
       "      <td>2</td>\n",
       "      <td>39.1</td>\n",
       "      <td>18.7</td>\n",
       "      <td>181.0</td>\n",
       "      <td>3750.0</td>\n",
       "      <td>1</td>\n",
       "    </tr>\n",
       "    <tr>\n",
       "      <th>1</th>\n",
       "      <td>0</td>\n",
       "      <td>2</td>\n",
       "      <td>39.5</td>\n",
       "      <td>17.4</td>\n",
       "      <td>186.0</td>\n",
       "      <td>3800.0</td>\n",
       "      <td>0</td>\n",
       "    </tr>\n",
       "    <tr>\n",
       "      <th>2</th>\n",
       "      <td>0</td>\n",
       "      <td>2</td>\n",
       "      <td>40.3</td>\n",
       "      <td>18.0</td>\n",
       "      <td>195.0</td>\n",
       "      <td>3250.0</td>\n",
       "      <td>0</td>\n",
       "    </tr>\n",
       "    <tr>\n",
       "      <th>3</th>\n",
       "      <td>0</td>\n",
       "      <td>2</td>\n",
       "      <td>36.7</td>\n",
       "      <td>19.3</td>\n",
       "      <td>193.0</td>\n",
       "      <td>3450.0</td>\n",
       "      <td>0</td>\n",
       "    </tr>\n",
       "    <tr>\n",
       "      <th>4</th>\n",
       "      <td>0</td>\n",
       "      <td>2</td>\n",
       "      <td>39.3</td>\n",
       "      <td>20.6</td>\n",
       "      <td>190.0</td>\n",
       "      <td>3650.0</td>\n",
       "      <td>1</td>\n",
       "    </tr>\n",
       "  </tbody>\n",
       "</table>\n",
       "</div>"
      ],
      "text/plain": [
       "   вид  остров  длина клюва  ширина клюва  длина плавника  масса тела  пол\n",
       "0    0       2         39.1          18.7           181.0      3750.0    1\n",
       "1    0       2         39.5          17.4           186.0      3800.0    0\n",
       "2    0       2         40.3          18.0           195.0      3250.0    0\n",
       "3    0       2         36.7          19.3           193.0      3450.0    0\n",
       "4    0       2         39.3          20.6           190.0      3650.0    1"
      ]
     },
     "execution_count": 44,
     "metadata": {},
     "output_type": "execute_result"
    }
   ],
   "source": [
    "data.head()"
   ]
  },
  {
   "cell_type": "markdown",
   "id": "895c6334",
   "metadata": {
    "id": "895c6334"
   },
   "source": [
    "Разделим данные на признаки и целевую переменную:"
   ]
  },
  {
   "cell_type": "code",
   "execution_count": 45,
   "id": "224357b0",
   "metadata": {
    "executionInfo": {
     "elapsed": 259,
     "status": "ok",
     "timestamp": 1656339634079,
     "user": {
      "displayName": "Татьяна Андреевна Гайнцева",
      "userId": "17554479887788199937"
     },
     "user_tz": -180
    },
    "id": "224357b0"
   },
   "outputs": [],
   "source": [
    "X = data.drop(columns=['масса тела'])\n",
    "y = data['масса тела']"
   ]
  },
  {
   "cell_type": "code",
   "execution_count": 46,
   "id": "AsmKdD3Z0XrG",
   "metadata": {
    "colab": {
     "base_uri": "https://localhost:8080/",
     "height": 201
    },
    "executionInfo": {
     "elapsed": 310,
     "status": "ok",
     "timestamp": 1656339636985,
     "user": {
      "displayName": "Татьяна Андреевна Гайнцева",
      "userId": "17554479887788199937"
     },
     "user_tz": -180
    },
    "id": "AsmKdD3Z0XrG",
    "outputId": "b1a6122f-6e15-4693-cea1-91ca2457ee87"
   },
   "outputs": [
    {
     "data": {
      "text/html": [
       "<div>\n",
       "<style scoped>\n",
       "    .dataframe tbody tr th:only-of-type {\n",
       "        vertical-align: middle;\n",
       "    }\n",
       "\n",
       "    .dataframe tbody tr th {\n",
       "        vertical-align: top;\n",
       "    }\n",
       "\n",
       "    .dataframe thead th {\n",
       "        text-align: right;\n",
       "    }\n",
       "</style>\n",
       "<table border=\"1\" class=\"dataframe\">\n",
       "  <thead>\n",
       "    <tr style=\"text-align: right;\">\n",
       "      <th></th>\n",
       "      <th>вид</th>\n",
       "      <th>остров</th>\n",
       "      <th>длина клюва</th>\n",
       "      <th>ширина клюва</th>\n",
       "      <th>длина плавника</th>\n",
       "      <th>пол</th>\n",
       "    </tr>\n",
       "  </thead>\n",
       "  <tbody>\n",
       "    <tr>\n",
       "      <th>0</th>\n",
       "      <td>0</td>\n",
       "      <td>2</td>\n",
       "      <td>39.1</td>\n",
       "      <td>18.7</td>\n",
       "      <td>181.0</td>\n",
       "      <td>1</td>\n",
       "    </tr>\n",
       "    <tr>\n",
       "      <th>1</th>\n",
       "      <td>0</td>\n",
       "      <td>2</td>\n",
       "      <td>39.5</td>\n",
       "      <td>17.4</td>\n",
       "      <td>186.0</td>\n",
       "      <td>0</td>\n",
       "    </tr>\n",
       "    <tr>\n",
       "      <th>2</th>\n",
       "      <td>0</td>\n",
       "      <td>2</td>\n",
       "      <td>40.3</td>\n",
       "      <td>18.0</td>\n",
       "      <td>195.0</td>\n",
       "      <td>0</td>\n",
       "    </tr>\n",
       "    <tr>\n",
       "      <th>3</th>\n",
       "      <td>0</td>\n",
       "      <td>2</td>\n",
       "      <td>36.7</td>\n",
       "      <td>19.3</td>\n",
       "      <td>193.0</td>\n",
       "      <td>0</td>\n",
       "    </tr>\n",
       "    <tr>\n",
       "      <th>4</th>\n",
       "      <td>0</td>\n",
       "      <td>2</td>\n",
       "      <td>39.3</td>\n",
       "      <td>20.6</td>\n",
       "      <td>190.0</td>\n",
       "      <td>1</td>\n",
       "    </tr>\n",
       "  </tbody>\n",
       "</table>\n",
       "</div>"
      ],
      "text/plain": [
       "   вид  остров  длина клюва  ширина клюва  длина плавника  пол\n",
       "0    0       2         39.1          18.7           181.0    1\n",
       "1    0       2         39.5          17.4           186.0    0\n",
       "2    0       2         40.3          18.0           195.0    0\n",
       "3    0       2         36.7          19.3           193.0    0\n",
       "4    0       2         39.3          20.6           190.0    1"
      ]
     },
     "execution_count": 46,
     "metadata": {},
     "output_type": "execute_result"
    }
   ],
   "source": [
    "X.head()"
   ]
  },
  {
   "cell_type": "markdown",
   "id": "505c7e66",
   "metadata": {
    "id": "505c7e66"
   },
   "source": [
    "Поделим данные на train и test:"
   ]
  },
  {
   "cell_type": "code",
   "execution_count": 47,
   "id": "c3bb3d0b",
   "metadata": {
    "executionInfo": {
     "elapsed": 310,
     "status": "ok",
     "timestamp": 1656339657459,
     "user": {
      "displayName": "Татьяна Андреевна Гайнцева",
      "userId": "17554479887788199937"
     },
     "user_tz": -180
    },
    "id": "c3bb3d0b"
   },
   "outputs": [],
   "source": [
    "X_train, X_test, y_train, y_test = train_test_split(X, y, test_size=0.15)"
   ]
  },
  {
   "cell_type": "markdown",
   "id": "34be6c7c",
   "metadata": {
    "id": "34be6c7c"
   },
   "source": [
    "Обучим линейную регрессию на тренировочной части:"
   ]
  },
  {
   "cell_type": "code",
   "execution_count": 48,
   "id": "501a8820",
   "metadata": {
    "executionInfo": {
     "elapsed": 298,
     "status": "ok",
     "timestamp": 1656339724631,
     "user": {
      "displayName": "Татьяна Андреевна Гайнцева",
      "userId": "17554479887788199937"
     },
     "user_tz": -180
    },
    "id": "501a8820"
   },
   "outputs": [],
   "source": [
    "lr = LinearRegression()"
   ]
  },
  {
   "cell_type": "code",
   "execution_count": 49,
   "id": "eL01iP-XU7nN",
   "metadata": {
    "colab": {
     "base_uri": "https://localhost:8080/"
    },
    "executionInfo": {
     "elapsed": 334,
     "status": "ok",
     "timestamp": 1656339733237,
     "user": {
      "displayName": "Татьяна Андреевна Гайнцева",
      "userId": "17554479887788199937"
     },
     "user_tz": -180
    },
    "id": "eL01iP-XU7nN",
    "outputId": "43d1995d-545c-4c41-aac4-01a52303ff90"
   },
   "outputs": [
    {
     "data": {
      "text/plain": [
       "LinearRegression()"
      ]
     },
     "execution_count": 49,
     "metadata": {},
     "output_type": "execute_result"
    }
   ],
   "source": [
    "lr.fit(X_train, y_train)"
   ]
  },
  {
   "cell_type": "markdown",
   "id": "338140f5",
   "metadata": {
    "id": "338140f5"
   },
   "source": [
    "Получим предсказания линейной регрессии на тренировочной и тестовой частях датасета:"
   ]
  },
  {
   "cell_type": "code",
   "execution_count": 50,
   "id": "3778af83",
   "metadata": {
    "executionInfo": {
     "elapsed": 365,
     "status": "ok",
     "timestamp": 1656339751003,
     "user": {
      "displayName": "Татьяна Андреевна Гайнцева",
      "userId": "17554479887788199937"
     },
     "user_tz": -180
    },
    "id": "3778af83"
   },
   "outputs": [],
   "source": [
    "y_train_predicted = lr.predict(X_train)\n",
    "y_test_predicted = lr.predict(X_test)"
   ]
  },
  {
   "cell_type": "markdown",
   "id": "d8f2708b",
   "metadata": {
    "id": "d8f2708b"
   },
   "source": [
    "Посчитаем MAE и MSE"
   ]
  },
  {
   "cell_type": "code",
   "execution_count": 51,
   "id": "4d7fe1fd",
   "metadata": {
    "colab": {
     "base_uri": "https://localhost:8080/"
    },
    "executionInfo": {
     "elapsed": 316,
     "status": "ok",
     "timestamp": 1656339774767,
     "user": {
      "displayName": "Татьяна Андреевна Гайнцева",
      "userId": "17554479887788199937"
     },
     "user_tz": -180
    },
    "id": "4d7fe1fd",
    "outputId": "cd569ace-31ce-43da-f375-5c339631c1ea"
   },
   "outputs": [
    {
     "data": {
      "text/plain": [
       "(264.21265694804634, 267.6818006578597)"
      ]
     },
     "execution_count": 51,
     "metadata": {},
     "output_type": "execute_result"
    }
   ],
   "source": [
    "mean_absolute_error(y_train_predicted, y_train), mean_absolute_error(y_test_predicted, y_test)"
   ]
  },
  {
   "cell_type": "code",
   "execution_count": 52,
   "id": "fe1975e9",
   "metadata": {
    "colab": {
     "base_uri": "https://localhost:8080/"
    },
    "executionInfo": {
     "elapsed": 4,
     "status": "ok",
     "timestamp": 1656339775190,
     "user": {
      "displayName": "Татьяна Андреевна Гайнцева",
      "userId": "17554479887788199937"
     },
     "user_tz": -180
    },
    "id": "fe1975e9",
    "outputId": "6c4c47e2-beae-48f0-8b7c-eb627f1a0bb2"
   },
   "outputs": [
    {
     "data": {
      "text/plain": [
       "(106938.2299618511, 98888.49315845082)"
      ]
     },
     "execution_count": 52,
     "metadata": {},
     "output_type": "execute_result"
    }
   ],
   "source": [
    "mean_squared_error(y_train_predicted, y_train), mean_squared_error(y_test_predicted, y_test)"
   ]
  },
  {
   "cell_type": "markdown",
   "id": "9866a9a8",
   "metadata": {
    "id": "9866a9a8"
   },
   "source": [
    "### Оценка важности признаков линейной регрессии"
   ]
  },
  {
   "cell_type": "markdown",
   "id": "7c4aa57b",
   "metadata": {
    "id": "7c4aa57b"
   },
   "source": [
    "Давайте еще раз посмотрим на наши признаки и на коэффициенты, которые линейная регрессия поставила в соответствие каждому из них:"
   ]
  },
  {
   "cell_type": "code",
   "execution_count": 53,
   "id": "29f23579",
   "metadata": {
    "colab": {
     "base_uri": "https://localhost:8080/",
     "height": 201
    },
    "executionInfo": {
     "elapsed": 400,
     "status": "ok",
     "timestamp": 1656339826812,
     "user": {
      "displayName": "Татьяна Андреевна Гайнцева",
      "userId": "17554479887788199937"
     },
     "user_tz": -180
    },
    "id": "29f23579",
    "outputId": "0c27b8f6-6310-40de-e8ec-dc71a82f4334"
   },
   "outputs": [
    {
     "data": {
      "text/html": [
       "<div>\n",
       "<style scoped>\n",
       "    .dataframe tbody tr th:only-of-type {\n",
       "        vertical-align: middle;\n",
       "    }\n",
       "\n",
       "    .dataframe tbody tr th {\n",
       "        vertical-align: top;\n",
       "    }\n",
       "\n",
       "    .dataframe thead th {\n",
       "        text-align: right;\n",
       "    }\n",
       "</style>\n",
       "<table border=\"1\" class=\"dataframe\">\n",
       "  <thead>\n",
       "    <tr style=\"text-align: right;\">\n",
       "      <th></th>\n",
       "      <th>вид</th>\n",
       "      <th>остров</th>\n",
       "      <th>длина клюва</th>\n",
       "      <th>ширина клюва</th>\n",
       "      <th>длина плавника</th>\n",
       "      <th>пол</th>\n",
       "    </tr>\n",
       "  </thead>\n",
       "  <tbody>\n",
       "    <tr>\n",
       "      <th>81</th>\n",
       "      <td>0</td>\n",
       "      <td>1</td>\n",
       "      <td>36.9</td>\n",
       "      <td>18.6</td>\n",
       "      <td>189.0</td>\n",
       "      <td>0</td>\n",
       "    </tr>\n",
       "    <tr>\n",
       "      <th>282</th>\n",
       "      <td>2</td>\n",
       "      <td>0</td>\n",
       "      <td>47.7</td>\n",
       "      <td>15.0</td>\n",
       "      <td>216.0</td>\n",
       "      <td>0</td>\n",
       "    </tr>\n",
       "    <tr>\n",
       "      <th>120</th>\n",
       "      <td>0</td>\n",
       "      <td>2</td>\n",
       "      <td>38.8</td>\n",
       "      <td>17.6</td>\n",
       "      <td>191.0</td>\n",
       "      <td>0</td>\n",
       "    </tr>\n",
       "    <tr>\n",
       "      <th>9</th>\n",
       "      <td>0</td>\n",
       "      <td>2</td>\n",
       "      <td>34.6</td>\n",
       "      <td>21.1</td>\n",
       "      <td>198.0</td>\n",
       "      <td>1</td>\n",
       "    </tr>\n",
       "    <tr>\n",
       "      <th>65</th>\n",
       "      <td>0</td>\n",
       "      <td>2</td>\n",
       "      <td>39.7</td>\n",
       "      <td>18.4</td>\n",
       "      <td>190.0</td>\n",
       "      <td>1</td>\n",
       "    </tr>\n",
       "  </tbody>\n",
       "</table>\n",
       "</div>"
      ],
      "text/plain": [
       "     вид  остров  длина клюва  ширина клюва  длина плавника  пол\n",
       "81     0       1         36.9          18.6           189.0    0\n",
       "282    2       0         47.7          15.0           216.0    0\n",
       "120    0       2         38.8          17.6           191.0    0\n",
       "9      0       2         34.6          21.1           198.0    1\n",
       "65     0       2         39.7          18.4           190.0    1"
      ]
     },
     "execution_count": 53,
     "metadata": {},
     "output_type": "execute_result"
    }
   ],
   "source": [
    "X_train.head()"
   ]
  },
  {
   "cell_type": "code",
   "execution_count": 54,
   "id": "2b578258",
   "metadata": {
    "colab": {
     "base_uri": "https://localhost:8080/"
    },
    "executionInfo": {
     "elapsed": 463,
     "status": "ok",
     "timestamp": 1656339831536,
     "user": {
      "displayName": "Татьяна Андреевна Гайнцева",
      "userId": "17554479887788199937"
     },
     "user_tz": -180
    },
    "id": "2b578258",
    "outputId": "5c1be2a9-3397-4332-a59a-e66a74a094d3"
   },
   "outputs": [
    {
     "data": {
      "text/plain": [
       "(array([ 262.19174421, -106.88491131,  -20.14378722,  -17.23884101,\n",
       "          31.73499572,  561.09168748]),\n",
       " -1448.0062690507393)"
      ]
     },
     "execution_count": 54,
     "metadata": {},
     "output_type": "execute_result"
    }
   ],
   "source": [
    "lr.coef_, lr.intercept_"
   ]
  },
  {
   "cell_type": "code",
   "execution_count": 55,
   "id": "e85363a8",
   "metadata": {
    "colab": {
     "base_uri": "https://localhost:8080/"
    },
    "executionInfo": {
     "elapsed": 8,
     "status": "ok",
     "timestamp": 1656339855035,
     "user": {
      "displayName": "Татьяна Андреевна Гайнцева",
      "userId": "17554479887788199937"
     },
     "user_tz": -180
    },
    "id": "e85363a8",
    "outputId": "c74e0cd4-19b7-4b4b-898b-4764d1915038"
   },
   "outputs": [
    {
     "name": "stdout",
     "output_type": "stream",
     "text": [
      "вид                  |   k_1   |   262.1917442070453\n",
      "остров               |   k_2   |   -106.8849113115029\n",
      "длина клюва          |   k_3   |   -20.143787221472554\n",
      "ширина клюва         |   k_4   |   -17.238841005411814\n",
      "длина плавника       |   k_5   |   31.73499571757072\n",
      "пол                  |   k_6   |   561.0916874777612\n"
     ]
    }
   ],
   "source": [
    "for i, feature in enumerate(X_train.columns):\n",
    "    print(feature, ' '*(19-len(feature)), '|  ', 'k_'+str(i+1), '  |  ', lr.coef_[i])\n"
   ]
  },
  {
   "cell_type": "markdown",
   "id": "d4a62dac",
   "metadata": {
    "id": "d4a62dac"
   },
   "source": [
    "Модули значений коэффициентов линейной регрессии отражают важности признаков. т.е. насколько важную роль признак играет в получении ответа моделью линейной регрессии.\n",
    "\n",
    "Однако нельзя считать, что чем больше модуль коэффициента при признаке, тем больше его важность. Вот почему:"
   ]
  },
  {
   "cell_type": "markdown",
   "id": "26efed5d",
   "metadata": {
    "id": "26efed5d"
   },
   "source": [
    "Уравнение линейной регрессии в данном случае имеет вид:\n",
    "\n",
    "$$ y = k_5x_5 + k_4x_4 + k_3x_3 + k_2x_2 + k_1x_1 + k_0$$\n",
    "\n",
    "Посмотрим на признаки \"вид\" ($k_1$) и \"длина плавника\" ($k_5$) и на коэффициенты, которые им соответствуют. \n",
    "\n",
    "Может показаться, что, раз коэффицент для признака $k_1$ больше по модулю, чем для признака $k_5$, то признак $k_1$ играет бОльшую роль в предсказании массы тела, чем признак $k_5$. Однако это не так. Посмотрим на то, в каких границах варьируются значения признаков $k_1$ и $k_5$:\n",
    "- у $k_1$ всего 3 варианта значения: 0, 1 и 2. Поэтому значение $k_1x_1$ будет варьироваться от 0 до примерно 300-600\n",
    "- у $k_5$ много вариантов значений, но все они лежат в диапазоне [174, 230]. Поэтому значение $k_5x_5$ будет лежать в диапазоне $\\sim $ [6500, 9000]\n",
    "\n",
    "Получается, для любого элемента датасета значение $k_5x_5$ больше, чем $k_1x_1$. Более того, изменение значения признака $k_1$ меняет значение $k_1x_1$ где-то на 250, а изменение значения признака $k_5$ может менять значение $k_5x_5$ на 1000 или больше. \n",
    "\n",
    "Получается, величина $k_5x_5$ может сильнее изменять ответ, чем величина $k_1x_1$ и значение признака $k_5$ сильнее влияет на итоговый ответ, чем значение признака $k_1$. \n",
    "\n",
    "Иными словами, масса тела пингвина сильнее связана с длиной плавника пингвина, чем с видом пингвина."
   ]
  },
  {
   "cell_type": "code",
   "execution_count": 56,
   "id": "1494ddae",
   "metadata": {
    "colab": {
     "base_uri": "https://localhost:8080/"
    },
    "executionInfo": {
     "elapsed": 360,
     "status": "ok",
     "timestamp": 1656339992914,
     "user": {
      "displayName": "Татьяна Андреевна Гайнцева",
      "userId": "17554479887788199937"
     },
     "user_tz": -180
    },
    "id": "1494ddae",
    "outputId": "47f3e7fa-2f77-44d1-ebc9-a44aebdd8bc4"
   },
   "outputs": [
    {
     "data": {
      "text/plain": [
       "(172.0, 231.0)"
      ]
     },
     "execution_count": 56,
     "metadata": {},
     "output_type": "execute_result"
    }
   ],
   "source": [
    "X_train['длина плавника'].min(), X_train['длина плавника'].max()"
   ]
  },
  {
   "cell_type": "markdown",
   "id": "a854d577",
   "metadata": {
    "id": "a854d577"
   },
   "source": [
    "### Сравнение линейной регрессии и KNN"
   ]
  },
  {
   "cell_type": "markdown",
   "id": "807f7bbd",
   "metadata": {
    "id": "807f7bbd"
   },
   "source": [
    "В заключение давайте сравним качества моделей линейной регрессии и алгоритма k ближайших соседей на нашей задаче предсказания массы тела пингвина по другим его характеристикам."
   ]
  },
  {
   "cell_type": "code",
   "execution_count": 57,
   "id": "6deae8c6",
   "metadata": {
    "executionInfo": {
     "elapsed": 352,
     "status": "ok",
     "timestamp": 1656340110981,
     "user": {
      "displayName": "Татьяна Андреевна Гайнцева",
      "userId": "17554479887788199937"
     },
     "user_tz": -180
    },
    "id": "6deae8c6"
   },
   "outputs": [],
   "source": [
    "from sklearn.neighbors import KNeighborsRegressor"
   ]
  },
  {
   "cell_type": "code",
   "execution_count": 58,
   "id": "baec9087",
   "metadata": {
    "executionInfo": {
     "elapsed": 259,
     "status": "ok",
     "timestamp": 1656340134756,
     "user": {
      "displayName": "Татьяна Андреевна Гайнцева",
      "userId": "17554479887788199937"
     },
     "user_tz": -180
    },
    "id": "baec9087"
   },
   "outputs": [],
   "source": [
    "knn = KNeighborsRegressor(n_neighbors=5)"
   ]
  },
  {
   "cell_type": "code",
   "execution_count": 59,
   "id": "dd02de5b",
   "metadata": {
    "executionInfo": {
     "elapsed": 410,
     "status": "ok",
     "timestamp": 1656340158078,
     "user": {
      "displayName": "Татьяна Андреевна Гайнцева",
      "userId": "17554479887788199937"
     },
     "user_tz": -180
    },
    "id": "dd02de5b"
   },
   "outputs": [],
   "source": [
    "knn.fit(X_train, y_train)\n",
    "y_train_predicted_knn = knn.predict(X_train)\n",
    "y_test_predicted_knn = knn.predict(X_test)"
   ]
  },
  {
   "cell_type": "code",
   "execution_count": 60,
   "id": "999e0578",
   "metadata": {
    "executionInfo": {
     "elapsed": 254,
     "status": "ok",
     "timestamp": 1656340170121,
     "user": {
      "displayName": "Татьяна Андреевна Гайнцева",
      "userId": "17554479887788199937"
     },
     "user_tz": -180
    },
    "id": "999e0578"
   },
   "outputs": [],
   "source": [
    "y_train_predicted_lr = lr.predict(X_train)\n",
    "y_test_predicted_lr = lr.predict(X_test)"
   ]
  },
  {
   "cell_type": "markdown",
   "id": "4a51affc",
   "metadata": {
    "id": "4a51affc"
   },
   "source": [
    "MAE и MSE на train выборке для KNN:"
   ]
  },
  {
   "cell_type": "code",
   "execution_count": 61,
   "id": "e98c74bd",
   "metadata": {
    "colab": {
     "base_uri": "https://localhost:8080/"
    },
    "executionInfo": {
     "elapsed": 594,
     "status": "ok",
     "timestamp": 1656340179876,
     "user": {
      "displayName": "Татьяна Андреевна Гайнцева",
      "userId": "17554479887788199937"
     },
     "user_tz": -180
    },
    "id": "e98c74bd",
    "outputId": "0b14ee2a-8017-4413-9c98-0d67886551c1"
   },
   "outputs": [
    {
     "data": {
      "text/plain": [
       "(224.32862190812722, 79719.69964664312)"
      ]
     },
     "execution_count": 61,
     "metadata": {},
     "output_type": "execute_result"
    }
   ],
   "source": [
    "mean_absolute_error(y_train_predicted_knn, y_train), mean_squared_error(y_train_predicted_knn, y_train)"
   ]
  },
  {
   "cell_type": "markdown",
   "id": "bbe47a0f",
   "metadata": {
    "id": "bbe47a0f"
   },
   "source": [
    "MAE на и MSE train выборке для LR:"
   ]
  },
  {
   "cell_type": "code",
   "execution_count": 62,
   "id": "e9036bf3",
   "metadata": {
    "colab": {
     "base_uri": "https://localhost:8080/"
    },
    "executionInfo": {
     "elapsed": 384,
     "status": "ok",
     "timestamp": 1656340181035,
     "user": {
      "displayName": "Татьяна Андреевна Гайнцева",
      "userId": "17554479887788199937"
     },
     "user_tz": -180
    },
    "id": "e9036bf3",
    "outputId": "65769521-d386-4375-bd07-0734db5c070b"
   },
   "outputs": [
    {
     "data": {
      "text/plain": [
       "(264.21265694804634, 106938.2299618511)"
      ]
     },
     "execution_count": 62,
     "metadata": {},
     "output_type": "execute_result"
    }
   ],
   "source": [
    "mean_absolute_error(y_train_predicted_lr, y_train), mean_squared_error(y_train_predicted_lr, y_train)"
   ]
  },
  {
   "cell_type": "markdown",
   "id": "a32c38bd",
   "metadata": {
    "id": "a32c38bd"
   },
   "source": [
    "MAE и MSE на test выборке для KNN:"
   ]
  },
  {
   "cell_type": "code",
   "execution_count": 63,
   "id": "6012db06",
   "metadata": {
    "colab": {
     "base_uri": "https://localhost:8080/"
    },
    "executionInfo": {
     "elapsed": 274,
     "status": "ok",
     "timestamp": 1656340245512,
     "user": {
      "displayName": "Татьяна Андреевна Гайнцева",
      "userId": "17554479887788199937"
     },
     "user_tz": -180
    },
    "id": "6012db06",
    "outputId": "26e16997-4a49-4ddc-a100-983b6466dd71"
   },
   "outputs": [
    {
     "data": {
      "text/plain": [
       "(246.9, 93141.5)"
      ]
     },
     "execution_count": 63,
     "metadata": {},
     "output_type": "execute_result"
    }
   ],
   "source": [
    "mean_absolute_error(y_test_predicted_knn, y_test), mean_squared_error(y_test_predicted_knn, y_test)"
   ]
  },
  {
   "cell_type": "markdown",
   "id": "bf34e26a",
   "metadata": {
    "id": "bf34e26a"
   },
   "source": [
    "MAE и MSE на test выборке для LR:"
   ]
  },
  {
   "cell_type": "code",
   "execution_count": 64,
   "id": "dfe70a0b",
   "metadata": {
    "colab": {
     "base_uri": "https://localhost:8080/"
    },
    "executionInfo": {
     "elapsed": 10,
     "status": "ok",
     "timestamp": 1656340249993,
     "user": {
      "displayName": "Татьяна Андреевна Гайнцева",
      "userId": "17554479887788199937"
     },
     "user_tz": -180
    },
    "id": "dfe70a0b",
    "outputId": "3ed064ef-e605-49f4-f121-1cf0e91d9d2d"
   },
   "outputs": [
    {
     "data": {
      "text/plain": [
       "(267.6818006578597, 98888.49315845082)"
      ]
     },
     "execution_count": 64,
     "metadata": {},
     "output_type": "execute_result"
    }
   ],
   "source": [
    "mean_absolute_error(y_test_predicted_lr, y_test), mean_squared_error(y_test_predicted_lr, y_test)"
   ]
  },
  {
   "cell_type": "markdown",
   "id": "2329c727",
   "metadata": {
    "id": "2329c727"
   },
   "source": [
    "Видим, что результаты работы алгоритмов разные, но отличаются не сильно. О том, как при решении задачи выбрать лучшую модель, вы узнаете на следующих занятиях."
   ]
  }
 ],
 "metadata": {
  "colab": {
   "collapsed_sections": [
    "crjN6_6u7cvW",
    "c884ac4e",
    "065cdcd5",
    "0d799e34",
    "db6dca35",
    "4acae652",
    "HcAH88xI79yq",
    "fRqzvM9G8GNN",
    "mWAXLpBZ8Si0",
    "0CQsOe7J8bEK",
    "7b73286a",
    "kP2ZUkKU7pNK",
    "38a0dcd6",
    "9519cd72",
    "9866a9a8"
   ],
   "name": "linear_regression_practice.ipynb",
   "provenance": []
  },
  "kernelspec": {
   "display_name": "Python 3 (ipykernel)",
   "language": "python",
   "name": "python3"
  },
  "language_info": {
   "codemirror_mode": {
    "name": "ipython",
    "version": 3
   },
   "file_extension": ".py",
   "mimetype": "text/x-python",
   "name": "python",
   "nbconvert_exporter": "python",
   "pygments_lexer": "ipython3",
   "version": "3.9.7"
  }
 },
 "nbformat": 4,
 "nbformat_minor": 5
}
