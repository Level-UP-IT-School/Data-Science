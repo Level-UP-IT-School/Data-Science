{
 "cells": [
  {
   "cell_type": "markdown",
   "id": "c30cfa34",
   "metadata": {},
   "source": [
    "## Классы\n",
    "Итак, вы узнали об основных типах данных Python: строках, числах, списках, кортежах и словарях. В этом разделе вы узнаете о последней крупной структуре данных — классах. Классы сильно отличаются от других типов данных тем, что они гораздо более гибкие. Классы позволяют вам определять информацию и поведение, которые характеризуют все, что вы хотите смоделировать в своей программе. Занятия — обширная тема, поэтому вы узнаете здесь достаточно, чтобы погрузиться в проекты, над которыми вы хотели бы начать.\n",
    "\n",
    "Когда вы начинаете изучать классы, в игру вступает много нового языка. Если вы знакомы с объектно-ориентированным программированием по работе на другом языке, это будет краткий обзор того, как Python подходит к ООП. Если вы новичок в программировании вообще, здесь будет много новых идей. Опробуйте примеры на своей машине и верьте, что по мере того, как вы будете работать с примерами и упражнениями, они обретут смысл."
   ]
  },
  {
   "cell_type": "markdown",
   "id": "d798feb7",
   "metadata": {},
   "source": [
    "Классы\n",
    "Итак, вы узнали об основных типах данных Python: строках, числах, списках, кортежах и словарях. В этом разделе вы узнаете о последней крупной структуре данных — классах. Классы сильно отличаются от других типов данных тем, что они гораздо более гибкие. Классы позволяют вам определять информацию и поведение, которые характеризуют все, что вы хотите смоделировать в своей программе. Занятия — обширная тема, поэтому вы узнаете здесь достаточно, чтобы погрузиться в проекты, над которыми вы хотели бы начать.\n",
    "\n",
    "Когда вы начинаете изучать классы, в игру вступает много нового языка. Если вы знакомы с объектно-ориентированным программированием по работе на другом языке, это будет краткий обзор того, как Python подходит к ООП. Если вы новичок в программировании вообще, здесь будет много новых идей. Просто начните читать, опробуйте примеры на своей машине и верьте, что по мере того, как вы будете работать с примерами и упражнениями, они обретут смысл.Классы\n",
    "Итак, вы узнали об основных типах данных Python: строках, числах, списках, кортежах и словарях. В этом разделе вы узнаете о последней крупной структуре данных — классах. Классы сильно отличаются от других типов данных тем, что они гораздо более гибкие. Классы позволяют вам определять информацию и поведение, которые характеризуют все, что вы хотите смоделировать в своей программе. Занятия — обширная тема, поэтому вы узнаете здесь достаточно, чтобы погрузиться в проекты, над которыми вы хотели бы начать.\n",
    "\n",
    "Когда вы начинаете изучать классы, в игру вступает много нового языка. Если вы знакомы с объектно-ориентированным программированием по работе на другом языке, это будет краткий обзор того, как Python подходит к ООП. Если вы новичок в программировании вообще, здесь будет много новых идей. Просто начните читать, опробуйте примеры на своей машине и верьте, что по мере того, как вы будете работать с примерами и упражнениями, они обретут смысл.Классы\n",
    "Итак, вы узнали об основных типах данных Python: строках, числах, списках, кортежах и словарях. В этом разделе вы узнаете о последней крупной структуре данных — классах. Классы сильно отличаются от других типов данных тем, что они гораздо более гибкие. Классы позволяют вам определять информацию и поведение, которые характеризуют все, что вы хотите смоделировать в своей программе. Занятия — обширная тема, поэтому вы узнаете здесь достаточно, чтобы погрузиться в проекты, над которыми вы хотели бы начать.\n",
    "\n",
    "Когда вы начинаете изучать классы, в игру вступает много нового языка. Если вы знакомы с объектно-ориентированным программированием по работе на другом языке, это будет краткий обзор того, как Python подходит к ООП. Если вы новичок в программировании вообще, здесь будет много новых идей. Просто начните читать, опробуйте примеры на своей машине и верьте, что по мере того, как вы будете работать с примерами и упражнениями, они обретут смысл."
   ]
  },
  {
   "cell_type": "markdown",
   "id": "a9567d12",
   "metadata": {},
   "source": [
    "## Что такое классы?\n",
    "Классы — это способ объединения информации и поведения. Например, давайте рассмотрим, что вам нужно было бы сделать, если бы вы создавали ракетный корабль в игре или в физическом симуляторе. Одна из первых вещей, которую вы хотели бы отслеживать, — это координаты X и Y ракеты. Вот как выглядит простой класс ракетного корабля в коде:"
   ]
  },
  {
   "cell_type": "code",
   "execution_count": 1,
   "id": "0d865053",
   "metadata": {},
   "outputs": [],
   "source": [
    "class Rocket():\n",
    "    # Rocket simulates a rocket ship for a game,\n",
    "    #  or a physics simulation.\n",
    "    \n",
    "    def __init__(self):\n",
    "        # Each rocket has an (x,y) position.\n",
    "        self.x = 0\n",
    "        self.y = 0"
   ]
  },
  {
   "cell_type": "markdown",
   "id": "5afe4087",
   "metadata": {},
   "source": [
    "Одна из первых вещей, которые вы делаете с классом, — это определяете метод __init__(). Метод __init__() устанавливает значения любых параметров, которые необходимо определить при первом создании объекта. Часть self будет объяснена позже; по сути, это синтаксис, который позволяет вам получить доступ к переменной из любого места в классе.\n",
    "\n",
    "Класс Rocket пока хранит две части информации, но ничего не может сделать. Первая способность ракеты, которую нужно определить, — это основная способность ракеты: движение вверх. Вот как это может выглядеть в коде:"
   ]
  },
  {
   "cell_type": "code",
   "execution_count": 2,
   "id": "00d56163",
   "metadata": {},
   "outputs": [],
   "source": [
    "class Rocket():\n",
    "    # Rocket simulates a rocket ship for a game,\n",
    "    #  or a physics simulation.\n",
    "    \n",
    "    def __init__(self):\n",
    "        # Each rocket has an (x,y) position.\n",
    "        self.x = 0\n",
    "        self.y = 0\n",
    "        \n",
    "    def move_up(self):\n",
    "        # Increment the y-position of the rocket.\n",
    "        self.y += 1"
   ]
  },
  {
   "cell_type": "markdown",
   "id": "551de9f9",
   "metadata": {},
   "source": [
    "Класс Rocket теперь может хранить некоторую информацию и может что-то делать. Но этот код на самом деле еще не создал ракету. Вот как на самом деле сделать ракету:"
   ]
  },
  {
   "cell_type": "code",
   "execution_count": 3,
   "id": "68316959",
   "metadata": {},
   "outputs": [
    {
     "name": "stdout",
     "output_type": "stream",
     "text": [
      "<__main__.Rocket object at 0x7fbf072a4a00>\n"
     ]
    }
   ],
   "source": [
    "class Rocket():\n",
    "    # Rocket simulates a rocket ship for a game,\n",
    "    #  or a physics simulation.\n",
    "    \n",
    "    def __init__(self):\n",
    "        # Each rocket has an (x,y) position.\n",
    "        self.x = 0\n",
    "        self.y = 0\n",
    "        \n",
    "    def move_up(self):\n",
    "        # Increment the y-position of the rocket.\n",
    "        self.y += 1\n",
    "\n",
    "# Create a Rocket object.\n",
    "my_rocket = Rocket()\n",
    "print(my_rocket)"
   ]
  },
  {
   "cell_type": "markdown",
   "id": "f68df936",
   "metadata": {},
   "source": [
    "Чтобы на самом деле использовать класс, вы создаете переменную, такую как my_rocket. Затем вы устанавливаете его равным имени класса с пустым набором скобок. Python создает объект из класса. Объект — это единственный экземпляр класса Rocket; у него внутри есть копия каждой из переменных класса, и он может выполнять любое действие, определенное для класса. В этом случае вы можете видеть, что переменная my_rocket — это объект Rocket из файла программы __main__, который хранится в определенном месте в памяти.\n",
    "\n",
    "Когда у вас есть класс, вы можете определить объект и использовать его методы. Вот как вы можете определить ракету и заставить ее двигаться вверх:"
   ]
  },
  {
   "cell_type": "code",
   "execution_count": 4,
   "id": "ec4ab1a9",
   "metadata": {},
   "outputs": [
    {
     "name": "stdout",
     "output_type": "stream",
     "text": [
      "Rocket altitude: 0\n",
      "Rocket altitude: 1\n",
      "Rocket altitude: 2\n"
     ]
    }
   ],
   "source": [
    "class Rocket():\n",
    "    # Rocket simulates a rocket ship for a game,\n",
    "    #  or a physics simulation.\n",
    "    \n",
    "    def __init__(self):\n",
    "        # Each rocket has an (x,y) position.\n",
    "        self.x = 0\n",
    "        self.y = 0\n",
    "        \n",
    "    def move_up(self):\n",
    "        # Increment the y-position of the rocket.\n",
    "        self.y += 1\n",
    "\n",
    "# Create a Rocket object, and have it start to move up.\n",
    "my_rocket = Rocket()\n",
    "print(\"Rocket altitude:\", my_rocket.y)\n",
    "\n",
    "my_rocket.move_up()\n",
    "print(\"Rocket altitude:\", my_rocket.y)\n",
    "\n",
    "my_rocket.move_up()\n",
    "print(\"Rocket altitude:\", my_rocket.y)"
   ]
  },
  {
   "cell_type": "markdown",
   "id": "822ea423",
   "metadata": {},
   "source": [
    "Чтобы получить доступ к переменным или методам объекта, вы даете имя объекта, а затем используете запись через точку для доступа к переменным и методам. Таким образом, чтобы получить значение `y` для my_rocket, вы используете my_rocket.y. Чтобы использовать метод move_up() для my_rocket, вы пишете my_rocket.move_up().\n",
    "\n",
    "Как только вы определили класс, вы можете создать столько объектов из этого класса, сколько захотите. Каждый объект является собственным экземпляром этого класса со своими отдельными переменными. Все объекты способны вести себя одинаково, но конкретные действия каждого объекта не влияют ни на какие другие объекты.\n",
    "\n",
    "Когда у вас есть класс, вы можете определить объект и использовать его методы. Вот как вы можете определить ракету и заставить ее двигаться вверх:"
   ]
  },
  {
   "cell_type": "code",
   "execution_count": 5,
   "id": "2d7005a0",
   "metadata": {},
   "outputs": [
    {
     "name": "stdout",
     "output_type": "stream",
     "text": [
      "<__main__.Rocket object at 0x7fbf072bc3d0>\n",
      "<__main__.Rocket object at 0x7fbf072bceb0>\n",
      "<__main__.Rocket object at 0x7fbf072bcd30>\n",
      "<__main__.Rocket object at 0x7fbf072bc550>\n",
      "<__main__.Rocket object at 0x7fbf072bcd60>\n"
     ]
    }
   ],
   "source": [
    "class Rocket():\n",
    "    # Rocket simulates a rocket ship for a game,\n",
    "    #  or a physics simulation.\n",
    "    \n",
    "    def __init__(self):\n",
    "        # Each rocket has an (x,y) position.\n",
    "        self.x = 0\n",
    "        self.y = 0\n",
    "        \n",
    "    def move_up(self):\n",
    "        # Increment the y-position of the rocket.\n",
    "        self.y += 1\n",
    "        \n",
    "# Create a fleet of 5 rockets, and store them in a list.\n",
    "my_rockets = []\n",
    "for x in range(0,5):\n",
    "    new_rocket = Rocket()\n",
    "    my_rockets.append(new_rocket)\n",
    "\n",
    "# Show that each rocket is a separate object.\n",
    "for rocket in my_rockets:\n",
    "    print(rocket)"
   ]
  },
  {
   "cell_type": "markdown",
   "id": "c1adfe8f",
   "metadata": {},
   "source": [
    "Как можете видеть, каждая ракета находится в отдельном месте в памяти. Кстати, если вы разбираетесь list comprehensions, то можете сделать парк ракет одной строкой:"
   ]
  },
  {
   "cell_type": "code",
   "execution_count": 6,
   "id": "0d0533bc",
   "metadata": {},
   "outputs": [
    {
     "name": "stdout",
     "output_type": "stream",
     "text": [
      "<__main__.Rocket object at 0x7fbf072a1be0>\n",
      "<__main__.Rocket object at 0x7fbf072a1df0>\n",
      "<__main__.Rocket object at 0x7fbf072a1190>\n",
      "<__main__.Rocket object at 0x7fbf072bc0a0>\n",
      "<__main__.Rocket object at 0x7fbf072bc820>\n"
     ]
    }
   ],
   "source": [
    "class Rocket():\n",
    "    # Rocket simulates a rocket ship for a game,\n",
    "    #  or a physics simulation.\n",
    "    \n",
    "    def __init__(self):\n",
    "        # Each rocket has an (x,y) position.\n",
    "        self.x = 0\n",
    "        self.y = 0\n",
    "        \n",
    "    def move_up(self):\n",
    "        # Increment the y-position of the rocket.\n",
    "        self.y += 1\n",
    "        \n",
    "# Create a fleet of 5 rockets, and store them in a list.\n",
    "my_rockets = [Rocket() for x in range(0,5)]\n",
    "\n",
    "# Show that each rocket is a separate object.\n",
    "for rocket in my_rockets:\n",
    "    print(rocket)"
   ]
  },
  {
   "cell_type": "markdown",
   "id": "6e3e0ff9",
   "metadata": {},
   "source": [
    "Вы можете доказать, что каждая ракета имеет свои собственные значения x и y, переместив только одну из ракет:"
   ]
  },
  {
   "cell_type": "code",
   "execution_count": 7,
   "id": "78e7bdea",
   "metadata": {},
   "outputs": [
    {
     "name": "stdout",
     "output_type": "stream",
     "text": [
      "Rocket altitude: 1\n",
      "Rocket altitude: 0\n",
      "Rocket altitude: 0\n",
      "Rocket altitude: 0\n",
      "Rocket altitude: 0\n"
     ]
    }
   ],
   "source": [
    "class Rocket():\n",
    "    # Rocket simulates a rocket ship for a game,\n",
    "    #  or a physics simulation.\n",
    "    \n",
    "    def __init__(self):\n",
    "        # Each rocket has an (x,y) position.\n",
    "        self.x = 0\n",
    "        self.y = 0\n",
    "        \n",
    "    def move_up(self):\n",
    "        # Increment the y-position of the rocket.\n",
    "        self.y += 1\n",
    "        \n",
    "# Create a fleet of 5 rockets, and store them in a list.\n",
    "my_rockets = [Rocket() for x in range(0,5)]\n",
    "\n",
    "# Move the first rocket up.\n",
    "my_rockets[0].move_up()\n",
    "\n",
    "# Show that only the first rocket has moved.\n",
    "for rocket in my_rockets:\n",
    "    print(\"Rocket altitude:\", rocket.y)"
   ]
  },
  {
   "cell_type": "markdown",
   "id": "3f583cf1",
   "metadata": {},
   "source": [
    "На данный момент синтаксис классов может быть не очень ясен, но подумайте на секунду вот о чем, как вы могли бы создать ракету, не используя классы. Вы можете хранить значения x и y в словаре, но вам придется написать много уродливого, сложного в сопровождении кода, чтобы управлять даже небольшим набором ракет. По мере включения в класс Rocket новых функций вы увидите, насколько эффективнее можно моделировать объекты реального мира с помощью классов, чем при использовании только списков и словарей."
   ]
  },
  {
   "cell_type": "markdown",
   "id": "ca210962",
   "metadata": {},
   "source": [
    "# Терминология ООП\n",
    "\n",
    "Классы являются частью парадигмы программирования, называемой объектно-ориентированным программированием. Объектно-ориентированное программирование, или сокращенно ООП, фокусируется на создании многократно используемых блоков кода, называемых классами. Когда вы хотите использовать класс в одной из своих программ, вы создаете объект из этого класса, откуда и происходит фраза «объектно-ориентированный». Сам Python не привязан к объектно-ориентированному программированию, но вы будете использовать объекты в большинстве или во всех своих проектах Python. Чтобы понимать классы, вы должны понимать некоторые термины, используемые в ООП."
   ]
  },
  {
   "cell_type": "markdown",
   "id": "e28d9632",
   "metadata": {},
   "source": [
    "Общая терминология\n",
    "Класс — это тело кода, определяющее атрибуты и поведение, необходимые для точного моделирования того, что вам нужно для вашей программы. Вы можете смоделировать что-то из реального мира, например ракетный корабль или гитарную струну, или что-то из виртуального мира, например ракету в игре, или набор физических законов для игрового движка.\n",
    "\n",
    "Атрибут — это часть информации. В коде атрибут — это просто переменная, являющаяся частью класса.\n",
    "\n",
    "Поведение — это действие, определенное внутри класса. Они состоят из методов, которые являются просто функциями, определенными для класса.\n",
    "\n",
    "Объект — это конкретный экземпляр класса. Объект имеет определенный набор значений для всех атрибутов (переменных) в классе. Вы можете иметь столько объектов, сколько хотите для любого класса.\n",
    "\n",
    "Еще многое предстоит узнать, но эти слова помогут нам начать работу. Они станут более понятными, когда вы увидите больше примеров и начнете использовать классы самостоятельно."
   ]
  },
  {
   "cell_type": "markdown",
   "id": "f953fd6f",
   "metadata": {},
   "source": [
    "### Более пристальный взгляд на класс Rocket\n",
    "Теперь, когда вы увидели простой пример класса и изучили базовую терминологию ООП, будет полезно поближе познакомиться с классом Rocket.\n",
    "\n",
    "### Метод __init()__\n",
    "Вот начальный блок кода, определяющий класс Rocket:"
   ]
  },
  {
   "cell_type": "code",
   "execution_count": 8,
   "id": "c240abb8",
   "metadata": {},
   "outputs": [],
   "source": [
    "class Rocket():\n",
    "    # Rocket simulates a rocket ship for a game,\n",
    "    #  or a physics simulation.\n",
    "    \n",
    "    def __init__(self):\n",
    "        # Each rocket has an (x,y) position.\n",
    "        self.x = 0\n",
    "        self.y = 0"
   ]
  },
  {
   "cell_type": "markdown",
   "id": "ae9e2dbb",
   "metadata": {},
   "source": [
    "Первая строка показывает, как создается класс в Python. Ключевое слово class сообщает Python, что вы собираетесь определить класс. Правила именования классов — это те же самые правила, которые вы узнали об именовании переменных, но среди программистов Python существует твердое соглашение, согласно которому классы должны называться с использованием CamelCase. Если вы не знакомы с CamelCase, это соглашение, согласно которому каждая буква, с которой начинается слово, пишется с заглавной буквы без подчеркивания в имени. За именем класса следует набор круглых скобок. Эти скобки пока будут пустыми, но позже они могут содержать класс, на котором основан новый класс.\n",
    "\n",
    "Хорошей практикой является написание комментария в начале вашего класса, описывающего класс. Существует более формальный синтаксис для документирования ваших классов - PEP257, но вы можете немного подождать, прежде чем сделать его формальным. А пока просто напишите комментарий в начале класса, резюмируя, что вы собираетесь делать внутри него. Написание более формальной документации для ваших классов в будущем будет  легче, если вы начнете с написания простых комментариев сейчас.\n",
    "\n",
    "Имена функций, которые начинаются и заканчиваются двумя символами подчеркивания, являются специальными встроенными функциями, которые Python использует определенным образом. Метод __init()__ является одной из таких специальных функций. Он вызывается автоматически, когда вы создаете объект из своего класса. Метод __init()__ позволяет вам убедиться, что все соответствующие атрибуты установлены в свои правильные значения, когда объект создается из класса, прежде чем объект будет использоваться. В этом случае метод __init__() инициализирует значения x и y Rocket равными 0.\n",
    "\n",
    "Слово self. Людям часто требуется некоторое время, чтобы понять его. Слово «self» относится к текущему объекту, с которым вы работаете. Когда вы пишете класс, self позволяет ссылаться на определенные атрибуты из любой другой части класса. По сути, все методы в классе нуждаются в объекте self в качестве первого аргумента, поэтому они могут получить доступ к любому атрибуту, являющемуся частью класса.\n",
    "\n",
    "Теперь давайте более подробно рассмотрим **метод**."
   ]
  },
  {
   "cell_type": "markdown",
   "id": "f0838662",
   "metadata": {},
   "source": [
    "#### Простой метод\n",
    "Вот метод, который был определен для класса Rocket:"
   ]
  },
  {
   "cell_type": "code",
   "execution_count": 9,
   "id": "b5aaca73",
   "metadata": {},
   "outputs": [],
   "source": [
    "class Rocket():\n",
    "    # Rocket simulates a rocket ship for a game,\n",
    "    #  or a physics simulation.\n",
    "    \n",
    "    def __init__(self):\n",
    "        # Each rocket has an (x,y) position.\n",
    "        self.x = 0\n",
    "        self.y = 0\n",
    "        \n",
    "    def move_up(self):\n",
    "        # Increment the y-position of the rocket.\n",
    "        self.y += 1"
   ]
  },
  {
   "cell_type": "markdown",
   "id": "656b0290",
   "metadata": {},
   "source": [
    "Метод — это просто функция, являющаяся частью класса. Поскольку это всего лишь функция, вы можете делать что угодно с методом из того что знали о функциях. Вы можете принимать позиционные аргументы, аргументы ключевых слов, произвольный список значений аргументов, произвольный словарь аргументов или любую их комбинацию. Ваши методы могут возвращать значение или набор значений, если хотите, или они могут просто выполнять некоторую работу, не возвращая никаких значений.\n",
    "\n",
    "Каждый метод должен принимать один аргумент по умолчанию, значение self. Это ссылка на конкретный объект, вызывающий метод. Этот аргумент self дает вам доступ к атрибутам объекта. В этом примере аргумент self используется для доступа к значению y объекта Rocket. Это значение увеличивается на 1 каждый раз, когда метод move_up() вызывается определенным объектом Rocket. Возможно, это все еще немного сбивает с толку, но смысл должен начать проясняться по мере того, как вы будете работать со своими собственными примерами.\n",
    "\n",
    "Если вы еще раз взглянете на то, что происходит при вызове метода, все может стать немного более понятным:"
   ]
  },
  {
   "cell_type": "code",
   "execution_count": 10,
   "id": "ddbf6b36",
   "metadata": {},
   "outputs": [
    {
     "name": "stdout",
     "output_type": "stream",
     "text": [
      "Rocket altitude: 0\n",
      "Rocket altitude: 1\n",
      "Rocket altitude: 2\n"
     ]
    }
   ],
   "source": [
    "class Rocket():\n",
    "    # Rocket simulates a rocket ship for a game,\n",
    "    #  or a physics simulation.\n",
    "    \n",
    "    def __init__(self):\n",
    "        # Each rocket has an (x,y) position.\n",
    "        self.x = 0\n",
    "        self.y = 0\n",
    "        \n",
    "    def move_up(self):\n",
    "        # Increment the y-position of the rocket.\n",
    "        self.y += 1\n",
    "\n",
    "# Create a Rocket object, and have it start to move up.\n",
    "my_rocket = Rocket()\n",
    "print(\"Rocket altitude:\", my_rocket.y)\n",
    "\n",
    "my_rocket.move_up()\n",
    "print(\"Rocket altitude:\", my_rocket.y)\n",
    "\n",
    "my_rocket.move_up()\n",
    "print(\"Rocket altitude:\", my_rocket.y)"
   ]
  },
  {
   "cell_type": "markdown",
   "id": "1f70cf38",
   "metadata": {},
   "source": [
    "В этом примере объект Rocket создается и сохраняется в переменной my_rocket. После того, как этот объект создан, его значение y выводится на экран. Доступ к значению атрибута y осуществляется с помощью записи через точку. Фраза my_rocket.y просит Python вернуть «значение переменной y, присоединенной к объекту my_rocket».\n",
    "\n",
    "После создания объекта my_rocket и вывода его начального значения y вызывается метод move_up(). Это говорит Python применить метод move_up() к объекту my_rocket. Python находит значение y, связанное с my_rocket, и добавляет к этому значению 1. Этот процесс повторяется несколько раз, и вы можете видеть из вывода, что значение y на самом деле увеличивается."
   ]
  },
  {
   "cell_type": "markdown",
   "id": "96d73526",
   "metadata": {},
   "source": [
    "## Создание нескольких объектов из класса\n",
    "Одной из целей объектно-ориентированного программирования является создание повторно используемого кода. После того, как вы написали код для класса, вы можете создать столько объектов из этого класса, сколько вам нужно. Здесь стоит упомянуть, что классы обычно сохраняются в отдельном файле, а затем импортируются в программу, над которой вы работаете. Таким образом, вы можете создать библиотеку классов и снова и снова использовать эти классы в разных программах. Как только вы узнаете, что класс работает хорошо, вы можете оставить его в покое и быть уверенным, что объекты, которые вы создаете в новой программе, будут работать так же, как и всегда.\n",
    "\n",
    "Вы можете увидеть это «повторное использование кода» уже тогда, когда класс Rocket используется для создания более чем одного объекта Rocket. Вот код, который создал флот объектов Rocket:"
   ]
  },
  {
   "cell_type": "code",
   "execution_count": 11,
   "id": "0f4abfc7",
   "metadata": {},
   "outputs": [
    {
     "name": "stdout",
     "output_type": "stream",
     "text": [
      "<__main__.Rocket object at 0x7fbf072a4670>\n",
      "<__main__.Rocket object at 0x7fbf072a1070>\n",
      "<__main__.Rocket object at 0x7fbf072a1250>\n",
      "<__main__.Rocket object at 0x7fbf072a1be0>\n",
      "<__main__.Rocket object at 0x7fbf072a1a00>\n"
     ]
    }
   ],
   "source": [
    "class Rocket():\n",
    "    # Rocket simulates a rocket ship for a game,\n",
    "    #  or a physics simulation.\n",
    "    \n",
    "    def __init__(self):\n",
    "        # Each rocket has an (x,y) position.\n",
    "        self.x = 0\n",
    "        self.y = 0\n",
    "        \n",
    "    def move_up(self):\n",
    "        # Increment the y-position of the rocket.\n",
    "        self.y += 1\n",
    "        \n",
    "# Create a fleet of 5 rockets, and store them in a list.\n",
    "my_rockets = []\n",
    "for x in range(0,5):\n",
    "    new_rocket = Rocket()\n",
    "    my_rockets.append(new_rocket)\n",
    "\n",
    "# Show that each rocket is a separate object.\n",
    "for rocket in my_rockets:\n",
    "    print(rocket)"
   ]
  },
  {
   "cell_type": "markdown",
   "id": "b1f529b3",
   "metadata": {},
   "source": [
    "## Улучшение класса Rocket\n",
    "\n",
    "Класс Rocket пока очень простой. Его можно сделать немного более интересным, улучшив метод __init__() и добавив несколько методов.\n",
    "\n",
    "####  Передача параметров для метода __init__()\n",
    "Метод __init__() запускается автоматически один раз, когда вы создаете новый объект из класса. Пока что метод __init__() для класса Rocket довольно прост. Все, что делает метод __init__() до сих пор, — это устанавливает значения x и y для ракеты в 0."
   ]
  },
  {
   "cell_type": "code",
   "execution_count": 12,
   "id": "7ae4306e",
   "metadata": {},
   "outputs": [],
   "source": [
    "class Rocket():\n",
    "    # Rocket simulates a rocket ship for a game,\n",
    "    #  or a physics simulation.\n",
    "    \n",
    "    def __init__(self):\n",
    "        # Each rocket has an (x,y) position.\n",
    "        self.x = 0\n",
    "        self.y = 0\n",
    "        \n",
    "    def move_up(self):\n",
    "        # Increment the y-position of the rocket.\n",
    "        self.y += 1"
   ]
  },
  {
   "cell_type": "markdown",
   "id": "66f66afd",
   "metadata": {},
   "source": [
    " Мы можем легко добавить пару ключевых аргументов, чтобы новые ракеты можно было инициализировать в любой позиции:"
   ]
  },
  {
   "cell_type": "code",
   "execution_count": 13,
   "id": "d3b30128",
   "metadata": {},
   "outputs": [],
   "source": [
    "class Rocket():\n",
    "    # Rocket simulates a rocket ship for a game,\n",
    "    #  or a physics simulation.\n",
    "    \n",
    "    def __init__(self, x=0, y=0):\n",
    "        # Each rocket has an (x,y) position.\n",
    "        self.x = x\n",
    "        self.y = y\n",
    "        \n",
    "    def move_up(self):\n",
    "        # Increment the y-position of the rocket.\n",
    "        self.y += 1"
   ]
  },
  {
   "cell_type": "markdown",
   "id": "818ed74c",
   "metadata": {},
   "source": [
    "Теперь, когда вы создаете новый объект Rocket, у вас есть возможность передать произвольные начальные значения для x и y"
   ]
  },
  {
   "cell_type": "code",
   "execution_count": 14,
   "id": "01ace160",
   "metadata": {},
   "outputs": [
    {
     "name": "stdout",
     "output_type": "stream",
     "text": [
      "Rocket 0 is at (0, 0).\n",
      "Rocket 1 is at (0, 10).\n",
      "Rocket 2 is at (100, 0).\n"
     ]
    }
   ],
   "source": [
    "class Rocket():\n",
    "    # Rocket simulates a rocket ship for a game,\n",
    "    #  or a physics simulation.\n",
    "    \n",
    "    def __init__(self, x=0, y=0):\n",
    "        # Each rocket has an (x,y) position.\n",
    "        self.x = x\n",
    "        self.y = y\n",
    "        \n",
    "    def move_up(self):\n",
    "        # Increment the y-position of the rocket.\n",
    "        self.y += 1\n",
    "        \n",
    "# Make a series of rockets at different starting places.\n",
    "rockets = []\n",
    "rockets.append(Rocket())\n",
    "rockets.append(Rocket(0,10))\n",
    "rockets.append(Rocket(100,0))\n",
    "\n",
    "# Show where each rocket is.\n",
    "for index, rocket in enumerate(rockets):\n",
    "    print(\"Rocket %d is at (%d, %d).\" % (index, rocket.x, rocket.y))"
   ]
  },
  {
   "cell_type": "markdown",
   "id": "781e4d8e",
   "metadata": {},
   "source": [
    "## Передача параметров в метод\n",
    "Метод __init__ — это просто специальный метод, который служит определенной цели, помогая создавать новые объекты из класса. Любой метод в классе может принимать параметры любого типа. Зная об этом, метод move_up() можно сделать гораздо более гибким. Принимая keyword аргументы, метод move_up() можно переписать как более общий метод move_rocket().\n",
    "\n",
    "Этот новый метод позволит перемещать ракету на любую величину в любом направлении:"
   ]
  },
  {
   "cell_type": "code",
   "execution_count": 15,
   "id": "f812881d",
   "metadata": {},
   "outputs": [],
   "source": [
    "class Rocket():\n",
    "    # Rocket simulates a rocket ship for a game,\n",
    "    #  or a physics simulation.\n",
    "    \n",
    "    def __init__(self, x=0, y=0):\n",
    "        # Each rocket has an (x,y) position.\n",
    "        self.x = x\n",
    "        self.y = y\n",
    "        \n",
    "    def move_rocket(self, x_increment=0, y_increment=1):\n",
    "        # Move the rocket according to the paremeters given.\n",
    "        #  Default behavior is to move the rocket up one unit.\n",
    "        self.x += x_increment\n",
    "        self.y += y_increment"
   ]
  },
  {
   "cell_type": "markdown",
   "id": "8d1ad78e",
   "metadata": {},
   "source": [
    "Параметры метода move() называются x_increment и y_increment, а не x и y. Хорошо бы подчеркнуть, что это изменения положения x и y, а не новые значения фактического положения ракеты. Тщательно выбирая правильные значения по умолчанию, мы можем определить осмысленное поведение по умолчанию. Если кто-то вызовет метод move_rocket() без параметров, ракета просто переместится на одну единицу вверх по оси Y. Обратите внимание, что этому методу можно присвоить отрицательные значения для перемещения ракеты влево или вправо:"
   ]
  },
  {
   "cell_type": "code",
   "execution_count": 16,
   "id": "4912266d",
   "metadata": {},
   "outputs": [
    {
     "name": "stdout",
     "output_type": "stream",
     "text": [
      "Rocket 0 is at (0, 1).\n",
      "Rocket 1 is at (10, 10).\n",
      "Rocket 2 is at (-10, 0).\n"
     ]
    }
   ],
   "source": [
    "class Rocket():\n",
    "    # Rocket simulates a rocket ship for a game,\n",
    "    #  or a physics simulation.\n",
    "    \n",
    "    def __init__(self, x=0, y=0):\n",
    "        # Each rocket has an (x,y) position.\n",
    "        self.x = x\n",
    "        self.y = y\n",
    "        \n",
    "    def move_rocket(self, x_increment=0, y_increment=1):\n",
    "        # Move the rocket according to the paremeters given.\n",
    "        #  Default behavior is to move the rocket up one unit.\n",
    "        self.x += x_increment\n",
    "        self.y += y_increment\n",
    "        \n",
    "# Create three rockets.\n",
    "rockets = [Rocket() for x in range(0,3)]\n",
    "\n",
    "# Move each rocket a different amount.\n",
    "rockets[0].move_rocket()\n",
    "rockets[1].move_rocket(10,10)\n",
    "rockets[2].move_rocket(-10,0)\n",
    "          \n",
    "# Show where each rocket is.\n",
    "for index, rocket in enumerate(rockets):\n",
    "    print(\"Rocket %d is at (%d, %d).\" % (index, rocket.x, rocket.y))"
   ]
  },
  {
   "cell_type": "markdown",
   "id": "7eb1b21b",
   "metadata": {},
   "source": [
    "## Добавление нового метода\n",
    "\n",
    "Одной из сильных сторон объектно-ориентированного программирования является возможность точного моделирования явлений реального мира путем добавления к классам соответствующих атрибутов и поведения. Одна из задач команды, пилотирующей ракету, — следить за тем, чтобы ракета не подходила слишком близко к другим ракетам. Давайте добавим метод, который будет сообщать расстояние от одной ракеты до любой другой ракеты.\n",
    "\n",
    "Если вы не знакомы с расчетами расстояний, существует довольно простая формула для определения расстояния между двумя точками, если вы знаете значения x и y для каждой точки.\n",
    "\n",
    "Этот новый метод выполняет это вычисление, а затем возвращает результирующее расстояние."
   ]
  },
  {
   "cell_type": "code",
   "execution_count": 17,
   "id": "f706640a",
   "metadata": {},
   "outputs": [
    {
     "name": "stdout",
     "output_type": "stream",
     "text": [
      "The rockets are 11.180340 units apart.\n"
     ]
    }
   ],
   "source": [
    "from math import sqrt\n",
    "\n",
    "class Rocket():\n",
    "    # Rocket simulates a rocket ship for a game,\n",
    "    #  or a physics simulation.\n",
    "    \n",
    "    def __init__(self, x=0, y=0):\n",
    "        # Each rocket has an (x,y) position.\n",
    "        self.x = x\n",
    "        self.y = y\n",
    "        \n",
    "    def move_rocket(self, x_increment=0, y_increment=1):\n",
    "        # Move the rocket according to the paremeters given.\n",
    "        #  Default behavior is to move the rocket up one unit.\n",
    "        self.x += x_increment\n",
    "        self.y += y_increment\n",
    "        \n",
    "    def get_distance(self, other_rocket):\n",
    "        # Calculates the distance from this rocket to another rocket,\n",
    "        #  and returns that value.\n",
    "        distance = sqrt((self.x-other_rocket.x)**2+(self.y-other_rocket.y)**2)\n",
    "        return distance\n",
    "    \n",
    "# Make two rockets, at different places.\n",
    "rocket_0 = Rocket()\n",
    "rocket_1 = Rocket(10,5)\n",
    "\n",
    "# Show the distance between them.\n",
    "distance = rocket_0.get_distance(rocket_1)\n",
    "print(\"The rockets are %f units apart.\" % distance)"
   ]
  },
  {
   "cell_type": "markdown",
   "id": "50d9e098",
   "metadata": {},
   "source": [
    "Надеюсь, что эти краткие уточнения покажут, что вы можете расширить атрибуты и поведение класса, чтобы моделировать интересующие вас явления настолько точно, насколько вы хотите. Ракета может иметь имя, вместимость экипажа, полезную нагрузку, определенное количество топлива и любое количество других атрибутов. Вы можете определить любое поведение ракеты, включая взаимодействие с другими ракетами и пусковыми установками, гравитационные поля и все, что вам нужно! Существуют методы управления этими более сложными взаимодействиями, но то, что вы только что видели, является ядром объектно-ориентированного программирования."
   ]
  },
  {
   "cell_type": "markdown",
   "id": "38a7ff82",
   "metadata": {},
   "source": [
    "## Наследование\n",
    "\n",
    "Одной из важнейших целей объектно-ориентированного подхода к программированию является создание стабильного, надежного, многократно используемого кода. Если бы вам пришлось создавать новый класс для каждого объекта, который вы хотите смоделировать, вряд ли у вас был бы какой-либо повторно используемый код.\n",
    "\n",
    "В Python и любом другом языке, поддерживающем ООП, один класс может наследоваться от другого класса. Это означает, что вы можете создать новый класс на основе существующего класса; новый класс наследует все атрибуты и поведение класса, на котором он основан.\n",
    "\n",
    "Новый класс может переопределить любые нежелательные атрибуты или поведение класса, от которого он наследуется, и может добавить любые новые подходящие атрибуты или поведение. Исходный класс называется родительским - parent классом, а новый класс является дочерним - child  по отношению к родительскому классу. Родительский класс также называется суперклассом superclass, а дочерний класс также называется подклассом subclass.\n",
    "\n",
    "Дочерний класс наследует все атрибуты и поведение от родительского класса, но любые атрибуты, определенные в дочернем классе, недоступны родительскому классу. Это может быть очевидно для многих людей, но это стоит проговорить.\n",
    "\n",
    "Это также означает, что дочерний класс может переопределить поведение родительского класса. Если дочерний класс определяет метод, который также присутствует в родительском классе, объекты дочернего класса будут использовать новый метод, а не метод родительского класса.\n",
    "\n",
    "Чтобы лучше понять наследование, давайте рассмотрим пример класса, который может быть основан на классе Rocket."
   ]
  },
  {
   "cell_type": "markdown",
   "id": "ef867d57",
   "metadata": {},
   "source": [
    "## Класс \"СпейсШаттл\"\n",
    "\n",
    "Если бы вы хотели смоделировать космический шаттл, вы могли бы написать совершенно новый класс. Но космический шаттл — это всего лишь особый вид ракеты. Вместо написания совершенно нового класса вы можете унаследовать все атрибуты и поведение Rocket, а затем добавить несколько подходящих атрибутов и поведения для Shuttle.\n",
    "\n",
    "Одной из наиболее важных характеристик космического челнока является то, что его можно использовать повторно. Таким образом, единственное отличие, которое мы добавим на этом этапе, — это запись количества полетов, совершенных шаттлом. Все остальное, что вам нужно знать о шаттле, уже закодировано в классе Rocket.\n",
    "\n",
    "Вот как выглядит класс Shuttle:"
   ]
  },
  {
   "cell_type": "code",
   "execution_count": 18,
   "id": "238fddf8",
   "metadata": {},
   "outputs": [
    {
     "name": "stdout",
     "output_type": "stream",
     "text": [
      "<__main__.Shuttle object at 0x7fbf072bc670>\n"
     ]
    }
   ],
   "source": [
    "from math import sqrt\n",
    "\n",
    "class Rocket():\n",
    "    # Rocket simulates a rocket ship for a game,\n",
    "    #  or a physics simulation.\n",
    "    \n",
    "    def __init__(self, x=0, y=0):\n",
    "        # Each rocket has an (x,y) position.\n",
    "        self.x = x\n",
    "        self.y = y\n",
    "        \n",
    "    def move_rocket(self, x_increment=0, y_increment=1):\n",
    "        # Move the rocket according to the paremeters given.\n",
    "        #  Default behavior is to move the rocket up one unit.\n",
    "        self.x += x_increment\n",
    "        self.y += y_increment\n",
    "        \n",
    "    def get_distance(self, other_rocket):\n",
    "        # Calculates the distance from this rocket to another rocket,\n",
    "        #  and returns that value.\n",
    "        distance = sqrt((self.x-other_rocket.x)**2+(self.y-other_rocket.y)**2)\n",
    "        return distance\n",
    "    \n",
    "class Shuttle(Rocket):\n",
    "    # Shuttle simulates a space shuttle, which is really\n",
    "    #  just a reusable rocket.\n",
    "    \n",
    "    def __init__(self, x=0, y=0, flights_completed=0):\n",
    "        super().__init__(x, y)\n",
    "        self.flights_completed = flights_completed\n",
    "        \n",
    "shuttle = Shuttle(10,0,3)\n",
    "print(shuttle)"
   ]
  },
  {
   "cell_type": "markdown",
   "id": "86f38ccc",
   "metadata": {},
   "source": [
    "Когда новый класс основан на существующем классе, вы пишете имя родительского класса в круглых скобках при определении нового класса"
   ]
  },
  {
   "cell_type": "code",
   "execution_count": null,
   "id": "e518e4c6",
   "metadata": {},
   "outputs": [],
   "source": [
    "class NewClass(ParentClass):"
   ]
  },
  {
   "cell_type": "markdown",
   "id": "bb4faa22",
   "metadata": {},
   "source": [
    "Функция __init__() нового класса должна вызывать функцию __init__() родительского класса. Функция __init__() нового класса должна принимать все параметры, необходимые для построения объекта из родительского класса, и эти параметры необходимо передать функции __init__() родительского класса. Об этом позаботится функция super().__init__()"
   ]
  },
  {
   "cell_type": "code",
   "execution_count": null,
   "id": "daa279eb",
   "metadata": {},
   "outputs": [],
   "source": [
    "class NewClass(ParentClass):\n",
    "    \n",
    "    def __init__(self, arguments_new_class, arguments_parent_class):\n",
    "        super().__init__(arguments_parent_class)\n",
    "        # Code for initializing an object of the new class."
   ]
  },
  {
   "cell_type": "markdown",
   "id": "923bf265",
   "metadata": {},
   "source": [
    "Функция super() автоматически передает аргумент self родительскому классу. Вы также можете сделать это, явно назвав родительский класс при вызове функции __init__(), но тогда вам придется вручную включать аргумент self"
   ]
  },
  {
   "cell_type": "code",
   "execution_count": 21,
   "id": "49d071fc",
   "metadata": {},
   "outputs": [],
   "source": [
    "class Shuttle(Rocket):\n",
    "    # Shuttle simulates a space shuttle, which is really\n",
    "    #  just a reusable rocket.\n",
    "    \n",
    "    def __init__(self, x=0, y=0, flights_completed=0):\n",
    "        Rocket.__init__(self, x, y)\n",
    "        self.flights_completed = flights_completed"
   ]
  },
  {
   "cell_type": "markdown",
   "id": "6937cdb3",
   "metadata": {},
   "source": [
    "Это может показаться немного более легким для чтения, но предпочтительнее использовать синтаксис super(). Когда вы используете super(), вам не нужно явно называть родительский класс, поэтому ваш код более устойчив к последующим изменениям. Когда вы узнаете больше о классах, вы сможете писать дочерние классы, которые наследуются от нескольких родительских классов, а функция super() будет вызывать для вас функции __init__() родительских классов в одной строке. Я рассказал вам об этом подходе к вызову функции __init__() родительского класса, чтобы вы не запутались, если увидите его в чужом коде.\n",
    "\n",
    "Выходные данные выше показывают, что был создан новый объект Shuttle. Этот новый объект «Шаттл» может хранить количество совершенных полетов, но он также обладает всеми функциями класса «Ракета»: у него есть положение, которое можно изменить, и он может вычислять расстояние между собой и другими ракетами или шаттлами. Это можно продемонстрировать, создав несколько ракет и шаттлов, а затем найдя расстояние между одним челноком и всеми остальными челноками и ракетами.\n",
    "\n",
    "В этом примере используется простая функция randint, которая генерирует случайное целое число между нижней и верхней границей для определения положения каждой ракеты и шаттла:"
   ]
  },
  {
   "cell_type": "code",
   "execution_count": 22,
   "id": "35354b0f",
   "metadata": {},
   "outputs": [],
   "source": [
    "from math import sqrt\n",
    "from random import randint\n",
    "\n",
    "class Rocket():\n",
    "    # Rocket simulates a rocket ship for a game,\n",
    "    #  or a physics simulation.\n",
    "    \n",
    "    def __init__(self, x=0, y=0):\n",
    "        # Each rocket has an (x,y) position.\n",
    "        self.x = x\n",
    "        self.y = y\n",
    "        \n",
    "    def move_rocket(self, x_increment=0, y_increment=1):\n",
    "        # Move the rocket according to the paremeters given.\n",
    "        #  Default behavior is to move the rocket up one unit.\n",
    "        self.x += x_increment\n",
    "        self.y += y_increment\n",
    "        \n",
    "    def get_distance(self, other_rocket):\n",
    "        # Calculates the distance from this rocket to another rocket,\n",
    "        #  and returns that value.\n",
    "        distance = sqrt((self.x-other_rocket.x)**2+(self.y-other_rocket.y)**2)\n",
    "        return distance"
   ]
  },
  {
   "cell_type": "code",
   "execution_count": 23,
   "id": "d8dec48d",
   "metadata": {},
   "outputs": [],
   "source": [
    "\n",
    "class Shuttle(Rocket):\n",
    "    # Shuttle simulates a space shuttle, which is really\n",
    "    #  just a reusable rocket.\n",
    "    \n",
    "    def __init__(self, x=0, y=0, flights_completed=0):\n",
    "        super().__init__(x, y)\n",
    "        self.flights_completed = flights_completed"
   ]
  },
  {
   "cell_type": "code",
   "execution_count": 24,
   "id": "0ff249ce",
   "metadata": {},
   "outputs": [],
   "source": [
    "# Create several shuttles and rockets, with random positions.\n",
    "#  Shuttles have a random number of flights completed.\n",
    "shuttles = []\n",
    "for x in range(0,3):\n",
    "    x = randint(0,100)\n",
    "    y = randint(1,100)\n",
    "    flights_completed = randint(0,10)\n",
    "    shuttles.append(Shuttle(x, y, flights_completed))\n",
    "\n",
    "rockets = []\n",
    "for x in range(0,3):\n",
    "    x = randint(0,100)\n",
    "    y = randint(1,100)\n",
    "    rockets.append(Rocket(x, y))"
   ]
  },
  {
   "cell_type": "code",
   "execution_count": 25,
   "id": "fada0c74",
   "metadata": {},
   "outputs": [
    {
     "name": "stdout",
     "output_type": "stream",
     "text": [
      "Shuttle 0 has completed 2 flights.\n",
      "Shuttle 1 has completed 7 flights.\n",
      "Shuttle 2 has completed 0 flights.\n",
      "\n",
      "\n",
      "The first shuttle is 0.000000 units away from shuttle 0.\n",
      "The first shuttle is 92.282176 units away from shuttle 1.\n",
      "The first shuttle is 86.214848 units away from shuttle 2.\n"
     ]
    }
   ],
   "source": [
    "# Show the number of flights completed for each shuttle.\n",
    "for index, shuttle in enumerate(shuttles):\n",
    "    print(\"Shuttle %d has completed %d flights.\" % (index, shuttle.flights_completed))\n",
    "    \n",
    "print(\"\\n\")    \n",
    "# Show the distance from the first shuttle to all other shuttles.\n",
    "first_shuttle = shuttles[0]\n",
    "for index, shuttle in enumerate(shuttles):\n",
    "    distance = first_shuttle.get_distance(shuttle)\n",
    "    print(\"The first shuttle is %f units away from shuttle %d.\" % (distance, index))"
   ]
  },
  {
   "cell_type": "code",
   "execution_count": 26,
   "id": "8553e798",
   "metadata": {},
   "outputs": [
    {
     "name": "stdout",
     "output_type": "stream",
     "text": [
      "\n",
      "\n",
      "The first shuttle is 107.563934 units away from rocket 0.\n",
      "The first shuttle is 116.726175 units away from rocket 1.\n",
      "The first shuttle is 82.006097 units away from rocket 2.\n"
     ]
    }
   ],
   "source": [
    "print(\"\\n\")\n",
    "# Show the distance from the first shuttle to all other rockets.\n",
    "for index, rocket in enumerate(rockets):\n",
    "    distance = first_shuttle.get_distance(rocket)\n",
    "    print(\"The first shuttle is %f units away from rocket %d.\" % (distance, index))"
   ]
  },
  {
   "cell_type": "markdown",
   "id": "3eceb1a8",
   "metadata": {},
   "source": [
    "Наследование — мощная функция объектно-ориентированного программирования. Используя только то, что вы уже видели о классах, вы можете моделировать невероятное разнообразие реальных и виртуальных явлений с высокой степенью точности. Код, который вы пишете, может быть стабильным и пригодным для повторного использования в различных приложениях."
   ]
  },
  {
   "cell_type": "markdown",
   "id": "0f8b1cb4",
   "metadata": {},
   "source": [
    "# Модули и классы\n",
    "Теперь, когда вы начинаете работать с классами, ваши файлы станут длиннее. Это хорошо, потому что это означает, что ваши программы, вероятно, делают более интересные вещи. Но это плохо, потому что с более длинными файлами сложнее работать. Python позволяет вам сохранять ваши классы в другом файле, а затем импортировать их в программу, над которой вы работаете. Дополнительным преимуществом этого является изоляция ваших классов в файлы, которые можно использовать в любом количестве различных программ. По мере многократного использования классов классы в целом становятся более надежными и полными.\n",
    "\n",
    "## Хранение одного класса в модуле\n",
    "Когда вы сохраняете класс в отдельный файл, этот файл называется модулем. Вы можете иметь любое количество классов в одном модуле. Есть несколько способов импортировать интересующий вас класс.\n",
    "\n",
    "Для начала сохраните только класс Rocket в файл с именем Rocket.py. Обратите внимание на используемое здесь соглашение об именах: модуль сохраняется с именем в нижнем регистре, а класс начинается с буквы в верхнем регистре.\n",
    "\n",
    "Это соглашение очень важно по ряду причин, и следовать ему — действительно хорошая идея."
   ]
  },
  {
   "cell_type": "code",
   "execution_count": 33,
   "id": "e43645c8",
   "metadata": {},
   "outputs": [],
   "source": [
    "# Save as rocket.py\n",
    "from math import sqrt\n",
    "\n",
    "class Rocket():\n",
    "    # Rocket simulates a rocket ship for a game,\n",
    "    #  or a physics simulation.\n",
    "    \n",
    "    def __init__(self, x=0, y=0):\n",
    "        # Each rocket has an (x,y) position.\n",
    "        self.x = x\n",
    "        self.y = y\n",
    "        \n",
    "    def move_rocket(self, x_increment=0, y_increment=1):\n",
    "        # Move the rocket according to the paremeters given.\n",
    "        #  Default behavior is to move the rocket up one unit.\n",
    "        self.x += x_increment\n",
    "        self.y += y_increment\n",
    "        \n",
    "    def get_distance(self, other_rocket):\n",
    "        # Calculates the distance from this rocket to another rocket,\n",
    "        #  and returns that value.\n",
    "        distance = sqrt((self.x-other_rocket.x)**2+(self.y-other_rocket.y)**2)\n",
    "        return distance"
   ]
  },
  {
   "cell_type": "markdown",
   "id": "8cdfdd25",
   "metadata": {},
   "source": [
    "Создайте отдельный файл с именем Rocket_game.py. Если вы больше интересуетесь наукой, чем играми, вы можете называть этот файл как-то вроде Rocket_simulation.py. Опять же, чтобы использовать стандартные соглашения об именах, убедитесь, что вы используете имя в нижнем регистре_подчеркивания для этого файла."
   ]
  },
  {
   "cell_type": "code",
   "execution_count": null,
   "id": "caf101ca",
   "metadata": {},
   "outputs": [],
   "source": [
    "from rocket import Rocket\n",
    "\n",
    "rocket = Rocket()\n",
    "print(\"The rocket is at (%d, %d).\" % (rocket.x, rocket.y))"
   ]
  },
  {
   "cell_type": "markdown",
   "id": "def45539",
   "metadata": {},
   "source": [
    "Это действительно чистый и незагроможденный файл. Теперь вы можете определить ракету в своих программах, и детали реализации ракеты не будут загромождать ваш файл. Вам не нужно включать весь код класса для ракеты в каждый из ваших файлов, связанных с ракетами; код, определяющий атрибуты и поведение ракеты, находится в одном файле и может использоваться где угодно.\n",
    "\n",
    "Первая строка указывает Python искать файл с именем Rocket.py. Он ищет этот файл в том же каталоге, что и ваша текущая программа. Вы можете поместить свои классы в другие каталоги, но мы вернемся к этому соглашению чуть позже. \n",
    "\n",
    "Когда Python находит файл Rocket.py, он ищет класс Rocket. Когда он находит этот класс, он импортирует этот код в текущий файл, и вы никогда не видите этот код. После этого вы можете свободно использовать класс Rocket, как вы видели в предыдущих примерах."
   ]
  }
 ],
 "metadata": {
  "kernelspec": {
   "display_name": "Python 3 (ipykernel)",
   "language": "python",
   "name": "python3"
  },
  "language_info": {
   "codemirror_mode": {
    "name": "ipython",
    "version": 3
   },
   "file_extension": ".py",
   "mimetype": "text/x-python",
   "name": "python",
   "nbconvert_exporter": "python",
   "pygments_lexer": "ipython3",
   "version": "3.9.7"
  }
 },
 "nbformat": 4,
 "nbformat_minor": 5
}
