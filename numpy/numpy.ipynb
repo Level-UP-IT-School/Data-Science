{
 "cells": [
  {
   "cell_type": "markdown",
   "id": "answering-disney",
   "metadata": {},
   "source": [
    "# Numpy -  многомерные массивы данных"
   ]
  },
  {
   "cell_type": "code",
   "execution_count": 1,
   "id": "collect-national",
   "metadata": {},
   "outputs": [],
   "source": [
    "%matplotlib inline\n",
    "import matplotlib.pyplot as plt"
   ]
  },
  {
   "cell_type": "markdown",
   "id": "adequate-action",
   "metadata": {},
   "source": [
    "## Введение"
   ]
  },
  {
   "cell_type": "markdown",
   "id": "numerous-overall",
   "metadata": {},
   "source": [
    "Пакет (модуль) `numpy` используется почти во всех численных вычислениях с использованием Python. Это пакет, который обеспечивает высокопроизводительные векторные, матричные и многомерные структуры данных для Python. Он реализован на C и Fortran, поэтому, когда вычисления векторизованы (сформулированы с векторами и матрицами), производительность очень хорошая."
   ]
  },
  {
   "cell_type": "code",
   "execution_count": 2,
   "id": "convenient-preview",
   "metadata": {},
   "outputs": [],
   "source": [
    "import numpy as np"
   ]
  },
  {
   "cell_type": "markdown",
   "id": "external-showcase",
   "metadata": {},
   "source": [
    "В пакете `numpy` для векторов, матриц и многомерных наборов данных используется терминология *массив*."
   ]
  },
  {
   "cell_type": "markdown",
   "id": "enormous-pipeline",
   "metadata": {},
   "source": [
    "## Создание массивов `numpy` "
   ]
  },
  {
   "cell_type": "markdown",
   "id": "accepting-inquiry",
   "metadata": {},
   "source": [
    "Существует множество возможностей создания массивов в `numpy`:\n",
    "* список или кортеж Python\n",
    "* используя функции предназначенные для создания массивов `numpy`, такие как `arange`, `linspace` и т.д.\n",
    "* чтение данных из файлов"
   ]
  },
  {
   "cell_type": "markdown",
   "id": "running-installation",
   "metadata": {},
   "source": [
    "### Из списков"
   ]
  },
  {
   "cell_type": "markdown",
   "id": "excellent-prototype",
   "metadata": {},
   "source": [
    "Например, чтобы создать новый вектор и матрицу массивов из спосков Python достаточно использовать функцию `numpy.array`."
   ]
  },
  {
   "cell_type": "code",
   "execution_count": 3,
   "id": "legal-reach",
   "metadata": {},
   "outputs": [
    {
     "data": {
      "text/plain": [
       "array([1, 2, 3, 4])"
      ]
     },
     "execution_count": 3,
     "metadata": {},
     "output_type": "execute_result"
    }
   ],
   "source": [
    "# вектор: аргумент функции массива питоновский список\n",
    "v = np.array([1,2,3,4])\n",
    "\n",
    "v"
   ]
  },
  {
   "cell_type": "code",
   "execution_count": 4,
   "id": "absent-eleven",
   "metadata": {},
   "outputs": [
    {
     "data": {
      "text/plain": [
       "array([[1, 2],\n",
       "       [3, 4]])"
      ]
     },
     "execution_count": 4,
     "metadata": {},
     "output_type": "execute_result"
    }
   ],
   "source": [
    "# матрица: аргумент функции вложенный список Python\n",
    "M = np.array([[1, 2], [3, 4]])\n",
    "\n",
    "M"
   ]
  },
  {
   "cell_type": "markdown",
   "id": "loving-teacher",
   "metadata": {},
   "source": [
    "И `v` и `M` объекты относятся к типу данных `ndarray` предоставлеямому модулем `numpy`."
   ]
  },
  {
   "cell_type": "code",
   "execution_count": 5,
   "id": "macro-dairy",
   "metadata": {},
   "outputs": [
    {
     "data": {
      "text/plain": [
       "(numpy.ndarray, numpy.ndarray)"
      ]
     },
     "execution_count": 5,
     "metadata": {},
     "output_type": "execute_result"
    }
   ],
   "source": [
    "type(v), type(M)"
   ]
  },
  {
   "cell_type": "markdown",
   "id": "biological-possession",
   "metadata": {},
   "source": [
    "Разница между `v` и `M` массивами только в их форме. Получить информацию о форме массива можно с помощью `ndarray.shape`."
   ]
  },
  {
   "cell_type": "code",
   "execution_count": 6,
   "id": "renewable-villa",
   "metadata": {},
   "outputs": [
    {
     "data": {
      "text/plain": [
       "(4,)"
      ]
     },
     "execution_count": 6,
     "metadata": {},
     "output_type": "execute_result"
    }
   ],
   "source": [
    "v.shape"
   ]
  },
  {
   "cell_type": "code",
   "execution_count": 7,
   "id": "wrapped-attitude",
   "metadata": {},
   "outputs": [
    {
     "data": {
      "text/plain": [
       "(2, 2)"
      ]
     },
     "execution_count": 7,
     "metadata": {},
     "output_type": "execute_result"
    }
   ],
   "source": [
    "M.shape"
   ]
  },
  {
   "cell_type": "markdown",
   "id": "indirect-ferry",
   "metadata": {},
   "source": [
    "Количество элементов в массиве доступно через свойство `ndarray.size`:"
   ]
  },
  {
   "cell_type": "code",
   "execution_count": 8,
   "id": "composed-architect",
   "metadata": {},
   "outputs": [
    {
     "data": {
      "text/plain": [
       "4"
      ]
     },
     "execution_count": 8,
     "metadata": {},
     "output_type": "execute_result"
    }
   ],
   "source": [
    "M.size"
   ]
  },
  {
   "cell_type": "markdown",
   "id": "massive-albuquerque",
   "metadata": {},
   "source": [
    "Точно так же мы могли бы использовать функцию `numpy.shape` и `numpy.size`"
   ]
  },
  {
   "cell_type": "code",
   "execution_count": 11,
   "id": "modified-canon",
   "metadata": {},
   "outputs": [
    {
     "data": {
      "text/plain": [
       "(2, 2)"
      ]
     },
     "execution_count": 11,
     "metadata": {},
     "output_type": "execute_result"
    }
   ],
   "source": [
    "np.shape(M)"
   ]
  },
  {
   "cell_type": "code",
   "execution_count": 12,
   "id": "supported-check",
   "metadata": {},
   "outputs": [
    {
     "data": {
      "text/plain": [
       "4"
      ]
     },
     "execution_count": 12,
     "metadata": {},
     "output_type": "execute_result"
    }
   ],
   "source": [
    "np.size(M)"
   ]
  },
  {
   "cell_type": "markdown",
   "id": "cloudy-today",
   "metadata": {},
   "source": [
    "Пока что `numpy.ndarray` очень похож на список Python (или вложенный список). Почему бы просто не использовать списки Python для вычислений вместо создания нового типа массива?\n",
    "\n",
    "Причин несколько:\n",
    "\n",
    "* Списки Python очень общие. Они могут содержать любой объект. Они динамически типизированы. Они не поддерживают математические функции, такие как умножение матриц и точек и т.д. Реализация таких функций для списков Python не будет очень эффективной из-за динамической типизации.\n",
    "* Массивы Numpy **статически типизированы** и **однородны**. Тип элементов определяется при создании массива.\n",
    "* Массивы Numpy эффективны с точки зрения памяти. \n",
    "* Благодаря статической типизации, быстрая реализация математических функций, таких как умножение и сложение массивов numpy, может быть реализована на скомпилированном языке (используются C и Fortran).\n",
    "\n",
    "Используя свойство `dtype` (тип данных) объекта `ndarray`, мы можем увидеть, какой тип имеют данные массива:"
   ]
  },
  {
   "cell_type": "code",
   "execution_count": 13,
   "id": "hollywood-momentum",
   "metadata": {},
   "outputs": [
    {
     "data": {
      "text/plain": [
       "dtype('int64')"
      ]
     },
     "execution_count": 13,
     "metadata": {},
     "output_type": "execute_result"
    }
   ],
   "source": [
    "M.dtype"
   ]
  },
  {
   "cell_type": "markdown",
   "id": "competitive-blade",
   "metadata": {},
   "source": [
    "Мы получим ошибку, если попытаемся присвоить значение неправильного типа элементу в массиве numpy:"
   ]
  },
  {
   "cell_type": "code",
   "execution_count": 14,
   "id": "radical-thousand",
   "metadata": {},
   "outputs": [
    {
     "ename": "ValueError",
     "evalue": "invalid literal for int() with base 10: 'hello'",
     "output_type": "error",
     "traceback": [
      "\u001b[0;31m---------------------------------------------------------------------------\u001b[0m",
      "\u001b[0;31mValueError\u001b[0m                                Traceback (most recent call last)",
      "\u001b[0;32m/tmp/ipykernel_3019662/3388738246.py\u001b[0m in \u001b[0;36m<module>\u001b[0;34m\u001b[0m\n\u001b[0;32m----> 1\u001b[0;31m \u001b[0mM\u001b[0m\u001b[0;34m[\u001b[0m\u001b[0;36m0\u001b[0m\u001b[0;34m,\u001b[0m\u001b[0;36m0\u001b[0m\u001b[0;34m]\u001b[0m \u001b[0;34m=\u001b[0m \u001b[0;34m\"hello\"\u001b[0m\u001b[0;34m\u001b[0m\u001b[0;34m\u001b[0m\u001b[0m\n\u001b[0m",
      "\u001b[0;31mValueError\u001b[0m: invalid literal for int() with base 10: 'hello'"
     ]
    }
   ],
   "source": [
    "M[0,0] = \"hello\""
   ]
  },
  {
   "cell_type": "markdown",
   "id": "based-specific",
   "metadata": {},
   "source": [
    "Если мы хотим, мы можем явно определить тип данных массива при его создании, используя аргумент `dtype`:"
   ]
  },
  {
   "cell_type": "code",
   "execution_count": 16,
   "id": "stuffed-palmer",
   "metadata": {},
   "outputs": [
    {
     "data": {
      "text/plain": [
       "array([[1.+0.j, 2.+0.j],\n",
       "       [3.+0.j, 4.+0.j]])"
      ]
     },
     "execution_count": 16,
     "metadata": {},
     "output_type": "execute_result"
    }
   ],
   "source": [
    "M = np.array([[1, 2], [3, 4]], dtype=complex)\n",
    "\n",
    "M"
   ]
  },
  {
   "cell_type": "markdown",
   "id": "nervous-letters",
   "metadata": {},
   "source": [
    "Основные типы данных `dtype`: `int`, `float`, `complex`, `bool`, `object`.\n",
    "\n",
    "Мы также можем явно определить размер в битах типов данных, например: `int64`, `int16`, `float128`, `complex128`."
   ]
  },
  {
   "cell_type": "markdown",
   "id": "medieval-quilt",
   "metadata": {},
   "source": [
    "### Использование функций генерации массивов"
   ]
  },
  {
   "cell_type": "markdown",
   "id": "desirable-deviation",
   "metadata": {},
   "source": [
    "Для больших массивов нецелесообразно инициализировать данные вручную, используя явные списки Python. Вместо этого мы можем использовать одну из многих функций в `numpy`, которые генерируют массивы разных форм. \n",
    "\n",
    "Некоторые из наиболее распространенных:"
   ]
  },
  {
   "cell_type": "markdown",
   "id": "central-interest",
   "metadata": {},
   "source": [
    "#### arange"
   ]
  },
  {
   "cell_type": "code",
   "execution_count": 17,
   "id": "sustained-macro",
   "metadata": {},
   "outputs": [
    {
     "data": {
      "text/plain": [
       "array([0, 1, 2, 3, 4, 5, 6, 7, 8, 9])"
      ]
     },
     "execution_count": 17,
     "metadata": {},
     "output_type": "execute_result"
    }
   ],
   "source": [
    "x = np.arange(0, 10, 1) # arguments: start, stop, step\n",
    "\n",
    "x"
   ]
  },
  {
   "cell_type": "code",
   "execution_count": 18,
   "id": "minute-southeast",
   "metadata": {},
   "outputs": [
    {
     "data": {
      "text/plain": [
       "array([-1.00000000e+00, -9.00000000e-01, -8.00000000e-01, -7.00000000e-01,\n",
       "       -6.00000000e-01, -5.00000000e-01, -4.00000000e-01, -3.00000000e-01,\n",
       "       -2.00000000e-01, -1.00000000e-01, -2.22044605e-16,  1.00000000e-01,\n",
       "        2.00000000e-01,  3.00000000e-01,  4.00000000e-01,  5.00000000e-01,\n",
       "        6.00000000e-01,  7.00000000e-01,  8.00000000e-01,  9.00000000e-01])"
      ]
     },
     "execution_count": 18,
     "metadata": {},
     "output_type": "execute_result"
    }
   ],
   "source": [
    "x = np.arange(-1, 1, 0.1)\n",
    "\n",
    "x"
   ]
  },
  {
   "cell_type": "markdown",
   "id": "posted-twenty",
   "metadata": {},
   "source": [
    "#### linspace и logspace"
   ]
  },
  {
   "cell_type": "markdown",
   "id": "67a2d2c5",
   "metadata": {},
   "source": [
    "Эта функция создает последовательность данных, равномерно расположенных на числовой прямой в заданном интервале."
   ]
  },
  {
   "cell_type": "code",
   "execution_count": 19,
   "id": "biblical-disclosure",
   "metadata": {},
   "outputs": [
    {
     "data": {
      "text/plain": [
       "array([ 0.        ,  0.41666667,  0.83333333,  1.25      ,  1.66666667,\n",
       "        2.08333333,  2.5       ,  2.91666667,  3.33333333,  3.75      ,\n",
       "        4.16666667,  4.58333333,  5.        ,  5.41666667,  5.83333333,\n",
       "        6.25      ,  6.66666667,  7.08333333,  7.5       ,  7.91666667,\n",
       "        8.33333333,  8.75      ,  9.16666667,  9.58333333, 10.        ])"
      ]
     },
     "execution_count": 19,
     "metadata": {},
     "output_type": "execute_result"
    }
   ],
   "source": [
    "# используя linspace обе точки включаются в массив\n",
    "np.linspace(0, 10, 25)"
   ]
  },
  {
   "cell_type": "markdown",
   "id": "5754c25c",
   "metadata": {},
   "source": [
    "Функция numpy.logspace() возвращает последовательность данных, равномерно расположенных в заданном интервале на числовой прямой в логарифмическом масштабе. Параметры у этой функции точно такие же, как и у numpy.linspace()\n",
    "\n",
    "Логарифмический масштаб (шкала) — шкала, длина отрезка которой пропорциональна логарифму отношения величин, отмеченных на концах этого отрезка, в то время как на шкале в линейном масштабе длина отрезка пропорциональна разности величин на его концах."
   ]
  },
  {
   "cell_type": "code",
   "execution_count": 21,
   "id": "naughty-philippines",
   "metadata": {},
   "outputs": [
    {
     "data": {
      "text/plain": [
       "array([1.00000000e+00, 3.03773178e+00, 9.22781435e+00, 2.80316249e+01,\n",
       "       8.51525577e+01, 2.58670631e+02, 7.85771994e+02, 2.38696456e+03,\n",
       "       7.25095809e+03, 2.20264658e+04])"
      ]
     },
     "execution_count": 21,
     "metadata": {},
     "output_type": "execute_result"
    }
   ],
   "source": [
    "np.logspace(0, 10, 10, base=np.e)"
   ]
  },
  {
   "cell_type": "markdown",
   "id": "renewable-retail",
   "metadata": {},
   "source": [
    "#### mgrid\n",
    "Numpy Mgrid-это специальный тип массива numpy, который создает 2d-массив с аналогичными значениями. Сетка сетки многомерных массивов все одного размера и размерности. Полезно для создания координат."
   ]
  },
  {
   "cell_type": "code",
   "execution_count": 22,
   "id": "unlikely-recall",
   "metadata": {},
   "outputs": [],
   "source": [
    "x, y = np.mgrid[0:5, 0:5]"
   ]
  },
  {
   "cell_type": "code",
   "execution_count": 19,
   "id": "promotional-palestinian",
   "metadata": {},
   "outputs": [
    {
     "data": {
      "text/plain": [
       "array([[0, 0, 0, 0, 0],\n",
       "       [1, 1, 1, 1, 1],\n",
       "       [2, 2, 2, 2, 2],\n",
       "       [3, 3, 3, 3, 3],\n",
       "       [4, 4, 4, 4, 4]])"
      ]
     },
     "execution_count": 19,
     "metadata": {},
     "output_type": "execute_result"
    }
   ],
   "source": [
    "x"
   ]
  },
  {
   "cell_type": "code",
   "execution_count": 20,
   "id": "macro-cement",
   "metadata": {},
   "outputs": [
    {
     "data": {
      "text/plain": [
       "array([[0, 1, 2, 3, 4],\n",
       "       [0, 1, 2, 3, 4],\n",
       "       [0, 1, 2, 3, 4],\n",
       "       [0, 1, 2, 3, 4],\n",
       "       [0, 1, 2, 3, 4]])"
      ]
     },
     "execution_count": 20,
     "metadata": {},
     "output_type": "execute_result"
    }
   ],
   "source": [
    "y"
   ]
  },
  {
   "cell_type": "markdown",
   "id": "affecting-holiday",
   "metadata": {},
   "source": [
    "#### random data"
   ]
  },
  {
   "cell_type": "code",
   "execution_count": 23,
   "id": "dying-theology",
   "metadata": {},
   "outputs": [
    {
     "data": {
      "text/plain": [
       "array([[0.3611541 , 0.01193428, 0.58318712, 0.63921844, 0.1966497 ],\n",
       "       [0.67969248, 0.70385301, 0.96799427, 0.21117177, 0.74713873],\n",
       "       [0.56869708, 0.64823141, 0.92371307, 0.05228594, 0.41163059],\n",
       "       [0.7944997 , 0.22298182, 0.23861202, 0.05648128, 0.09266724],\n",
       "       [0.7870668 , 0.02054569, 0.01044461, 0.75508578, 0.37425684]])"
      ]
     },
     "execution_count": 23,
     "metadata": {},
     "output_type": "execute_result"
    }
   ],
   "source": [
    "np.random.rand(5,5)"
   ]
  },
  {
   "cell_type": "code",
   "execution_count": 24,
   "id": "enclosed-sweden",
   "metadata": {},
   "outputs": [
    {
     "data": {
      "text/plain": [
       "array([[ 0.3558192 ,  0.68402343, -0.33704271,  1.37777664,  1.58619415],\n",
       "       [-0.66998457,  0.51106522,  0.42644548, -0.55781633,  0.11138569],\n",
       "       [-0.01902596,  0.96582133, -0.63179724, -0.03742662,  1.6434489 ],\n",
       "       [-0.92794646, -1.12237777, -0.65594864, -1.1985012 , -0.08708591],\n",
       "       [-0.8469193 , -1.02531983, -1.29603089, -0.17194891,  0.4966351 ]])"
      ]
     },
     "execution_count": 24,
     "metadata": {},
     "output_type": "execute_result"
    }
   ],
   "source": [
    "# стандартное нормальное распределение\n",
    "\n",
    "np.random.randn(5,5)"
   ]
  },
  {
   "cell_type": "markdown",
   "id": "killing-plaintiff",
   "metadata": {},
   "source": [
    "#### diag"
   ]
  },
  {
   "cell_type": "code",
   "execution_count": 25,
   "id": "democratic-tooth",
   "metadata": {},
   "outputs": [
    {
     "data": {
      "text/plain": [
       "array([[1, 0, 0],\n",
       "       [0, 2, 0],\n",
       "       [0, 0, 3]])"
      ]
     },
     "execution_count": 25,
     "metadata": {},
     "output_type": "execute_result"
    }
   ],
   "source": [
    "# диагональная матрица\n",
    "np.diag([1,2,3])"
   ]
  },
  {
   "cell_type": "code",
   "execution_count": 26,
   "id": "dominant-reproduction",
   "metadata": {},
   "outputs": [
    {
     "data": {
      "text/plain": [
       "array([[0, 1, 0, 0],\n",
       "       [0, 0, 2, 0],\n",
       "       [0, 0, 0, 3],\n",
       "       [0, 0, 0, 0]])"
      ]
     },
     "execution_count": 26,
     "metadata": {},
     "output_type": "execute_result"
    }
   ],
   "source": [
    "# то же самое, но с отступом\n",
    "np.diag([1,2,3], k=1) "
   ]
  },
  {
   "cell_type": "markdown",
   "id": "intimate-sequence",
   "metadata": {},
   "source": [
    "#### zeros и ones"
   ]
  },
  {
   "cell_type": "code",
   "execution_count": 27,
   "id": "julian-chicago",
   "metadata": {},
   "outputs": [
    {
     "data": {
      "text/plain": [
       "array([[0., 0., 0.],\n",
       "       [0., 0., 0.],\n",
       "       [0., 0., 0.]])"
      ]
     },
     "execution_count": 27,
     "metadata": {},
     "output_type": "execute_result"
    }
   ],
   "source": [
    "np.zeros((3,3))"
   ]
  },
  {
   "cell_type": "code",
   "execution_count": 28,
   "id": "forbidden-nevada",
   "metadata": {},
   "outputs": [
    {
     "data": {
      "text/plain": [
       "array([[1., 1., 1.],\n",
       "       [1., 1., 1.],\n",
       "       [1., 1., 1.]])"
      ]
     },
     "execution_count": 28,
     "metadata": {},
     "output_type": "execute_result"
    }
   ],
   "source": [
    "np.ones((3,3))"
   ]
  },
  {
   "cell_type": "markdown",
   "id": "combined-soviet",
   "metadata": {},
   "source": [
    "## File I/O"
   ]
  },
  {
   "cell_type": "markdown",
   "id": "neither-bermuda",
   "metadata": {},
   "source": [
    "### Comma-separated values (CSV)"
   ]
  },
  {
   "cell_type": "markdown",
   "id": "colonial-laptop",
   "metadata": {},
   "source": [
    "Очень распространенный формат файлов для файлов данных - это значения, разделенные запятыми (CSV), или связанные форматы, такие как TSV (значения, разделенные табуляцией). Для чтения данных из таких файлов в массивы Numpy мы можем использовать функцию `numpy.genfromtxt`."
   ]
  },
  {
   "cell_type": "code",
   "execution_count": 29,
   "id": "saving-theory",
   "metadata": {},
   "outputs": [
    {
     "name": "stdout",
     "output_type": "stream",
     "text": [
      "1800  1  1    -6.1    -6.1    -6.1 1\r\n",
      "1800  1  2   -15.4   -15.4   -15.4 1\r\n",
      "1800  1  3   -15.0   -15.0   -15.0 1\r\n",
      "1800  1  4   -19.3   -19.3   -19.3 1\r\n",
      "1800  1  5   -16.8   -16.8   -16.8 1\r\n",
      "1800  1  6   -11.4   -11.4   -11.4 1\r\n",
      "1800  1  7    -7.6    -7.6    -7.6 1\r\n",
      "1800  1  8    -7.1    -7.1    -7.1 1\r\n",
      "1800  1  9   -10.1   -10.1   -10.1 1\r\n",
      "1800  1 10    -9.5    -9.5    -9.5 1\r\n"
     ]
    }
   ],
   "source": [
    "!head stockholm_td_adj.dat"
   ]
  },
  {
   "cell_type": "code",
   "execution_count": 31,
   "id": "saving-penetration",
   "metadata": {},
   "outputs": [],
   "source": [
    "data = np.genfromtxt('stockholm_td_adj.dat')"
   ]
  },
  {
   "cell_type": "code",
   "execution_count": 32,
   "id": "turned-catering",
   "metadata": {},
   "outputs": [
    {
     "data": {
      "text/plain": [
       "(77431, 7)"
      ]
     },
     "execution_count": 32,
     "metadata": {},
     "output_type": "execute_result"
    }
   ],
   "source": [
    "data.shape"
   ]
  },
  {
   "cell_type": "code",
   "execution_count": 33,
   "id": "western-confidentiality",
   "metadata": {},
   "outputs": [
    {
     "data": {
      "image/png": "[encoded data removed]",
      "text/plain": [
       "<Figure size 1008x288 with 1 Axes>"
      ]
     },
     "metadata": {
      "needs_background": "light"
     },
     "output_type": "display_data"
    }
   ],
   "source": [
    "fig, ax = plt.subplots(figsize=(14,4))\n",
    "ax.plot(data[:,0]+data[:,1]/12.0+data[:,2]/365, data[:,5])\n",
    "ax.axis('tight')\n",
    "ax.set_title('tempeatures in Stockholm')\n",
    "ax.set_xlabel('year')\n",
    "ax.set_ylabel('temperature (C)');"
   ]
  },
  {
   "cell_type": "markdown",
   "id": "tribal-ecuador",
   "metadata": {},
   "source": [
    "Используя `numpy.savetxt` мы можем сохранить данные в CSV формат:"
   ]
  },
  {
   "cell_type": "code",
   "execution_count": 35,
   "id": "headed-indonesia",
   "metadata": {},
   "outputs": [
    {
     "data": {
      "text/plain": [
       "array([[0.57920982, 0.76717171, 0.36893422],\n",
       "       [0.89478019, 0.64310731, 0.50252045],\n",
       "       [0.61939279, 0.39568994, 0.1539383 ]])"
      ]
     },
     "execution_count": 35,
     "metadata": {},
     "output_type": "execute_result"
    }
   ],
   "source": [
    "M = np.random.rand(3,3)\n",
    "\n",
    "M"
   ]
  },
  {
   "cell_type": "code",
   "execution_count": 36,
   "id": "manual-sigma",
   "metadata": {},
   "outputs": [],
   "source": [
    "np.savetxt(\"randommatrix.csv\", M)"
   ]
  },
  {
   "cell_type": "code",
   "execution_count": 37,
   "id": "confidential-administrator",
   "metadata": {},
   "outputs": [
    {
     "name": "stdout",
     "output_type": "stream",
     "text": [
      "5.792098223118490319e-01 7.671717075377790795e-01 3.689342208878052531e-01\r\n",
      "8.947801909673533949e-01 6.431073144372604355e-01 5.025204486601880793e-01\r\n",
      "6.193927923351467690e-01 3.956899361955479311e-01 1.539382981254814320e-01\r\n"
     ]
    }
   ],
   "source": [
    "!cat randommatrix.csv #открыть файл в командной строке"
   ]
  },
  {
   "cell_type": "code",
   "execution_count": 38,
   "id": "adjusted-webster",
   "metadata": {},
   "outputs": [
    {
     "name": "stdout",
     "output_type": "stream",
     "text": [
      "0.57921 0.76717 0.36893\r\n",
      "0.89478 0.64311 0.50252\r\n",
      "0.61939 0.39569 0.15394\r\n"
     ]
    }
   ],
   "source": [
    "np.savetxt(\"randommatrix.csv\", M, fmt='%.5f') # fmt specifies the format\n",
    "\n",
    "!cat randommatrix.csv"
   ]
  },
  {
   "cell_type": "markdown",
   "id": "subjective-rouge",
   "metadata": {},
   "source": [
    "### Numpy формат"
   ]
  },
  {
   "cell_type": "markdown",
   "id": "sound-conditions",
   "metadata": {},
   "source": [
    "Полезен для хранения массивов и обращения к ним позже. Используйте `numpy.save` и `numpy.load`:"
   ]
  },
  {
   "cell_type": "code",
   "execution_count": 39,
   "id": "employed-leadership",
   "metadata": {},
   "outputs": [],
   "source": [
    "np.save(\"randommatrix.npy\", M)\n"
   ]
  },
  {
   "cell_type": "code",
   "execution_count": 40,
   "id": "fabulous-establishment",
   "metadata": {},
   "outputs": [
    {
     "data": {
      "text/plain": [
       "array([[0.57920982, 0.76717171, 0.36893422],\n",
       "       [0.89478019, 0.64310731, 0.50252045],\n",
       "       [0.61939279, 0.39568994, 0.1539383 ]])"
      ]
     },
     "execution_count": 40,
     "metadata": {},
     "output_type": "execute_result"
    }
   ],
   "source": [
    "np.load(\"randommatrix.npy\")"
   ]
  },
  {
   "cell_type": "markdown",
   "id": "wound-pavilion",
   "metadata": {},
   "source": [
    "## Управление массивами"
   ]
  },
  {
   "cell_type": "markdown",
   "id": "actual-marina",
   "metadata": {},
   "source": [
    "### Индексирование"
   ]
  },
  {
   "cell_type": "markdown",
   "id": "starting-accounting",
   "metadata": {},
   "source": [
    "Мы можем индексировать элементы в массиве, используя квадратные скобки и индексы:"
   ]
  },
  {
   "cell_type": "code",
   "execution_count": 41,
   "id": "fundamental-compromise",
   "metadata": {},
   "outputs": [
    {
     "data": {
      "text/plain": [
       "1"
      ]
     },
     "execution_count": 41,
     "metadata": {},
     "output_type": "execute_result"
    }
   ],
   "source": [
    "# v - вектор, имеющий только одно измерение, с одним индексом\n",
    "v[0]"
   ]
  },
  {
   "cell_type": "code",
   "execution_count": 42,
   "id": "subtle-qualification",
   "metadata": {},
   "outputs": [
    {
     "data": {
      "text/plain": [
       "0.6431073144372604"
      ]
     },
     "execution_count": 42,
     "metadata": {},
     "output_type": "execute_result"
    }
   ],
   "source": [
    "# M - матрица или двумерный массив, принимающий два индекса\n",
    "M[1,1]"
   ]
  },
  {
   "cell_type": "markdown",
   "id": "statewide-release",
   "metadata": {},
   "source": [
    "Если мы опускаем индекс многомерного массива, он возвращает всю строку (или, в общем, N-1 размерный массив)"
   ]
  },
  {
   "cell_type": "code",
   "execution_count": 43,
   "id": "attempted-inspiration",
   "metadata": {},
   "outputs": [
    {
     "data": {
      "text/plain": [
       "array([[0.57920982, 0.76717171, 0.36893422],\n",
       "       [0.89478019, 0.64310731, 0.50252045],\n",
       "       [0.61939279, 0.39568994, 0.1539383 ]])"
      ]
     },
     "execution_count": 43,
     "metadata": {},
     "output_type": "execute_result"
    }
   ],
   "source": [
    "M"
   ]
  },
  {
   "cell_type": "code",
   "execution_count": 44,
   "id": "little-territory",
   "metadata": {},
   "outputs": [
    {
     "data": {
      "text/plain": [
       "array([0.89478019, 0.64310731, 0.50252045])"
      ]
     },
     "execution_count": 44,
     "metadata": {},
     "output_type": "execute_result"
    }
   ],
   "source": [
    "M[1]"
   ]
  },
  {
   "cell_type": "markdown",
   "id": "filled-hawaii",
   "metadata": {},
   "source": [
    "То же самое может быть достигнуто с использованием `:` вместо индекса:"
   ]
  },
  {
   "cell_type": "code",
   "execution_count": 45,
   "id": "cosmetic-climate",
   "metadata": {},
   "outputs": [
    {
     "data": {
      "text/plain": [
       "array([0.89478019, 0.64310731, 0.50252045])"
      ]
     },
     "execution_count": 45,
     "metadata": {},
     "output_type": "execute_result"
    }
   ],
   "source": [
    "M[1,:] # ряд 1"
   ]
  },
  {
   "cell_type": "code",
   "execution_count": 46,
   "id": "desperate-receptor",
   "metadata": {},
   "outputs": [
    {
     "data": {
      "text/plain": [
       "array([0.76717171, 0.64310731, 0.39568994])"
      ]
     },
     "execution_count": 46,
     "metadata": {},
     "output_type": "execute_result"
    }
   ],
   "source": [
    "M[:,1] # колонка 1"
   ]
  },
  {
   "cell_type": "markdown",
   "id": "amended-crossing",
   "metadata": {},
   "source": [
    "Мы можем присвоить новые значения элементам в массиве с помощью индексации:"
   ]
  },
  {
   "cell_type": "code",
   "execution_count": 47,
   "id": "committed-drove",
   "metadata": {},
   "outputs": [],
   "source": [
    "M[0,0] = 12"
   ]
  },
  {
   "cell_type": "code",
   "execution_count": 48,
   "id": "material-height",
   "metadata": {},
   "outputs": [
    {
     "data": {
      "text/plain": [
       "array([[12.        ,  0.76717171,  0.36893422],\n",
       "       [ 0.89478019,  0.64310731,  0.50252045],\n",
       "       [ 0.61939279,  0.39568994,  0.1539383 ]])"
      ]
     },
     "execution_count": 48,
     "metadata": {},
     "output_type": "execute_result"
    }
   ],
   "source": [
    "M"
   ]
  },
  {
   "cell_type": "code",
   "execution_count": 49,
   "id": "helpful-charles",
   "metadata": {},
   "outputs": [],
   "source": [
    "# для рядов и колонок так же работает\n",
    "M[1,:] = 0\n",
    "M[:,2] = -1"
   ]
  },
  {
   "cell_type": "code",
   "execution_count": 50,
   "id": "minus-creek",
   "metadata": {},
   "outputs": [
    {
     "data": {
      "text/plain": [
       "array([[12.        ,  0.76717171, -1.        ],\n",
       "       [ 0.        ,  0.        , -1.        ],\n",
       "       [ 0.61939279,  0.39568994, -1.        ]])"
      ]
     },
     "execution_count": 50,
     "metadata": {},
     "output_type": "execute_result"
    }
   ],
   "source": [
    "M"
   ]
  },
  {
   "cell_type": "markdown",
   "id": "transparent-cooperation",
   "metadata": {},
   "source": [
    "### Index slicing"
   ]
  },
  {
   "cell_type": "markdown",
   "id": "representative-warrant",
   "metadata": {},
   "source": [
    "Слайсинг - это техническое название синтаксиса `M [lower: upper: step]` для извлечения части массива:"
   ]
  },
  {
   "cell_type": "code",
   "execution_count": 52,
   "id": "meaning-preserve",
   "metadata": {},
   "outputs": [
    {
     "data": {
      "text/plain": [
       "array([1, 2, 3, 4, 5])"
      ]
     },
     "execution_count": 52,
     "metadata": {},
     "output_type": "execute_result"
    }
   ],
   "source": [
    "A = np.array([1,2,3,4,5])\n",
    "A"
   ]
  },
  {
   "cell_type": "code",
   "execution_count": 53,
   "id": "impressed-treasure",
   "metadata": {},
   "outputs": [
    {
     "data": {
      "text/plain": [
       "array([2, 3])"
      ]
     },
     "execution_count": 53,
     "metadata": {},
     "output_type": "execute_result"
    }
   ],
   "source": [
    "A[1:3]"
   ]
  },
  {
   "cell_type": "markdown",
   "id": "changed-treat",
   "metadata": {},
   "source": [
    "\n",
    "Срезы массива *изменяемы*: если им присваивается новое значение, изменяется исходный массив, из которого был извлечен срез:"
   ]
  },
  {
   "cell_type": "code",
   "execution_count": 54,
   "id": "favorite-investigation",
   "metadata": {},
   "outputs": [
    {
     "data": {
      "text/plain": [
       "array([ 1, -2, -3,  4,  5])"
      ]
     },
     "execution_count": 54,
     "metadata": {},
     "output_type": "execute_result"
    }
   ],
   "source": [
    "A[1:3] = [-2,-3]\n",
    "\n",
    "A"
   ]
  },
  {
   "cell_type": "markdown",
   "id": "peaceful-constraint",
   "metadata": {},
   "source": [
    "Мы можем опустить любой из трех параметров в `M [lower: upper: step]`:"
   ]
  },
  {
   "cell_type": "code",
   "execution_count": 55,
   "id": "fossil-syracuse",
   "metadata": {},
   "outputs": [
    {
     "data": {
      "text/plain": [
       "array([ 1, -2, -3,  4,  5])"
      ]
     },
     "execution_count": 55,
     "metadata": {},
     "output_type": "execute_result"
    }
   ],
   "source": [
    "A[::] # lower, upper, step все по дефолту"
   ]
  },
  {
   "cell_type": "code",
   "execution_count": 56,
   "id": "effective-cement",
   "metadata": {},
   "outputs": [
    {
     "data": {
      "text/plain": [
       "array([ 1, -3,  5])"
      ]
     },
     "execution_count": 56,
     "metadata": {},
     "output_type": "execute_result"
    }
   ],
   "source": [
    "A[::2] # step = 2, lower и upper дефолтт"
   ]
  },
  {
   "cell_type": "code",
   "execution_count": 57,
   "id": "indie-vietnamese",
   "metadata": {},
   "outputs": [
    {
     "data": {
      "text/plain": [
       "array([ 1, -2, -3])"
      ]
     },
     "execution_count": 57,
     "metadata": {},
     "output_type": "execute_result"
    }
   ],
   "source": [
    "A[:3] # первые 3 элемента"
   ]
  },
  {
   "cell_type": "code",
   "execution_count": 58,
   "id": "chubby-discharge",
   "metadata": {},
   "outputs": [
    {
     "data": {
      "text/plain": [
       "array([4, 5])"
      ]
     },
     "execution_count": 58,
     "metadata": {},
     "output_type": "execute_result"
    }
   ],
   "source": [
    "A[3:] # элементы после 3"
   ]
  },
  {
   "cell_type": "markdown",
   "id": "mighty-balloon",
   "metadata": {},
   "source": [
    "Отрицательные индексы отсчитываются с конца массива (положительный индекс с начала):"
   ]
  },
  {
   "cell_type": "code",
   "execution_count": 62,
   "id": "greek-think",
   "metadata": {},
   "outputs": [],
   "source": [
    "A = np.array([1,2,3,4,5])"
   ]
  },
  {
   "cell_type": "code",
   "execution_count": 63,
   "id": "lesser-corporation",
   "metadata": {},
   "outputs": [
    {
     "data": {
      "text/plain": [
       "5"
      ]
     },
     "execution_count": 63,
     "metadata": {},
     "output_type": "execute_result"
    }
   ],
   "source": [
    "A[-1] # последний элемент"
   ]
  },
  {
   "cell_type": "code",
   "execution_count": 64,
   "id": "polar-property",
   "metadata": {},
   "outputs": [
    {
     "data": {
      "text/plain": [
       "array([3, 4, 5])"
      ]
     },
     "execution_count": 64,
     "metadata": {},
     "output_type": "execute_result"
    }
   ],
   "source": [
    "A[-3:] # последние 3"
   ]
  },
  {
   "cell_type": "markdown",
   "id": "accompanied-david",
   "metadata": {},
   "source": [
    "Слайсинг индексов работает точно так же для многомерных массивов."
   ]
  },
  {
   "cell_type": "code",
   "execution_count": 65,
   "id": "human-shareware",
   "metadata": {},
   "outputs": [
    {
     "data": {
      "text/plain": [
       "array([[  0,   0,   0,   0,   0],\n",
       "       [  0,  10,  20,  30,  40],\n",
       "       [  0,  20,  40,  60,  80],\n",
       "       [  0,  30,  60,  90, 120],\n",
       "       [  0,  40,  80, 120, 160]])"
      ]
     },
     "execution_count": 65,
     "metadata": {},
     "output_type": "execute_result"
    }
   ],
   "source": [
    "A = np.array([[n*m*10 for n in range(5)] for m in range(5)])\n",
    "\n",
    "A"
   ]
  },
  {
   "cell_type": "code",
   "execution_count": 66,
   "id": "completed-suite",
   "metadata": {},
   "outputs": [
    {
     "data": {
      "text/plain": [
       "array([[10, 20, 30],\n",
       "       [20, 40, 60],\n",
       "       [30, 60, 90]])"
      ]
     },
     "execution_count": 66,
     "metadata": {},
     "output_type": "execute_result"
    }
   ],
   "source": [
    "# фрагмент из массива\n",
    "A[1:4, 1:4]"
   ]
  },
  {
   "cell_type": "code",
   "execution_count": 67,
   "id": "attended-relief",
   "metadata": {},
   "outputs": [
    {
     "data": {
      "text/plain": [
       "array([[  0,   0,   0],\n",
       "       [  0,  40,  80],\n",
       "       [  0,  80, 160]])"
      ]
     },
     "execution_count": 67,
     "metadata": {},
     "output_type": "execute_result"
    }
   ],
   "source": [
    "# шаги\n",
    "A[::2, ::2]"
   ]
  },
  {
   "cell_type": "markdown",
   "id": "neither-heart",
   "metadata": {},
   "source": [
    "### Еще об индексах"
   ]
  },
  {
   "cell_type": "code",
   "execution_count": 68,
   "id": "republican-parts",
   "metadata": {},
   "outputs": [
    {
     "data": {
      "text/plain": [
       "array([[  0,  10,  20,  30,  40],\n",
       "       [  0,  20,  40,  60,  80],\n",
       "       [  0,  30,  60,  90, 120]])"
      ]
     },
     "execution_count": 68,
     "metadata": {},
     "output_type": "execute_result"
    }
   ],
   "source": [
    "row_indices = [1, 2, 3]\n",
    "A[row_indices]"
   ]
  },
  {
   "cell_type": "code",
   "execution_count": 69,
   "id": "fifty-legend",
   "metadata": {},
   "outputs": [
    {
     "data": {
      "text/plain": [
       "array([ 10,  40, 120])"
      ]
     },
     "execution_count": 69,
     "metadata": {},
     "output_type": "execute_result"
    }
   ],
   "source": [
    "col_indices = [1, 2, -1]\n",
    "A[row_indices, col_indices]"
   ]
  },
  {
   "cell_type": "markdown",
   "id": "cardiac-testament",
   "metadata": {},
   "source": [
    "Мы также можем использовать маски индекса: если маска индекса является массивом Numpy с типом данных `bool`, то элемент выбирается (True) или нет (False) в зависимости от значения маски индекса в позиции каждого элемента:"
   ]
  },
  {
   "cell_type": "code",
   "execution_count": 71,
   "id": "closing-membership",
   "metadata": {},
   "outputs": [
    {
     "data": {
      "text/plain": [
       "array([0, 1, 2, 3, 4])"
      ]
     },
     "execution_count": 71,
     "metadata": {},
     "output_type": "execute_result"
    }
   ],
   "source": [
    "B = np.array([n for n in range(5)])\n",
    "B"
   ]
  },
  {
   "cell_type": "code",
   "execution_count": 72,
   "id": "assigned-specialist",
   "metadata": {},
   "outputs": [
    {
     "data": {
      "text/plain": [
       "array([0, 2])"
      ]
     },
     "execution_count": 72,
     "metadata": {},
     "output_type": "execute_result"
    }
   ],
   "source": [
    "row_mask = np.array([True, False, True, False, False])\n",
    "B[row_mask]"
   ]
  },
  {
   "cell_type": "code",
   "execution_count": 73,
   "id": "assigned-greeting",
   "metadata": {},
   "outputs": [
    {
     "data": {
      "text/plain": [
       "array([0, 2])"
      ]
     },
     "execution_count": 73,
     "metadata": {},
     "output_type": "execute_result"
    }
   ],
   "source": [
    "# аналогично\n",
    "row_mask = np.array([1,0,1,0,0], dtype=bool)\n",
    "B[row_mask]"
   ]
  },
  {
   "cell_type": "markdown",
   "id": "norwegian-official",
   "metadata": {},
   "source": [
    "Эта функция очень полезна для условного выбора элементов из массива, используя, например, операторы сравнения:"
   ]
  },
  {
   "cell_type": "code",
   "execution_count": 74,
   "id": "younger-wayne",
   "metadata": {},
   "outputs": [
    {
     "data": {
      "text/plain": [
       "array([0. , 0.5, 1. , 1.5, 2. , 2.5, 3. , 3.5, 4. , 4.5, 5. , 5.5, 6. ,\n",
       "       6.5, 7. , 7.5, 8. , 8.5, 9. , 9.5])"
      ]
     },
     "execution_count": 74,
     "metadata": {},
     "output_type": "execute_result"
    }
   ],
   "source": [
    "x = np.arange(0, 10, 0.5)\n",
    "x"
   ]
  },
  {
   "cell_type": "code",
   "execution_count": 75,
   "id": "exempt-thumbnail",
   "metadata": {},
   "outputs": [
    {
     "data": {
      "text/plain": [
       "array([False, False, False, False, False, False, False, False, False,\n",
       "       False, False,  True,  True,  True,  True, False, False, False,\n",
       "       False, False])"
      ]
     },
     "execution_count": 75,
     "metadata": {},
     "output_type": "execute_result"
    }
   ],
   "source": [
    "mask = (5 < x) * (x < 7.5)\n",
    "\n",
    "mask"
   ]
  },
  {
   "cell_type": "code",
   "execution_count": 76,
   "id": "embedded-machinery",
   "metadata": {},
   "outputs": [
    {
     "data": {
      "text/plain": [
       "array([5.5, 6. , 6.5, 7. ])"
      ]
     },
     "execution_count": 76,
     "metadata": {},
     "output_type": "execute_result"
    }
   ],
   "source": [
    "x[mask]"
   ]
  },
  {
   "cell_type": "markdown",
   "id": "chicken-armstrong",
   "metadata": {},
   "source": [
    "## Функции для извлечения данных из массивов и создания массивов"
   ]
  },
  {
   "cell_type": "markdown",
   "id": "acquired-fault",
   "metadata": {},
   "source": [
    "### where"
   ]
  },
  {
   "cell_type": "markdown",
   "id": "difficult-contents",
   "metadata": {},
   "source": [
    "Маска индекса может быть преобразована в индекс позиции с помощью функции `where`"
   ]
  },
  {
   "cell_type": "code",
   "execution_count": 77,
   "id": "activated-retirement",
   "metadata": {},
   "outputs": [
    {
     "data": {
      "text/plain": [
       "(array([11, 12, 13, 14]),)"
      ]
     },
     "execution_count": 77,
     "metadata": {},
     "output_type": "execute_result"
    }
   ],
   "source": [
    "indices = np.where(mask)\n",
    "\n",
    "indices"
   ]
  },
  {
   "cell_type": "code",
   "execution_count": 78,
   "id": "duplicate-amateur",
   "metadata": {},
   "outputs": [
    {
     "data": {
      "text/plain": [
       "array([5.5, 6. , 6.5, 7. ])"
      ]
     },
     "execution_count": 78,
     "metadata": {},
     "output_type": "execute_result"
    }
   ],
   "source": [
    "x[indices] # эта индексация эквивалентна индексации x[mask]"
   ]
  },
  {
   "cell_type": "markdown",
   "id": "literary-running",
   "metadata": {},
   "source": [
    "### diag"
   ]
  },
  {
   "cell_type": "markdown",
   "id": "listed-projection",
   "metadata": {},
   "source": [
    "С помощью функции diag мы также можем извлекать диагонали и поддиагонали массива:"
   ]
  },
  {
   "cell_type": "code",
   "execution_count": 79,
   "id": "12e67d9d",
   "metadata": {},
   "outputs": [
    {
     "data": {
      "text/plain": [
       "array([[  0,   0,   0,   0,   0],\n",
       "       [  0,  10,  20,  30,  40],\n",
       "       [  0,  20,  40,  60,  80],\n",
       "       [  0,  30,  60,  90, 120],\n",
       "       [  0,  40,  80, 120, 160]])"
      ]
     },
     "execution_count": 79,
     "metadata": {},
     "output_type": "execute_result"
    }
   ],
   "source": [
    "A"
   ]
  },
  {
   "cell_type": "code",
   "execution_count": 81,
   "id": "lyric-dover",
   "metadata": {},
   "outputs": [
    {
     "data": {
      "text/plain": [
       "array([  0,  10,  40,  90, 160])"
      ]
     },
     "execution_count": 81,
     "metadata": {},
     "output_type": "execute_result"
    }
   ],
   "source": [
    "np.diag(A)"
   ]
  },
  {
   "cell_type": "code",
   "execution_count": 82,
   "id": "hispanic-strike",
   "metadata": {},
   "outputs": [
    {
     "data": {
      "text/plain": [
       "array([  0,  20,  60, 120])"
      ]
     },
     "execution_count": 82,
     "metadata": {},
     "output_type": "execute_result"
    }
   ],
   "source": [
    "np.diag(A, -1)"
   ]
  },
  {
   "cell_type": "markdown",
   "id": "integrated-multiple",
   "metadata": {},
   "source": [
    "### take"
   ]
  },
  {
   "cell_type": "markdown",
   "id": "atlantic-highway",
   "metadata": {},
   "source": [
    "Функция take похожа на причудливую индексацию, описанную выше:"
   ]
  },
  {
   "cell_type": "code",
   "execution_count": 83,
   "id": "editorial-bobby",
   "metadata": {},
   "outputs": [
    {
     "data": {
      "text/plain": [
       "array([-3, -2, -1,  0,  1,  2])"
      ]
     },
     "execution_count": 83,
     "metadata": {},
     "output_type": "execute_result"
    }
   ],
   "source": [
    "v2 = np.arange(-3,3)\n",
    "v2"
   ]
  },
  {
   "cell_type": "code",
   "execution_count": 84,
   "id": "trained-cologne",
   "metadata": {},
   "outputs": [
    {
     "data": {
      "text/plain": [
       "array([-2,  0,  2])"
      ]
     },
     "execution_count": 84,
     "metadata": {},
     "output_type": "execute_result"
    }
   ],
   "source": [
    "row_indices = [1, 3, 5]\n",
    "v2[row_indices]"
   ]
  },
  {
   "cell_type": "code",
   "execution_count": 85,
   "id": "chief-brain",
   "metadata": {},
   "outputs": [
    {
     "data": {
      "text/plain": [
       "array([-2,  0,  2])"
      ]
     },
     "execution_count": 85,
     "metadata": {},
     "output_type": "execute_result"
    }
   ],
   "source": [
    "v2.take(row_indices)"
   ]
  },
  {
   "cell_type": "markdown",
   "id": "noble-plaza",
   "metadata": {},
   "source": [
    "Но `take` также работает со списками и другими объектами: "
   ]
  },
  {
   "cell_type": "code",
   "execution_count": 86,
   "id": "roman-ordering",
   "metadata": {},
   "outputs": [
    {
     "data": {
      "text/plain": [
       "array([-2,  0,  2])"
      ]
     },
     "execution_count": 86,
     "metadata": {},
     "output_type": "execute_result"
    }
   ],
   "source": [
    "np.take([-3, -2, -1,  0,  1,  2], row_indices)"
   ]
  },
  {
   "cell_type": "markdown",
   "id": "major-pregnancy",
   "metadata": {},
   "source": [
    "### choose"
   ]
  },
  {
   "cell_type": "markdown",
   "id": "discrete-desktop",
   "metadata": {},
   "source": [
    "Создает массив, выбирая элементы из нескольких массивов:"
   ]
  },
  {
   "cell_type": "code",
   "execution_count": 87,
   "id": "helpful-tonight",
   "metadata": {},
   "outputs": [
    {
     "data": {
      "text/plain": [
       "array([ 5, -2,  5, -2])"
      ]
     },
     "execution_count": 87,
     "metadata": {},
     "output_type": "execute_result"
    }
   ],
   "source": [
    "which = [1, 0, 1, 0]\n",
    "choices = [[-2,-2,-2,-2], [5,5,5,5]]\n",
    "\n",
    "np.choose(which, choices)"
   ]
  },
  {
   "cell_type": "markdown",
   "id": "relevant-blanket",
   "metadata": {},
   "source": [
    "## Линейная алгебра"
   ]
  },
  {
   "cell_type": "markdown",
   "id": "reasonable-azerbaijan",
   "metadata": {},
   "source": [
    "Векторизация кода - ключ к написанию эффективных численных расчетов с помощью Python/Numpy. Это означает, что как можно большая часть программы должна быть сформулирована в терминах матричных и векторных операций, таких как например умножение матрицы на матрицу."
   ]
  },
  {
   "cell_type": "markdown",
   "id": "urban-scott",
   "metadata": {},
   "source": [
    "### Операции со скалярными массивами"
   ]
  },
  {
   "cell_type": "markdown",
   "id": "c354df04",
   "metadata": {},
   "source": [
    "Ве́кторное (или лине́йное) простра́нство — математическая структура, которая представляет собой набор элементов, называемых векторами, для которых определены операции сложения друг с другом и умножения на число — скаляр. Эти операции подчинены восьми аксиомам (нам эти 8 аксиом сейчас не слишком важны)."
   ]
  },
  {
   "cell_type": "markdown",
   "id": "7b8df55a",
   "metadata": {},
   "source": [
    "Мы можем использовать обычные арифметические операторы для умножения, сложения, вычитания и деления массивов со скалярными числами.\n",
    "\n",
    "В школе вы привыкли, что вектор -- это что-то такое:"
   ]
  },
  {
   "cell_type": "markdown",
   "id": "needed-exclusive",
   "metadata": {},
   "source": [
    "\n",
    "<img src=\"https://upload.wikimedia.org/wikipedia/commons/thumb/8/83/VectorAB.svg/1200px-VectorAB.svg.png\" width=\"800\" height=\"400\">\n"
   ]
  },
  {
   "cell_type": "markdown",
   "id": "4699e933",
   "metadata": {},
   "source": [
    "Если посмотреть на аналитическую запись, то это будут какие-то два числа, характеризующие вектор. Например,  v=(5,−4) , или  m=(0,100) , это будут вектора на плоскости, иначе говоря, элементы линейного пространства размерности 2 (две координаты).\n",
    "\n",
    "Однако пространства большей размерности нам представить визуально уже сложно. Но на математическом языке вектор, принадлежащий пространству размерности 15, будет ни чем иным, как просто набором из 15 упорядоченных чисел: $a = (1,1,1,1,1,1,1,1,1,1,1,1,1,1,1)$"
   ]
  },
  {
   "cell_type": "markdown",
   "id": "dc618d24",
   "metadata": {},
   "source": [
    "### Сложение и вычитание:\n",
    "\n",
    "На плоскости есть правила треугольника и параллелограмма, чтобы осуществлять геометрическое сложение и вычитание векторов. Аналитически же мы, по сути, просто складываем/вычитаем соответствующие координаты (их ещё называют компоненты) векторов.\n",
    "\n",
    "Поэтому операции сложения и вычитания над векторами есть ни что иное, как сложение и вычитание соответствующих компонент этих векторов:\n",
    "\n",
    "a + b=(a1,a2,..,an)+(b1,b2,..,bn)=(a1+b1,a2+b2,..,bn+bn) \n",
    "\n",
    "Вектор + Вектор = Вектор\n",
    "\n",
    "a − b=(a1,a2,..,an)−(b1,b2,..,bn)=(a1−b1,a2−b2,..,bn−bn) \n",
    "\n",
    "Вектор - Вектор = Вектор\n",
    "\n",
    "Примеры:\n",
    "\n",
    "(−15,10)−(5,6)=(−20,4) \n",
    "\n",
    "(1,0,100)+(2,3,1000)=(3,3,1100)"
   ]
  },
  {
   "cell_type": "markdown",
   "id": "09a9b8d6",
   "metadata": {},
   "source": [
    "### Умножение\n",
    "Умножать векторы можно по разному. Выделим три типа умножения:\n",
    "\n",
    "*а). Поэлементное умножение (произведение):*\n",
    "\n",
    "$a~*~b = (a_1, a_2, .., a_n) * (b_1, b_2, .., b_n) = (a_1 * b_1, a_2 * b_2, .., b_n * b_n)$\n",
    "\n",
    "Вектор * Вектор = **Вектор**\n",
    "\n",
    "*б). Скалярное произведение*\n",
    "\n",
    "$a~\\cdot~b = (a_1, a_2, .., a_n) \\cdot (b_1, b_2, .., b_n) = a_1b_1 + a_2b_2 + .. + b_nb_n = \\sum_{i=1}^{n} a_ib_i$\n",
    "\n",
    "Вектор $\\cdot$ Вектор = **Скаляр**\n",
    "\n",
    "\n",
    "*в). Векторное произведение*\n",
    " Нам оно сейчас не пригодится\n"
   ]
  },
  {
   "cell_type": "markdown",
   "id": "8abc4ea0",
   "metadata": {},
   "source": [
    "### Деление\n",
    "\n",
    "Под делением векторов мы будем понимать поэлементное деление. Однако будьте осторожны -- в случае деления на 0 договоримся считать, что значение не определено (None).\n",
    "\n",
    "$a~/~b = (a_1, a_2, .., a_n)~/~(b_1, b_2, .., b_n) = (a_1~/~b_1, a_2~/~b_2, .., b_n~/~b_n)$\n",
    "\n",
    "Вектор / Вектор = **Вектор**"
   ]
  },
  {
   "cell_type": "code",
   "execution_count": 88,
   "id": "recovered-champagne",
   "metadata": {},
   "outputs": [],
   "source": [
    "v1 = np.arange(0, 5)"
   ]
  },
  {
   "cell_type": "code",
   "execution_count": 89,
   "id": "marine-logistics",
   "metadata": {},
   "outputs": [
    {
     "data": {
      "text/plain": [
       "array([0, 2, 4, 6, 8])"
      ]
     },
     "execution_count": 89,
     "metadata": {},
     "output_type": "execute_result"
    }
   ],
   "source": [
    "v1 * 2"
   ]
  },
  {
   "cell_type": "code",
   "execution_count": 90,
   "id": "reflected-appointment",
   "metadata": {},
   "outputs": [
    {
     "data": {
      "text/plain": [
       "array([2, 3, 4, 5, 6])"
      ]
     },
     "execution_count": 90,
     "metadata": {},
     "output_type": "execute_result"
    }
   ],
   "source": [
    "v1 + 2"
   ]
  },
  {
   "cell_type": "code",
   "execution_count": 91,
   "id": "a5cbff51",
   "metadata": {},
   "outputs": [
    {
     "data": {
      "text/plain": [
       "array([[  0,   0,   0,   0,   0],\n",
       "       [  0,  10,  20,  30,  40],\n",
       "       [  0,  20,  40,  60,  80],\n",
       "       [  0,  30,  60,  90, 120],\n",
       "       [  0,  40,  80, 120, 160]])"
      ]
     },
     "execution_count": 91,
     "metadata": {},
     "output_type": "execute_result"
    }
   ],
   "source": [
    "A"
   ]
  },
  {
   "cell_type": "code",
   "execution_count": 92,
   "id": "formed-browse",
   "metadata": {},
   "outputs": [
    {
     "data": {
      "text/plain": [
       "(array([[  0,   0,   0,   0,   0],\n",
       "        [  0,  20,  40,  60,  80],\n",
       "        [  0,  40,  80, 120, 160],\n",
       "        [  0,  60, 120, 180, 240],\n",
       "        [  0,  80, 160, 240, 320]]),\n",
       " array([[  2,   2,   2,   2,   2],\n",
       "        [  2,  12,  22,  32,  42],\n",
       "        [  2,  22,  42,  62,  82],\n",
       "        [  2,  32,  62,  92, 122],\n",
       "        [  2,  42,  82, 122, 162]]))"
      ]
     },
     "execution_count": 92,
     "metadata": {},
     "output_type": "execute_result"
    }
   ],
   "source": [
    "A * 2, A + 2"
   ]
  },
  {
   "cell_type": "markdown",
   "id": "important-advice",
   "metadata": {},
   "source": [
    "### Поэлементные операции с массивами"
   ]
  },
  {
   "cell_type": "markdown",
   "id": "german-system",
   "metadata": {},
   "source": [
    "Когда мы складываем, вычитаем, умножаем и делим массивы друг с другом, поведение операции по умолчанию - **поэлементное**:"
   ]
  },
  {
   "cell_type": "code",
   "execution_count": 93,
   "id": "artificial-specification",
   "metadata": {},
   "outputs": [
    {
     "data": {
      "text/plain": [
       "array([[    0,     0,     0,     0,     0],\n",
       "       [    0,   100,   400,   900,  1600],\n",
       "       [    0,   400,  1600,  3600,  6400],\n",
       "       [    0,   900,  3600,  8100, 14400],\n",
       "       [    0,  1600,  6400, 14400, 25600]])"
      ]
     },
     "execution_count": 93,
     "metadata": {},
     "output_type": "execute_result"
    }
   ],
   "source": [
    "A * A # поэлементное умножение"
   ]
  },
  {
   "cell_type": "code",
   "execution_count": 94,
   "id": "romance-groove",
   "metadata": {},
   "outputs": [
    {
     "data": {
      "text/plain": [
       "array([ 0,  1,  4,  9, 16])"
      ]
     },
     "execution_count": 94,
     "metadata": {},
     "output_type": "execute_result"
    }
   ],
   "source": [
    "v1 * v1"
   ]
  },
  {
   "cell_type": "markdown",
   "id": "public-bronze",
   "metadata": {},
   "source": [
    "Если мы умножаем массивы с совместимыми формами, мы получаем поэлементное умножение каждой строки:"
   ]
  },
  {
   "cell_type": "code",
   "execution_count": 95,
   "id": "fancy-textbook",
   "metadata": {},
   "outputs": [
    {
     "data": {
      "text/plain": [
       "((5, 5), (5,))"
      ]
     },
     "execution_count": 95,
     "metadata": {},
     "output_type": "execute_result"
    }
   ],
   "source": [
    "A.shape, v1.shape"
   ]
  },
  {
   "cell_type": "code",
   "execution_count": 96,
   "id": "occupational-enclosure",
   "metadata": {},
   "outputs": [
    {
     "data": {
      "text/plain": [
       "array([[  0,   0,   0,   0,   0],\n",
       "       [  0,  10,  40,  90, 160],\n",
       "       [  0,  20,  80, 180, 320],\n",
       "       [  0,  30, 120, 270, 480],\n",
       "       [  0,  40, 160, 360, 640]])"
      ]
     },
     "execution_count": 96,
     "metadata": {},
     "output_type": "execute_result"
    }
   ],
   "source": [
    "A * v1"
   ]
  },
  {
   "cell_type": "markdown",
   "id": "other-stranger",
   "metadata": {},
   "source": [
    "### Матричная алгебра"
   ]
  },
  {
   "cell_type": "markdown",
   "id": "752577a6",
   "metadata": {},
   "source": [
    "Под матрицами будем понимать математический объект. Грубо говоря, матрицы -- это такие таблицы. У них есть строки и столбцы, то есть это объекты, у которых два размера -- длина по строкам и длина по столбцам:\n",
    "\n",
    "$$\n",
    "A = \\begin{bmatrix}\n",
    "    x_{11} & x_{12} & x_{13} & \\dots  & x_{1n} \\\\\n",
    "    x_{21} & x_{22} & x_{23} & \\dots  & x_{2n} \\\\\n",
    "    \\vdots & \\vdots & \\vdots & \\ddots & \\vdots \\\\\n",
    "    x_{m1} & x_{m2} & x_{m3} & \\dots  & x_{mn}\n",
    "\\end{bmatrix}\n",
    "$$\n",
    "\n",
    "Размер матрицы, изображённой выше -- $(m, n)$.  \n",
    "\n",
    "Можно посмотреть на матрицы и с другой стороны -- как вектор векторов (кстати, вам пригодится именно эта интерпретация в дальнейшем при программировании на NumPy)."
   ]
  },
  {
   "cell_type": "markdown",
   "id": "aa844175",
   "metadata": {},
   "source": [
    "Сложение, вычитание, поэлементное умножение и поэлементное деления матриц осуществляется точно так же, как и для векторов -- соответствующие элементы складываются/вычитаются/умножаются.\n",
    "\n",
    "Однако при этих операциях нужно учесть одно -- размеры матриц должны полностью совпадать."
   ]
  },
  {
   "cell_type": "markdown",
   "id": "documented-language",
   "metadata": {},
   "source": [
    "А как насчет умножения матриц? Есть два пути. Мы можем использовать функцию «dot», которая применяет умножение матрицы, матрицы на вектор или внутреннего вектора к своим двум аргументам\n",
    "\n"
   ]
  },
  {
   "cell_type": "markdown",
   "id": "e14504cb",
   "metadata": {},
   "source": [
    "\n",
    "\n",
    "<img src=\"https://slideplayer.com/slide/10841957/39/images/8/Matrix+Multiplication.jpg\" width=\"800\" height=\"400\">"
   ]
  },
  {
   "cell_type": "code",
   "execution_count": 97,
   "id": "4283efde",
   "metadata": {},
   "outputs": [
    {
     "data": {
      "text/plain": [
       "array([[  0,   0,   0,   0,   0],\n",
       "       [  0,  10,  20,  30,  40],\n",
       "       [  0,  20,  40,  60,  80],\n",
       "       [  0,  30,  60,  90, 120],\n",
       "       [  0,  40,  80, 120, 160]])"
      ]
     },
     "execution_count": 97,
     "metadata": {},
     "output_type": "execute_result"
    }
   ],
   "source": [
    "A"
   ]
  },
  {
   "cell_type": "code",
   "execution_count": 99,
   "id": "63eb64bd",
   "metadata": {},
   "outputs": [
    {
     "data": {
      "text/plain": [
       "array([[    0,     0,     0,     0,     0],\n",
       "       [    0,  3000,  6000,  9000, 12000],\n",
       "       [    0,  6000, 12000, 18000, 24000],\n",
       "       [    0,  9000, 18000, 27000, 36000],\n",
       "       [    0, 12000, 24000, 36000, 48000]])"
      ]
     },
     "execution_count": 99,
     "metadata": {},
     "output_type": "execute_result"
    }
   ],
   "source": [
    "np.dot(A,A)"
   ]
  },
  {
   "cell_type": "code",
   "execution_count": 100,
   "id": "heard-maryland",
   "metadata": {},
   "outputs": [
    {
     "data": {
      "text/plain": [
       "array([   0,  300,  600,  900, 1200])"
      ]
     },
     "execution_count": 100,
     "metadata": {},
     "output_type": "execute_result"
    }
   ],
   "source": [
    "np.dot(A, v1)"
   ]
  },
  {
   "cell_type": "code",
   "execution_count": 101,
   "id": "active-depth",
   "metadata": {},
   "outputs": [
    {
     "data": {
      "text/plain": [
       "30"
      ]
     },
     "execution_count": 101,
     "metadata": {},
     "output_type": "execute_result"
    }
   ],
   "source": [
    "np.dot(v1, v1)"
   ]
  },
  {
   "cell_type": "markdown",
   "id": "exciting-surface",
   "metadata": {},
   "source": [
    "В качестве альтернативы мы можем привести объекты массива к типу «matrix». Это изменяет поведение стандартных арифметических операторов `+, -, *` для использования матричной алгебры."
   ]
  },
  {
   "cell_type": "code",
   "execution_count": 103,
   "id": "fitted-howard",
   "metadata": {},
   "outputs": [],
   "source": [
    "M = np.matrix(A)\n",
    "v = np.matrix(v1).T # создать вектор-столбец"
   ]
  },
  {
   "cell_type": "code",
   "execution_count": 104,
   "id": "separated-transfer",
   "metadata": {},
   "outputs": [
    {
     "data": {
      "text/plain": [
       "matrix([[0],\n",
       "        [1],\n",
       "        [2],\n",
       "        [3],\n",
       "        [4]])"
      ]
     },
     "execution_count": 104,
     "metadata": {},
     "output_type": "execute_result"
    }
   ],
   "source": [
    "v"
   ]
  },
  {
   "cell_type": "code",
   "execution_count": 105,
   "id": "israeli-trunk",
   "metadata": {},
   "outputs": [
    {
     "data": {
      "text/plain": [
       "matrix([[    0,     0,     0,     0,     0],\n",
       "        [    0,  3000,  6000,  9000, 12000],\n",
       "        [    0,  6000, 12000, 18000, 24000],\n",
       "        [    0,  9000, 18000, 27000, 36000],\n",
       "        [    0, 12000, 24000, 36000, 48000]])"
      ]
     },
     "execution_count": 105,
     "metadata": {},
     "output_type": "execute_result"
    }
   ],
   "source": [
    "M * M"
   ]
  },
  {
   "cell_type": "code",
   "execution_count": 106,
   "id": "delayed-extraction",
   "metadata": {},
   "outputs": [
    {
     "data": {
      "text/plain": [
       "matrix([[   0],\n",
       "        [ 300],\n",
       "        [ 600],\n",
       "        [ 900],\n",
       "        [1200]])"
      ]
     },
     "execution_count": 106,
     "metadata": {},
     "output_type": "execute_result"
    }
   ],
   "source": [
    "M * v"
   ]
  },
  {
   "cell_type": "code",
   "execution_count": 107,
   "id": "intimate-decline",
   "metadata": {},
   "outputs": [
    {
     "data": {
      "text/plain": [
       "matrix([[30]])"
      ]
     },
     "execution_count": 107,
     "metadata": {},
     "output_type": "execute_result"
    }
   ],
   "source": [
    "v.T * v"
   ]
  },
  {
   "cell_type": "code",
   "execution_count": 108,
   "id": "sustainable-third",
   "metadata": {},
   "outputs": [
    {
     "data": {
      "text/plain": [
       "matrix([[   0],\n",
       "        [ 301],\n",
       "        [ 602],\n",
       "        [ 903],\n",
       "        [1204]])"
      ]
     },
     "execution_count": 108,
     "metadata": {},
     "output_type": "execute_result"
    }
   ],
   "source": [
    "# с матричными объектами применяется стандартная матричная алгебра\n",
    "v + M*v"
   ]
  },
  {
   "cell_type": "markdown",
   "id": "moderate-blank",
   "metadata": {},
   "source": [
    "Если мы попытаемся сложить, вычесть или умножить объекты несовместимых форм, мы получим ошибку:"
   ]
  },
  {
   "cell_type": "code",
   "execution_count": 109,
   "id": "generous-founder",
   "metadata": {},
   "outputs": [],
   "source": [
    "v = np.matrix([1,2,3,4,5,6]).T"
   ]
  },
  {
   "cell_type": "code",
   "execution_count": 111,
   "id": "presidential-paper",
   "metadata": {},
   "outputs": [
    {
     "data": {
      "text/plain": [
       "((5, 5), (6, 1))"
      ]
     },
     "execution_count": 111,
     "metadata": {},
     "output_type": "execute_result"
    }
   ],
   "source": [
    "np.shape(M), np.shape(v)"
   ]
  },
  {
   "cell_type": "code",
   "execution_count": 112,
   "id": "interesting-aviation",
   "metadata": {},
   "outputs": [
    {
     "ename": "ValueError",
     "evalue": "shapes (5,5) and (6,1) not aligned: 5 (dim 1) != 6 (dim 0)",
     "output_type": "error",
     "traceback": [
      "\u001b[0;31m---------------------------------------------------------------------------\u001b[0m",
      "\u001b[0;31mValueError\u001b[0m                                Traceback (most recent call last)",
      "\u001b[0;32m/tmp/ipykernel_3019662/2280171313.py\u001b[0m in \u001b[0;36m<module>\u001b[0;34m\u001b[0m\n\u001b[0;32m----> 1\u001b[0;31m \u001b[0mM\u001b[0m \u001b[0;34m*\u001b[0m \u001b[0mv\u001b[0m\u001b[0;34m\u001b[0m\u001b[0;34m\u001b[0m\u001b[0m\n\u001b[0m",
      "\u001b[0;32m/opt/conda/lib/python3.9/site-packages/numpy/matrixlib/defmatrix.py\u001b[0m in \u001b[0;36m__mul__\u001b[0;34m(self, other)\u001b[0m\n\u001b[1;32m    216\u001b[0m         \u001b[0;32mif\u001b[0m \u001b[0misinstance\u001b[0m\u001b[0;34m(\u001b[0m\u001b[0mother\u001b[0m\u001b[0;34m,\u001b[0m \u001b[0;34m(\u001b[0m\u001b[0mN\u001b[0m\u001b[0;34m.\u001b[0m\u001b[0mndarray\u001b[0m\u001b[0;34m,\u001b[0m \u001b[0mlist\u001b[0m\u001b[0;34m,\u001b[0m \u001b[0mtuple\u001b[0m\u001b[0;34m)\u001b[0m\u001b[0;34m)\u001b[0m \u001b[0;34m:\u001b[0m\u001b[0;34m\u001b[0m\u001b[0;34m\u001b[0m\u001b[0m\n\u001b[1;32m    217\u001b[0m             \u001b[0;31m# This promotes 1-D vectors to row vectors\u001b[0m\u001b[0;34m\u001b[0m\u001b[0;34m\u001b[0m\u001b[0m\n\u001b[0;32m--> 218\u001b[0;31m             \u001b[0;32mreturn\u001b[0m \u001b[0mN\u001b[0m\u001b[0;34m.\u001b[0m\u001b[0mdot\u001b[0m\u001b[0;34m(\u001b[0m\u001b[0mself\u001b[0m\u001b[0;34m,\u001b[0m \u001b[0masmatrix\u001b[0m\u001b[0;34m(\u001b[0m\u001b[0mother\u001b[0m\u001b[0;34m)\u001b[0m\u001b[0;34m)\u001b[0m\u001b[0;34m\u001b[0m\u001b[0;34m\u001b[0m\u001b[0m\n\u001b[0m\u001b[1;32m    219\u001b[0m         \u001b[0;32mif\u001b[0m \u001b[0misscalar\u001b[0m\u001b[0;34m(\u001b[0m\u001b[0mother\u001b[0m\u001b[0;34m)\u001b[0m \u001b[0;32mor\u001b[0m \u001b[0;32mnot\u001b[0m \u001b[0mhasattr\u001b[0m\u001b[0;34m(\u001b[0m\u001b[0mother\u001b[0m\u001b[0;34m,\u001b[0m \u001b[0;34m'__rmul__'\u001b[0m\u001b[0;34m)\u001b[0m \u001b[0;34m:\u001b[0m\u001b[0;34m\u001b[0m\u001b[0;34m\u001b[0m\u001b[0m\n\u001b[1;32m    220\u001b[0m             \u001b[0;32mreturn\u001b[0m \u001b[0mN\u001b[0m\u001b[0;34m.\u001b[0m\u001b[0mdot\u001b[0m\u001b[0;34m(\u001b[0m\u001b[0mself\u001b[0m\u001b[0;34m,\u001b[0m \u001b[0mother\u001b[0m\u001b[0;34m)\u001b[0m\u001b[0;34m\u001b[0m\u001b[0;34m\u001b[0m\u001b[0m\n",
      "\u001b[0;32m<__array_function__ internals>\u001b[0m in \u001b[0;36mdot\u001b[0;34m(*args, **kwargs)\u001b[0m\n",
      "\u001b[0;31mValueError\u001b[0m: shapes (5,5) and (6,1) not aligned: 5 (dim 1) != 6 (dim 0)"
     ]
    }
   ],
   "source": [
    "M * v"
   ]
  },
  {
   "cell_type": "markdown",
   "id": "considered-cleveland",
   "metadata": {},
   "source": [
    "См. Также связанные функции: inner, outer, cross, kron, tensordot. Попробуйте, например, `help (kron)`."
   ]
  },
  {
   "cell_type": "markdown",
   "id": "killing-population",
   "metadata": {},
   "source": [
    "### Обработка данных"
   ]
  },
  {
   "cell_type": "markdown",
   "id": "appropriate-college",
   "metadata": {},
   "source": [
    "Часто бывает полезно хранить наборы данных в массивах Numpy. Numpy предоставляет ряд функций для статистических вычислений в массивах.\n",
    "\n",
    "Например, давайте вычислим некоторые свойства из набора данных о температуре Стокгольма, использованного выше."
   ]
  },
  {
   "cell_type": "code",
   "execution_count": 113,
   "id": "solved-debut",
   "metadata": {},
   "outputs": [
    {
     "data": {
      "text/plain": [
       "(77431, 7)"
      ]
     },
     "execution_count": 113,
     "metadata": {},
     "output_type": "execute_result"
    }
   ],
   "source": [
    "# Напоминаю, что набор данных о температуре хранится в переменной data:\n",
    "np.shape(data)"
   ]
  },
  {
   "cell_type": "markdown",
   "id": "handled-czech",
   "metadata": {},
   "source": [
    "#### mean - среднее"
   ]
  },
  {
   "cell_type": "code",
   "execution_count": 114,
   "id": "composed-blade",
   "metadata": {},
   "outputs": [
    {
     "data": {
      "text/plain": [
       "6.197109684751585"
      ]
     },
     "execution_count": 114,
     "metadata": {},
     "output_type": "execute_result"
    }
   ],
   "source": [
    "# данные о температуре в колонке 3\n",
    "np.mean(data[:,3])"
   ]
  },
  {
   "cell_type": "markdown",
   "id": "rocky-mission",
   "metadata": {},
   "source": [
    "Среднесуточная температура в Стокгольме за последние 200 лет составляла около 6,2 ° C."
   ]
  },
  {
   "cell_type": "markdown",
   "id": "guilty-scale",
   "metadata": {},
   "source": [
    "#### стандартные отклонения и дисперсия\n",
    "\n",
    "**Стандартное отклонение** - это наиболее распространенный показатель в теории вероятности и статистике, оценивающий среднеквадратичное отклонение случайной величины (x) относительно ее математического ожидания на основе несмещенной оценки ее дисперсии. Измеряется в единицах измерения самой случайной величины. Стандартное отклонение равно корню квадратному из дисперсии случайной величины.\n",
    "\n",
    "**Дисперсия** - это мера разброса значений случайной величины относительно её математического ожидания."
   ]
  },
  {
   "cell_type": "code",
   "execution_count": 115,
   "id": "olympic-essex",
   "metadata": {},
   "outputs": [
    {
     "data": {
      "text/plain": [
       "(8.282271621340573, 68.59602320966341)"
      ]
     },
     "execution_count": 115,
     "metadata": {},
     "output_type": "execute_result"
    }
   ],
   "source": [
    "np.std(data[:,3]), np.var(data[:,3])"
   ]
  },
  {
   "cell_type": "markdown",
   "id": "conscious-division",
   "metadata": {},
   "source": [
    "#### min и max"
   ]
  },
  {
   "cell_type": "code",
   "execution_count": 116,
   "id": "swedish-newspaper",
   "metadata": {},
   "outputs": [
    {
     "data": {
      "text/plain": [
       "-25.8"
      ]
     },
     "execution_count": 116,
     "metadata": {},
     "output_type": "execute_result"
    }
   ],
   "source": [
    "# самая низкая среднесуточная температура\n",
    "data[:,3].min()"
   ]
  },
  {
   "cell_type": "code",
   "execution_count": 117,
   "id": "complex-senator",
   "metadata": {},
   "outputs": [
    {
     "data": {
      "text/plain": [
       "28.3"
      ]
     },
     "execution_count": 117,
     "metadata": {},
     "output_type": "execute_result"
    }
   ],
   "source": [
    "# самая высокая среднесуточная температура\n",
    "data[:,3].max()"
   ]
  },
  {
   "cell_type": "markdown",
   "id": "amazing-roads",
   "metadata": {},
   "source": [
    "#### sum, prod, и trace"
   ]
  },
  {
   "cell_type": "code",
   "execution_count": 118,
   "id": "identified-bowling",
   "metadata": {},
   "outputs": [
    {
     "data": {
      "text/plain": [
       "array([0, 1, 2, 3, 4, 5, 6, 7, 8, 9])"
      ]
     },
     "execution_count": 118,
     "metadata": {},
     "output_type": "execute_result"
    }
   ],
   "source": [
    "d = np.arange(0, 10)\n",
    "d"
   ]
  },
  {
   "cell_type": "code",
   "execution_count": 122,
   "id": "lesser-israel",
   "metadata": {},
   "outputs": [
    {
     "data": {
      "text/plain": [
       "45"
      ]
     },
     "execution_count": 122,
     "metadata": {},
     "output_type": "execute_result"
    }
   ],
   "source": [
    "# сумма\n",
    "np.sum(d)"
   ]
  },
  {
   "cell_type": "code",
   "execution_count": 121,
   "id": "radio-curtis",
   "metadata": {},
   "outputs": [
    {
     "data": {
      "text/plain": [
       "3628800"
      ]
     },
     "execution_count": 121,
     "metadata": {},
     "output_type": "execute_result"
    }
   ],
   "source": [
    "# произведение\n",
    "np.prod(d+1)"
   ]
  },
  {
   "cell_type": "code",
   "execution_count": 123,
   "id": "annoying-disco",
   "metadata": {},
   "outputs": [
    {
     "data": {
      "text/plain": [
       "300"
      ]
     },
     "execution_count": 123,
     "metadata": {},
     "output_type": "execute_result"
    }
   ],
   "source": [
    "# то же, что и: diag(A).sum()\n",
    "np.trace(A)"
   ]
  },
  {
   "cell_type": "markdown",
   "id": "bronze-worker",
   "metadata": {},
   "source": [
    "### Вычисления на подмножествах массивов"
   ]
  },
  {
   "cell_type": "markdown",
   "id": "abandoned-singapore",
   "metadata": {},
   "source": [
    "Мы можем выполнять вычисления с подмножествами данных в массиве, используя индексацию и другие методы извлечения данных из массива (описанные выше).\n",
    "\n",
    "Например, вернемся к набору данных температуры:"
   ]
  },
  {
   "cell_type": "code",
   "execution_count": 124,
   "id": "central-times",
   "metadata": {},
   "outputs": [
    {
     "name": "stdout",
     "output_type": "stream",
     "text": [
      "1800  1  1    -6.1    -6.1    -6.1 1\r\n",
      "1800  1  2   -15.4   -15.4   -15.4 1\r\n",
      "1800  1  3   -15.0   -15.0   -15.0 1\r\n"
     ]
    }
   ],
   "source": [
    "!head -n 3 stockholm_td_adj.dat"
   ]
  },
  {
   "cell_type": "markdown",
   "id": "elder-boring",
   "metadata": {},
   "source": [
    "Формат данных: год, месяц, день, среднесуточная температура, низкая, высокая, местоположение.\n",
    "\n",
    "Если нас интересует средняя температура только в определенном месяце, например, в феврале, то мы можем создать индексную маску и использовать ее для выбора данных только за этот месяц, используя:"
   ]
  },
  {
   "cell_type": "code",
   "execution_count": 125,
   "id": "hundred-symposium",
   "metadata": {},
   "outputs": [
    {
     "data": {
      "text/plain": [
       "array([ 1.,  2.,  3.,  4.,  5.,  6.,  7.,  8.,  9., 10., 11., 12.])"
      ]
     },
     "execution_count": 125,
     "metadata": {},
     "output_type": "execute_result"
    }
   ],
   "source": [
    "np.unique(data[:,1]) # столбец месяца принимает значения от 1 до 12"
   ]
  },
  {
   "cell_type": "code",
   "execution_count": 126,
   "id": "leading-cigarette",
   "metadata": {},
   "outputs": [],
   "source": [
    "mask_feb = data[:,1] == 2"
   ]
  },
  {
   "cell_type": "code",
   "execution_count": 128,
   "id": "burning-champion",
   "metadata": {},
   "outputs": [
    {
     "data": {
      "text/plain": [
       "-3.212109570736596"
      ]
     },
     "execution_count": 128,
     "metadata": {},
     "output_type": "execute_result"
    }
   ],
   "source": [
    "np.mean(data[mask_feb,3])"
   ]
  },
  {
   "cell_type": "markdown",
   "id": "alert-elizabeth",
   "metadata": {},
   "source": [
    "С помощью этих инструментов в нашем распоряжении очень мощные возможности обработки данных. Например, чтобы извлечь среднемесячные средние температуры для каждого месяца в году, требуется всего несколько строк кода:"
   ]
  },
  {
   "cell_type": "code",
   "execution_count": 130,
   "id": "suburban-blake",
   "metadata": {},
   "outputs": [
    {
     "data": {
      "image/png": "[encoded data removed]",
      "text/plain": [
       "<Figure size 432x288 with 1 Axes>"
      ]
     },
     "metadata": {
      "needs_background": "light"
     },
     "output_type": "display_data"
    }
   ],
   "source": [
    "months = np.arange(1,13)\n",
    "monthly_mean = [np.mean(data[data[:,1] == month, 3]) for month in months]\n",
    "\n",
    "fig, ax = plt.subplots()\n",
    "ax.bar(months, monthly_mean)\n",
    "ax.set_xlabel(\"Month\")\n",
    "ax.set_ylabel(\"Monthly avg. temp.\");"
   ]
  },
  {
   "cell_type": "markdown",
   "id": "verified-delight",
   "metadata": {},
   "source": [
    "### Расчеты с многомерными данными"
   ]
  },
  {
   "cell_type": "markdown",
   "id": "second-round",
   "metadata": {},
   "source": [
    "Когда функции, такие как min, max и т. Д., Применяются к многомерным массивам, иногда полезно применять вычисления ко всему массиву, а иногда только к строкам или столбцам. Используя аргумент `axis`, мы можем указать, как эти функции должны себя вести:"
   ]
  },
  {
   "cell_type": "code",
   "execution_count": 131,
   "id": "wrapped-summary",
   "metadata": {},
   "outputs": [
    {
     "data": {
      "text/plain": [
       "array([[0.18873356, 0.4690912 , 0.55658735],\n",
       "       [0.68153804, 0.68887487, 0.74528052],\n",
       "       [0.63569966, 0.47764503, 0.30030732]])"
      ]
     },
     "execution_count": 131,
     "metadata": {},
     "output_type": "execute_result"
    }
   ],
   "source": [
    "m = np.random.rand(3,3)\n",
    "m"
   ]
  },
  {
   "cell_type": "code",
   "execution_count": 132,
   "id": "endless-metro",
   "metadata": {},
   "outputs": [
    {
     "data": {
      "text/plain": [
       "0.7452805239665791"
      ]
     },
     "execution_count": 132,
     "metadata": {},
     "output_type": "execute_result"
    }
   ],
   "source": [
    "# global max\n",
    "m.max()"
   ]
  },
  {
   "cell_type": "code",
   "execution_count": 133,
   "id": "revised-parameter",
   "metadata": {},
   "outputs": [
    {
     "data": {
      "text/plain": [
       "array([0.68153804, 0.68887487, 0.74528052])"
      ]
     },
     "execution_count": 133,
     "metadata": {},
     "output_type": "execute_result"
    }
   ],
   "source": [
    "# max in each column\n",
    "m.max(axis=0)"
   ]
  },
  {
   "cell_type": "code",
   "execution_count": 134,
   "id": "objective-humor",
   "metadata": {},
   "outputs": [
    {
     "data": {
      "text/plain": [
       "array([0.55658735, 0.74528052, 0.63569966])"
      ]
     },
     "execution_count": 134,
     "metadata": {},
     "output_type": "execute_result"
    }
   ],
   "source": [
    "# max in each row\n",
    "m.max(axis=1)"
   ]
  },
  {
   "cell_type": "markdown",
   "id": "earned-component",
   "metadata": {},
   "source": [
    "Многие другие функции и методы в классах array и matrix принимают один и тот же (необязательный) аргумент axis."
   ]
  },
  {
   "cell_type": "markdown",
   "id": "expressed-generator",
   "metadata": {},
   "source": [
    "## Изменение формы, изменение размера и stacking массивов"
   ]
  },
  {
   "cell_type": "markdown",
   "id": "gothic-great",
   "metadata": {},
   "source": [
    "Форму массива Numpy можно изменить без копирования базовых данных, что делает его быстрой операцией даже для больших массивов."
   ]
  },
  {
   "cell_type": "code",
   "execution_count": 135,
   "id": "happy-tomato",
   "metadata": {},
   "outputs": [
    {
     "data": {
      "text/plain": [
       "array([[  0,   0,   0,   0,   0],\n",
       "       [  0,  10,  20,  30,  40],\n",
       "       [  0,  20,  40,  60,  80],\n",
       "       [  0,  30,  60,  90, 120],\n",
       "       [  0,  40,  80, 120, 160]])"
      ]
     },
     "execution_count": 135,
     "metadata": {},
     "output_type": "execute_result"
    }
   ],
   "source": [
    "A"
   ]
  },
  {
   "cell_type": "code",
   "execution_count": 136,
   "id": "complicated-degree",
   "metadata": {},
   "outputs": [],
   "source": [
    "n, m = A.shape"
   ]
  },
  {
   "cell_type": "code",
   "execution_count": 137,
   "id": "pleasant-possible",
   "metadata": {},
   "outputs": [
    {
     "data": {
      "text/plain": [
       "array([[  0,   0,   0,   0,   0,   0,  10,  20,  30,  40,   0,  20,  40,\n",
       "         60,  80,   0,  30,  60,  90, 120,   0,  40,  80, 120, 160]])"
      ]
     },
     "execution_count": 137,
     "metadata": {},
     "output_type": "execute_result"
    }
   ],
   "source": [
    "B = A.reshape((1,n*m))\n",
    "B"
   ]
  },
  {
   "cell_type": "code",
   "execution_count": 138,
   "id": "optional-lambda",
   "metadata": {},
   "outputs": [
    {
     "data": {
      "text/plain": [
       "array([[  5,   5,   5,   5,   5,   0,  10,  20,  30,  40,   0,  20,  40,\n",
       "         60,  80,   0,  30,  60,  90, 120,   0,  40,  80, 120, 160]])"
      ]
     },
     "execution_count": 138,
     "metadata": {},
     "output_type": "execute_result"
    }
   ],
   "source": [
    "B[0,0:5] = 5 # изменение массива\n",
    "B"
   ]
  },
  {
   "cell_type": "code",
   "execution_count": 139,
   "id": "diagnostic-teacher",
   "metadata": {},
   "outputs": [
    {
     "data": {
      "text/plain": [
       "array([[  5,   5,   5,   5,   5],\n",
       "       [  0,  10,  20,  30,  40],\n",
       "       [  0,  20,  40,  60,  80],\n",
       "       [  0,  30,  60,  90, 120],\n",
       "       [  0,  40,  80, 120, 160]])"
      ]
     },
     "execution_count": 139,
     "metadata": {},
     "output_type": "execute_result"
    }
   ],
   "source": [
    "A # и исходная переменная также изменяется. B - это только другой взгляд на одни и те же данные"
   ]
  },
  {
   "cell_type": "markdown",
   "id": "prospective-nowhere",
   "metadata": {},
   "source": [
    "Мы также можем использовать функцию `flatten`, чтобы превратить многомерный массив в вектор. Но эта функция создает копию данных."
   ]
  },
  {
   "cell_type": "code",
   "execution_count": 140,
   "id": "understanding-chile",
   "metadata": {},
   "outputs": [
    {
     "data": {
      "text/plain": [
       "array([  5,   5,   5,   5,   5,   0,  10,  20,  30,  40,   0,  20,  40,\n",
       "        60,  80,   0,  30,  60,  90, 120,   0,  40,  80, 120, 160])"
      ]
     },
     "execution_count": 140,
     "metadata": {},
     "output_type": "execute_result"
    }
   ],
   "source": [
    "B = A.flatten()\n",
    "\n",
    "B"
   ]
  },
  {
   "cell_type": "code",
   "execution_count": 141,
   "id": "incomplete-patrol",
   "metadata": {},
   "outputs": [
    {
     "data": {
      "text/plain": [
       "array([ 10,  10,  10,  10,  10,   0,  10,  20,  30,  40,   0,  20,  40,\n",
       "        60,  80,   0,  30,  60,  90, 120,   0,  40,  80, 120, 160])"
      ]
     },
     "execution_count": 141,
     "metadata": {},
     "output_type": "execute_result"
    }
   ],
   "source": [
    "B[0:5] = 10\n",
    "\n",
    "B"
   ]
  },
  {
   "cell_type": "code",
   "execution_count": 142,
   "id": "occasional-freeware",
   "metadata": {},
   "outputs": [
    {
     "data": {
      "text/plain": [
       "array([[  5,   5,   5,   5,   5],\n",
       "       [  0,  10,  20,  30,  40],\n",
       "       [  0,  20,  40,  60,  80],\n",
       "       [  0,  30,  60,  90, 120],\n",
       "       [  0,  40,  80, 120, 160]])"
      ]
     },
     "execution_count": 142,
     "metadata": {},
     "output_type": "execute_result"
    }
   ],
   "source": [
    "A # теперь A не изменился, потому что данные B являются копией A, а не относятся к тем же данным"
   ]
  },
  {
   "cell_type": "markdown",
   "id": "parliamentary-academy",
   "metadata": {},
   "source": [
    "## Добавление нового измерения: newaxis"
   ]
  },
  {
   "cell_type": "markdown",
   "id": "equivalent-september",
   "metadata": {},
   "source": [
    "С помощью `newaxis` мы можем вставлять новые измерения в массив, например, преобразовывая вектор в матрицу столбца или строки:"
   ]
  },
  {
   "cell_type": "code",
   "execution_count": 144,
   "id": "outside-metropolitan",
   "metadata": {},
   "outputs": [],
   "source": [
    "v = np.array([1,2,3])"
   ]
  },
  {
   "cell_type": "code",
   "execution_count": 147,
   "id": "eligible-drunk",
   "metadata": {},
   "outputs": [
    {
     "data": {
      "text/plain": [
       "(3,)"
      ]
     },
     "execution_count": 147,
     "metadata": {},
     "output_type": "execute_result"
    }
   ],
   "source": [
    "np.shape(v)"
   ]
  },
  {
   "cell_type": "code",
   "execution_count": 148,
   "id": "neural-butler",
   "metadata": {},
   "outputs": [
    {
     "data": {
      "text/plain": [
       "array([[1],\n",
       "       [2],\n",
       "       [3]])"
      ]
     },
     "execution_count": 148,
     "metadata": {},
     "output_type": "execute_result"
    }
   ],
   "source": [
    "# сделать матрицу-столбец вектора v\n",
    "v[:, np.newaxis]"
   ]
  },
  {
   "cell_type": "code",
   "execution_count": 149,
   "id": "concrete-constitution",
   "metadata": {},
   "outputs": [
    {
     "data": {
      "text/plain": [
       "(3, 1)"
      ]
     },
     "execution_count": 149,
     "metadata": {},
     "output_type": "execute_result"
    }
   ],
   "source": [
    "# матрица-столбец\n",
    "v[:, np.newaxis].shape"
   ]
  },
  {
   "cell_type": "code",
   "execution_count": 150,
   "id": "serial-council",
   "metadata": {},
   "outputs": [
    {
     "data": {
      "text/plain": [
       "(1, 3)"
      ]
     },
     "execution_count": 150,
     "metadata": {},
     "output_type": "execute_result"
    }
   ],
   "source": [
    "# матрица-ряд\n",
    "v[np.newaxis,:].shape"
   ]
  },
  {
   "cell_type": "markdown",
   "id": "congressional-andrews",
   "metadata": {},
   "source": [
    "## Stacking и repeating массивов"
   ]
  },
  {
   "cell_type": "markdown",
   "id": "middle-orientation",
   "metadata": {},
   "source": [
    "Используя функции repeat, tile, vstack, hstack и concatenate, мы можем создавать большие векторы и матрицы из меньших:"
   ]
  },
  {
   "cell_type": "markdown",
   "id": "rotary-canal",
   "metadata": {},
   "source": [
    "### tile и repeat"
   ]
  },
  {
   "cell_type": "code",
   "execution_count": 151,
   "id": "sitting-phrase",
   "metadata": {},
   "outputs": [],
   "source": [
    "a = np.array([[1, 2], [3, 4]])"
   ]
  },
  {
   "cell_type": "code",
   "execution_count": 152,
   "id": "willing-royalty",
   "metadata": {},
   "outputs": [
    {
     "data": {
      "text/plain": [
       "array([1, 1, 1, 2, 2, 2, 3, 3, 3, 4, 4, 4])"
      ]
     },
     "execution_count": 152,
     "metadata": {},
     "output_type": "execute_result"
    }
   ],
   "source": [
    "# повторить каждый элемент 3 раза\n",
    "np.repeat(a, 3)"
   ]
  },
  {
   "cell_type": "code",
   "execution_count": 153,
   "id": "abstract-hawaiian",
   "metadata": {},
   "outputs": [
    {
     "data": {
      "text/plain": [
       "array([[1, 2, 1, 2, 1, 2],\n",
       "       [3, 4, 3, 4, 3, 4]])"
      ]
     },
     "execution_count": 153,
     "metadata": {},
     "output_type": "execute_result"
    }
   ],
   "source": [
    "# замостить матрицу 3 раза\n",
    "np.tile(a, 3)"
   ]
  },
  {
   "cell_type": "markdown",
   "id": "impaired-burden",
   "metadata": {},
   "source": [
    "### concatenate"
   ]
  },
  {
   "cell_type": "code",
   "execution_count": 154,
   "id": "streaming-challenge",
   "metadata": {},
   "outputs": [],
   "source": [
    "b = np.array([[5, 6]])"
   ]
  },
  {
   "cell_type": "code",
   "execution_count": 155,
   "id": "shaped-census",
   "metadata": {},
   "outputs": [
    {
     "data": {
      "text/plain": [
       "array([[1, 2],\n",
       "       [3, 4],\n",
       "       [5, 6]])"
      ]
     },
     "execution_count": 155,
     "metadata": {},
     "output_type": "execute_result"
    }
   ],
   "source": [
    "np.concatenate((a, b), axis=0)"
   ]
  },
  {
   "cell_type": "code",
   "execution_count": 156,
   "id": "funded-cisco",
   "metadata": {},
   "outputs": [
    {
     "data": {
      "text/plain": [
       "array([[1, 2, 5],\n",
       "       [3, 4, 6]])"
      ]
     },
     "execution_count": 156,
     "metadata": {},
     "output_type": "execute_result"
    }
   ],
   "source": [
    "np.concatenate((a, b.T), axis=1)"
   ]
  },
  {
   "cell_type": "markdown",
   "id": "spare-pledge",
   "metadata": {},
   "source": [
    "### hstack и vstack"
   ]
  },
  {
   "cell_type": "code",
   "execution_count": 157,
   "id": "passing-commons",
   "metadata": {},
   "outputs": [
    {
     "data": {
      "text/plain": [
       "array([[1, 2],\n",
       "       [3, 4],\n",
       "       [5, 6]])"
      ]
     },
     "execution_count": 157,
     "metadata": {},
     "output_type": "execute_result"
    }
   ],
   "source": [
    "np.vstack((a,b))"
   ]
  },
  {
   "cell_type": "code",
   "execution_count": 158,
   "id": "thorough-fraud",
   "metadata": {},
   "outputs": [
    {
     "data": {
      "text/plain": [
       "array([[1, 2, 5],\n",
       "       [3, 4, 6]])"
      ]
     },
     "execution_count": 158,
     "metadata": {},
     "output_type": "execute_result"
    }
   ],
   "source": [
    "np.hstack((a,b.T))"
   ]
  },
  {
   "cell_type": "markdown",
   "id": "downtown-tunisia",
   "metadata": {},
   "source": [
    "## Copy и \"deep copy\""
   ]
  },
  {
   "cell_type": "markdown",
   "id": "brief-cologne",
   "metadata": {},
   "source": [
    "Для достижения высокой производительности присваивания в Python обычно не копируют нижележащие объекты. Это важно, например, когда объекты передаются между функциями, чтобы избежать чрезмерного копирования памяти, когда в этом нет необходимости (технический термин: pass by reference)."
   ]
  },
  {
   "cell_type": "code",
   "execution_count": 159,
   "id": "animated-director",
   "metadata": {},
   "outputs": [
    {
     "data": {
      "text/plain": [
       "array([[1, 2],\n",
       "       [3, 4]])"
      ]
     },
     "execution_count": 159,
     "metadata": {},
     "output_type": "execute_result"
    }
   ],
   "source": [
    "A = np.array([[1, 2], [3, 4]])\n",
    "\n",
    "A"
   ]
  },
  {
   "cell_type": "code",
   "execution_count": 160,
   "id": "spoken-destiny",
   "metadata": {},
   "outputs": [],
   "source": [
    "# теперь B ссылается на тот же массив данных, что и A\n",
    "B = A "
   ]
  },
  {
   "cell_type": "code",
   "execution_count": 161,
   "id": "challenging-coordinator",
   "metadata": {},
   "outputs": [
    {
     "data": {
      "text/plain": [
       "array([[10,  2],\n",
       "       [ 3,  4]])"
      ]
     },
     "execution_count": 161,
     "metadata": {},
     "output_type": "execute_result"
    }
   ],
   "source": [
    "# изменение B влияет на A\n",
    "B[0,0] = 10\n",
    "\n",
    "B"
   ]
  },
  {
   "cell_type": "code",
   "execution_count": 162,
   "id": "affiliated-slave",
   "metadata": {},
   "outputs": [
    {
     "data": {
      "text/plain": [
       "array([[10,  2],\n",
       "       [ 3,  4]])"
      ]
     },
     "execution_count": 162,
     "metadata": {},
     "output_type": "execute_result"
    }
   ],
   "source": [
    "A"
   ]
  },
  {
   "cell_type": "markdown",
   "id": "surprising-looking",
   "metadata": {},
   "source": [
    "Если мы хотим избежать подобного поведения, желая получить новый полностью независимый объект `B`, скопированный из` A`, нам нужно сделать так называемую «глубокую копию» - \"deep copy\", используя функцию `copy`:"
   ]
  },
  {
   "cell_type": "code",
   "execution_count": 163,
   "id": "based-amplifier",
   "metadata": {},
   "outputs": [],
   "source": [
    "B = np.copy(A)"
   ]
  },
  {
   "cell_type": "code",
   "execution_count": 164,
   "id": "brazilian-nashville",
   "metadata": {},
   "outputs": [
    {
     "data": {
      "text/plain": [
       "array([[-5,  2],\n",
       "       [ 3,  4]])"
      ]
     },
     "execution_count": 164,
     "metadata": {},
     "output_type": "execute_result"
    }
   ],
   "source": [
    "# теперь, если мы изменим B, A это не затронет\n",
    "B[0,0] = -5\n",
    "\n",
    "B"
   ]
  },
  {
   "cell_type": "code",
   "execution_count": 165,
   "id": "solved-monthly",
   "metadata": {},
   "outputs": [
    {
     "data": {
      "text/plain": [
       "array([[10,  2],\n",
       "       [ 3,  4]])"
      ]
     },
     "execution_count": 165,
     "metadata": {},
     "output_type": "execute_result"
    }
   ],
   "source": [
    "A"
   ]
  },
  {
   "cell_type": "markdown",
   "id": "average-password",
   "metadata": {},
   "source": [
    "## Итерации по элементам массивов"
   ]
  },
  {
   "cell_type": "markdown",
   "id": "biblical-fetish",
   "metadata": {},
   "source": [
    "Как правило, мы хотим избегать повторения элементов массивов всякий раз, когда это возможно (любой ценой). Причина в том, что в интерпретируемом языке, таком как Python, итерации очень медленны по сравнению с векторизованными операциями.\n",
    "\n",
    "Однако иногда итерации неизбежны. В таких случаях цикл Python `for` является наиболее удобным способом перебора массива:"
   ]
  },
  {
   "cell_type": "code",
   "execution_count": 166,
   "id": "posted-submission",
   "metadata": {},
   "outputs": [
    {
     "name": "stdout",
     "output_type": "stream",
     "text": [
      "1\n",
      "2\n",
      "3\n",
      "4\n"
     ]
    }
   ],
   "source": [
    "v = np.array([1,2,3,4])\n",
    "\n",
    "for element in v:\n",
    "    print(element)"
   ]
  },
  {
   "cell_type": "code",
   "execution_count": 167,
   "id": "commercial-blond",
   "metadata": {},
   "outputs": [
    {
     "name": "stdout",
     "output_type": "stream",
     "text": [
      "row [1 2]\n",
      "1\n",
      "2\n",
      "row [3 4]\n",
      "3\n",
      "4\n"
     ]
    }
   ],
   "source": [
    "M = np.array([[1,2], [3,4]])\n",
    "\n",
    "for row in M:\n",
    "    print(\"row\", row)\n",
    "    \n",
    "    for element in row:\n",
    "        print(element)"
   ]
  },
  {
   "cell_type": "markdown",
   "id": "automatic-riverside",
   "metadata": {},
   "source": [
    "Когда нам нужно перебрать каждый элемент массива и изменить его элементы, удобно использовать функцию `enumerate` для получения как элемента, так и его индекса в цикле` for`:"
   ]
  },
  {
   "cell_type": "code",
   "execution_count": 168,
   "id": "boxed-bargain",
   "metadata": {},
   "outputs": [
    {
     "name": "stdout",
     "output_type": "stream",
     "text": [
      "row_idx 0 row [1 2]\n",
      "col_idx 0 element 1\n",
      "col_idx 1 element 2\n",
      "row_idx 1 row [3 4]\n",
      "col_idx 0 element 3\n",
      "col_idx 1 element 4\n"
     ]
    }
   ],
   "source": [
    "for row_idx, row in enumerate(M):\n",
    "    print(\"row_idx\", row_idx, \"row\", row)\n",
    "    \n",
    "    for col_idx, element in enumerate(row):\n",
    "        print(\"col_idx\", col_idx, \"element\", element)\n",
    "       \n",
    "        # обновим матрицу M: возведение в квадрат каждого числа\n",
    "        M[row_idx, col_idx] = element ** 2"
   ]
  },
  {
   "cell_type": "code",
   "execution_count": 169,
   "id": "impressed-linux",
   "metadata": {},
   "outputs": [
    {
     "data": {
      "text/plain": [
       "array([[ 1,  4],\n",
       "       [ 9, 16]])"
      ]
     },
     "execution_count": 169,
     "metadata": {},
     "output_type": "execute_result"
    }
   ],
   "source": [
    "M"
   ]
  },
  {
   "cell_type": "markdown",
   "id": "engaging-puppy",
   "metadata": {},
   "source": [
    "## Функции векторизации"
   ]
  },
  {
   "cell_type": "markdown",
   "id": "continued-freeze",
   "metadata": {},
   "source": [
    "Как уже упоминалось несколько раз, для достижения хорошей производительности мы должны стараться избегать циклического перебора элементов в наших векторах и матрицах и вместо этого использовать векторизованные алгоритмы. Первый шаг в преобразовании скалярного алгоритма в векторизованный алгоритм - убедиться, что функции, которые мы пишем, работают с векторными входами."
   ]
  },
  {
   "cell_type": "code",
   "execution_count": 170,
   "id": "posted-recipe",
   "metadata": {},
   "outputs": [],
   "source": [
    "def Theta(x):\n",
    "    \"\"\"\n",
    "    Скалярная реализация ступенчатой функции Хевисайда.\n",
    "    \"\"\"\n",
    "    if x >= 0:\n",
    "        return 1\n",
    "    else:\n",
    "        return 0"
   ]
  },
  {
   "cell_type": "code",
   "execution_count": 171,
   "id": "wanted-cornwall",
   "metadata": {},
   "outputs": [
    {
     "ename": "NameError",
     "evalue": "name 'array' is not defined",
     "output_type": "error",
     "traceback": [
      "\u001b[0;31m---------------------------------------------------------------------------\u001b[0m",
      "\u001b[0;31mNameError\u001b[0m                                 Traceback (most recent call last)",
      "\u001b[0;32m/tmp/ipykernel_3019662/1282426515.py\u001b[0m in \u001b[0;36m<module>\u001b[0;34m\u001b[0m\n\u001b[0;32m----> 1\u001b[0;31m \u001b[0mTheta\u001b[0m\u001b[0;34m(\u001b[0m\u001b[0marray\u001b[0m\u001b[0;34m(\u001b[0m\u001b[0;34m[\u001b[0m\u001b[0;34m-\u001b[0m\u001b[0;36m3\u001b[0m\u001b[0;34m,\u001b[0m\u001b[0;34m-\u001b[0m\u001b[0;36m2\u001b[0m\u001b[0;34m,\u001b[0m\u001b[0;34m-\u001b[0m\u001b[0;36m1\u001b[0m\u001b[0;34m,\u001b[0m\u001b[0;36m0\u001b[0m\u001b[0;34m,\u001b[0m\u001b[0;36m1\u001b[0m\u001b[0;34m,\u001b[0m\u001b[0;36m2\u001b[0m\u001b[0;34m,\u001b[0m\u001b[0;36m3\u001b[0m\u001b[0;34m]\u001b[0m\u001b[0;34m)\u001b[0m\u001b[0;34m)\u001b[0m\u001b[0;34m\u001b[0m\u001b[0;34m\u001b[0m\u001b[0m\n\u001b[0m",
      "\u001b[0;31mNameError\u001b[0m: name 'array' is not defined"
     ]
    }
   ],
   "source": [
    "Theta(array([-3,-2,-1,0,1,2,3]))"
   ]
  },
  {
   "cell_type": "markdown",
   "id": "compound-overview",
   "metadata": {},
   "source": [
    "Хорошо, это не сработало, потому что мы не написали функцию `Theta`, чтобы она могла обрабатывать векторный ввод ...\n",
    "\n",
    "Чтобы получить векторизованную версию Theta, мы можем использовать функцию Numpy `vectorize`. Во многих случаях она может автоматически векторизовать функцию:"
   ]
  },
  {
   "cell_type": "code",
   "execution_count": 172,
   "id": "collectible-photography",
   "metadata": {},
   "outputs": [],
   "source": [
    "Theta_vec = np.vectorize(Theta)"
   ]
  },
  {
   "cell_type": "code",
   "execution_count": 173,
   "id": "incredible-prototype",
   "metadata": {},
   "outputs": [
    {
     "data": {
      "text/plain": [
       "array([0, 0, 0, 1, 1, 1, 1])"
      ]
     },
     "execution_count": 173,
     "metadata": {},
     "output_type": "execute_result"
    }
   ],
   "source": [
    "Theta_vec(np.array([-3,-2,-1,0,1,2,3]))"
   ]
  },
  {
   "cell_type": "markdown",
   "id": "bound-asthma",
   "metadata": {},
   "source": [
    "Мы также можем реализовать функцию для приема векторного ввода с самого начала (требует больше усилий, но может дать лучшую производительность):"
   ]
  },
  {
   "cell_type": "code",
   "execution_count": 174,
   "id": "valued-mining",
   "metadata": {},
   "outputs": [],
   "source": [
    "def Theta(x):\n",
    "    \"\"\"\n",
    "    Векторная реализация ступенчатой функции Хевисайда.\n",
    "    \"\"\"\n",
    "    return 1 * (x >= 0)"
   ]
  },
  {
   "cell_type": "code",
   "execution_count": 175,
   "id": "superb-piece",
   "metadata": {},
   "outputs": [
    {
     "data": {
      "text/plain": [
       "array([0, 0, 0, 1, 1, 1, 1])"
      ]
     },
     "execution_count": 175,
     "metadata": {},
     "output_type": "execute_result"
    }
   ],
   "source": [
    "Theta(np.array([-3,-2,-1,0,1,2,3]))"
   ]
  },
  {
   "cell_type": "code",
   "execution_count": 176,
   "id": "lined-intelligence",
   "metadata": {},
   "outputs": [
    {
     "data": {
      "text/plain": [
       "(0, 1)"
      ]
     },
     "execution_count": 176,
     "metadata": {},
     "output_type": "execute_result"
    }
   ],
   "source": [
    "# все еще работает для скаляров\n",
    "Theta(-1.2), Theta(2.6)"
   ]
  },
  {
   "cell_type": "markdown",
   "id": "solar-tract",
   "metadata": {},
   "source": [
    "## Использование массивов в условиях"
   ]
  },
  {
   "cell_type": "markdown",
   "id": "forty-animal",
   "metadata": {},
   "source": [
    "При использовании массивов в условиях, например операторов if и других логических выражений, необходимо использовать any или all, что требует, чтобы любой или все элементы в массиве оценивались как True:"
   ]
  },
  {
   "cell_type": "code",
   "execution_count": 179,
   "id": "smoking-choice",
   "metadata": {},
   "outputs": [
    {
     "data": {
      "text/plain": [
       "array([[  1,  16],\n",
       "       [ 81, 256]])"
      ]
     },
     "execution_count": 179,
     "metadata": {},
     "output_type": "execute_result"
    }
   ],
   "source": [
    "M"
   ]
  },
  {
   "cell_type": "code",
   "execution_count": 177,
   "id": "developmental-accessory",
   "metadata": {},
   "outputs": [
    {
     "name": "stdout",
     "output_type": "stream",
     "text": [
      "at least one element in M is larger than 5\n"
     ]
    }
   ],
   "source": [
    "if (M > 5).any():\n",
    "    print(\"at least one element in M is larger than 5\")\n",
    "else:\n",
    "    print(\"no element in M is larger than 5\")"
   ]
  },
  {
   "cell_type": "code",
   "execution_count": 178,
   "id": "round-literature",
   "metadata": {},
   "outputs": [
    {
     "name": "stdout",
     "output_type": "stream",
     "text": [
      "all elements in M are not larger than 5\n"
     ]
    }
   ],
   "source": [
    "if (M > 5).all():\n",
    "    print(\"all elements in M are larger than 5\")\n",
    "else:\n",
    "    print(\"all elements in M are not larger than 5\")"
   ]
  },
  {
   "cell_type": "markdown",
   "id": "portable-appeal",
   "metadata": {},
   "source": [
    "## Типизация"
   ]
  },
  {
   "cell_type": "markdown",
   "id": "organic-distinction",
   "metadata": {},
   "source": [
    "Поскольку массивы Numpy *статически типизированы*, тип массива не изменяется после создания. Но мы можем явно преобразовать массив одного типа в другой, используя функции `astype` (см. Также аналогичную функцию` asarray`). Это всегда создает новый массив нового типа:"
   ]
  },
  {
   "cell_type": "code",
   "execution_count": 179,
   "id": "unnecessary-payment",
   "metadata": {},
   "outputs": [
    {
     "data": {
      "text/plain": [
       "dtype('int64')"
      ]
     },
     "execution_count": 179,
     "metadata": {},
     "output_type": "execute_result"
    }
   ],
   "source": [
    "M.dtype"
   ]
  },
  {
   "cell_type": "code",
   "execution_count": 180,
   "id": "limiting-samuel",
   "metadata": {},
   "outputs": [
    {
     "data": {
      "text/plain": [
       "array([[ 1.,  4.],\n",
       "       [ 9., 16.]])"
      ]
     },
     "execution_count": 180,
     "metadata": {},
     "output_type": "execute_result"
    }
   ],
   "source": [
    "M2 = M.astype(float)\n",
    "\n",
    "M2"
   ]
  },
  {
   "cell_type": "code",
   "execution_count": 181,
   "id": "developing-warren",
   "metadata": {},
   "outputs": [
    {
     "data": {
      "text/plain": [
       "dtype('float64')"
      ]
     },
     "execution_count": 181,
     "metadata": {},
     "output_type": "execute_result"
    }
   ],
   "source": [
    "M2.dtype"
   ]
  },
  {
   "cell_type": "code",
   "execution_count": 182,
   "id": "boring-counter",
   "metadata": {},
   "outputs": [
    {
     "data": {
      "text/plain": [
       "array([[ True,  True],\n",
       "       [ True,  True]])"
      ]
     },
     "execution_count": 182,
     "metadata": {},
     "output_type": "execute_result"
    }
   ],
   "source": [
    "M3 = M.astype(bool)\n",
    "\n",
    "M3"
   ]
  }
 ],
 "metadata": {
  "kernelspec": {
   "display_name": "Python 3 (ipykernel)",
   "language": "python",
   "name": "python3"
  },
  "language_info": {
   "codemirror_mode": {
    "name": "ipython",
    "version": 3
   },
   "file_extension": ".py",
   "mimetype": "text/x-python",
   "name": "python",
   "nbconvert_exporter": "python",
   "pygments_lexer": "ipython3",
   "version": "3.9.7"
  }
 },
 "nbformat": 4,
 "nbformat_minor": 5
}
