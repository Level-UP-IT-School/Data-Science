{
 "cells": [
  {
   "cell_type": "markdown",
   "id": "3ef8b110",
   "metadata": {},
   "source": [
    "Машины опорных векторов (сокращенно SVM) — это контролируемые алгоритмы машинного обучения, которые используются для целей классификации и регрессии. В этом задании вам необходимо обучить Support Vector Machines для классификации пульсаров. \n"
   ]
  },
  {
   "cell_type": "markdown",
   "id": "b1926d13",
   "metadata": {},
   "source": [
    "**1. Прочитайте данные, сделайте беглый EDA - посмотрите на кол-во данных, названия столбцов, нет ли в них ошибок, переименуйте для более удобной работы, есть ли пропущенные значения. Посмотрите нет ли дисбаланса классов по таргету? Сделайте саммари по признакам. Отобразите боксплоты признаков, чтобы оценить выбросы в данных. Постройте гистограммы признаков, чтобы взглянуть на распределение данных.**"
   ]
  },
  {
   "cell_type": "code",
   "execution_count": null,
   "id": "ac0f727c",
   "metadata": {},
   "outputs": [],
   "source": [
    "#TODO"
   ]
  },
  {
   "cell_type": "markdown",
   "id": "d91ef5d3",
   "metadata": {},
   "source": [
    "**2. Определите матрицу признаков и переменную таргета. Разделите трейновый набор трейн и тест с помощью train_test_split. Зафиксируйте размер тестовой выборки 0.2, а рэндом стэйт равный 0.** "
   ]
  },
  {
   "cell_type": "code",
   "execution_count": null,
   "id": "d4ecd666",
   "metadata": {},
   "outputs": [],
   "source": [
    "#TODO"
   ]
  },
  {
   "cell_type": "markdown",
   "id": "188fdb31",
   "metadata": {},
   "source": [
    "**3. Используя StandartScaler отмасштабируйте матрицу признаков трейн и тест.**"
   ]
  },
  {
   "cell_type": "code",
   "execution_count": null,
   "id": "c493df77",
   "metadata": {},
   "outputs": [],
   "source": [
    "#TODO"
   ]
  },
  {
   "cell_type": "markdown",
   "id": "c6b702a1",
   "metadata": {},
   "source": [
    "**4. Обучите SVM Classifier на данных используя GridSearchCV: Попробуйте разные значения С, типа ядер, а так же значение гамма для rbf ядра. Подберите правильную метрику для оценки качества алгоритма. Убедитесь, что значения на тестровой и трейновой выборке сопоставимы и модель не переобучилась.**"
   ]
  },
  {
   "cell_type": "code",
   "execution_count": null,
   "id": "136cf1b7",
   "metadata": {},
   "outputs": [],
   "source": [
    "#TODO"
   ]
  },
  {
   "cell_type": "markdown",
   "id": "938b5a15",
   "metadata": {},
   "source": [
    "**5. Постройте confusion_matrix и classification report.**"
   ]
  },
  {
   "cell_type": "code",
   "execution_count": null,
   "id": "aab83dc3",
   "metadata": {},
   "outputs": [],
   "source": [
    "#TODO"
   ]
  },
  {
   "cell_type": "markdown",
   "id": "4165326b",
   "metadata": {},
   "source": [
    "**6. Обучите Decision tree classifier на тех же данных, используя GridSearchCV подберите гиперпараметры для модели. Используйте ту же метрику, что и в задаче с SVM. Убедитесь, что алгоритм не переобучился**"
   ]
  },
  {
   "cell_type": "code",
   "execution_count": null,
   "id": "c754b2f7",
   "metadata": {},
   "outputs": [],
   "source": [
    "#TODO"
   ]
  },
  {
   "cell_type": "markdown",
   "id": "91f60c20",
   "metadata": {},
   "source": [
    "**7. Постройте confusion_matrix и classification report.**"
   ]
  },
  {
   "cell_type": "code",
   "execution_count": null,
   "id": "57c15b2d",
   "metadata": {},
   "outputs": [],
   "source": [
    "#TODO"
   ]
  },
  {
   "cell_type": "markdown",
   "id": "acb79330",
   "metadata": {},
   "source": [
    "**8. Напишите выводы по качеству моделей.**"
   ]
  },
  {
   "cell_type": "markdown",
   "id": "e4c77b86",
   "metadata": {},
   "source": []
  }
 ],
 "metadata": {
  "kernelspec": {
   "display_name": "Python 3 (ipykernel)",
   "language": "python",
   "name": "python3"
  },
  "language_info": {
   "codemirror_mode": {
    "name": "ipython",
    "version": 3
   },
   "file_extension": ".py",
   "mimetype": "text/x-python",
   "name": "python",
   "nbconvert_exporter": "python",
   "pygments_lexer": "ipython3",
   "version": "3.9.7"
  }
 },
 "nbformat": 4,
 "nbformat_minor": 5
}
