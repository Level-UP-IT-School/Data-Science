{
 "cells": [
  {
   "cell_type": "markdown",
   "id": "valuable-output",
   "metadata": {},
   "source": [
    "# Введение в python 3.x"
   ]
  },
  {
   "cell_type": "markdown",
   "id": "equipped-airline",
   "metadata": {},
   "source": [
    "* Код на питоне хранится в файлах \"`.py`\":\n",
    "\n",
    "        myprogram.py\n",
    "\n",
    "* Каждая строка на питоне - это выражение либо часть другого выражения.\n",
    "\n",
    "\n",
    "  * Исключение это строки начинающиеся с  `#` - комментарии. Комментарии игнорируются интерпретатором. \n",
    "\n",
    "\n",
    "* Для запуска файла на питоне через командную строку необходимо набрать:\n",
    "\n",
    "        $ python myprogram.py"
   ]
  },
  {
   "cell_type": "markdown",
   "id": "chubby-party",
   "metadata": {},
   "source": [
    "## IPython notebooks"
   ]
  },
  {
   "cell_type": "markdown",
   "id": "revolutionary-dairy",
   "metadata": {},
   "source": [
    "Интерактивная оболочка для языка программирования Python, которая предоставляет расширенную интроспекцию, дополнительный командный синтаксис, подсветку кода и автоматическое дополнение. Является компонентом пакетов программ SciPy и Anaconda."
   ]
  },
  {
   "cell_type": "markdown",
   "id": "varied-making",
   "metadata": {},
   "source": [
    "## Модули"
   ]
  },
  {
   "cell_type": "markdown",
   "id": "pursuant-creature",
   "metadata": {},
   "source": [
    "Наибольшая функцинальность python достигается через *модули*. Python Standard Library - это набор из огромного колличества импортируемых библиотек дающих различные возможности такие как доступ к файла, опепационной системе, выходу в сеть и многие другие.  "
   ]
  },
  {
   "cell_type": "markdown",
   "id": "greatest-strain",
   "metadata": {},
   "source": [
    "### Ссылки"
   ]
  },
  {
   "cell_type": "markdown",
   "id": "straight-keeping",
   "metadata": {},
   "source": [
    " * The Python Language Reference: http://docs.python.org/2/reference/index.html\n",
    " * The Python Standard Library: http://docs.python.org/2/library/\n",
    "\n",
    "Для использования модуля на питоне его необходимо импортировать. Модуль может быть импортирован командой `import`. \n",
    "Например: попробуем импортировать библиотеку дающую возможность различных математических вычислений `math`."
   ]
  },
  {
   "cell_type": "code",
   "execution_count": 2,
   "id": "rational-optimum",
   "metadata": {},
   "outputs": [
    {
     "name": "stdout",
     "output_type": "stream",
     "text": [
      "1.0\n"
     ]
    }
   ],
   "source": [
    "import math\n",
    "\n",
    "x = math.cos(2 * math.pi)\n",
    "\n",
    "print(x)"
   ]
  },
  {
   "cell_type": "markdown",
   "id": "smart-alabama",
   "metadata": {},
   "source": [
    "Таким образом мы импортировали полностью всю библиотеку. \n",
    "\n",
    "Как альтернатива, мы можем импортировать все символы, функции и переменные в модуле в наше пространство. Таким образом нам не придется использвать префик \"math.\" каждый раз обращаясь к данному модулю:"
   ]
  },
  {
   "cell_type": "code",
   "execution_count": 3,
   "id": "rubber-sleeve",
   "metadata": {},
   "outputs": [
    {
     "name": "stdout",
     "output_type": "stream",
     "text": [
      "1.0\n"
     ]
    }
   ],
   "source": [
    "from math import *\n",
    "\n",
    "x = cos(2 * pi)\n",
    "\n",
    "print(x)"
   ]
  },
  {
   "cell_type": "markdown",
   "id": "virtual-quarterly",
   "metadata": {},
   "source": [
    "В данном случае мы можем так сделать, т.к. наша программа небольшая. Но в больших моделях не рекомендуется так делать, так как некоторые из имен могут встречаться в разных модулях, что вызовет конфликт и как следствие ошибку.\n",
    "Кроме того, некоторые модули просто огромны и нет смысла импортировать их все целиком.\n",
    "\n",
    "Есть еще одна альтренатива, импортировать только конкретные имена, которые будут использованы. "
   ]
  },
  {
   "cell_type": "code",
   "execution_count": 5,
   "id": "interracial-diamond",
   "metadata": {},
   "outputs": [
    {
     "name": "stdout",
     "output_type": "stream",
     "text": [
      "1.0\n"
     ]
    }
   ],
   "source": [
    "from math import cos, pi\n",
    "\n",
    "x = cos(2 * pi)\n",
    "\n",
    "print(x)"
   ]
  },
  {
   "cell_type": "markdown",
   "id": "ranging-bikini",
   "metadata": {},
   "source": [
    "### Изучение содержимого модуля\n",
    "\n",
    "После того как мы импортировали модуль, мы можем посмотреть на его содержимое используя функцию dir."
   ]
  },
  {
   "cell_type": "code",
   "execution_count": 6,
   "id": "running-thailand",
   "metadata": {},
   "outputs": [
    {
     "name": "stdout",
     "output_type": "stream",
     "text": [
      "['__doc__', '__file__', '__loader__', '__name__', '__package__', '__spec__', 'acos', 'acosh', 'asin', 'asinh', 'atan', 'atan2', 'atanh', 'ceil', 'comb', 'copysign', 'cos', 'cosh', 'degrees', 'dist', 'e', 'erf', 'erfc', 'exp', 'expm1', 'fabs', 'factorial', 'floor', 'fmod', 'frexp', 'fsum', 'gamma', 'gcd', 'hypot', 'inf', 'isclose', 'isfinite', 'isinf', 'isnan', 'isqrt', 'ldexp', 'lgamma', 'log', 'log10', 'log1p', 'log2', 'modf', 'nan', 'perm', 'pi', 'pow', 'prod', 'radians', 'remainder', 'sin', 'sinh', 'sqrt', 'tan', 'tanh', 'tau', 'trunc']\n"
     ]
    }
   ],
   "source": [
    "import math\n",
    "\n",
    "print(dir(math))"
   ]
  },
  {
   "cell_type": "markdown",
   "id": "handled-centre",
   "metadata": {},
   "source": [
    "А так же обратиться за помощью:"
   ]
  },
  {
   "cell_type": "code",
   "execution_count": 11,
   "id": "hispanic-letters",
   "metadata": {},
   "outputs": [
    {
     "name": "stdout",
     "output_type": "stream",
     "text": [
      "Help on built-in function log in module math:\n",
      "\n",
      "log(...)\n",
      "    log(x, [base=math.e])\n",
      "    Return the logarithm of x to the given base.\n",
      "    \n",
      "    If the base not specified, returns the natural logarithm (base e) of x.\n",
      "\n"
     ]
    }
   ],
   "source": [
    "help(math.log)"
   ]
  },
  {
   "cell_type": "code",
   "execution_count": 8,
   "id": "announced-logistics",
   "metadata": {},
   "outputs": [
    {
     "data": {
      "text/plain": [
       "2.302585092994046"
      ]
     },
     "execution_count": 8,
     "metadata": {},
     "output_type": "execute_result"
    }
   ],
   "source": [
    "log(10)"
   ]
  },
  {
   "cell_type": "code",
   "execution_count": 9,
   "id": "subsequent-immigration",
   "metadata": {},
   "outputs": [
    {
     "data": {
      "text/plain": [
       "3.3219280948873626"
      ]
     },
     "execution_count": 9,
     "metadata": {},
     "output_type": "execute_result"
    }
   ],
   "source": [
    "log(10, 2)"
   ]
  },
  {
   "cell_type": "markdown",
   "id": "similar-portal",
   "metadata": {},
   "source": [
    "Полный список модулей Python 2 и Python 3 доступен по ссылкам http://docs.python.org/2/library/ и http://docs.python.org/3/library/, соответственно."
   ]
  },
  {
   "cell_type": "markdown",
   "id": "affecting-monster",
   "metadata": {},
   "source": [
    "## Переменные и типы данных"
   ]
  },
  {
   "cell_type": "markdown",
   "id": "lonely-cooperative",
   "metadata": {},
   "source": [
    "### Символы"
   ]
  },
  {
   "cell_type": "markdown",
   "id": "mediterranean-auditor",
   "metadata": {},
   "source": [
    "Имена переменных в Python могут включать в себя символы `a-z`, `A-Z`, `0-9` и некоторые специальные символы `_`. Обычные переменные должны начинаться с буквы. \n",
    "\n",
    "Конвенция принято, что имена переменных должны начинаться со строчных букв, а имена классов с заглавных. \n",
    "\n",
    "В дополнении, есть некоторые слова, которые не могут быть использованы в именовании переменных. Вот их список:\n",
    "\n",
    "    and, as, assert, break, class, continue, def, del, elif, else, except, \n",
    "    exec, finally, for, from, global, if, import, in, is, lambda, not, or,\n",
    "    pass, print, raise, return, try, while, with, yield\n"
   ]
  },
  {
   "cell_type": "markdown",
   "id": "exotic-smoke",
   "metadata": {},
   "source": [
    "## Присваивание\n",
    "\n",
    "Питон динамический язык, поэтому у нас нет необходимости указывать тип данных хранящихся в переменной. Для присваивания значения нам достаточно указать символ `=`. Присваивание автоматически создает переменную."
   ]
  },
  {
   "cell_type": "code",
   "execution_count": 13,
   "id": "liquid-convertible",
   "metadata": {},
   "outputs": [],
   "source": [
    "x = 1.0\n",
    "my_variable = 12.2"
   ]
  },
  {
   "cell_type": "code",
   "execution_count": 15,
   "id": "indoor-montgomery",
   "metadata": {},
   "outputs": [
    {
     "data": {
      "text/plain": [
       "12.2"
      ]
     },
     "execution_count": 15,
     "metadata": {},
     "output_type": "execute_result"
    }
   ],
   "source": [
    "my_variable"
   ]
  },
  {
   "cell_type": "code",
   "execution_count": 16,
   "id": "painful-london",
   "metadata": {},
   "outputs": [
    {
     "data": {
      "text/plain": [
       "float"
      ]
     },
     "execution_count": 16,
     "metadata": {},
     "output_type": "execute_result"
    }
   ],
   "source": [
    "type(x)"
   ]
  },
  {
   "cell_type": "markdown",
   "id": "fabulous-barcelona",
   "metadata": {},
   "source": [
    "Присваивание нового типа данных, автоматически изменяет переменную и тип данных. "
   ]
  },
  {
   "cell_type": "code",
   "execution_count": 18,
   "id": "orange-birthday",
   "metadata": {},
   "outputs": [],
   "source": [
    "x = 1"
   ]
  },
  {
   "cell_type": "code",
   "execution_count": 19,
   "id": "raised-poetry",
   "metadata": {},
   "outputs": [
    {
     "data": {
      "text/plain": [
       "int"
      ]
     },
     "execution_count": 19,
     "metadata": {},
     "output_type": "execute_result"
    }
   ],
   "source": [
    "type(x)"
   ]
  },
  {
   "cell_type": "markdown",
   "id": "crazy-numbers",
   "metadata": {},
   "source": [
    "Что произойдет в следующей строке?"
   ]
  },
  {
   "cell_type": "code",
   "execution_count": null,
   "id": "fallen-trauma",
   "metadata": {},
   "outputs": [],
   "source": [
    "print(y)"
   ]
  },
  {
   "cell_type": "markdown",
   "id": "exterior-prefix",
   "metadata": {},
   "source": [
    "### Основные типы данных"
   ]
  },
  {
   "cell_type": "code",
   "execution_count": 20,
   "id": "negative-terminal",
   "metadata": {},
   "outputs": [
    {
     "data": {
      "text/plain": [
       "int"
      ]
     },
     "execution_count": 20,
     "metadata": {},
     "output_type": "execute_result"
    }
   ],
   "source": [
    "# integers\n",
    "x = 1\n",
    "type(x)"
   ]
  },
  {
   "cell_type": "code",
   "execution_count": 21,
   "id": "hidden-hughes",
   "metadata": {},
   "outputs": [
    {
     "data": {
      "text/plain": [
       "float"
      ]
     },
     "execution_count": 21,
     "metadata": {},
     "output_type": "execute_result"
    }
   ],
   "source": [
    "# float\n",
    "x = 1.0\n",
    "type(x)"
   ]
  },
  {
   "cell_type": "code",
   "execution_count": 22,
   "id": "restricted-diversity",
   "metadata": {},
   "outputs": [
    {
     "data": {
      "text/plain": [
       "bool"
      ]
     },
     "execution_count": 22,
     "metadata": {},
     "output_type": "execute_result"
    }
   ],
   "source": [
    "# boolean\n",
    "b1 = True\n",
    "b2 = False\n",
    "\n",
    "type(b1)"
   ]
  },
  {
   "cell_type": "code",
   "execution_count": 23,
   "id": "documentary-runner",
   "metadata": {},
   "outputs": [
    {
     "data": {
      "text/plain": [
       "complex"
      ]
     },
     "execution_count": 23,
     "metadata": {},
     "output_type": "execute_result"
    }
   ],
   "source": [
    "# complex numbers\n",
    "x = 1.0 - 1.0j\n",
    "type(x)"
   ]
  },
  {
   "cell_type": "code",
   "execution_count": 24,
   "id": "egyptian-feeding",
   "metadata": {},
   "outputs": [
    {
     "name": "stdout",
     "output_type": "stream",
     "text": [
      "(1-1j)\n"
     ]
    }
   ],
   "source": [
    "print(x)"
   ]
  },
  {
   "cell_type": "code",
   "execution_count": 25,
   "id": "infrared-violence",
   "metadata": {},
   "outputs": [
    {
     "name": "stdout",
     "output_type": "stream",
     "text": [
      "1.0 -1.0\n"
     ]
    }
   ],
   "source": [
    "print(x.real, x.imag)"
   ]
  },
  {
   "cell_type": "markdown",
   "id": "known-mirror",
   "metadata": {},
   "source": [
    "### Продолжаем работать с типами данных"
   ]
  },
  {
   "cell_type": "code",
   "execution_count": 27,
   "id": "frequent-university",
   "metadata": {},
   "outputs": [
    {
     "data": {
      "text/plain": [
       "True"
      ]
     },
     "execution_count": 27,
     "metadata": {},
     "output_type": "execute_result"
    }
   ],
   "source": [
    "x = 1.0\n",
    "\n",
    "type(x) is float"
   ]
  },
  {
   "cell_type": "code",
   "execution_count": 28,
   "id": "alternative-greensboro",
   "metadata": {},
   "outputs": [
    {
     "data": {
      "text/plain": [
       "False"
      ]
     },
     "execution_count": 28,
     "metadata": {},
     "output_type": "execute_result"
    }
   ],
   "source": [
    "type(x) is int"
   ]
  },
  {
   "cell_type": "markdown",
   "id": "confident-lemon",
   "metadata": {},
   "source": [
    "Можно использовать метод `isinstance` для тестирования типов переменных:"
   ]
  },
  {
   "cell_type": "code",
   "execution_count": 30,
   "id": "charged-colonial",
   "metadata": {},
   "outputs": [
    {
     "data": {
      "text/plain": [
       "True"
      ]
     },
     "execution_count": 30,
     "metadata": {},
     "output_type": "execute_result"
    }
   ],
   "source": [
    "isinstance(x, float)"
   ]
  },
  {
   "cell_type": "code",
   "execution_count": 31,
   "id": "colonial-struggle",
   "metadata": {},
   "outputs": [
    {
     "name": "stdout",
     "output_type": "stream",
     "text": [
      "1.5 <class 'float'>\n"
     ]
    }
   ],
   "source": [
    "x = 1.5\n",
    "\n",
    "print(x, type(x))"
   ]
  },
  {
   "cell_type": "code",
   "execution_count": 32,
   "id": "earlier-table",
   "metadata": {},
   "outputs": [
    {
     "name": "stdout",
     "output_type": "stream",
     "text": [
      "1 <class 'int'>\n"
     ]
    }
   ],
   "source": [
    "x = int(x)\n",
    "\n",
    "print(x, type(x))"
   ]
  },
  {
   "cell_type": "markdown",
   "id": "published-vehicle",
   "metadata": {},
   "source": [
    "## Операторы и сравнения"
   ]
  },
  {
   "cell_type": "markdown",
   "id": "conscious-spring",
   "metadata": {},
   "source": [
    "Большая часть операторов в питоне работает так, как мы от них этого ожидаем:\n",
    "\n",
    "* Арифметические операторы `+`, `-`, `*`, `/`, `//` (деление без остатка), '**' степень\n",
    "\n"
   ]
  },
  {
   "cell_type": "code",
   "execution_count": 33,
   "id": "official-customs",
   "metadata": {},
   "outputs": [
    {
     "data": {
      "text/plain": [
       "(3, -1, 2, 0.5)"
      ]
     },
     "execution_count": 33,
     "metadata": {},
     "output_type": "execute_result"
    }
   ],
   "source": [
    "1 + 2, 1 - 2, 1 * 2, 1 / 2"
   ]
  },
  {
   "cell_type": "code",
   "execution_count": 34,
   "id": "excited-lesson",
   "metadata": {},
   "outputs": [
    {
     "data": {
      "text/plain": [
       "(3.0, -1.0, 2.0, 0.5)"
      ]
     },
     "execution_count": 34,
     "metadata": {},
     "output_type": "execute_result"
    }
   ],
   "source": [
    "1.0 + 2.0, 1.0 - 2.0, 1.0 * 2.0, 1.0 / 2.0"
   ]
  },
  {
   "cell_type": "code",
   "execution_count": 36,
   "id": "flexible-tunisia",
   "metadata": {},
   "outputs": [
    {
     "data": {
      "text/plain": [
       "1.0"
      ]
     },
     "execution_count": 36,
     "metadata": {},
     "output_type": "execute_result"
    }
   ],
   "source": [
    "# Целое деление переменных float \n",
    "3.0 // 2.0"
   ]
  },
  {
   "cell_type": "code",
   "execution_count": 37,
   "id": "tested-folks",
   "metadata": {},
   "outputs": [
    {
     "data": {
      "text/plain": [
       "4"
      ]
     },
     "execution_count": 37,
     "metadata": {},
     "output_type": "execute_result"
    }
   ],
   "source": [
    "2 ** 2"
   ]
  },
  {
   "cell_type": "markdown",
   "id": "demanding-wrong",
   "metadata": {},
   "source": [
    "### Операторы boolean\n",
    "\n",
    "`and`, `not`, `or`"
   ]
  },
  {
   "cell_type": "code",
   "execution_count": 38,
   "id": "cooperative-photographer",
   "metadata": {},
   "outputs": [
    {
     "data": {
      "text/plain": [
       "False"
      ]
     },
     "execution_count": 38,
     "metadata": {},
     "output_type": "execute_result"
    }
   ],
   "source": [
    "True and False"
   ]
  },
  {
   "cell_type": "code",
   "execution_count": 39,
   "id": "technological-chamber",
   "metadata": {},
   "outputs": [
    {
     "data": {
      "text/plain": [
       "True"
      ]
     },
     "execution_count": 39,
     "metadata": {},
     "output_type": "execute_result"
    }
   ],
   "source": [
    "not False"
   ]
  },
  {
   "cell_type": "code",
   "execution_count": 40,
   "id": "illegal-hardware",
   "metadata": {},
   "outputs": [
    {
     "data": {
      "text/plain": [
       "True"
      ]
     },
     "execution_count": 40,
     "metadata": {},
     "output_type": "execute_result"
    }
   ],
   "source": [
    "True or False"
   ]
  },
  {
   "cell_type": "markdown",
   "id": "thousand-might",
   "metadata": {},
   "source": [
    "Операторы сравнения `>`, `<`, `>=`, `<=`, `==`, `!=`,`is`"
   ]
  },
  {
   "cell_type": "code",
   "execution_count": 41,
   "id": "destroyed-import",
   "metadata": {
    "scrolled": true
   },
   "outputs": [
    {
     "data": {
      "text/plain": [
       "(True, False)"
      ]
     },
     "execution_count": 41,
     "metadata": {},
     "output_type": "execute_result"
    }
   ],
   "source": [
    "2 > 1, 2 < 1"
   ]
  },
  {
   "cell_type": "code",
   "execution_count": 42,
   "id": "appropriate-current",
   "metadata": {},
   "outputs": [
    {
     "data": {
      "text/plain": [
       "(False, False)"
      ]
     },
     "execution_count": 42,
     "metadata": {},
     "output_type": "execute_result"
    }
   ],
   "source": [
    "2 > 2, 2 < 2"
   ]
  },
  {
   "cell_type": "code",
   "execution_count": 43,
   "id": "natural-broadcasting",
   "metadata": {},
   "outputs": [
    {
     "data": {
      "text/plain": [
       "(True, True)"
      ]
     },
     "execution_count": 43,
     "metadata": {},
     "output_type": "execute_result"
    }
   ],
   "source": [
    "2 >= 2, 2 <= 2"
   ]
  },
  {
   "cell_type": "code",
   "execution_count": 44,
   "id": "swedish-bobby",
   "metadata": {
    "scrolled": true
   },
   "outputs": [
    {
     "data": {
      "text/plain": [
       "True"
      ]
     },
     "execution_count": 44,
     "metadata": {},
     "output_type": "execute_result"
    }
   ],
   "source": [
    "# equality\n",
    "[1,2] == [1,2]"
   ]
  },
  {
   "cell_type": "code",
   "execution_count": 60,
   "id": "cleared-reason",
   "metadata": {},
   "outputs": [
    {
     "data": {
      "text/plain": [
       "False"
      ]
     },
     "execution_count": 60,
     "metadata": {},
     "output_type": "execute_result"
    }
   ],
   "source": [
    "# equality\n",
    "[1,2] != [1,2]"
   ]
  },
  {
   "cell_type": "code",
   "execution_count": 45,
   "id": "peripheral-charles",
   "metadata": {},
   "outputs": [
    {
     "data": {
      "text/plain": [
       "True"
      ]
     },
     "execution_count": 45,
     "metadata": {},
     "output_type": "execute_result"
    }
   ],
   "source": [
    "# objects identical?\n",
    "l1 = l2 = [1,2]\n",
    "\n",
    "l1 is l2"
   ]
  },
  {
   "cell_type": "markdown",
   "id": "informal-certificate",
   "metadata": {},
   "source": [
    "# String, List и dictionaries"
   ]
  },
  {
   "cell_type": "markdown",
   "id": "processed-cookie",
   "metadata": {},
   "source": [
    "### Strings\n",
    "\n",
    "Это обычные текстовые выражения"
   ]
  },
  {
   "cell_type": "code",
   "execution_count": 46,
   "id": "conventional-gauge",
   "metadata": {},
   "outputs": [
    {
     "data": {
      "text/plain": [
       "str"
      ]
     },
     "execution_count": 46,
     "metadata": {},
     "output_type": "execute_result"
    }
   ],
   "source": [
    "s = \"Hello world\"\n",
    "type(s)"
   ]
  },
  {
   "cell_type": "code",
   "execution_count": 47,
   "id": "allied-heater",
   "metadata": {},
   "outputs": [
    {
     "data": {
      "text/plain": [
       "11"
      ]
     },
     "execution_count": 47,
     "metadata": {},
     "output_type": "execute_result"
    }
   ],
   "source": [
    "len(s)"
   ]
  },
  {
   "cell_type": "code",
   "execution_count": 48,
   "id": "plain-electricity",
   "metadata": {},
   "outputs": [
    {
     "name": "stdout",
     "output_type": "stream",
     "text": [
      "Hello test\n"
     ]
    }
   ],
   "source": [
    "s2 = s.replace(\"world\", \"test\")\n",
    "print(s2)"
   ]
  },
  {
   "cell_type": "markdown",
   "id": "metallic-arbitration",
   "metadata": {},
   "source": [
    "Индексирование начинается с 0:"
   ]
  },
  {
   "cell_type": "code",
   "execution_count": 49,
   "id": "incredible-metro",
   "metadata": {},
   "outputs": [
    {
     "data": {
      "text/plain": [
       "'H'"
      ]
     },
     "execution_count": 49,
     "metadata": {},
     "output_type": "execute_result"
    }
   ],
   "source": [
    "s[0]"
   ]
  },
  {
   "cell_type": "markdown",
   "id": "million-gasoline",
   "metadata": {},
   "source": [
    "Мы можем извлечь часть переменной используя синтаксис `[start:stop]`, т.е. начиная с индекса `start` и заканчивая `stop` -1 (символ с индексом `stop` не включается):"
   ]
  },
  {
   "cell_type": "code",
   "execution_count": 50,
   "id": "appreciated-longitude",
   "metadata": {},
   "outputs": [
    {
     "data": {
      "text/plain": [
       "'Hello'"
      ]
     },
     "execution_count": 50,
     "metadata": {},
     "output_type": "execute_result"
    }
   ],
   "source": [
    "s[0:5]"
   ]
  },
  {
   "cell_type": "code",
   "execution_count": 51,
   "id": "worldwide-sword",
   "metadata": {
    "scrolled": true
   },
   "outputs": [
    {
     "data": {
      "text/plain": [
       "'o'"
      ]
     },
     "execution_count": 51,
     "metadata": {},
     "output_type": "execute_result"
    }
   ],
   "source": [
    "s[4:5]"
   ]
  },
  {
   "cell_type": "markdown",
   "id": "spread-potter",
   "metadata": {},
   "source": [
    "Если опустить значение начала или конца, то будет взято значение по умолчанию: 0 для старта, и последнее для конца. "
   ]
  },
  {
   "cell_type": "code",
   "execution_count": 57,
   "id": "beneficial-possession",
   "metadata": {},
   "outputs": [
    {
     "data": {
      "text/plain": [
       "'Hello'"
      ]
     },
     "execution_count": 57,
     "metadata": {},
     "output_type": "execute_result"
    }
   ],
   "source": [
    "s[:5]"
   ]
  },
  {
   "cell_type": "code",
   "execution_count": 58,
   "id": "subsequent-insulation",
   "metadata": {},
   "outputs": [
    {
     "data": {
      "text/plain": [
       "'world'"
      ]
     },
     "execution_count": 58,
     "metadata": {},
     "output_type": "execute_result"
    }
   ],
   "source": [
    "s[6:]"
   ]
  },
  {
   "cell_type": "code",
   "execution_count": 59,
   "id": "improving-shepherd",
   "metadata": {},
   "outputs": [
    {
     "data": {
      "text/plain": [
       "'Hello world'"
      ]
     },
     "execution_count": 59,
     "metadata": {},
     "output_type": "execute_result"
    }
   ],
   "source": [
    "s[:]"
   ]
  },
  {
   "cell_type": "markdown",
   "id": "urban-clearance",
   "metadata": {},
   "source": [
    "Кроме того, мы можем указать шаг `[start:end:step]` (по-умолчанию `step` равен 1):"
   ]
  },
  {
   "cell_type": "code",
   "execution_count": 61,
   "id": "polish-pipeline",
   "metadata": {},
   "outputs": [
    {
     "data": {
      "text/plain": [
       "'Hello world'"
      ]
     },
     "execution_count": 61,
     "metadata": {},
     "output_type": "execute_result"
    }
   ],
   "source": [
    "s[::1]"
   ]
  },
  {
   "cell_type": "code",
   "execution_count": 62,
   "id": "proper-tonight",
   "metadata": {},
   "outputs": [
    {
     "data": {
      "text/plain": [
       "'Hlowrd'"
      ]
     },
     "execution_count": 62,
     "metadata": {},
     "output_type": "execute_result"
    }
   ],
   "source": [
    "s[::2]"
   ]
  },
  {
   "cell_type": "markdown",
   "id": "practical-decision",
   "metadata": {},
   "source": [
    "## Форматирование stringprint(\"str1\", \"str2\", \"str3\")  # The print statement concatenates strings with a space\n",
    "\n",
    "print(\"str1\", 1.0, False, -1j)  # The print statements converts all arguments to strings\n",
    "\n",
    "print(\"str1\" + \"str2\" + \"str3\") # strings added with + are concatenated without space\n",
    "\n",
    "print(\"value = %f\" % 1.0)       # we can use C-style string formatting\n",
    "\n",
    "# this formatting creates a string\n",
    "s2 = \"value1 = %.2f. value2 = %d\" % (3.1415, 1.5)\n",
    "\n",
    "print(s2)\n",
    "\n",
    "# alternative, more intuitive way of formatting a string \n",
    "s3 = 'value1 = {0}, value2 = {1}'.format(3.1415, 1.5)\n",
    "\n",
    "print(s3)"
   ]
  },
  {
   "cell_type": "code",
   "execution_count": 63,
   "id": "infinite-poetry",
   "metadata": {},
   "outputs": [
    {
     "name": "stdout",
     "output_type": "stream",
     "text": [
      "str1 str2 str3\n"
     ]
    }
   ],
   "source": [
    "print(\"str1\", \"str2\", \"str3\")"
   ]
  },
  {
   "cell_type": "code",
   "execution_count": 64,
   "id": "subtle-cause",
   "metadata": {},
   "outputs": [
    {
     "name": "stdout",
     "output_type": "stream",
     "text": [
      "str1 1.0 False (-0-1j)\n"
     ]
    }
   ],
   "source": [
    "print(\"str1\", 1.0, False, -1j) "
   ]
  },
  {
   "cell_type": "code",
   "execution_count": 65,
   "id": "portable-george",
   "metadata": {},
   "outputs": [
    {
     "name": "stdout",
     "output_type": "stream",
     "text": [
      "str1str2str3\n"
     ]
    }
   ],
   "source": [
    "print(\"str1\" + \"str2\" + \"str3\")"
   ]
  },
  {
   "cell_type": "code",
   "execution_count": 67,
   "id": "difficult-remainder",
   "metadata": {},
   "outputs": [
    {
     "name": "stdout",
     "output_type": "stream",
     "text": [
      "value = 1.000000\n"
     ]
    }
   ],
   "source": [
    "print(\"value = %f\" % 1.0)"
   ]
  },
  {
   "cell_type": "code",
   "execution_count": 69,
   "id": "surprising-bouquet",
   "metadata": {},
   "outputs": [
    {
     "name": "stdout",
     "output_type": "stream",
     "text": [
      "value1 = 3.14. value2 = 1\n"
     ]
    }
   ],
   "source": [
    "s2 = \"value1 = %.2f. value2 = %d\" % (3.1415, 1.5)\n",
    "\n",
    "print(s2)"
   ]
  },
  {
   "cell_type": "code",
   "execution_count": 70,
   "id": "brutal-graduate",
   "metadata": {},
   "outputs": [
    {
     "name": "stdout",
     "output_type": "stream",
     "text": [
      "value1 = 3.1415, value2 = 1.5\n"
     ]
    }
   ],
   "source": [
    "# альтернатива\n",
    "s3 = 'value1 = {0}, value2 = {1}'.format(3.1415, 1.5)\n",
    "\n",
    "print(s3)"
   ]
  },
  {
   "cell_type": "markdown",
   "id": "moral-thomson",
   "metadata": {},
   "source": [
    "## List - список"
   ]
  },
  {
   "cell_type": "markdown",
   "id": "continent-oliver",
   "metadata": {},
   "source": [
    "Списки очень сильно похожи на строки за исключением одного: элементы списка могут быть любым типом данных.\n",
    "\n",
    "Синтаксис создания списка `[...]`"
   ]
  },
  {
   "cell_type": "code",
   "execution_count": 71,
   "id": "simple-illness",
   "metadata": {},
   "outputs": [
    {
     "name": "stdout",
     "output_type": "stream",
     "text": [
      "<class 'list'>\n",
      "[1, 2, 3, 4]\n"
     ]
    }
   ],
   "source": [
    "l = [1,2,3,4]\n",
    "\n",
    "print(type(l))\n",
    "print(l)"
   ]
  },
  {
   "cell_type": "code",
   "execution_count": 72,
   "id": "cardiac-collect",
   "metadata": {},
   "outputs": [
    {
     "name": "stdout",
     "output_type": "stream",
     "text": [
      "[1, 2, 3, 4]\n",
      "[2, 3]\n",
      "[1, 3]\n"
     ]
    }
   ],
   "source": [
    "print(l)\n",
    "\n",
    "print(l[1:3])\n",
    "\n",
    "print(l[::2])"
   ]
  },
  {
   "cell_type": "code",
   "execution_count": 73,
   "id": "given-digest",
   "metadata": {},
   "outputs": [
    {
     "data": {
      "text/plain": [
       "1"
      ]
     },
     "execution_count": 73,
     "metadata": {},
     "output_type": "execute_result"
    }
   ],
   "source": [
    "l[0]"
   ]
  },
  {
   "cell_type": "markdown",
   "id": "biblical-ontario",
   "metadata": {},
   "source": [
    "Элементы списка могут быть разными типами данных. "
   ]
  },
  {
   "cell_type": "code",
   "execution_count": 74,
   "id": "wooden-genre",
   "metadata": {},
   "outputs": [
    {
     "name": "stdout",
     "output_type": "stream",
     "text": [
      "[1, 'a', 1.0, (1-1j)]\n"
     ]
    }
   ],
   "source": [
    "l = [1, 'a', 1.0, 1-1j]\n",
    "\n",
    "print(l)"
   ]
  },
  {
   "cell_type": "markdown",
   "id": "prompt-aberdeen",
   "metadata": {},
   "source": [
    "Списки могут быть вложенными"
   ]
  },
  {
   "cell_type": "code",
   "execution_count": 75,
   "id": "individual-indianapolis",
   "metadata": {},
   "outputs": [
    {
     "data": {
      "text/plain": [
       "[1, [2, [3, [4, [5]]]]]"
      ]
     },
     "execution_count": 75,
     "metadata": {},
     "output_type": "execute_result"
    }
   ],
   "source": [
    "nested_list = [1, [2, [3, [4, [5]]]]]\n",
    "\n",
    "nested_list"
   ]
  },
  {
   "cell_type": "markdown",
   "id": "terminal-correction",
   "metadata": {},
   "source": [
    "Списки играют очень важную роль в Python, например используются в циклах и других сложных структурах. Существует множество вариаций создания списков, например `range`:"
   ]
  },
  {
   "cell_type": "code",
   "execution_count": 76,
   "id": "alternate-stack",
   "metadata": {},
   "outputs": [
    {
     "data": {
      "text/plain": [
       "range(10, 30, 2)"
      ]
     },
     "execution_count": 76,
     "metadata": {},
     "output_type": "execute_result"
    }
   ],
   "source": [
    "start = 10\n",
    "stop = 30\n",
    "step = 2\n",
    "\n",
    "range(start, stop, step)"
   ]
  },
  {
   "cell_type": "code",
   "execution_count": 77,
   "id": "conventional-minnesota",
   "metadata": {},
   "outputs": [
    {
     "data": {
      "text/plain": [
       "[10, 12, 14, 16, 18, 20, 22, 24, 26, 28]"
      ]
     },
     "execution_count": 77,
     "metadata": {},
     "output_type": "execute_result"
    }
   ],
   "source": [
    "# в python 3 range создает итератор, который можно конвертировать в список 'list(...)'.\n",
    "list(range(start, stop, step))"
   ]
  },
  {
   "cell_type": "code",
   "execution_count": 78,
   "id": "diverse-alcohol",
   "metadata": {},
   "outputs": [
    {
     "data": {
      "text/plain": [
       "[-10, -9, -8, -7, -6, -5, -4, -3, -2, -1, 0, 1, 2, 3, 4, 5, 6, 7, 8, 9]"
      ]
     },
     "execution_count": 78,
     "metadata": {},
     "output_type": "execute_result"
    }
   ],
   "source": [
    "list(range(-10, 10))"
   ]
  },
  {
   "cell_type": "code",
   "execution_count": 79,
   "id": "turned-ribbon",
   "metadata": {},
   "outputs": [
    {
     "data": {
      "text/plain": [
       "'Hello world'"
      ]
     },
     "execution_count": 79,
     "metadata": {},
     "output_type": "execute_result"
    }
   ],
   "source": [
    "s"
   ]
  },
  {
   "cell_type": "code",
   "execution_count": 80,
   "id": "scenic-pension",
   "metadata": {},
   "outputs": [
    {
     "data": {
      "text/plain": [
       "['H', 'e', 'l', 'l', 'o', ' ', 'w', 'o', 'r', 'l', 'd']"
      ]
     },
     "execution_count": 80,
     "metadata": {},
     "output_type": "execute_result"
    }
   ],
   "source": [
    "s2 = list(s)\n",
    "\n",
    "s2"
   ]
  },
  {
   "cell_type": "code",
   "execution_count": 82,
   "id": "variable-confirmation",
   "metadata": {},
   "outputs": [
    {
     "name": "stdout",
     "output_type": "stream",
     "text": [
      "[' ', 'H', 'd', 'e', 'l', 'l', 'l', 'o', 'o', 'r', 'w']\n"
     ]
    }
   ],
   "source": [
    "s2.sort()\n",
    "\n",
    "print(s2)"
   ]
  },
  {
   "cell_type": "markdown",
   "id": "differential-stockholm",
   "metadata": {},
   "source": [
    "### Изменение списков"
   ]
  },
  {
   "cell_type": "code",
   "execution_count": 83,
   "id": "average-clerk",
   "metadata": {},
   "outputs": [
    {
     "name": "stdout",
     "output_type": "stream",
     "text": [
      "['A', 'd', 'd']\n"
     ]
    }
   ],
   "source": [
    "# создадим пустой список\n",
    "l = []\n",
    "\n",
    "# добавим в него элементы `append`\n",
    "l.append(\"A\")\n",
    "l.append(\"d\")\n",
    "l.append(\"d\")\n",
    "\n",
    "print(l)"
   ]
  },
  {
   "cell_type": "markdown",
   "id": "meaning-newman",
   "metadata": {},
   "source": [
    "Мы можем изменять элементы списков. Технически это называется *mutable*, то есть списки изменяемые. "
   ]
  },
  {
   "cell_type": "code",
   "execution_count": 84,
   "id": "several-smell",
   "metadata": {},
   "outputs": [
    {
     "name": "stdout",
     "output_type": "stream",
     "text": [
      "['A', 'p', 'p']\n"
     ]
    }
   ],
   "source": [
    "l[1] = \"p\"\n",
    "l[2] = \"p\"\n",
    "\n",
    "print(l)"
   ]
  },
  {
   "cell_type": "code",
   "execution_count": 85,
   "id": "remarkable-equivalent",
   "metadata": {},
   "outputs": [
    {
     "name": "stdout",
     "output_type": "stream",
     "text": [
      "['A', 'd', 'd']\n"
     ]
    }
   ],
   "source": [
    "l[1:3] = [\"d\", \"d\"]\n",
    "\n",
    "print(l)"
   ]
  },
  {
   "cell_type": "markdown",
   "id": "scenic-character",
   "metadata": {},
   "source": [
    "Вставим элементы на определенные индексы с помощью команды `insert`"
   ]
  },
  {
   "cell_type": "code",
   "execution_count": 86,
   "id": "lonely-romania",
   "metadata": {},
   "outputs": [
    {
     "name": "stdout",
     "output_type": "stream",
     "text": [
      "['i', 'n', 's', 'e', 'r', 't', 'A', 'd', 'd']\n"
     ]
    }
   ],
   "source": [
    "l.insert(0, \"i\")\n",
    "l.insert(1, \"n\")\n",
    "l.insert(2, \"s\")\n",
    "l.insert(3, \"e\")\n",
    "l.insert(4, \"r\")\n",
    "l.insert(5, \"t\")\n",
    "\n",
    "print(l)"
   ]
  },
  {
   "cell_type": "markdown",
   "id": "through-firewall",
   "metadata": {},
   "source": [
    "Удалим элемент с помощью 'remove'"
   ]
  },
  {
   "cell_type": "code",
   "execution_count": 87,
   "id": "unsigned-reference",
   "metadata": {},
   "outputs": [
    {
     "name": "stdout",
     "output_type": "stream",
     "text": [
      "['i', 'n', 's', 'e', 'r', 't', 'd', 'd']\n"
     ]
    }
   ],
   "source": [
    "l.remove(\"A\")\n",
    "\n",
    "print(l)"
   ]
  },
  {
   "cell_type": "markdown",
   "id": "engaging-edwards",
   "metadata": {},
   "source": [
    "Удалим элемент по индексу `del`:"
   ]
  },
  {
   "cell_type": "code",
   "execution_count": 88,
   "id": "explicit-alexandria",
   "metadata": {},
   "outputs": [
    {
     "name": "stdout",
     "output_type": "stream",
     "text": [
      "['i', 'n', 's', 'e', 'r', 't']\n"
     ]
    }
   ],
   "source": [
    "del l[7]\n",
    "del l[6]\n",
    "\n",
    "print(l)"
   ]
  },
  {
   "cell_type": "markdown",
   "id": "practical-period",
   "metadata": {},
   "source": [
    "См. `help(list)` или изучайте докусентацию"
   ]
  },
  {
   "cell_type": "markdown",
   "id": "extra-mining",
   "metadata": {},
   "source": [
    "### Tuples - Кортежи"
   ]
  },
  {
   "cell_type": "markdown",
   "id": "documented-method",
   "metadata": {},
   "source": [
    "Кортежи похожи на списки, за исключением того, что не мгут быть изменены после создания - *immutable*. \n",
    "\n",
    "Синтаксис используемый для создания `(..., ..., ...)`, или даже `..., ...`:"
   ]
  },
  {
   "cell_type": "code",
   "execution_count": 89,
   "id": "dress-rings",
   "metadata": {},
   "outputs": [
    {
     "name": "stdout",
     "output_type": "stream",
     "text": [
      "(10, 20) <class 'tuple'>\n"
     ]
    }
   ],
   "source": [
    "point = (10, 20)\n",
    "\n",
    "print(point, type(point))"
   ]
  },
  {
   "cell_type": "code",
   "execution_count": 90,
   "id": "unlimited-steal",
   "metadata": {},
   "outputs": [
    {
     "name": "stdout",
     "output_type": "stream",
     "text": [
      "(10, 20) <class 'tuple'>\n"
     ]
    }
   ],
   "source": [
    "point = 10, 20\n",
    "\n",
    "print(point, type(point))"
   ]
  },
  {
   "cell_type": "markdown",
   "id": "finite-knife",
   "metadata": {},
   "source": [
    "Мы можем распаковывать кортежи следующим образом:"
   ]
  },
  {
   "cell_type": "code",
   "execution_count": 91,
   "id": "seven-science",
   "metadata": {},
   "outputs": [
    {
     "name": "stdout",
     "output_type": "stream",
     "text": [
      "x = 10\n",
      "y = 20\n"
     ]
    }
   ],
   "source": [
    "x, y = point\n",
    "\n",
    "print(\"x =\", x)\n",
    "print(\"y =\", y)"
   ]
  },
  {
   "cell_type": "markdown",
   "id": "quantitative-canal",
   "metadata": {},
   "source": [
    "Что случится в следующей строке?"
   ]
  },
  {
   "cell_type": "code",
   "execution_count": 92,
   "id": "sunset-visit",
   "metadata": {},
   "outputs": [
    {
     "ename": "TypeError",
     "evalue": "'tuple' object does not support item assignment",
     "output_type": "error",
     "traceback": [
      "\u001b[0;31m---------------------------------------------------------------------------\u001b[0m",
      "\u001b[0;31mTypeError\u001b[0m                                 Traceback (most recent call last)",
      "\u001b[0;32m<ipython-input-92-9734b1daa940>\u001b[0m in \u001b[0;36m<module>\u001b[0;34m\u001b[0m\n\u001b[0;32m----> 1\u001b[0;31m \u001b[0mpoint\u001b[0m\u001b[0;34m[\u001b[0m\u001b[0;36m0\u001b[0m\u001b[0;34m]\u001b[0m \u001b[0;34m=\u001b[0m \u001b[0;36m20\u001b[0m\u001b[0;34m\u001b[0m\u001b[0;34m\u001b[0m\u001b[0m\n\u001b[0m",
      "\u001b[0;31mTypeError\u001b[0m: 'tuple' object does not support item assignment"
     ]
    }
   ],
   "source": [
    "point[0] = 20"
   ]
  },
  {
   "cell_type": "markdown",
   "id": "specific-klein",
   "metadata": {},
   "source": [
    "### Dictionaries - Словари"
   ]
  },
  {
   "cell_type": "markdown",
   "id": "above-employee",
   "metadata": {},
   "source": [
    "Словари так же похожи на списки, но в них элементы имеют структуру `{key1 : value1, ...}`:"
   ]
  },
  {
   "cell_type": "code",
   "execution_count": 93,
   "id": "medical-confidence",
   "metadata": {},
   "outputs": [
    {
     "name": "stdout",
     "output_type": "stream",
     "text": [
      "<class 'dict'>\n",
      "{'parameter1': 1.0, 'parameter2': 2.0, 'parameter3': 3.0}\n"
     ]
    }
   ],
   "source": [
    "params = {\"parameter1\" : 1.0,\n",
    "          \"parameter2\" : 2.0,\n",
    "          \"parameter3\" : 3.0,}\n",
    "\n",
    "print(type(params))\n",
    "print(params)"
   ]
  },
  {
   "cell_type": "code",
   "execution_count": 94,
   "id": "constitutional-sunset",
   "metadata": {},
   "outputs": [
    {
     "name": "stdout",
     "output_type": "stream",
     "text": [
      "parameter1 = 1.0\n",
      "parameter2 = 2.0\n",
      "parameter3 = 3.0\n"
     ]
    }
   ],
   "source": [
    "print(\"parameter1 = \" + str(params[\"parameter1\"]))\n",
    "print(\"parameter2 = \" + str(params[\"parameter2\"]))\n",
    "print(\"parameter3 = \" + str(params[\"parameter3\"]))"
   ]
  },
  {
   "cell_type": "code",
   "execution_count": 95,
   "id": "finished-contribution",
   "metadata": {},
   "outputs": [
    {
     "name": "stdout",
     "output_type": "stream",
     "text": [
      "parameter1 = A\n",
      "parameter2 = B\n",
      "parameter3 = 3.0\n",
      "parameter4 = D\n"
     ]
    }
   ],
   "source": [
    "params[\"parameter1\"] = \"A\"\n",
    "params[\"parameter2\"] = \"B\"\n",
    "\n",
    "# Новое значение\n",
    "params[\"parameter4\"] = \"D\"\n",
    "\n",
    "print(\"parameter1 = \" + str(params[\"parameter1\"]))\n",
    "print(\"parameter2 = \" + str(params[\"parameter2\"]))\n",
    "print(\"parameter3 = \" + str(params[\"parameter3\"]))\n",
    "print(\"parameter4 = \" + str(params[\"parameter4\"]))"
   ]
  },
  {
   "cell_type": "code",
   "execution_count": 96,
   "id": "closed-territory",
   "metadata": {},
   "outputs": [
    {
     "data": {
      "text/plain": [
       "dict_keys(['parameter1', 'parameter2', 'parameter3', 'parameter4'])"
      ]
     },
     "execution_count": 96,
     "metadata": {},
     "output_type": "execute_result"
    }
   ],
   "source": [
    "params.keys()"
   ]
  },
  {
   "cell_type": "code",
   "execution_count": 97,
   "id": "brave-shape",
   "metadata": {},
   "outputs": [
    {
     "data": {
      "text/plain": [
       "dict_values(['A', 'B', 3.0, 'D'])"
      ]
     },
     "execution_count": 97,
     "metadata": {},
     "output_type": "execute_result"
    }
   ],
   "source": [
    "params.values()"
   ]
  },
  {
   "cell_type": "code",
   "execution_count": 98,
   "id": "smaller-letter",
   "metadata": {},
   "outputs": [
    {
     "data": {
      "text/plain": [
       "dict_items([('parameter1', 'A'), ('parameter2', 'B'), ('parameter3', 3.0), ('parameter4', 'D')])"
      ]
     },
     "execution_count": 98,
     "metadata": {},
     "output_type": "execute_result"
    }
   ],
   "source": [
    "params.items()"
   ]
  },
  {
   "cell_type": "markdown",
   "id": "improving-martial",
   "metadata": {},
   "source": [
    "## Порядок выполнения"
   ]
  },
  {
   "cell_type": "markdown",
   "id": "lyric-tenant",
   "metadata": {},
   "source": [
    "### Условия: if, elif, else"
   ]
  },
  {
   "cell_type": "markdown",
   "id": "composite-workstation",
   "metadata": {},
   "source": [
    "Python использует для этого слова `if`, `elif` (else if), `else`:"
   ]
  },
  {
   "cell_type": "code",
   "execution_count": 100,
   "id": "subjective-relative",
   "metadata": {},
   "outputs": [
    {
     "name": "stdout",
     "output_type": "stream",
     "text": [
      "statement1 and statement2 are False\n"
     ]
    }
   ],
   "source": [
    "statement1 = False\n",
    "statement2 = False\n",
    "\n",
    "if statement1 == True:\n",
    "    print(\"statement1 is True\")\n",
    "    \n",
    "elif statement2:\n",
    "    print(\"statement2 is True\")\n",
    "    \n",
    "else:\n",
    "    print(\"statement1 and statement2 are False\")"
   ]
  },
  {
   "cell_type": "markdown",
   "id": "pretty-replication",
   "metadata": {},
   "source": [
    "Впервые мы с вами столкнулись с особенностью питона: условия записываются ступенькой и выполняются последовательно. \n",
    "\n",
    "В Python блок кода выделяется табом либо 4 пробелами. Нужно быть внимательными иначе код будетт вызывать ошибки либо работать некорректно. "
   ]
  },
  {
   "cell_type": "markdown",
   "id": "ruled-stewart",
   "metadata": {},
   "source": [
    "#### Примеры:"
   ]
  },
  {
   "cell_type": "code",
   "execution_count": 101,
   "id": "damaged-replication",
   "metadata": {},
   "outputs": [
    {
     "name": "stdout",
     "output_type": "stream",
     "text": [
      "both statement1 and statement2 are True\n"
     ]
    }
   ],
   "source": [
    "statement1 = statement2 = True\n",
    "\n",
    "if statement1:\n",
    "    if statement2:\n",
    "        print(\"both statement1 and statement2 are True\")"
   ]
  },
  {
   "cell_type": "code",
   "execution_count": 102,
   "id": "other-portsmouth",
   "metadata": {},
   "outputs": [
    {
     "ename": "IndentationError",
     "evalue": "expected an indented block (<ipython-input-102-ac4109c9123a>, line 4)",
     "output_type": "error",
     "traceback": [
      "\u001b[0;36m  File \u001b[0;32m\"<ipython-input-102-ac4109c9123a>\"\u001b[0;36m, line \u001b[0;32m4\u001b[0m\n\u001b[0;31m    print(\"both statement1 and statement2 are True\")  # this line is not properly indented\u001b[0m\n\u001b[0m    ^\u001b[0m\n\u001b[0;31mIndentationError\u001b[0m\u001b[0;31m:\u001b[0m expected an indented block\n"
     ]
    }
   ],
   "source": [
    "# Bad indentation!\n",
    "if statement1:\n",
    "    if statement2:\n",
    "    print(\"both statement1 and statement2 are True\")  # this line is not properly indented"
   ]
  },
  {
   "cell_type": "code",
   "execution_count": 103,
   "id": "elegant-wisdom",
   "metadata": {},
   "outputs": [],
   "source": [
    "statement1 = False \n",
    "\n",
    "if statement1:\n",
    "    print(\"printed if statement1 is True\")\n",
    "    \n",
    "    print(\"still inside the if block\")"
   ]
  },
  {
   "cell_type": "code",
   "execution_count": 104,
   "id": "promotional-center",
   "metadata": {},
   "outputs": [
    {
     "name": "stdout",
     "output_type": "stream",
     "text": [
      "now outside the if block\n"
     ]
    }
   ],
   "source": [
    "if statement1:\n",
    "    print(\"printed if statement1 is True\")\n",
    "    \n",
    "print(\"now outside the if block\")"
   ]
  },
  {
   "cell_type": "code",
   "execution_count": 105,
   "id": "quick-century",
   "metadata": {},
   "outputs": [
    {
     "name": "stdout",
     "output_type": "stream",
     "text": [
      "statement1 is False\n"
     ]
    }
   ],
   "source": [
    "if statement1:\n",
    "    print(\"printed if statement1 is True\")\n",
    "else:\n",
    "    print (\"statement1 is False\")"
   ]
  },
  {
   "cell_type": "markdown",
   "id": "traditional-nursery",
   "metadata": {},
   "source": [
    "## Loops - Циклы"
   ]
  },
  {
   "cell_type": "markdown",
   "id": "biblical-reward",
   "metadata": {},
   "source": [
    "Циклы в Python могут быть написаны различными путями. Наиболее простой `for` цикл, он может использоватться с итерируемыми объектами, например списками. Пример:"
   ]
  },
  {
   "cell_type": "markdown",
   "id": "independent-wound",
   "metadata": {},
   "source": [
    "### **`for` цикл**:"
   ]
  },
  {
   "cell_type": "code",
   "execution_count": 106,
   "id": "facial-metabolism",
   "metadata": {},
   "outputs": [
    {
     "name": "stdout",
     "output_type": "stream",
     "text": [
      "1\n",
      "2\n",
      "3\n"
     ]
    }
   ],
   "source": [
    "for x in [1,2,3]:\n",
    "    print(x)"
   ]
  },
  {
   "cell_type": "markdown",
   "id": "acquired-capital",
   "metadata": {},
   "source": [
    "Цикл `for` итерируется по всем элементам списка и исполняется каждый раз когда встречает новый элемент."
   ]
  },
  {
   "cell_type": "code",
   "execution_count": 107,
   "id": "involved-respect",
   "metadata": {},
   "outputs": [
    {
     "name": "stdout",
     "output_type": "stream",
     "text": [
      "0\n",
      "1\n",
      "2\n",
      "3\n"
     ]
    }
   ],
   "source": [
    "for x in range(4): # range начинается с 0\n",
    "    print(x)"
   ]
  },
  {
   "cell_type": "markdown",
   "id": "mexican-broadcasting",
   "metadata": {},
   "source": [
    "`range(4)` не включает 4!"
   ]
  },
  {
   "cell_type": "code",
   "execution_count": 108,
   "id": "sophisticated-military",
   "metadata": {},
   "outputs": [
    {
     "name": "stdout",
     "output_type": "stream",
     "text": [
      "-3\n",
      "-2\n",
      "-1\n",
      "0\n",
      "1\n",
      "2\n"
     ]
    }
   ],
   "source": [
    "for x in range(-3,3):\n",
    "    print(x)"
   ]
  },
  {
   "cell_type": "code",
   "execution_count": 109,
   "id": "silent-development",
   "metadata": {},
   "outputs": [
    {
     "name": "stdout",
     "output_type": "stream",
     "text": [
      "scientific\n",
      "computing\n",
      "with\n",
      "python\n"
     ]
    }
   ],
   "source": [
    "for word in [\"scientific\", \"computing\", \"with\", \"python\"]:\n",
    "    print(word)"
   ]
  },
  {
   "cell_type": "markdown",
   "id": "level-flush",
   "metadata": {},
   "source": [
    "Для итерации по key-value парам словаря:"
   ]
  },
  {
   "cell_type": "code",
   "execution_count": 110,
   "id": "monetary-original",
   "metadata": {},
   "outputs": [
    {
     "name": "stdout",
     "output_type": "stream",
     "text": [
      "parameter1 = A\n",
      "parameter2 = B\n",
      "parameter3 = 3.0\n",
      "parameter4 = D\n"
     ]
    }
   ],
   "source": [
    "for key, value in params.items():\n",
    "    print(key + \" = \" + str(value))"
   ]
  },
  {
   "cell_type": "markdown",
   "id": "introductory-jefferson",
   "metadata": {},
   "source": [
    "Иногда полезно иметь индекс элемента в списке, для этого используется `enumerate`:"
   ]
  },
  {
   "cell_type": "code",
   "execution_count": 111,
   "id": "corporate-howard",
   "metadata": {},
   "outputs": [
    {
     "name": "stdout",
     "output_type": "stream",
     "text": [
      "0 -3\n",
      "1 -2\n",
      "2 -1\n",
      "3 0\n",
      "4 1\n",
      "5 2\n"
     ]
    }
   ],
   "source": [
    "for idx, x in enumerate(range(-3,3)):\n",
    "    print(idx, x)"
   ]
  },
  {
   "cell_type": "markdown",
   "id": "treated-consequence",
   "metadata": {},
   "source": [
    "### List comprehensions: создание списков в  `for` цикле:"
   ]
  },
  {
   "cell_type": "code",
   "execution_count": 112,
   "id": "organized-duration",
   "metadata": {},
   "outputs": [
    {
     "name": "stdout",
     "output_type": "stream",
     "text": [
      "[0, 1, 4, 9, 16]\n"
     ]
    }
   ],
   "source": [
    "l1 = [x**2 for x in range(0,5)]\n",
    "\n",
    "print(l1)"
   ]
  },
  {
   "cell_type": "markdown",
   "id": "cutting-baptist",
   "metadata": {},
   "source": [
    "### `while` цикл:"
   ]
  },
  {
   "cell_type": "code",
   "execution_count": 113,
   "id": "medical-psychiatry",
   "metadata": {},
   "outputs": [
    {
     "name": "stdout",
     "output_type": "stream",
     "text": [
      "0\n",
      "1\n",
      "2\n",
      "3\n",
      "4\n",
      "done\n"
     ]
    }
   ],
   "source": [
    "i = 0\n",
    "\n",
    "while i < 5:\n",
    "    print(i)\n",
    "    \n",
    "    i = i + 1\n",
    "    \n",
    "print(\"done\")"
   ]
  },
  {
   "cell_type": "markdown",
   "id": "sized-currency",
   "metadata": {},
   "source": [
    "Обратите внимание `print(\"done\")` не является частью `while` цикла т.к. не находится внутри блока. "
   ]
  },
  {
   "cell_type": "markdown",
   "id": "lined-diamond",
   "metadata": {},
   "source": [
    "## Функции"
   ]
  },
  {
   "cell_type": "markdown",
   "id": "theoretical-gossip",
   "metadata": {},
   "source": [
    "Функция в питоне определяется через `def`, затем следует имя функции, ее параметры в  `()`, а после ставится знак`:`. В следующем ниже блоке идет тело функции."
   ]
  },
  {
   "cell_type": "code",
   "execution_count": 114,
   "id": "inclusive-warning",
   "metadata": {},
   "outputs": [],
   "source": [
    "def func0():   \n",
    "    print(\"test\")"
   ]
  },
  {
   "cell_type": "code",
   "execution_count": 115,
   "id": "wicked-recovery",
   "metadata": {},
   "outputs": [
    {
     "name": "stdout",
     "output_type": "stream",
     "text": [
      "test\n"
     ]
    }
   ],
   "source": [
    "func0()"
   ]
  },
  {
   "cell_type": "markdown",
   "id": "maritime-warren",
   "metadata": {},
   "source": [
    "Опцинально, но рекомендуется в теле функции размещать так называемый \"docstring\", который содержит в себе описание функции. Докстринг должен находиться в теле функции сразу после ее определения. "
   ]
  },
  {
   "cell_type": "code",
   "execution_count": 116,
   "id": "sufficient-proxy",
   "metadata": {},
   "outputs": [],
   "source": [
    "def func1(s):\n",
    "    \"\"\"\n",
    "    Print a string 's' and tell how many characters it has    \n",
    "    \"\"\"\n",
    "    \n",
    "    print(s + \" has \" + str(len(s)) + \" characters\")"
   ]
  },
  {
   "cell_type": "code",
   "execution_count": 117,
   "id": "casual-liquid",
   "metadata": {},
   "outputs": [
    {
     "name": "stdout",
     "output_type": "stream",
     "text": [
      "Help on function func1 in module __main__:\n",
      "\n",
      "func1(s)\n",
      "    Print a string 's' and tell how many characters it has\n",
      "\n"
     ]
    }
   ],
   "source": [
    "help(func1)"
   ]
  },
  {
   "cell_type": "code",
   "execution_count": 118,
   "id": "covered-example",
   "metadata": {},
   "outputs": [
    {
     "name": "stdout",
     "output_type": "stream",
     "text": [
      "test has 4 characters\n"
     ]
    }
   ],
   "source": [
    "func1(\"test\")"
   ]
  },
  {
   "cell_type": "markdown",
   "id": "handled-category",
   "metadata": {},
   "source": [
    "Функции возвращающие значение используют `return`:"
   ]
  },
  {
   "cell_type": "code",
   "execution_count": 119,
   "id": "british-international",
   "metadata": {},
   "outputs": [],
   "source": [
    "def square(x):\n",
    "    \"\"\"\n",
    "    Return the square of x.\n",
    "    \"\"\"\n",
    "    return x ** 2"
   ]
  },
  {
   "cell_type": "code",
   "execution_count": 120,
   "id": "korean-feeling",
   "metadata": {},
   "outputs": [
    {
     "data": {
      "text/plain": [
       "16"
      ]
     },
     "execution_count": 120,
     "metadata": {},
     "output_type": "execute_result"
    }
   ],
   "source": [
    "square(4)"
   ]
  },
  {
   "cell_type": "markdown",
   "id": "interested-minute",
   "metadata": {},
   "source": [
    "Мы можем возвращать множество значений из функции используя кортежи, как было сказано выше. "
   ]
  },
  {
   "cell_type": "code",
   "execution_count": 121,
   "id": "municipal-piano",
   "metadata": {},
   "outputs": [],
   "source": [
    "def powers(x):\n",
    "    \"\"\"\n",
    "    Return a few powers of x.\n",
    "    \"\"\"\n",
    "    return x ** 2, x ** 3, x ** 4"
   ]
  },
  {
   "cell_type": "code",
   "execution_count": 122,
   "id": "instructional-tongue",
   "metadata": {},
   "outputs": [
    {
     "data": {
      "text/plain": [
       "(9, 27, 81)"
      ]
     },
     "execution_count": 122,
     "metadata": {},
     "output_type": "execute_result"
    }
   ],
   "source": [
    "powers(3)"
   ]
  },
  {
   "cell_type": "code",
   "execution_count": 123,
   "id": "purple-begin",
   "metadata": {},
   "outputs": [
    {
     "name": "stdout",
     "output_type": "stream",
     "text": [
      "27\n"
     ]
    }
   ],
   "source": [
    "x2, x3, x4 = powers(3)\n",
    "\n",
    "print(x3)"
   ]
  },
  {
   "cell_type": "markdown",
   "id": "sporting-distributor",
   "metadata": {},
   "source": [
    "### Дефолтные аргументы"
   ]
  },
  {
   "cell_type": "markdown",
   "id": "optional-vaccine",
   "metadata": {},
   "source": [
    "При определении функции мы можем указать дефолтные значения функции. "
   ]
  },
  {
   "cell_type": "code",
   "execution_count": 124,
   "id": "advised-convenience",
   "metadata": {},
   "outputs": [],
   "source": [
    "def myfunc(x, p=2, debug=False):\n",
    "    if debug:\n",
    "        print(\"evaluating myfunc for x = \" + str(x) + \" using exponent p = \" + str(p))\n",
    "    return x**p"
   ]
  },
  {
   "cell_type": "markdown",
   "id": "special-affect",
   "metadata": {},
   "source": [
    "Если мы не изменим значение аргумента `debug`, то вызывая функцию `myfunc` то по дефолту она выведет следующий результат"
   ]
  },
  {
   "cell_type": "code",
   "execution_count": 125,
   "id": "middle-connection",
   "metadata": {},
   "outputs": [
    {
     "data": {
      "text/plain": [
       "25"
      ]
     },
     "execution_count": 125,
     "metadata": {},
     "output_type": "execute_result"
    }
   ],
   "source": [
    "myfunc(5)"
   ]
  },
  {
   "cell_type": "code",
   "execution_count": 126,
   "id": "fabulous-fishing",
   "metadata": {},
   "outputs": [
    {
     "name": "stdout",
     "output_type": "stream",
     "text": [
      "evaluating myfunc for x = 5 using exponent p = 2\n"
     ]
    },
    {
     "data": {
      "text/plain": [
       "25"
      ]
     },
     "execution_count": 126,
     "metadata": {},
     "output_type": "execute_result"
    }
   ],
   "source": [
    "myfunc(5, debug=True)"
   ]
  },
  {
   "cell_type": "markdown",
   "id": "raised-monkey",
   "metadata": {},
   "source": [
    "### Безымянные функции (lambda функции)"
   ]
  },
  {
   "cell_type": "code",
   "execution_count": 131,
   "id": "hydraulic-spread",
   "metadata": {},
   "outputs": [],
   "source": [
    "f1 = lambda x: x**2\n",
    "    \n",
    "#то же, что и\n",
    "\n",
    "def f2(x):\n",
    "    return x**2"
   ]
  },
  {
   "cell_type": "code",
   "execution_count": 132,
   "id": "saved-operator",
   "metadata": {},
   "outputs": [
    {
     "data": {
      "text/plain": [
       "(4, 4)"
      ]
     },
     "execution_count": 132,
     "metadata": {},
     "output_type": "execute_result"
    }
   ],
   "source": [
    "f1(2), f2(2)"
   ]
  },
  {
   "cell_type": "markdown",
   "id": "international-inclusion",
   "metadata": {},
   "source": [
    "Это очень полезно если мы хотим передать какую-то функцию в качестве аргумента для другой функции. "
   ]
  },
  {
   "cell_type": "code",
   "execution_count": 135,
   "id": "willing-crest",
   "metadata": {},
   "outputs": [
    {
     "data": {
      "text/plain": [
       "[9, 4, 1, 0, 1, 4, 9]"
      ]
     },
     "execution_count": 135,
     "metadata": {},
     "output_type": "execute_result"
    }
   ],
   "source": [
    "# map встроенная в python функция\n",
    "# map применяет к каждому параметру функцию\n",
    "list(map(lambda x: x**2, range(-3,4)))"
   ]
  },
  {
   "cell_type": "markdown",
   "id": "driven-integrity",
   "metadata": {},
   "source": [
    "## Classes - классы"
   ]
  },
  {
   "cell_type": "markdown",
   "id": "hydraulic-plasma",
   "metadata": {},
   "source": [
    "Классы - это основа Объектно Ориентированного программирования. Класс это структура представляющая объект и операции которые могут с ним совершаться.\n",
    "\n",
    "В Python класс содежит в себе *аттрибуты* (переменные) и *методы* (функции).\n",
    "\n",
    "Класс определяется почти как функция, но используя `class`, кроме того класс содержит как правило множество методов (функций).\n",
    "\n",
    "* Каждый метод класса должен содержать аргумент `self` идущий первым.\n",
    "\n",
    "* Некоторые методы класса имеют специальное назначение, например:\n",
    "\n",
    "    * `__init__`: Название метода вызываемого при инициализации класса. \n",
    "    * `__str__` : Название метода вызываемого при обыконвенном предсталении строчной переменной, например когда мы выводим что-то через print\n",
    "    * Другие см. здесь http://docs.python.org/2/reference/datamodel.html#special-method-names"
   ]
  },
  {
   "cell_type": "code",
   "execution_count": 136,
   "id": "electronic-billy",
   "metadata": {},
   "outputs": [],
   "source": [
    "class Point:\n",
    "    \"\"\"\n",
    "    Simple class for representing a point in a Cartesian coordinate system.\n",
    "    \"\"\"\n",
    "    \n",
    "    def __init__(self, x, y):\n",
    "        \"\"\"\n",
    "        Create a new Point at x, y.\n",
    "        \"\"\"\n",
    "        self.x = x\n",
    "        self.y = y\n",
    "        \n",
    "    def translate(self, dx, dy):\n",
    "        \"\"\"\n",
    "        Translate the point by dx and dy in the x and y direction.\n",
    "        \"\"\"\n",
    "        self.x += dx\n",
    "        self.y += dy\n",
    "        \n",
    "    def __str__(self):\n",
    "        return(\"Point at [%f, %f]\" % (self.x, self.y))"
   ]
  },
  {
   "cell_type": "markdown",
   "id": "optimum-cabinet",
   "metadata": {},
   "source": [
    "Создание нового представления класса:"
   ]
  },
  {
   "cell_type": "code",
   "execution_count": 137,
   "id": "selected-excitement",
   "metadata": {},
   "outputs": [
    {
     "name": "stdout",
     "output_type": "stream",
     "text": [
      "Point at [0.000000, 0.000000]\n"
     ]
    }
   ],
   "source": [
    "p1 = Point(0, 0) # это вызовет __init__ метотд в классе Point\n",
    "\n",
    "print(p1)         # это вызовет метод __str__ "
   ]
  },
  {
   "cell_type": "markdown",
   "id": "funded-producer",
   "metadata": {},
   "source": [
    "Чтобы вызвать метотд класса в представлении `p`:"
   ]
  },
  {
   "cell_type": "code",
   "execution_count": 138,
   "id": "indonesian-upset",
   "metadata": {},
   "outputs": [
    {
     "name": "stdout",
     "output_type": "stream",
     "text": [
      "Point at [0.250000, 1.500000]\n",
      "Point at [1.000000, 1.000000]\n"
     ]
    }
   ],
   "source": [
    "p2 = Point(1, 1)\n",
    "\n",
    "p1.translate(0.25, 1.5)\n",
    "\n",
    "print(p1)\n",
    "print(p2)"
   ]
  },
  {
   "cell_type": "markdown",
   "id": "revolutionary-standard",
   "metadata": {},
   "source": [
    "Обратите внимание, что вызов метода класса можетт изменять частично представление класса, но не влияет на остальные представления класса или глобальные переменные. \n",
    "\n",
    "Прелесть ООП заключается в независимости функций и переменных в различных представлениях. "
   ]
  },
  {
   "cell_type": "markdown",
   "id": "thirty-annual",
   "metadata": {},
   "source": [
    "## Exceptions - Исключения"
   ]
  },
  {
   "cell_type": "markdown",
   "id": "perfect-promotion",
   "metadata": {},
   "source": [
    "В питоне ошибки собраны в специальную языковую конструкцию \"Exceptions\". Если что-то вызвало ошибку, то можно вызвать exception, что прервет выполнение программы и вызовет блок else за пределами нормального исполнения."
   ]
  },
  {
   "cell_type": "markdown",
   "id": "magnetic-honduras",
   "metadata": {},
   "source": [
    "Для генерации exception можно использовать выражение `raise`, которое принимает в качестве аргумента представление класса `BaseException` или класс наследованный от него. "
   ]
  },
  {
   "cell_type": "code",
   "execution_count": 139,
   "id": "verbal-circus",
   "metadata": {},
   "outputs": [
    {
     "ename": "Exception",
     "evalue": "description of the error",
     "output_type": "error",
     "traceback": [
      "\u001b[0;31m---------------------------------------------------------------------------\u001b[0m",
      "\u001b[0;31mException\u001b[0m                                 Traceback (most recent call last)",
      "\u001b[0;32m<ipython-input-139-c32f93e4dfa0>\u001b[0m in \u001b[0;36m<module>\u001b[0;34m\u001b[0m\n\u001b[0;32m----> 1\u001b[0;31m \u001b[0;32mraise\u001b[0m \u001b[0mException\u001b[0m\u001b[0;34m(\u001b[0m\u001b[0;34m\"description of the error\"\u001b[0m\u001b[0;34m)\u001b[0m\u001b[0;34m\u001b[0m\u001b[0;34m\u001b[0m\u001b[0m\n\u001b[0m",
      "\u001b[0;31mException\u001b[0m: description of the error"
     ]
    }
   ],
   "source": [
    "raise Exception(\"description of the error\")"
   ]
  },
  {
   "cell_type": "markdown",
   "id": "accredited-storage",
   "metadata": {},
   "source": [
    "Обычно exception вызываются чтобы отменить функцию когда чтот-то идет не так, например:\n",
    "\n",
    "    def my_function(arguments):\n",
    "    \n",
    "        if not verify(arguments):\n",
    "            raise Exception(\"Invalid arguments\")\n",
    "        \n",
    "        # rest of the code goes here"
   ]
  },
  {
   "cell_type": "markdown",
   "id": "vocational-courage",
   "metadata": {},
   "source": [
    "Для \"поимки\" ошибок вызванной функциями, методами класса или даже самим интерпретатором используется конструкация `try` и  `except`:\n",
    "\n",
    "    try:\n",
    "        # normal code goes here\n",
    "    except:\n",
    "        # code for error handling goes here\n",
    "        # this code is not executed unless the code\n",
    "        # above generated an error\n",
    "\n",
    "Например:"
   ]
  },
  {
   "cell_type": "code",
   "execution_count": 140,
   "id": "minor-anxiety",
   "metadata": {},
   "outputs": [
    {
     "name": "stdout",
     "output_type": "stream",
     "text": [
      "test\n",
      "Caught an exception\n"
     ]
    }
   ],
   "source": [
    "try:\n",
    "    print(\"test\")\n",
    "    # генерация ошибки, переменная test не существует\n",
    "    print(test)\n",
    "except:\n",
    "    print(\"Caught an exception\")"
   ]
  },
  {
   "cell_type": "markdown",
   "id": "polar-relative",
   "metadata": {},
   "source": [
    "Чтобы получить больше информации о том, что именно вызвало ошибку, мы можем получить доступ к представлению класса `Exception` описывающего exception. Например:\n",
    "\n",
    "    except Exception as e:"
   ]
  },
  {
   "cell_type": "code",
   "execution_count": 142,
   "id": "continuous-professor",
   "metadata": {},
   "outputs": [
    {
     "name": "stdout",
     "output_type": "stream",
     "text": [
      "test\n",
      "Caught an exception: name 'test' is not defined\n"
     ]
    }
   ],
   "source": [
    "try:\n",
    "    print(\"test\")\n",
    "    # генерация ошибки, переменная test не существует\n",
    "    print(test)\n",
    "except Exception as e:\n",
    "    print(\"Caught an exception: \" + str(e))"
   ]
  }
 ],
 "metadata": {
  "kernelspec": {
   "display_name": "Python 3",
   "language": "python",
   "name": "python3"
  },
  "language_info": {
   "codemirror_mode": {
    "name": "ipython",
    "version": 3
   },
   "file_extension": ".py",
   "mimetype": "text/x-python",
   "name": "python",
   "nbconvert_exporter": "python",
   "pygments_lexer": "ipython3",
   "version": "3.8.7"
  }
 },
 "nbformat": 4,
 "nbformat_minor": 5
}
